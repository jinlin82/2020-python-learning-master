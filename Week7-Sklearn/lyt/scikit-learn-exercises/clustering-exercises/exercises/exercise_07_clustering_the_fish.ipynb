{
    "cells": [
        {
            "source": [
                "# Exercise 7: Clustering the fish data\n",
                "\n",
                "Now use your standardization and clustering pipeline from the previous exercise to cluster the fish by their measurements, and then create a cross-tabulation to compare the cluster labels with the fish species."
            ],
            "cell_type": "markdown",
            "metadata": {}
        },
        {
            "cell_type": "markdown",
            "source": [
                "From the course _Transition to Data Science_. [Buy the entire course for just $10](https://www.udemy.com/transition-to-data-science-in-python/?couponCode=CLUSTER-NBS) for many more exercises and helpful video lectures."
            ],
            "metadata": {}
        },
        {
            "source": [
                "**Step 1:** Load the dataset, extracting the species of the fish as a list `species` _(done for you)_"
            ],
            "cell_type": "markdown",
            "metadata": {}
        },
        {
            "source": [
                "import pandas as pd\n",
                "\n",
                "df = pd.read_csv('../datasets/fish.csv')\n",
                "\n",
                "# remove the species from the DataFrame so only the measurements are left\n",
                "species = list(df['species'])\n",
                "del df['species']"
            ],
            "cell_type": "code",
            "metadata": {
                "collapsed": true,
                "exercise": false
            },
            "outputs": [],
            "execution_count": 10
        },
        {
            "source": [
                "**Step 2:** Build the pipeline as in the previous exercise _(filled in for you)._"
            ],
            "cell_type": "markdown",
            "metadata": {}
        },
        {
            "source": [
                "from sklearn.pipeline import make_pipeline\n",
                "from sklearn.preprocessing import StandardScaler\n",
                "from sklearn.cluster import KMeans\n",
                "scaler = StandardScaler()\n",
                "kmeans = KMeans(n_clusters=4)\n",
                "pipeline = make_pipeline(scaler,kmeans)"
            ],
            "cell_type": "code",
            "metadata": {
                "collapsed": true
            },
            "outputs": [],
            "execution_count": 11
        },
        {
            "source": [
                "**Step 3:** Fit the pipeline to the fish measurements `samples`."
            ],
            "cell_type": "markdown",
            "metadata": {}
        },
        {
            "source": [
                "samples = df.values\n",
                "pipeline.fit(samples)"
            ],
            "cell_type": "code",
            "metadata": {
                "collapsed": false
            },
            "outputs": [
                {
                    "output_type": "execute_result",
                    "data": {
                        "text/plain": "Pipeline(memory=None,\n         steps=[('standardscaler',\n                 StandardScaler(copy=True, with_mean=True, with_std=True)),\n                ('kmeans',\n                 KMeans(algorithm='auto', copy_x=True, init='k-means++',\n                        max_iter=300, n_clusters=4, n_init=10, n_jobs=None,\n                        precompute_distances='auto', random_state=None,\n                        tol=0.0001, verbose=0))],\n         verbose=False)"
                    },
                    "metadata": {},
                    "execution_count": 12
                }
            ],
            "execution_count": 12
        },
        {
            "source": [
                "**Step 4:** Obtain the cluster labels for `samples` by using the `.predict()` method of `pipeline`, assigning the result to `labels`."
            ],
            "cell_type": "markdown",
            "metadata": {}
        },
        {
            "source": [
                "labels = pipeline.predict(samples)\n",
                "labels"
            ],
            "cell_type": "code",
            "metadata": {
                "collapsed": true
            },
            "outputs": [
                {
                    "output_type": "execute_result",
                    "data": {
                        "text/plain": "array([3, 0, 0, 0, 0, 0, 0, 0, 0, 0, 0, 0, 0, 0, 0, 0, 0, 0, 0, 0, 0, 0,\n       0, 0, 0, 0, 0, 0, 0, 0, 0, 0, 0, 0, 3, 3, 3, 3, 3, 3, 3, 3, 3, 3,\n       3, 3, 3, 3, 3, 3, 3, 3, 3, 0, 1, 1, 1, 1, 1, 1, 1, 1, 1, 1, 1, 1,\n       3, 1, 2, 2, 2, 2, 2, 2, 2, 2, 2, 2, 2, 2, 2, 2, 2, 2, 2])"
                    },
                    "metadata": {},
                    "execution_count": 13
                }
            ],
            "execution_count": 13
        },
        {
            "source": [
                "**Step 5:** Using `pd.DataFrame()`, create a DataFrame `df` with two columns named `'labels'` and `'species'`, using `labels` and `species`, respectively, for the column values."
            ],
            "cell_type": "markdown",
            "metadata": {}
        },
        {
            "source": [
                "df = pd.DataFrame([labels,species]).T\n",
                "df.columns = ['labels','species']\n",
                "df "
            ],
            "cell_type": "code",
            "metadata": {
                "collapsed": true
            },
            "outputs": [
                {
                    "output_type": "execute_result",
                    "data": {
                        "text/plain": "   labels species\n0       3   Bream\n1       0   Bream\n2       0   Bream\n3       0   Bream\n4       0   Bream\n..    ...     ...\n80      2    Pike\n81      2    Pike\n82      2    Pike\n83      2    Pike\n84      2    Pike\n\n[85 rows x 2 columns]",
                        "text/html": "<div>\n<style scoped>\n    .dataframe tbody tr th:only-of-type {\n        vertical-align: middle;\n    }\n\n    .dataframe tbody tr th {\n        vertical-align: top;\n    }\n\n    .dataframe thead th {\n        text-align: right;\n    }\n</style>\n<table border=\"1\" class=\"dataframe\">\n  <thead>\n    <tr style=\"text-align: right;\">\n      <th></th>\n      <th>labels</th>\n      <th>species</th>\n    </tr>\n  </thead>\n  <tbody>\n    <tr>\n      <th>0</th>\n      <td>3</td>\n      <td>Bream</td>\n    </tr>\n    <tr>\n      <th>1</th>\n      <td>0</td>\n      <td>Bream</td>\n    </tr>\n    <tr>\n      <th>2</th>\n      <td>0</td>\n      <td>Bream</td>\n    </tr>\n    <tr>\n      <th>3</th>\n      <td>0</td>\n      <td>Bream</td>\n    </tr>\n    <tr>\n      <th>4</th>\n      <td>0</td>\n      <td>Bream</td>\n    </tr>\n    <tr>\n      <th>...</th>\n      <td>...</td>\n      <td>...</td>\n    </tr>\n    <tr>\n      <th>80</th>\n      <td>2</td>\n      <td>Pike</td>\n    </tr>\n    <tr>\n      <th>81</th>\n      <td>2</td>\n      <td>Pike</td>\n    </tr>\n    <tr>\n      <th>82</th>\n      <td>2</td>\n      <td>Pike</td>\n    </tr>\n    <tr>\n      <th>83</th>\n      <td>2</td>\n      <td>Pike</td>\n    </tr>\n    <tr>\n      <th>84</th>\n      <td>2</td>\n      <td>Pike</td>\n    </tr>\n  </tbody>\n</table>\n<p>85 rows × 2 columns</p>\n</div>"
                    },
                    "metadata": {},
                    "execution_count": 14
                }
            ],
            "execution_count": 14
        },
        {
            "source": [
                "**Step 6:** Using `pd.crosstab()`, create a cross-tabulation `ct` of `df['labels']` and `df['species']`."
            ],
            "cell_type": "markdown",
            "metadata": {}
        },
        {
            "source": [
                "ct = pd.crosstab(df['labels'],df['species'])"
            ],
            "cell_type": "code",
            "metadata": {
                "collapsed": true
            },
            "outputs": [],
            "execution_count": 15
        },
        {
            "source": [
                "**Step 7:** Display your cross-tabulation, and check out how good your clustering is!"
            ],
            "cell_type": "markdown",
            "metadata": {}
        },
        {
            "source": [
                "ct"
            ],
            "cell_type": "code",
            "metadata": {
                "collapsed": false
            },
            "outputs": [
                {
                    "output_type": "execute_result",
                    "data": {
                        "text/plain": "species  Bream  Pike  Roach  Smelt\nlabels                            \n0           33     0      1      0\n1            0     0      0     13\n2            0    17      0      0\n3            1     0     19      1",
                        "text/html": "<div>\n<style scoped>\n    .dataframe tbody tr th:only-of-type {\n        vertical-align: middle;\n    }\n\n    .dataframe tbody tr th {\n        vertical-align: top;\n    }\n\n    .dataframe thead th {\n        text-align: right;\n    }\n</style>\n<table border=\"1\" class=\"dataframe\">\n  <thead>\n    <tr style=\"text-align: right;\">\n      <th>species</th>\n      <th>Bream</th>\n      <th>Pike</th>\n      <th>Roach</th>\n      <th>Smelt</th>\n    </tr>\n    <tr>\n      <th>labels</th>\n      <th></th>\n      <th></th>\n      <th></th>\n      <th></th>\n    </tr>\n  </thead>\n  <tbody>\n    <tr>\n      <th>0</th>\n      <td>33</td>\n      <td>0</td>\n      <td>1</td>\n      <td>0</td>\n    </tr>\n    <tr>\n      <th>1</th>\n      <td>0</td>\n      <td>0</td>\n      <td>0</td>\n      <td>13</td>\n    </tr>\n    <tr>\n      <th>2</th>\n      <td>0</td>\n      <td>17</td>\n      <td>0</td>\n      <td>0</td>\n    </tr>\n    <tr>\n      <th>3</th>\n      <td>1</td>\n      <td>0</td>\n      <td>19</td>\n      <td>1</td>\n    </tr>\n  </tbody>\n</table>\n</div>"
                    },
                    "metadata": {},
                    "execution_count": 16
                }
            ],
            "execution_count": 16
        },
        {
            "cell_type": "code",
            "execution_count": null,
            "metadata": {},
            "outputs": [],
            "source": []
        }
    ],
    "metadata": {
        "language_info": {
            "pygments_lexer": "ipython3",
            "mimetype": "text/x-python",
            "nbconvert_exporter": "python",
            "file_extension": ".py",
            "version": "3.7.6-final",
            "name": "python",
            "codemirror_mode": {
                "version": 3,
                "name": "ipython"
            }
        },
        "kernelspec": {
            "name": "python3",
            "display_name": "Python 3",
            "language": "python"
        }
    },
    "nbformat": 4,
    "nbformat_minor": 2
}