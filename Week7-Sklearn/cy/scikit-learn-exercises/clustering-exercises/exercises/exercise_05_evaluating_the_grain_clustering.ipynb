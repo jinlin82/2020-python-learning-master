{
    "cells": [
        {
            "source": [
                "# Exercise 5: Evaluating the grain clustering\n",
                "\n",
                "In the previous exercise, you observed from the inertia plot that 3 is a good number of clusters for the grain data.  In fact, the grain samples come from a mix of 3 different grain varieties: \"Kama\", \"Rosa\" and \"Canadian\".  In this exercise, cluster the grain samples into three clusters, and compare the clusters to the grain varieties using a cross-tabulation."
            ],
            "cell_type": "markdown",
            "metadata": {}
        },
        {
            "source": [
                "From the course _Transition to Data Science_. [Buy the entire course for just $10](https://www.udemy.com/transition-to-data-science-in-python/?couponCode=CLUSTER-NBS) for many more exercises and helpful video lectures."
            ],
            "cell_type": "markdown",
            "metadata": {}
        },
        {
            "source": [
                "**Step 1:** Load the dataset _(written for you)_.\n",
                "\n",
                "You have the array `samples` of grain samples, and a list `varieties` giving the grain variety for each sample."
            ],
            "cell_type": "markdown",
            "metadata": {}
        },
        {
            "execution_count": 1,
            "source": [
                "import pandas as pd\n",
                "\n",
                "seeds_df = pd.read_csv('../datasets/seeds.csv')\n",
                "\n",
                "# extract the grain varieties from the dataframe\n",
                "varieties = list(seeds_df['grain_variety'])\n",
                "del seeds_df['grain_variety']\n",
                "\n",
                "samples = seeds_df.values"
            ],
            "outputs": [],
            "cell_type": "code",
            "metadata": {
                "exercise": false,
                "collapsed": true
            }
        },
        {
            "cell_type": "code",
            "execution_count": 4,
            "metadata": {},
            "outputs": [
                {
                    "output_type": "execute_result",
                    "data": {
                        "text/plain": "      area  perimeter  compactness  length  width  asymmetry_coefficient  \\\n0    15.26      14.84       0.8710   5.763  3.312                  2.221   \n1    14.88      14.57       0.8811   5.554  3.333                  1.018   \n2    14.29      14.09       0.9050   5.291  3.337                  2.699   \n3    13.84      13.94       0.8955   5.324  3.379                  2.259   \n4    16.14      14.99       0.9034   5.658  3.562                  1.355   \n..     ...        ...          ...     ...    ...                    ...   \n205  12.19      13.20       0.8783   5.137  2.981                  3.631   \n206  11.23      12.88       0.8511   5.140  2.795                  4.325   \n207  13.20      13.66       0.8883   5.236  3.232                  8.315   \n208  11.84      13.21       0.8521   5.175  2.836                  3.598   \n209  12.30      13.34       0.8684   5.243  2.974                  5.637   \n\n     groove_length  \n0            5.220  \n1            4.956  \n2            4.825  \n3            4.805  \n4            5.175  \n..             ...  \n205          4.870  \n206          5.003  \n207          5.056  \n208          5.044  \n209          5.063  \n\n[210 rows x 7 columns]",
                        "text/html": "<div>\n<style scoped>\n    .dataframe tbody tr th:only-of-type {\n        vertical-align: middle;\n    }\n\n    .dataframe tbody tr th {\n        vertical-align: top;\n    }\n\n    .dataframe thead th {\n        text-align: right;\n    }\n</style>\n<table border=\"1\" class=\"dataframe\">\n  <thead>\n    <tr style=\"text-align: right;\">\n      <th></th>\n      <th>area</th>\n      <th>perimeter</th>\n      <th>compactness</th>\n      <th>length</th>\n      <th>width</th>\n      <th>asymmetry_coefficient</th>\n      <th>groove_length</th>\n    </tr>\n  </thead>\n  <tbody>\n    <tr>\n      <th>0</th>\n      <td>15.26</td>\n      <td>14.84</td>\n      <td>0.8710</td>\n      <td>5.763</td>\n      <td>3.312</td>\n      <td>2.221</td>\n      <td>5.220</td>\n    </tr>\n    <tr>\n      <th>1</th>\n      <td>14.88</td>\n      <td>14.57</td>\n      <td>0.8811</td>\n      <td>5.554</td>\n      <td>3.333</td>\n      <td>1.018</td>\n      <td>4.956</td>\n    </tr>\n    <tr>\n      <th>2</th>\n      <td>14.29</td>\n      <td>14.09</td>\n      <td>0.9050</td>\n      <td>5.291</td>\n      <td>3.337</td>\n      <td>2.699</td>\n      <td>4.825</td>\n    </tr>\n    <tr>\n      <th>3</th>\n      <td>13.84</td>\n      <td>13.94</td>\n      <td>0.8955</td>\n      <td>5.324</td>\n      <td>3.379</td>\n      <td>2.259</td>\n      <td>4.805</td>\n    </tr>\n    <tr>\n      <th>4</th>\n      <td>16.14</td>\n      <td>14.99</td>\n      <td>0.9034</td>\n      <td>5.658</td>\n      <td>3.562</td>\n      <td>1.355</td>\n      <td>5.175</td>\n    </tr>\n    <tr>\n      <th>...</th>\n      <td>...</td>\n      <td>...</td>\n      <td>...</td>\n      <td>...</td>\n      <td>...</td>\n      <td>...</td>\n      <td>...</td>\n    </tr>\n    <tr>\n      <th>205</th>\n      <td>12.19</td>\n      <td>13.20</td>\n      <td>0.8783</td>\n      <td>5.137</td>\n      <td>2.981</td>\n      <td>3.631</td>\n      <td>4.870</td>\n    </tr>\n    <tr>\n      <th>206</th>\n      <td>11.23</td>\n      <td>12.88</td>\n      <td>0.8511</td>\n      <td>5.140</td>\n      <td>2.795</td>\n      <td>4.325</td>\n      <td>5.003</td>\n    </tr>\n    <tr>\n      <th>207</th>\n      <td>13.20</td>\n      <td>13.66</td>\n      <td>0.8883</td>\n      <td>5.236</td>\n      <td>3.232</td>\n      <td>8.315</td>\n      <td>5.056</td>\n    </tr>\n    <tr>\n      <th>208</th>\n      <td>11.84</td>\n      <td>13.21</td>\n      <td>0.8521</td>\n      <td>5.175</td>\n      <td>2.836</td>\n      <td>3.598</td>\n      <td>5.044</td>\n    </tr>\n    <tr>\n      <th>209</th>\n      <td>12.30</td>\n      <td>13.34</td>\n      <td>0.8684</td>\n      <td>5.243</td>\n      <td>2.974</td>\n      <td>5.637</td>\n      <td>5.063</td>\n    </tr>\n  </tbody>\n</table>\n<p>210 rows × 7 columns</p>\n</div>"
                    },
                    "metadata": {},
                    "execution_count": 4
                }
            ],
            "source": [
                "seeds_df"
            ]
        },
        {
            "source": [
                "**Step 2:** Import KMeans"
            ],
            "cell_type": "markdown",
            "metadata": {}
        },
        {
            "execution_count": 2,
            "source": [
                "from sklearn.cluster import KMeans"
            ],
            "outputs": [],
            "cell_type": "code",
            "metadata": {
                "collapsed": true
            }
        },
        {
            "source": [
                "**Step 3:** Create a `KMeans` model called `model` with `3` clusters.\n"
            ],
            "cell_type": "markdown",
            "metadata": {}
        },
        {
            "execution_count": 6,
            "source": [
                "model = KMeans(n_clusters=3)"
            ],
            "outputs": [],
            "cell_type": "code",
            "metadata": {
                "collapsed": true
            }
        },
        {
            "source": [
                "**Step 4:** Use the `.fit_predict()` method of `model` to fit it to `samples` and derive the cluster labels.\n",
                "\n",
                "Calling `.fit_predict()` is the same as calling `.fit()` and then calling `.predict()`."
            ],
            "cell_type": "markdown",
            "metadata": {}
        },
        {
            "execution_count": 8,
            "source": [
                "model.fit_predict(seeds_df)"
            ],
            "outputs": [
                {
                    "output_type": "execute_result",
                    "data": {
                        "text/plain": "array([0, 0, 0, 0, 0, 0, 0, 0, 0, 0, 0, 0, 0, 0, 0, 0, 1, 0, 0, 1, 0, 0,\n       0, 0, 0, 0, 1, 0, 0, 0, 0, 0, 0, 0, 0, 0, 0, 2, 0, 1, 0, 0, 0, 0,\n       0, 0, 0, 0, 0, 0, 0, 0, 0, 0, 0, 0, 0, 0, 0, 0, 1, 1, 1, 1, 0, 0,\n       0, 0, 0, 1, 2, 2, 2, 2, 2, 2, 2, 2, 2, 2, 2, 2, 2, 2, 2, 2, 2, 2,\n       2, 2, 2, 2, 2, 2, 2, 2, 2, 2, 2, 2, 0, 2, 2, 2, 2, 2, 2, 2, 2, 2,\n       2, 2, 2, 2, 2, 2, 2, 2, 2, 2, 2, 2, 0, 2, 0, 2, 2, 2, 2, 2, 2, 2,\n       0, 0, 0, 0, 2, 0, 0, 0, 1, 1, 1, 1, 1, 1, 1, 1, 1, 1, 1, 1, 1, 1,\n       1, 1, 1, 1, 1, 1, 1, 1, 1, 1, 1, 1, 1, 1, 1, 1, 1, 1, 1, 1, 1, 1,\n       1, 1, 1, 0, 1, 1, 1, 1, 1, 1, 1, 1, 1, 1, 1, 1, 1, 1, 1, 1, 1, 1,\n       1, 1, 1, 0, 1, 1, 1, 1, 1, 1, 1, 1])"
                    },
                    "metadata": {},
                    "execution_count": 8
                }
            ],
            "cell_type": "code",
            "metadata": {
                "collapsed": true
            }
        },
        {
            "source": [
                "**Step 5:** Create a DataFrame `df` with two columns named `'labels'` and `'varieties'`, using `labels` and `varieties`, respectively, for the column values. _(This has been done for you.)_\n"
            ],
            "cell_type": "markdown",
            "metadata": {}
        },
        {
            "execution_count": 16,
            "source": [
                "labels = model.labels_\n",
                "df = pd.DataFrame([labels,varieties]).T\n",
                "df.columns = ['labels','varieties']\n",
                "df"
            ],
            "outputs": [
                {
                    "output_type": "execute_result",
                    "data": {
                        "text/plain": "    labels       varieties\n0        0      Kama wheat\n1        0      Kama wheat\n2        0      Kama wheat\n3        0      Kama wheat\n4        0      Kama wheat\n..     ...             ...\n205      1  Canadian wheat\n206      1  Canadian wheat\n207      1  Canadian wheat\n208      1  Canadian wheat\n209      1  Canadian wheat\n\n[210 rows x 2 columns]",
                        "text/html": "<div>\n<style scoped>\n    .dataframe tbody tr th:only-of-type {\n        vertical-align: middle;\n    }\n\n    .dataframe tbody tr th {\n        vertical-align: top;\n    }\n\n    .dataframe thead th {\n        text-align: right;\n    }\n</style>\n<table border=\"1\" class=\"dataframe\">\n  <thead>\n    <tr style=\"text-align: right;\">\n      <th></th>\n      <th>labels</th>\n      <th>varieties</th>\n    </tr>\n  </thead>\n  <tbody>\n    <tr>\n      <th>0</th>\n      <td>0</td>\n      <td>Kama wheat</td>\n    </tr>\n    <tr>\n      <th>1</th>\n      <td>0</td>\n      <td>Kama wheat</td>\n    </tr>\n    <tr>\n      <th>2</th>\n      <td>0</td>\n      <td>Kama wheat</td>\n    </tr>\n    <tr>\n      <th>3</th>\n      <td>0</td>\n      <td>Kama wheat</td>\n    </tr>\n    <tr>\n      <th>4</th>\n      <td>0</td>\n      <td>Kama wheat</td>\n    </tr>\n    <tr>\n      <th>...</th>\n      <td>...</td>\n      <td>...</td>\n    </tr>\n    <tr>\n      <th>205</th>\n      <td>1</td>\n      <td>Canadian wheat</td>\n    </tr>\n    <tr>\n      <th>206</th>\n      <td>1</td>\n      <td>Canadian wheat</td>\n    </tr>\n    <tr>\n      <th>207</th>\n      <td>1</td>\n      <td>Canadian wheat</td>\n    </tr>\n    <tr>\n      <th>208</th>\n      <td>1</td>\n      <td>Canadian wheat</td>\n    </tr>\n    <tr>\n      <th>209</th>\n      <td>1</td>\n      <td>Canadian wheat</td>\n    </tr>\n  </tbody>\n</table>\n<p>210 rows × 2 columns</p>\n</div>"
                    },
                    "metadata": {},
                    "execution_count": 16
                }
            ],
            "cell_type": "code",
            "metadata": {
                "collapsed": true
            }
        },
        {
            "source": [
                "**Step 6:** Use the `pd.crosstab()` function on `df['labels']` and `df['varieties']` to count the number of times each grain variety coincides with each cluster label. Assign the result to `ct`."
            ],
            "cell_type": "markdown",
            "metadata": {}
        },
        {
            "execution_count": 22,
            "source": [
                "ct = pd.crosstab(df['labels'],df['varieties'])"
            ],
            "outputs": [],
            "cell_type": "code",
            "metadata": {
                "collapsed": true
            }
        },
        {
            "source": [
                "**Step 7:** Display `ct` by evaluating it - and inspect your cross-tabulation!  You'll see that your clustering is pretty good."
            ],
            "cell_type": "markdown",
            "metadata": {}
        },
        {
            "execution_count": 23,
            "source": [
                "ct###如何评估？"
            ],
            "outputs": [
                {
                    "output_type": "execute_result",
                    "data": {
                        "text/plain": "varieties  Canadian wheat  Kama wheat  Rosa wheat\nlabels                                           \n0                       2          60          10\n1                      68           9           0\n2                       0           1          60",
                        "text/html": "<div>\n<style scoped>\n    .dataframe tbody tr th:only-of-type {\n        vertical-align: middle;\n    }\n\n    .dataframe tbody tr th {\n        vertical-align: top;\n    }\n\n    .dataframe thead th {\n        text-align: right;\n    }\n</style>\n<table border=\"1\" class=\"dataframe\">\n  <thead>\n    <tr style=\"text-align: right;\">\n      <th>varieties</th>\n      <th>Canadian wheat</th>\n      <th>Kama wheat</th>\n      <th>Rosa wheat</th>\n    </tr>\n    <tr>\n      <th>labels</th>\n      <th></th>\n      <th></th>\n      <th></th>\n    </tr>\n  </thead>\n  <tbody>\n    <tr>\n      <th>0</th>\n      <td>2</td>\n      <td>60</td>\n      <td>10</td>\n    </tr>\n    <tr>\n      <th>1</th>\n      <td>68</td>\n      <td>9</td>\n      <td>0</td>\n    </tr>\n    <tr>\n      <th>2</th>\n      <td>0</td>\n      <td>1</td>\n      <td>60</td>\n    </tr>\n  </tbody>\n</table>\n</div>"
                    },
                    "metadata": {},
                    "execution_count": 23
                }
            ],
            "cell_type": "code",
            "metadata": {
                "collapsed": false
            }
        },
        {
            "cell_type": "code",
            "execution_count": null,
            "metadata": {},
            "outputs": [],
            "source": []
        }
    ],
    "metadata": {
        "language_info": {
            "nbconvert_exporter": "python",
            "name": "python",
            "file_extension": ".py",
            "pygments_lexer": "ipython3",
            "version": "3.7.6-final",
            "mimetype": "text/x-python",
            "codemirror_mode": {
                "name": "ipython",
                "version": 3
            }
        },
        "kernelspec": {
            "name": "python3",
            "display_name": "Python 3",
            "language": "python"
        }
    },
    "nbformat": 4,
    "nbformat_minor": 2
}