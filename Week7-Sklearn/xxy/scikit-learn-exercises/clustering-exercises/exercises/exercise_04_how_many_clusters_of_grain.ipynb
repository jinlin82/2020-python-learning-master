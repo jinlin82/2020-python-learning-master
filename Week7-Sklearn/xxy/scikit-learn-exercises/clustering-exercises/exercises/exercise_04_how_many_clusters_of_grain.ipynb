{
    "cells": [
        {
            "cell_type": "markdown",
            "source": [
                "# Exercise 4: How many clusters of grain?\n",
                "\n",
                "In the video, you learnt how to choose a good number of clusters for a dataset using the k-means inertia graph.  You are given a dataset of the measurements of samples of grain.  What's a good number of clusters in this case?\n",
                "\n",
                "This dataset was obtained from the [UCI](https://archive.ics.uci.edu/ml/datasets/seeds)."
            ],
            "metadata": {}
        },
        {
            "cell_type": "markdown",
            "source": [
                "From the course _Transition to Data Science_. [Buy the entire course for just $10](https://www.udemy.com/transition-to-data-science-in-python/?couponCode=CLUSTER-NBS) for many more exercises and helpful video lectures."
            ],
            "metadata": {}
        },
        {
            "cell_type": "markdown",
            "source": [
                "**Step 1:** Load the dataset _(written for you)_."
            ],
            "metadata": {}
        },
        {
            "execution_count": 1,
            "cell_type": "code",
            "outputs": [
                {
                    "output_type": "execute_result",
                    "data": {
                        "text/plain": "      area  perimeter  compactness  length  width  asymmetry_coefficient  \\\n0    15.26      14.84       0.8710   5.763  3.312                  2.221   \n1    14.88      14.57       0.8811   5.554  3.333                  1.018   \n2    14.29      14.09       0.9050   5.291  3.337                  2.699   \n3    13.84      13.94       0.8955   5.324  3.379                  2.259   \n4    16.14      14.99       0.9034   5.658  3.562                  1.355   \n..     ...        ...          ...     ...    ...                    ...   \n205  12.19      13.20       0.8783   5.137  2.981                  3.631   \n206  11.23      12.88       0.8511   5.140  2.795                  4.325   \n207  13.20      13.66       0.8883   5.236  3.232                  8.315   \n208  11.84      13.21       0.8521   5.175  2.836                  3.598   \n209  12.30      13.34       0.8684   5.243  2.974                  5.637   \n\n     groove_length  \n0            5.220  \n1            4.956  \n2            4.825  \n3            4.805  \n4            5.175  \n..             ...  \n205          4.870  \n206          5.003  \n207          5.056  \n208          5.044  \n209          5.063  \n\n[210 rows x 7 columns]",
                        "text/html": "<div>\n<style scoped>\n    .dataframe tbody tr th:only-of-type {\n        vertical-align: middle;\n    }\n\n    .dataframe tbody tr th {\n        vertical-align: top;\n    }\n\n    .dataframe thead th {\n        text-align: right;\n    }\n</style>\n<table border=\"1\" class=\"dataframe\">\n  <thead>\n    <tr style=\"text-align: right;\">\n      <th></th>\n      <th>area</th>\n      <th>perimeter</th>\n      <th>compactness</th>\n      <th>length</th>\n      <th>width</th>\n      <th>asymmetry_coefficient</th>\n      <th>groove_length</th>\n    </tr>\n  </thead>\n  <tbody>\n    <tr>\n      <th>0</th>\n      <td>15.26</td>\n      <td>14.84</td>\n      <td>0.8710</td>\n      <td>5.763</td>\n      <td>3.312</td>\n      <td>2.221</td>\n      <td>5.220</td>\n    </tr>\n    <tr>\n      <th>1</th>\n      <td>14.88</td>\n      <td>14.57</td>\n      <td>0.8811</td>\n      <td>5.554</td>\n      <td>3.333</td>\n      <td>1.018</td>\n      <td>4.956</td>\n    </tr>\n    <tr>\n      <th>2</th>\n      <td>14.29</td>\n      <td>14.09</td>\n      <td>0.9050</td>\n      <td>5.291</td>\n      <td>3.337</td>\n      <td>2.699</td>\n      <td>4.825</td>\n    </tr>\n    <tr>\n      <th>3</th>\n      <td>13.84</td>\n      <td>13.94</td>\n      <td>0.8955</td>\n      <td>5.324</td>\n      <td>3.379</td>\n      <td>2.259</td>\n      <td>4.805</td>\n    </tr>\n    <tr>\n      <th>4</th>\n      <td>16.14</td>\n      <td>14.99</td>\n      <td>0.9034</td>\n      <td>5.658</td>\n      <td>3.562</td>\n      <td>1.355</td>\n      <td>5.175</td>\n    </tr>\n    <tr>\n      <th>...</th>\n      <td>...</td>\n      <td>...</td>\n      <td>...</td>\n      <td>...</td>\n      <td>...</td>\n      <td>...</td>\n      <td>...</td>\n    </tr>\n    <tr>\n      <th>205</th>\n      <td>12.19</td>\n      <td>13.20</td>\n      <td>0.8783</td>\n      <td>5.137</td>\n      <td>2.981</td>\n      <td>3.631</td>\n      <td>4.870</td>\n    </tr>\n    <tr>\n      <th>206</th>\n      <td>11.23</td>\n      <td>12.88</td>\n      <td>0.8511</td>\n      <td>5.140</td>\n      <td>2.795</td>\n      <td>4.325</td>\n      <td>5.003</td>\n    </tr>\n    <tr>\n      <th>207</th>\n      <td>13.20</td>\n      <td>13.66</td>\n      <td>0.8883</td>\n      <td>5.236</td>\n      <td>3.232</td>\n      <td>8.315</td>\n      <td>5.056</td>\n    </tr>\n    <tr>\n      <th>208</th>\n      <td>11.84</td>\n      <td>13.21</td>\n      <td>0.8521</td>\n      <td>5.175</td>\n      <td>2.836</td>\n      <td>3.598</td>\n      <td>5.044</td>\n    </tr>\n    <tr>\n      <th>209</th>\n      <td>12.30</td>\n      <td>13.34</td>\n      <td>0.8684</td>\n      <td>5.243</td>\n      <td>2.974</td>\n      <td>5.637</td>\n      <td>5.063</td>\n    </tr>\n  </tbody>\n</table>\n<p>210 rows × 7 columns</p>\n</div>"
                    },
                    "metadata": {},
                    "execution_count": 1
                }
            ],
            "source": [
                "import pandas as pd\n",
                "\n",
                "seeds_df = pd.read_csv('../datasets/seeds.csv')\n",
                "# forget about the grain variety for the moment - we'll use this later\n",
                "del seeds_df['grain_variety']\n",
                "seeds_df"
            ],
            "metadata": {
                "exercise": false,
                "collapsed": true
            }
        },
        {
            "cell_type": "markdown",
            "source": [
                "**Step 2:** Display the DataFrame to inspect the data.  Notice that there are 7 columns - so each grain sample (row) is a point in 7D space!  Scatter plots can't help us here."
            ],
            "metadata": {}
        },
        {
            "execution_count": 3,
            "cell_type": "code",
            "outputs": [
                {
                    "output_type": "execute_result",
                    "data": {
                        "text/plain": "      area  perimeter  compactness  length  width  asymmetry_coefficient  \\\n0    15.26      14.84       0.8710   5.763  3.312                  2.221   \n1    14.88      14.57       0.8811   5.554  3.333                  1.018   \n2    14.29      14.09       0.9050   5.291  3.337                  2.699   \n3    13.84      13.94       0.8955   5.324  3.379                  2.259   \n4    16.14      14.99       0.9034   5.658  3.562                  1.355   \n..     ...        ...          ...     ...    ...                    ...   \n205  12.19      13.20       0.8783   5.137  2.981                  3.631   \n206  11.23      12.88       0.8511   5.140  2.795                  4.325   \n207  13.20      13.66       0.8883   5.236  3.232                  8.315   \n208  11.84      13.21       0.8521   5.175  2.836                  3.598   \n209  12.30      13.34       0.8684   5.243  2.974                  5.637   \n\n     groove_length  \n0            5.220  \n1            4.956  \n2            4.825  \n3            4.805  \n4            5.175  \n..             ...  \n205          4.870  \n206          5.003  \n207          5.056  \n208          5.044  \n209          5.063  \n\n[210 rows x 7 columns]",
                        "text/html": "<div>\n<style scoped>\n    .dataframe tbody tr th:only-of-type {\n        vertical-align: middle;\n    }\n\n    .dataframe tbody tr th {\n        vertical-align: top;\n    }\n\n    .dataframe thead th {\n        text-align: right;\n    }\n</style>\n<table border=\"1\" class=\"dataframe\">\n  <thead>\n    <tr style=\"text-align: right;\">\n      <th></th>\n      <th>area</th>\n      <th>perimeter</th>\n      <th>compactness</th>\n      <th>length</th>\n      <th>width</th>\n      <th>asymmetry_coefficient</th>\n      <th>groove_length</th>\n    </tr>\n  </thead>\n  <tbody>\n    <tr>\n      <th>0</th>\n      <td>15.26</td>\n      <td>14.84</td>\n      <td>0.8710</td>\n      <td>5.763</td>\n      <td>3.312</td>\n      <td>2.221</td>\n      <td>5.220</td>\n    </tr>\n    <tr>\n      <th>1</th>\n      <td>14.88</td>\n      <td>14.57</td>\n      <td>0.8811</td>\n      <td>5.554</td>\n      <td>3.333</td>\n      <td>1.018</td>\n      <td>4.956</td>\n    </tr>\n    <tr>\n      <th>2</th>\n      <td>14.29</td>\n      <td>14.09</td>\n      <td>0.9050</td>\n      <td>5.291</td>\n      <td>3.337</td>\n      <td>2.699</td>\n      <td>4.825</td>\n    </tr>\n    <tr>\n      <th>3</th>\n      <td>13.84</td>\n      <td>13.94</td>\n      <td>0.8955</td>\n      <td>5.324</td>\n      <td>3.379</td>\n      <td>2.259</td>\n      <td>4.805</td>\n    </tr>\n    <tr>\n      <th>4</th>\n      <td>16.14</td>\n      <td>14.99</td>\n      <td>0.9034</td>\n      <td>5.658</td>\n      <td>3.562</td>\n      <td>1.355</td>\n      <td>5.175</td>\n    </tr>\n    <tr>\n      <th>...</th>\n      <td>...</td>\n      <td>...</td>\n      <td>...</td>\n      <td>...</td>\n      <td>...</td>\n      <td>...</td>\n      <td>...</td>\n    </tr>\n    <tr>\n      <th>205</th>\n      <td>12.19</td>\n      <td>13.20</td>\n      <td>0.8783</td>\n      <td>5.137</td>\n      <td>2.981</td>\n      <td>3.631</td>\n      <td>4.870</td>\n    </tr>\n    <tr>\n      <th>206</th>\n      <td>11.23</td>\n      <td>12.88</td>\n      <td>0.8511</td>\n      <td>5.140</td>\n      <td>2.795</td>\n      <td>4.325</td>\n      <td>5.003</td>\n    </tr>\n    <tr>\n      <th>207</th>\n      <td>13.20</td>\n      <td>13.66</td>\n      <td>0.8883</td>\n      <td>5.236</td>\n      <td>3.232</td>\n      <td>8.315</td>\n      <td>5.056</td>\n    </tr>\n    <tr>\n      <th>208</th>\n      <td>11.84</td>\n      <td>13.21</td>\n      <td>0.8521</td>\n      <td>5.175</td>\n      <td>2.836</td>\n      <td>3.598</td>\n      <td>5.044</td>\n    </tr>\n    <tr>\n      <th>209</th>\n      <td>12.30</td>\n      <td>13.34</td>\n      <td>0.8684</td>\n      <td>5.243</td>\n      <td>2.974</td>\n      <td>5.637</td>\n      <td>5.063</td>\n    </tr>\n  </tbody>\n</table>\n<p>210 rows × 7 columns</p>\n</div>"
                    },
                    "metadata": {},
                    "execution_count": 3
                }
            ],
            "source": [
                "seeds_df"
            ],
            "metadata": {
                "collapsed": false
            }
        },
        {
            "cell_type": "markdown",
            "source": [
                "**Step 3:** Extract the measurements from the DataFrame using its `.values` attribute:"
            ],
            "metadata": {}
        },
        {
            "execution_count": 2,
            "cell_type": "code",
            "outputs": [
                {
                    "output_type": "execute_result",
                    "data": {
                        "text/plain": "array([[15.26  , 14.84  ,  0.871 , ...,  3.312 ,  2.221 ,  5.22  ],\n       [14.88  , 14.57  ,  0.8811, ...,  3.333 ,  1.018 ,  4.956 ],\n       [14.29  , 14.09  ,  0.905 , ...,  3.337 ,  2.699 ,  4.825 ],\n       ...,\n       [13.2   , 13.66  ,  0.8883, ...,  3.232 ,  8.315 ,  5.056 ],\n       [11.84  , 13.21  ,  0.8521, ...,  2.836 ,  3.598 ,  5.044 ],\n       [12.3   , 13.34  ,  0.8684, ...,  2.974 ,  5.637 ,  5.063 ]])"
                    },
                    "metadata": {},
                    "execution_count": 2
                }
            ],
            "source": [
                "seeds_df.values"
            ],
            "metadata": {
                "collapsed": true
            }
        },
        {
            "cell_type": "markdown",
            "source": [
                "**Step 4:**  _(Written for you)_. Measure the quality of clusterings with different numbers of clusters using the\n",
                "inertia.  For each of the given values of `k`, perform the following steps:\n",
                "\n",
                "  - Create a `KMeans` instance called `model` with `k` clusters.\n",
                "  - Fit the model to the grain data `samples`.\n",
                "  - Append the value of the `inertia_` attribute of `model` to the list `inertias`."
            ],
            "metadata": {}
        },
        {
            "cell_type": "code",
            "execution_count": 4,
            "metadata": {},
            "outputs": [],
            "source": [
                "from sklearn.cluster import KMeans"
            ]
        },
        {
            "cell_type": "code",
            "execution_count": 6,
            "metadata": {},
            "outputs": [
                {
                    "output_type": "execute_result",
                    "data": {
                        "text/plain": "0.0068888199999999344"
                    },
                    "metadata": {},
                    "execution_count": 6
                }
            ],
            "source": [
                "model.inertia_"
            ]
        },
        {
            "cell_type": "code",
            "execution_count": 5,
            "metadata": {},
            "outputs": [
                {
                    "output_type": "stream",
                    "name": "stdout",
                    "text": "[2719.852410177952, 1011.7123453151189, 587.3186115940427, 471.0033955251922, 385.5821219997565, 323.65342546496385, 280.2698829482978, 240.91377351777572, 217.2252683165108, 199.38493360497205, 183.50181950095342, 170.06093127896622, 159.89987424334458, 146.21867901923076, 138.07480394037623, 125.31244321948688, 117.12474102430826, 113.04971494712643, 107.89390058769312, 98.68248107329744, 96.81382109081284, 91.84949058022323, 85.10007354004257, 82.2912137748249, 77.86153519824592, 74.6838371296473, 71.41603684803266, 68.43705992833317, 64.70383176087813, 62.78680320495238, 61.60378934140443, 58.54029657440965, 56.51524876892531, 55.74520528590965, 52.19434597287393, 50.90967414936539, 50.891366915350645, 48.40707357715567, 48.015432403776046, 45.094649784369054, 44.46131182783426, 42.83932965496754, 41.438468492646834, 40.48306617362122, 39.28513601126191, 37.948607166727264, 36.52926081880951, 36.60417469839069, 34.02096986364539, 33.601288141333335, 33.99282986408442, 32.20688510903571, 31.06779876921429, 29.97971833955953, 29.08077801391667, 28.248855827592358, 28.748130874857143, 27.257590275297616, 26.75890283108333, 26.14870089909524, 26.058042782694447, 24.617474594464284, 23.651737229880954, 23.837704473071433, 23.423789333293648, 22.480256569749997, 21.911410561924598, 21.56866525338095, 20.68133054779762, 20.30542422758333, 19.75753671259524, 19.437897452821428, 18.999190862404767, 18.664424676166664, 18.087961530428576, 17.363601535821427, 17.14943179483334, 17.09501541180952, 16.415500692833334, 16.112122682666673, 15.708300321404765, 15.943611749190474, 15.319260131404764, 14.779114322238097, 14.696881216333335, 14.042003531357143, 13.839484790952376, 13.475676850166668, 13.445104731833332, 13.124368686500002, 12.793915076404762, 12.636910224261907, 12.594625204000003, 12.10992674140476, 12.047556430333328, 11.805025108738096, 11.469216172833331, 11.292645236071424, 11.212912950166668, 10.780845962333334, 10.413903515, 10.14237574416666, 9.948019075499996, 9.786096119166668, 9.751797849666668, 9.44376634233333, 9.176104952499998, 9.1512820825, 8.953019736404759, 8.50903778633333, 8.280278798666663, 8.364902146904758, 8.058924558666664, 8.028602860833331, 7.772793285499998, 7.3904091054999945, 7.338100951666661, 6.88924692083333, 7.079077725833335, 6.879614605499995, 6.790846332166663, 6.477570546666662, 6.380025913333334, 6.407531723333333, 6.171135225999994, 5.931419981833331, 5.683087242499999, 5.449848998333332, 5.520989042166665, 5.284512937166664, 5.18719689883333, 5.03932709083333, 4.963645185833334, 4.829046235, 4.757505469166661, 4.636831095499997, 4.3781762299999984, 4.203042705833331, 4.059028087166665, 4.109652704999998, 3.8552649941666624, 3.752152319166664, 3.6168311974999976, 3.5371113883333307, 3.502508826666664, 3.2720082666666657, 3.312361404166665, 3.1366684691666658, 3.1287833074999982, 2.887756784999998, 2.920874482499997, 2.779129354166665, 2.7078697774999987, 2.6448962249999983, 2.5553511049999984, 2.364185103333332, 2.3943072983333313, 2.2022252074999975, 2.115889712499997, 2.1269894133333325, 1.9371258866666652, 1.9337472583333326, 1.8456516508333305, 1.8106692349999984, 1.6825240133333328, 1.6470761016666655, 1.6085559049999978, 1.5042234816666653, 1.401886653333332, 1.3317590383333315, 1.3246953099999987, 1.2498724383333317, 1.1957886749999989, 1.1260490916666657, 1.0591838516666647, 1.033577448333332, 0.9624044966666657, 0.9304698566666652, 0.8824841116666654, 0.8179078133333325, 0.7761576499999986, 0.735977868333332, 0.6948365066666654, 0.6543260633333325, 0.6215459199999988, 0.5797098733333325, 0.5504419449999994, 0.5063128249999992, 0.47294480499999914, 0.44595354833333223, 0.40944767999999876, 0.3808916099999995, 0.3503747299999992, 0.32212508499999926, 0.2965565399999993, 0.27071103999999935, 0.2454035349999995, 0.2201850349999996, 0.19493401499999982, 0.17072170999999992, 0.1470715849999999, 0.12459216500000021, 0.10218904000000024, 0.08064149500000009, 0.05941994999999978, 0.041094405000000174, 0.025072000000000115, 0.015847819999999985, 0.0068888199999999344]\n"
                }
            ],
            "source": [
                "ans=[]\n",
                "for i in range(seeds_df.shape[0]-1):\n",
                "    model=KMeans(n_clusters=i+1).fit(seeds_df)\n",
                "    ans.append(model.inertia_);\n",
                "print(ans)##输出最后一行"
            ]
        },
        {
            "cell_type": "markdown",
            "source": [
                "**Step 5:**  Plot the inertia to see which number of clusters is best. Remember: lower numbers are better!"
            ],
            "metadata": {}
        },
        {
            "execution_count": 9,
            "cell_type": "code",
            "outputs": [
                {
                    "output_type": "execute_result",
                    "data": {
                        "text/plain": "[<matplotlib.lines.Line2D at 0x226faa8fe88>]"
                    },
                    "metadata": {},
                    "execution_count": 9
                },
                {
                    "output_type": "display_data",
                    "data": {
                        "text/plain": "<Figure size 432x288 with 1 Axes>",
                        "image/svg+xml": "<?xml version=\"1.0\" encoding=\"utf-8\" standalone=\"no\"?>\r\n<!DOCTYPE svg PUBLIC \"-//W3C//DTD SVG 1.1//EN\"\r\n  \"http://www.w3.org/Graphics/SVG/1.1/DTD/svg11.dtd\">\r\n<!-- Created with matplotlib (https://matplotlib.org/) -->\r\n<svg height=\"248.518125pt\" version=\"1.1\" viewBox=\"0 0 381.65 248.518125\" width=\"381.65pt\" xmlns=\"http://www.w3.org/2000/svg\" xmlns:xlink=\"http://www.w3.org/1999/xlink\">\r\n <defs>\r\n  <style type=\"text/css\">\r\n*{stroke-linecap:butt;stroke-linejoin:round;}\r\n  </style>\r\n </defs>\r\n <g id=\"figure_1\">\r\n  <g id=\"patch_1\">\r\n   <path d=\"M -0 248.518125 \r\nL 381.65 248.518125 \r\nL 381.65 0 \r\nL -0 0 \r\nz\r\n\" style=\"fill:none;\"/>\r\n  </g>\r\n  <g id=\"axes_1\">\r\n   <g id=\"patch_2\">\r\n    <path d=\"M 39.65 224.64 \r\nL 374.45 224.64 \r\nL 374.45 7.2 \r\nL 39.65 7.2 \r\nz\r\n\" style=\"fill:#ffffff;\"/>\r\n   </g>\r\n   <g id=\"matplotlib.axis_1\">\r\n    <g id=\"xtick_1\">\r\n     <g id=\"line2d_1\">\r\n      <defs>\r\n       <path d=\"M 0 0 \r\nL 0 3.5 \r\n\" id=\"m0ac6f0c12a\" style=\"stroke:#000000;stroke-width:0.8;\"/>\r\n      </defs>\r\n      <g>\r\n       <use style=\"stroke:#000000;stroke-width:0.8;\" x=\"54.868182\" xlink:href=\"#m0ac6f0c12a\" y=\"224.64\"/>\r\n      </g>\r\n     </g>\r\n     <g id=\"text_1\">\r\n      <!-- 0 -->\r\n      <defs>\r\n       <path d=\"M 31.78125 66.40625 \r\nQ 24.171875 66.40625 20.328125 58.90625 \r\nQ 16.5 51.421875 16.5 36.375 \r\nQ 16.5 21.390625 20.328125 13.890625 \r\nQ 24.171875 6.390625 31.78125 6.390625 \r\nQ 39.453125 6.390625 43.28125 13.890625 \r\nQ 47.125 21.390625 47.125 36.375 \r\nQ 47.125 51.421875 43.28125 58.90625 \r\nQ 39.453125 66.40625 31.78125 66.40625 \r\nz\r\nM 31.78125 74.21875 \r\nQ 44.046875 74.21875 50.515625 64.515625 \r\nQ 56.984375 54.828125 56.984375 36.375 \r\nQ 56.984375 17.96875 50.515625 8.265625 \r\nQ 44.046875 -1.421875 31.78125 -1.421875 \r\nQ 19.53125 -1.421875 13.0625 8.265625 \r\nQ 6.59375 17.96875 6.59375 36.375 \r\nQ 6.59375 54.828125 13.0625 64.515625 \r\nQ 19.53125 74.21875 31.78125 74.21875 \r\nz\r\n\" id=\"DejaVuSans-48\"/>\r\n      </defs>\r\n      <g transform=\"translate(51.686932 239.238437)scale(0.1 -0.1)\">\r\n       <use xlink:href=\"#DejaVuSans-48\"/>\r\n      </g>\r\n     </g>\r\n    </g>\r\n    <g id=\"xtick_2\">\r\n     <g id=\"line2d_2\">\r\n      <g>\r\n       <use style=\"stroke:#000000;stroke-width:0.8;\" x=\"128.032517\" xlink:href=\"#m0ac6f0c12a\" y=\"224.64\"/>\r\n      </g>\r\n     </g>\r\n     <g id=\"text_2\">\r\n      <!-- 50 -->\r\n      <defs>\r\n       <path d=\"M 10.796875 72.90625 \r\nL 49.515625 72.90625 \r\nL 49.515625 64.59375 \r\nL 19.828125 64.59375 \r\nL 19.828125 46.734375 \r\nQ 21.96875 47.46875 24.109375 47.828125 \r\nQ 26.265625 48.1875 28.421875 48.1875 \r\nQ 40.625 48.1875 47.75 41.5 \r\nQ 54.890625 34.8125 54.890625 23.390625 \r\nQ 54.890625 11.625 47.5625 5.09375 \r\nQ 40.234375 -1.421875 26.90625 -1.421875 \r\nQ 22.3125 -1.421875 17.546875 -0.640625 \r\nQ 12.796875 0.140625 7.71875 1.703125 \r\nL 7.71875 11.625 \r\nQ 12.109375 9.234375 16.796875 8.0625 \r\nQ 21.484375 6.890625 26.703125 6.890625 \r\nQ 35.15625 6.890625 40.078125 11.328125 \r\nQ 45.015625 15.765625 45.015625 23.390625 \r\nQ 45.015625 31 40.078125 35.4375 \r\nQ 35.15625 39.890625 26.703125 39.890625 \r\nQ 22.75 39.890625 18.8125 39.015625 \r\nQ 14.890625 38.140625 10.796875 36.28125 \r\nz\r\n\" id=\"DejaVuSans-53\"/>\r\n      </defs>\r\n      <g transform=\"translate(121.670017 239.238437)scale(0.1 -0.1)\">\r\n       <use xlink:href=\"#DejaVuSans-53\"/>\r\n       <use x=\"63.623047\" xlink:href=\"#DejaVuSans-48\"/>\r\n      </g>\r\n     </g>\r\n    </g>\r\n    <g id=\"xtick_3\">\r\n     <g id=\"line2d_3\">\r\n      <g>\r\n       <use style=\"stroke:#000000;stroke-width:0.8;\" x=\"201.196853\" xlink:href=\"#m0ac6f0c12a\" y=\"224.64\"/>\r\n      </g>\r\n     </g>\r\n     <g id=\"text_3\">\r\n      <!-- 100 -->\r\n      <defs>\r\n       <path d=\"M 12.40625 8.296875 \r\nL 28.515625 8.296875 \r\nL 28.515625 63.921875 \r\nL 10.984375 60.40625 \r\nL 10.984375 69.390625 \r\nL 28.421875 72.90625 \r\nL 38.28125 72.90625 \r\nL 38.28125 8.296875 \r\nL 54.390625 8.296875 \r\nL 54.390625 0 \r\nL 12.40625 0 \r\nz\r\n\" id=\"DejaVuSans-49\"/>\r\n      </defs>\r\n      <g transform=\"translate(191.653103 239.238437)scale(0.1 -0.1)\">\r\n       <use xlink:href=\"#DejaVuSans-49\"/>\r\n       <use x=\"63.623047\" xlink:href=\"#DejaVuSans-48\"/>\r\n       <use x=\"127.246094\" xlink:href=\"#DejaVuSans-48\"/>\r\n      </g>\r\n     </g>\r\n    </g>\r\n    <g id=\"xtick_4\">\r\n     <g id=\"line2d_4\">\r\n      <g>\r\n       <use style=\"stroke:#000000;stroke-width:0.8;\" x=\"274.361189\" xlink:href=\"#m0ac6f0c12a\" y=\"224.64\"/>\r\n      </g>\r\n     </g>\r\n     <g id=\"text_4\">\r\n      <!-- 150 -->\r\n      <g transform=\"translate(264.817439 239.238437)scale(0.1 -0.1)\">\r\n       <use xlink:href=\"#DejaVuSans-49\"/>\r\n       <use x=\"63.623047\" xlink:href=\"#DejaVuSans-53\"/>\r\n       <use x=\"127.246094\" xlink:href=\"#DejaVuSans-48\"/>\r\n      </g>\r\n     </g>\r\n    </g>\r\n    <g id=\"xtick_5\">\r\n     <g id=\"line2d_5\">\r\n      <g>\r\n       <use style=\"stroke:#000000;stroke-width:0.8;\" x=\"347.525524\" xlink:href=\"#m0ac6f0c12a\" y=\"224.64\"/>\r\n      </g>\r\n     </g>\r\n     <g id=\"text_5\">\r\n      <!-- 200 -->\r\n      <defs>\r\n       <path d=\"M 19.1875 8.296875 \r\nL 53.609375 8.296875 \r\nL 53.609375 0 \r\nL 7.328125 0 \r\nL 7.328125 8.296875 \r\nQ 12.9375 14.109375 22.625 23.890625 \r\nQ 32.328125 33.6875 34.8125 36.53125 \r\nQ 39.546875 41.84375 41.421875 45.53125 \r\nQ 43.3125 49.21875 43.3125 52.78125 \r\nQ 43.3125 58.59375 39.234375 62.25 \r\nQ 35.15625 65.921875 28.609375 65.921875 \r\nQ 23.96875 65.921875 18.8125 64.3125 \r\nQ 13.671875 62.703125 7.8125 59.421875 \r\nL 7.8125 69.390625 \r\nQ 13.765625 71.78125 18.9375 73 \r\nQ 24.125 74.21875 28.421875 74.21875 \r\nQ 39.75 74.21875 46.484375 68.546875 \r\nQ 53.21875 62.890625 53.21875 53.421875 \r\nQ 53.21875 48.921875 51.53125 44.890625 \r\nQ 49.859375 40.875 45.40625 35.40625 \r\nQ 44.1875 33.984375 37.640625 27.21875 \r\nQ 31.109375 20.453125 19.1875 8.296875 \r\nz\r\n\" id=\"DejaVuSans-50\"/>\r\n      </defs>\r\n      <g transform=\"translate(337.981774 239.238437)scale(0.1 -0.1)\">\r\n       <use xlink:href=\"#DejaVuSans-50\"/>\r\n       <use x=\"63.623047\" xlink:href=\"#DejaVuSans-48\"/>\r\n       <use x=\"127.246094\" xlink:href=\"#DejaVuSans-48\"/>\r\n      </g>\r\n     </g>\r\n    </g>\r\n   </g>\r\n   <g id=\"matplotlib.axis_2\">\r\n    <g id=\"ytick_1\">\r\n     <g id=\"line2d_6\">\r\n      <defs>\r\n       <path d=\"M 0 0 \r\nL -3.5 0 \r\n\" id=\"mdb74a0fa1c\" style=\"stroke:#000000;stroke-width:0.8;\"/>\r\n      </defs>\r\n      <g>\r\n       <use style=\"stroke:#000000;stroke-width:0.8;\" x=\"39.65\" xlink:href=\"#mdb74a0fa1c\" y=\"214.756864\"/>\r\n      </g>\r\n     </g>\r\n     <g id=\"text_6\">\r\n      <!-- 0 -->\r\n      <g transform=\"translate(26.2875 218.556083)scale(0.1 -0.1)\">\r\n       <use xlink:href=\"#DejaVuSans-48\"/>\r\n      </g>\r\n     </g>\r\n    </g>\r\n    <g id=\"ytick_2\">\r\n     <g id=\"line2d_7\">\r\n      <g>\r\n       <use style=\"stroke:#000000;stroke-width:0.8;\" x=\"39.65\" xlink:href=\"#mdb74a0fa1c\" y=\"178.417902\"/>\r\n      </g>\r\n     </g>\r\n     <g id=\"text_7\">\r\n      <!-- 500 -->\r\n      <g transform=\"translate(13.5625 182.217121)scale(0.1 -0.1)\">\r\n       <use xlink:href=\"#DejaVuSans-53\"/>\r\n       <use x=\"63.623047\" xlink:href=\"#DejaVuSans-48\"/>\r\n       <use x=\"127.246094\" xlink:href=\"#DejaVuSans-48\"/>\r\n      </g>\r\n     </g>\r\n    </g>\r\n    <g id=\"ytick_3\">\r\n     <g id=\"line2d_8\">\r\n      <g>\r\n       <use style=\"stroke:#000000;stroke-width:0.8;\" x=\"39.65\" xlink:href=\"#mdb74a0fa1c\" y=\"142.07894\"/>\r\n      </g>\r\n     </g>\r\n     <g id=\"text_8\">\r\n      <!-- 1000 -->\r\n      <g transform=\"translate(7.2 145.878159)scale(0.1 -0.1)\">\r\n       <use xlink:href=\"#DejaVuSans-49\"/>\r\n       <use x=\"63.623047\" xlink:href=\"#DejaVuSans-48\"/>\r\n       <use x=\"127.246094\" xlink:href=\"#DejaVuSans-48\"/>\r\n       <use x=\"190.869141\" xlink:href=\"#DejaVuSans-48\"/>\r\n      </g>\r\n     </g>\r\n    </g>\r\n    <g id=\"ytick_4\">\r\n     <g id=\"line2d_9\">\r\n      <g>\r\n       <use style=\"stroke:#000000;stroke-width:0.8;\" x=\"39.65\" xlink:href=\"#mdb74a0fa1c\" y=\"105.739978\"/>\r\n      </g>\r\n     </g>\r\n     <g id=\"text_9\">\r\n      <!-- 1500 -->\r\n      <g transform=\"translate(7.2 109.539196)scale(0.1 -0.1)\">\r\n       <use xlink:href=\"#DejaVuSans-49\"/>\r\n       <use x=\"63.623047\" xlink:href=\"#DejaVuSans-53\"/>\r\n       <use x=\"127.246094\" xlink:href=\"#DejaVuSans-48\"/>\r\n       <use x=\"190.869141\" xlink:href=\"#DejaVuSans-48\"/>\r\n      </g>\r\n     </g>\r\n    </g>\r\n    <g id=\"ytick_5\">\r\n     <g id=\"line2d_10\">\r\n      <g>\r\n       <use style=\"stroke:#000000;stroke-width:0.8;\" x=\"39.65\" xlink:href=\"#mdb74a0fa1c\" y=\"69.401015\"/>\r\n      </g>\r\n     </g>\r\n     <g id=\"text_10\">\r\n      <!-- 2000 -->\r\n      <g transform=\"translate(7.2 73.200234)scale(0.1 -0.1)\">\r\n       <use xlink:href=\"#DejaVuSans-50\"/>\r\n       <use x=\"63.623047\" xlink:href=\"#DejaVuSans-48\"/>\r\n       <use x=\"127.246094\" xlink:href=\"#DejaVuSans-48\"/>\r\n       <use x=\"190.869141\" xlink:href=\"#DejaVuSans-48\"/>\r\n      </g>\r\n     </g>\r\n    </g>\r\n    <g id=\"ytick_6\">\r\n     <g id=\"line2d_11\">\r\n      <g>\r\n       <use style=\"stroke:#000000;stroke-width:0.8;\" x=\"39.65\" xlink:href=\"#mdb74a0fa1c\" y=\"33.062053\"/>\r\n      </g>\r\n     </g>\r\n     <g id=\"text_11\">\r\n      <!-- 2500 -->\r\n      <g transform=\"translate(7.2 36.861272)scale(0.1 -0.1)\">\r\n       <use xlink:href=\"#DejaVuSans-50\"/>\r\n       <use x=\"63.623047\" xlink:href=\"#DejaVuSans-53\"/>\r\n       <use x=\"127.246094\" xlink:href=\"#DejaVuSans-48\"/>\r\n       <use x=\"190.869141\" xlink:href=\"#DejaVuSans-48\"/>\r\n      </g>\r\n     </g>\r\n    </g>\r\n   </g>\r\n   <g id=\"line2d_12\">\r\n    <path clip-path=\"url(#pf0cc1e318f)\" d=\"M 54.868182 17.083636 \r\nL 56.331469 141.227711 \r\nL 57.794755 172.071767 \r\nL 59.258042 180.523589 \r\nL 60.721329 186.736928 \r\nL 62.184615 191.253445 \r\nL 65.111189 197.272769 \r\nL 66.574476 199.016989 \r\nL 68.037762 199.973596 \r\nL 69.501049 201.283335 \r\nL 72.427622 203.360476 \r\nL 75.354196 204.935096 \r\nL 78.280769 206.116338 \r\nL 79.744056 206.516348 \r\nL 81.207343 207.089647 \r\nL 84.133916 207.691707 \r\nL 85.597203 208.192064 \r\nL 91.45035 209.286558 \r\nL 92.913636 209.616751 \r\nL 106.083217 211.171169 \r\nL 109.00979 211.219857 \r\nL 110.473077 211.404031 \r\nL 111.936364 211.376523 \r\nL 114.862937 211.689171 \r\nL 122.179371 211.991939 \r\nL 125.105944 212.197952 \r\nL 128.032517 212.316652 \r\nL 136.812238 212.685101 \r\nL 141.202098 212.828061 \r\nL 163.151399 213.438726 \r\nL 192.417133 213.889657 \r\nL 274.361189 214.551624 \r\nL 293.383916 214.62897 \r\nL 359.231818 214.756364 \r\nL 359.231818 214.756364 \r\n\" style=\"fill:none;stroke:#1f77b4;stroke-linecap:square;stroke-width:1.5;\"/>\r\n   </g>\r\n   <g id=\"patch_3\">\r\n    <path d=\"M 39.65 224.64 \r\nL 39.65 7.2 \r\n\" style=\"fill:none;stroke:#000000;stroke-linecap:square;stroke-linejoin:miter;stroke-width:0.8;\"/>\r\n   </g>\r\n   <g id=\"patch_4\">\r\n    <path d=\"M 374.45 224.64 \r\nL 374.45 7.2 \r\n\" style=\"fill:none;stroke:#000000;stroke-linecap:square;stroke-linejoin:miter;stroke-width:0.8;\"/>\r\n   </g>\r\n   <g id=\"patch_5\">\r\n    <path d=\"M 39.65 224.64 \r\nL 374.45 224.64 \r\n\" style=\"fill:none;stroke:#000000;stroke-linecap:square;stroke-linejoin:miter;stroke-width:0.8;\"/>\r\n   </g>\r\n   <g id=\"patch_6\">\r\n    <path d=\"M 39.65 7.2 \r\nL 374.45 7.2 \r\n\" style=\"fill:none;stroke:#000000;stroke-linecap:square;stroke-linejoin:miter;stroke-width:0.8;\"/>\r\n   </g>\r\n  </g>\r\n </g>\r\n <defs>\r\n  <clipPath id=\"pf0cc1e318f\">\r\n   <rect height=\"217.44\" width=\"334.8\" x=\"39.65\" y=\"7.2\"/>\r\n  </clipPath>\r\n </defs>\r\n</svg>\r\n",
                        "image/png": "[encoded data removed]"
                    },
                    "metadata": {
                        "needs_background": "light"
                    }
                }
            ],
            "source": [
                "import matplotlib.pyplot as plt \n",
                "plt.plot(ans)"
            ],
            "metadata": {
                "collapsed": false
            }
        },
        {
            "cell_type": "markdown",
            "source": [
                "**Excellent work!** You can see from the graph that 3 is a good number of clusters, since these are points where the inertia begins to decrease more slowly."
            ],
            "metadata": {}
        },
        {
            "execution_count": null,
            "cell_type": "code",
            "outputs": [],
            "source": [],
            "metadata": {
                "collapsed": true
            }
        }
    ],
    "metadata": {
        "language_info": {
            "pygments_lexer": "ipython3",
            "nbconvert_exporter": "python",
            "mimetype": "text/x-python",
            "file_extension": ".py",
            "codemirror_mode": {
                "name": "ipython",
                "version": 3
            },
            "name": "python",
            "version": "3.7.6-final"
        },
        "kernelspec": {
            "display_name": "Python 3",
            "name": "python3",
            "language": "python"
        }
    },
    "nbformat": 4,
    "nbformat_minor": 2
}