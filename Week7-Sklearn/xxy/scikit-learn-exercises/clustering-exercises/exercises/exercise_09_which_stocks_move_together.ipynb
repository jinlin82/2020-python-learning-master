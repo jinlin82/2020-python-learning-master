{
    "cells": [
        {
            "cell_type": "markdown",
            "source": [
                "# Exercise 9: Which stocks move together?\n",
                "\n",
                "In the previous exercise, you clustered companies by their daily stock price movements.  So which company have stock prices that tend to change in the same way?  Now inspect the cluster labels from your clustering to find out."
            ],
            "metadata": {}
        },
        {
            "cell_type": "markdown",
            "source": [
                "From the course _Transition to Data Science_. [Buy the entire course for just $10](https://www.udemy.com/transition-to-data-science-in-python/?couponCode=CLUSTER-NBS) for many more exercises and helpful video lectures."
            ],
            "metadata": {}
        },
        {
            "cell_type": "markdown",
            "source": [
                "**Step 1:** Load the data _(written for you)_."
            ],
            "metadata": {}
        },
        {
            "cell_type": "code",
            "source": [
                "import pandas as pd\n",
                "\n",
                "fn = '../datasets/company-stock-movements-2010-2015-incl.csv'\n",
                "stocks_df = pd.read_csv(fn, index_col=0)"
            ],
            "execution_count": 1,
            "metadata": {
                "exercise": false,
                "collapsed": true
            },
            "outputs": []
        },
        {
            "cell_type": "markdown",
            "source": [
                "**Step 2:** Run your code from the previous exercise _(filled in for you)_."
            ],
            "metadata": {}
        },
        {
            "cell_type": "code",
            "source": [
                "companies = list(stocks_df.index)\n",
                "movements = stocks_df.values\n",
                "\n",
                "from sklearn.preprocessing import Normalizer\n",
                "from sklearn.cluster import KMeans\n",
                "from sklearn.pipeline import make_pipeline\n",
                "\n",
                "normalizer = Normalizer()\n",
                "kmeans = KMeans(n_clusters=14)\n",
                "pipeline = make_pipeline(normalizer, kmeans)\n",
                "pipeline.fit(movements)"
            ],
            "execution_count": 2,
            "metadata": {
                "exercise": false,
                "collapsed": false
            },
            "outputs": [
                {
                    "output_type": "execute_result",
                    "data": {
                        "text/plain": "Pipeline(memory=None,\n         steps=[('normalizer', Normalizer(copy=True, norm='l2')),\n                ('kmeans',\n                 KMeans(algorithm='auto', copy_x=True, init='k-means++',\n                        max_iter=300, n_clusters=14, n_init=10, n_jobs=None,\n                        precompute_distances='auto', random_state=None,\n                        tol=0.0001, verbose=0))],\n         verbose=False)"
                    },
                    "metadata": {},
                    "execution_count": 2
                }
            ]
        },
        {
            "cell_type": "markdown",
            "source": [
                "**Step 3:** Use the `.predict()` method of the pipeline to predict the labels for `movements`."
            ],
            "metadata": {}
        },
        {
            "cell_type": "code",
            "source": [
                "labels=pipeline.predict(movements)"
            ],
            "execution_count": 8,
            "metadata": {
                "collapsed": true
            },
            "outputs": []
        },
        {
            "cell_type": "markdown",
            "source": [
                "**Step 4:** Align the cluster labels with the list of company names `companies` by creating a DataFrame `df` with `labels` and `companies` as columns."
            ],
            "metadata": {}
        },
        {
            "cell_type": "code",
            "source": [
                "companies=stocks_df.index\n",
                "df=pd.DataFrame({'companies':companies,'labels':labels})"
            ],
            "execution_count": 15,
            "metadata": {
                "collapsed": true
            },
            "outputs": []
        },
        {
            "cell_type": "markdown",
            "source": [
                "**Step 5:** Now display the DataFrame, sorted by cluster label.  To do this, use the `.sort_values()` method of `df` to sort the DataFrame by the `'labels'` column."
            ],
            "metadata": {}
        },
        {
            "cell_type": "code",
            "source": [
                "df.sort_values(by='labels')"
            ],
            "execution_count": 16,
            "metadata": {
                "collapsed": false
            },
            "outputs": [
                {
                    "output_type": "execute_result",
                    "data": {
                        "text/plain": "                             companies  labels\n0                                Apple       0\n17                     Google/Alphabet       0\n2                               Amazon       0\n44                        Schlumberger       1\n12                             Chevron       1\n10                      ConocoPhillips       1\n53                       Valero Energy       1\n57                               Exxon       1\n35                            Navistar       1\n34                          Mitsubishi       2\n7                                Canon       2\n58                               Xerox       2\n48                              Toyota       2\n15                                Ford       2\n45                                Sony       2\n21                               Honda       2\n32                                  3M       3\n42                   Royal Dutch Shell       3\n46                      Sanofi-Aventis       3\n43                                 SAP       3\n37                            Novartis       3\n23                                 IBM       3\n19                     GlaxoSmithKline       3\n39                              Pfizer       3\n47                            Symantec       3\n16                   General Electrics       3\n52                            Unilever       3\n6             British American Tobacco       3\n13                   DuPont de Nemours       3\n49                               Total       3\n20                          Home Depot       3\n8                          Caterpillar       3\n40                      Procter Gamble       4\n38                               Pepsi       4\n28                           Coca Cola       4\n27                      Kimberly-Clark       4\n25                   Johnson & Johnson       4\n41                       Philip Morris       4\n9                    Colgate-Palmolive       4\n54                            Walgreen       5\n29                     Lookheed Martin       5\n4                               Boeing       5\n36                    Northrop Grumman       5\n26                      JPMorgan Chase       6\n55                         Wells Fargo       6\n3                     American express       6\n18                       Goldman Sachs       6\n5                      Bank of America       6\n1                                  AIG       7\n59                               Yahoo       8\n30                          MasterCard       9\n33                           Microsoft      10\n11                               Cisco      10\n24                               Intel      10\n51                   Texas instruments      10\n50  Taiwan Semiconductor Manufacturing      10\n14                                Dell      11\n22                                  HP      11\n31                           McDonalds      12\n56                            Wal-Mart      13",
                        "text/html": "<div>\n<style scoped>\n    .dataframe tbody tr th:only-of-type {\n        vertical-align: middle;\n    }\n\n    .dataframe tbody tr th {\n        vertical-align: top;\n    }\n\n    .dataframe thead th {\n        text-align: right;\n    }\n</style>\n<table border=\"1\" class=\"dataframe\">\n  <thead>\n    <tr style=\"text-align: right;\">\n      <th></th>\n      <th>companies</th>\n      <th>labels</th>\n    </tr>\n  </thead>\n  <tbody>\n    <tr>\n      <th>0</th>\n      <td>Apple</td>\n      <td>0</td>\n    </tr>\n    <tr>\n      <th>17</th>\n      <td>Google/Alphabet</td>\n      <td>0</td>\n    </tr>\n    <tr>\n      <th>2</th>\n      <td>Amazon</td>\n      <td>0</td>\n    </tr>\n    <tr>\n      <th>44</th>\n      <td>Schlumberger</td>\n      <td>1</td>\n    </tr>\n    <tr>\n      <th>12</th>\n      <td>Chevron</td>\n      <td>1</td>\n    </tr>\n    <tr>\n      <th>10</th>\n      <td>ConocoPhillips</td>\n      <td>1</td>\n    </tr>\n    <tr>\n      <th>53</th>\n      <td>Valero Energy</td>\n      <td>1</td>\n    </tr>\n    <tr>\n      <th>57</th>\n      <td>Exxon</td>\n      <td>1</td>\n    </tr>\n    <tr>\n      <th>35</th>\n      <td>Navistar</td>\n      <td>1</td>\n    </tr>\n    <tr>\n      <th>34</th>\n      <td>Mitsubishi</td>\n      <td>2</td>\n    </tr>\n    <tr>\n      <th>7</th>\n      <td>Canon</td>\n      <td>2</td>\n    </tr>\n    <tr>\n      <th>58</th>\n      <td>Xerox</td>\n      <td>2</td>\n    </tr>\n    <tr>\n      <th>48</th>\n      <td>Toyota</td>\n      <td>2</td>\n    </tr>\n    <tr>\n      <th>15</th>\n      <td>Ford</td>\n      <td>2</td>\n    </tr>\n    <tr>\n      <th>45</th>\n      <td>Sony</td>\n      <td>2</td>\n    </tr>\n    <tr>\n      <th>21</th>\n      <td>Honda</td>\n      <td>2</td>\n    </tr>\n    <tr>\n      <th>32</th>\n      <td>3M</td>\n      <td>3</td>\n    </tr>\n    <tr>\n      <th>42</th>\n      <td>Royal Dutch Shell</td>\n      <td>3</td>\n    </tr>\n    <tr>\n      <th>46</th>\n      <td>Sanofi-Aventis</td>\n      <td>3</td>\n    </tr>\n    <tr>\n      <th>43</th>\n      <td>SAP</td>\n      <td>3</td>\n    </tr>\n    <tr>\n      <th>37</th>\n      <td>Novartis</td>\n      <td>3</td>\n    </tr>\n    <tr>\n      <th>23</th>\n      <td>IBM</td>\n      <td>3</td>\n    </tr>\n    <tr>\n      <th>19</th>\n      <td>GlaxoSmithKline</td>\n      <td>3</td>\n    </tr>\n    <tr>\n      <th>39</th>\n      <td>Pfizer</td>\n      <td>3</td>\n    </tr>\n    <tr>\n      <th>47</th>\n      <td>Symantec</td>\n      <td>3</td>\n    </tr>\n    <tr>\n      <th>16</th>\n      <td>General Electrics</td>\n      <td>3</td>\n    </tr>\n    <tr>\n      <th>52</th>\n      <td>Unilever</td>\n      <td>3</td>\n    </tr>\n    <tr>\n      <th>6</th>\n      <td>British American Tobacco</td>\n      <td>3</td>\n    </tr>\n    <tr>\n      <th>13</th>\n      <td>DuPont de Nemours</td>\n      <td>3</td>\n    </tr>\n    <tr>\n      <th>49</th>\n      <td>Total</td>\n      <td>3</td>\n    </tr>\n    <tr>\n      <th>20</th>\n      <td>Home Depot</td>\n      <td>3</td>\n    </tr>\n    <tr>\n      <th>8</th>\n      <td>Caterpillar</td>\n      <td>3</td>\n    </tr>\n    <tr>\n      <th>40</th>\n      <td>Procter Gamble</td>\n      <td>4</td>\n    </tr>\n    <tr>\n      <th>38</th>\n      <td>Pepsi</td>\n      <td>4</td>\n    </tr>\n    <tr>\n      <th>28</th>\n      <td>Coca Cola</td>\n      <td>4</td>\n    </tr>\n    <tr>\n      <th>27</th>\n      <td>Kimberly-Clark</td>\n      <td>4</td>\n    </tr>\n    <tr>\n      <th>25</th>\n      <td>Johnson &amp; Johnson</td>\n      <td>4</td>\n    </tr>\n    <tr>\n      <th>41</th>\n      <td>Philip Morris</td>\n      <td>4</td>\n    </tr>\n    <tr>\n      <th>9</th>\n      <td>Colgate-Palmolive</td>\n      <td>4</td>\n    </tr>\n    <tr>\n      <th>54</th>\n      <td>Walgreen</td>\n      <td>5</td>\n    </tr>\n    <tr>\n      <th>29</th>\n      <td>Lookheed Martin</td>\n      <td>5</td>\n    </tr>\n    <tr>\n      <th>4</th>\n      <td>Boeing</td>\n      <td>5</td>\n    </tr>\n    <tr>\n      <th>36</th>\n      <td>Northrop Grumman</td>\n      <td>5</td>\n    </tr>\n    <tr>\n      <th>26</th>\n      <td>JPMorgan Chase</td>\n      <td>6</td>\n    </tr>\n    <tr>\n      <th>55</th>\n      <td>Wells Fargo</td>\n      <td>6</td>\n    </tr>\n    <tr>\n      <th>3</th>\n      <td>American express</td>\n      <td>6</td>\n    </tr>\n    <tr>\n      <th>18</th>\n      <td>Goldman Sachs</td>\n      <td>6</td>\n    </tr>\n    <tr>\n      <th>5</th>\n      <td>Bank of America</td>\n      <td>6</td>\n    </tr>\n    <tr>\n      <th>1</th>\n      <td>AIG</td>\n      <td>7</td>\n    </tr>\n    <tr>\n      <th>59</th>\n      <td>Yahoo</td>\n      <td>8</td>\n    </tr>\n    <tr>\n      <th>30</th>\n      <td>MasterCard</td>\n      <td>9</td>\n    </tr>\n    <tr>\n      <th>33</th>\n      <td>Microsoft</td>\n      <td>10</td>\n    </tr>\n    <tr>\n      <th>11</th>\n      <td>Cisco</td>\n      <td>10</td>\n    </tr>\n    <tr>\n      <th>24</th>\n      <td>Intel</td>\n      <td>10</td>\n    </tr>\n    <tr>\n      <th>51</th>\n      <td>Texas instruments</td>\n      <td>10</td>\n    </tr>\n    <tr>\n      <th>50</th>\n      <td>Taiwan Semiconductor Manufacturing</td>\n      <td>10</td>\n    </tr>\n    <tr>\n      <th>14</th>\n      <td>Dell</td>\n      <td>11</td>\n    </tr>\n    <tr>\n      <th>22</th>\n      <td>HP</td>\n      <td>11</td>\n    </tr>\n    <tr>\n      <th>31</th>\n      <td>McDonalds</td>\n      <td>12</td>\n    </tr>\n    <tr>\n      <th>56</th>\n      <td>Wal-Mart</td>\n      <td>13</td>\n    </tr>\n  </tbody>\n</table>\n</div>"
                    },
                    "metadata": {},
                    "execution_count": 16
                }
            ]
        },
        {
            "cell_type": "markdown",
            "source": [
                "**Great job!** Using k-means, you've discovered which companies stock prices move together on the stock exchange."
            ],
            "metadata": {}
        },
        {
            "cell_type": "code",
            "source": [],
            "execution_count": null,
            "metadata": {
                "collapsed": true
            },
            "outputs": []
        }
    ],
    "metadata": {
        "language_info": {
            "pygments_lexer": "ipython3",
            "codemirror_mode": {
                "name": "ipython",
                "version": 3
            },
            "version": "3.7.6-final",
            "name": "python",
            "mimetype": "text/x-python",
            "nbconvert_exporter": "python",
            "file_extension": ".py"
        },
        "kernelspec": {
            "name": "python3",
            "display_name": "Python 3",
            "language": "python"
        }
    },
    "nbformat": 4,
    "nbformat_minor": 2
}