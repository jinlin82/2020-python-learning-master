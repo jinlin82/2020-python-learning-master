{
    "cells": [
        {
            "cell_type": "markdown",
            "metadata": {},
            "source": [
                "# Exercise 2: Clustering 2D points"
            ]
        },
        {
            "cell_type": "markdown",
            "metadata": {},
            "source": [
                "From the course _Transition to Data Science_. [Buy the entire course for just $10](https://www.udemy.com/transition-to-data-science-in-python/?couponCode=CLUSTER-NBS) for many more exercises and helpful video lectures."
            ]
        },
        {
            "cell_type": "markdown",
            "metadata": {},
            "source": [
                "From the scatter plot of the previous exercise, you saw that the points seem to separate into 3 clusters.  Now create a KMeans model to find 3 clusters, and fit it to the data points from the previous exercise.  After the model has been fit, obtain the cluster labels for points, and also for some new points using the `.predict()` method.\n",
                "\n",
                "You are given the array `points` from the previous exercise, and also an array `new_points`."
            ]
        },
        {
            "cell_type": "markdown",
            "metadata": {},
            "source": [
                "**Step 1:** Load the dataset _(written for you)_."
            ]
        },
        {
            "outputs": [],
            "cell_type": "code",
            "metadata": {
                "collapsed": true,
                "exercise": false
            },
            "execution_count": 1,
            "source": [
                "import pandas as pd\n",
                "\n",
                "df = pd.read_csv('../datasets/ch1ex1.csv')\n",
                "points = df.values\n",
                "\n",
                "new_df = pd.read_csv('../datasets/ch1ex2.csv')\n",
                "new_points = new_df.values"
            ]
        },
        {
            "cell_type": "markdown",
            "metadata": {},
            "source": [
                "**Step 2:** Import `KMeans` from `sklearn.cluster`"
            ]
        },
        {
            "outputs": [],
            "cell_type": "code",
            "metadata": {
                "collapsed": true
            },
            "execution_count": 2,
            "source": [
                "from sklearn.cluster import KMeans"
            ]
        },
        {
            "cell_type": "markdown",
            "metadata": {},
            "source": [
                "**Step 3:** Using `KMeans()`, create a `KMeans` instance called `model` to find `3` clusters. To specify the number of clusters, use the `n_clusters` keyword argument"
            ]
        },
        {
            "outputs": [],
            "cell_type": "code",
            "metadata": {
                "collapsed": true
            },
            "execution_count": 3,
            "source": [
                "model=KMeans(n_clusters=3)##random_state??"
            ]
        },
        {
            "cell_type": "markdown",
            "metadata": {},
            "source": [
                "**Step 4:** Use the `.fit()` method of `model` to fit the model to the array of points `points`."
            ]
        },
        {
            "outputs": [],
            "cell_type": "code",
            "metadata": {
                "collapsed": false
            },
            "execution_count": 5,
            "source": [
                "model.fit(points)"
            ]
        },
        {
            "cell_type": "markdown",
            "metadata": {},
            "source": [
                "**Step 5:** Use the `.predict()` method of `model` to predict the cluster labels of `points`, assigning the result to `labels`."
            ]
        },
        {
            "outputs": [],
            "cell_type": "code",
            "metadata": {
                "collapsed": true
            },
            "execution_count": 16,
            "source": [
                "labels=model.predict(points)"
            ]
        },
        {
            "cell_type": "markdown",
            "metadata": {},
            "source": [
                "**Step 6:** Print out the labels, and have a look at them!  _(In the next exercise, I'll show you how to visualise this clustering better.)_"
            ]
        },
        {
            "outputs": [
                {
                    "output_type": "execute_result",
                    "data": {
                        "text/plain": "array([2, 1, 0, 0, 1, 1, 0, 2, 1, 1, 0, 2, 1, 0, 1, 2, 0, 0, 2, 0, 1, 2,\n       1, 2, 2, 1, 2, 2, 2, 1, 0, 0, 0, 1, 2, 1, 2, 2, 1, 2, 2, 0, 1, 1,\n       1, 2, 2, 0, 2, 0, 0, 0, 2, 2, 2, 1, 2, 2, 1, 0, 1, 2, 2, 0, 0, 1,\n       0, 1, 1, 2, 0, 1, 0, 2, 0, 1, 2, 2, 2, 0, 2, 1, 0, 1, 1, 1, 1, 2,\n       2, 0, 1, 0, 1, 2, 2, 2, 0, 1, 1, 0, 1, 2, 1, 0, 2, 0, 0, 0, 1, 1,\n       2, 1, 0, 1, 1, 1, 2, 1, 0, 0, 2, 2, 2, 2, 2, 1, 0, 2, 1, 1, 0, 0,\n       1, 2, 1, 2, 0, 1, 0, 2, 0, 0, 2, 0, 0, 2, 0, 1, 2, 2, 2, 0, 0, 1,\n       0, 1, 2, 2, 0, 1, 0, 0, 0, 1, 2, 2, 1, 0, 0, 2, 2, 0, 2, 2, 1, 2,\n       0, 0, 0, 2, 2, 0, 2, 0, 0, 2, 1, 0, 2, 2, 2, 2, 1, 0, 2, 1, 1, 1,\n       2, 1, 2, 2, 1, 0, 0, 2, 0, 2, 2, 1, 1, 2, 0, 1, 0, 2, 0, 1, 2, 1,\n       1, 1, 1, 0, 0, 0, 2, 2, 1, 2, 0, 1, 2, 2, 1, 2, 0, 0, 0, 0, 0, 1,\n       2, 2, 0, 0, 2, 1, 0, 1, 1, 2, 2, 1, 1, 1, 2, 0, 2, 1, 2, 0, 0, 0,\n       0, 0, 2, 2, 1, 2, 2, 1, 0, 0, 1, 2, 0, 0, 1, 1, 2, 2, 2, 1, 1, 2,\n       0, 1, 1, 0, 2, 2, 2, 1, 2, 2, 2, 1, 1, 1])"
                    },
                    "metadata": {},
                    "execution_count": 17
                }
            ],
            "cell_type": "code",
            "metadata": {
                "collapsed": false
            },
            "execution_count": 17,
            "source": [
                "labels"
            ]
        },
        {
            "cell_type": "markdown",
            "metadata": {},
            "source": [
                "**Step 7:** Use the `.predict()` method of `model` to predict the cluster labels of `new_points`, assigning the result to `new_labels`.  Notice that KMeans can assign previously unseen points to the clusters it has already found!"
            ]
        },
        {
            "outputs": [],
            "cell_type": "code",
            "metadata": {
                "collapsed": true
            },
            "execution_count": 18,
            "source": [
                "new_labels=model.predict(new_points)"
            ]
        },
        {
            "cell_type": "code",
            "execution_count": 19,
            "metadata": {},
            "outputs": [
                {
                    "output_type": "execute_result",
                    "data": {
                        "text/plain": "array([0, 0, 1, 1, 2, 2, 0, 2, 2, 1, 2, 2, 1, 2, 0, 0, 2, 0, 0, 2, 0, 0,\n       1, 0, 1, 2, 1, 0, 0, 0, 1, 2, 2, 1, 1, 0, 1, 1, 1, 1, 0, 2, 1, 2,\n       1, 1, 2, 0, 1, 1, 0, 0, 2, 0, 2, 0, 1, 0, 1, 1, 1, 2, 2, 2, 1, 1,\n       2, 1, 2, 1, 0, 0, 0, 2, 1, 2, 2, 2, 0, 2, 0, 2, 0, 2, 0, 1, 0, 2,\n       1, 2, 0, 0, 1, 1, 0, 0, 0, 1, 2, 1])"
                    },
                    "metadata": {},
                    "execution_count": 19
                }
            ],
            "source": [
                "new_labels"
            ]
        },
        {
            "cell_type": "code",
            "execution_count": null,
            "metadata": {},
            "outputs": [],
            "source": []
        }
    ],
    "metadata": {
        "language_info": {
            "nbconvert_exporter": "python",
            "version": "3.7.6-final",
            "codemirror_mode": {
                "version": 3,
                "name": "ipython"
            },
            "name": "python",
            "file_extension": ".py",
            "pygments_lexer": "ipython3",
            "mimetype": "text/x-python"
        },
        "kernelspec": {
            "display_name": "Python 3",
            "language": "python",
            "name": "python3"
        }
    },
    "nbformat": 4,
    "nbformat_minor": 1
}