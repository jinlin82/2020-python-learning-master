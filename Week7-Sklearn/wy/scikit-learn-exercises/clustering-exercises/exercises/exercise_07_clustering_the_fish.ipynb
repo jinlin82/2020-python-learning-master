{
    "cells": [
        {
            "source": [
                "# Exercise 7: Clustering the fish data\n",
                "\n",
                "Now use your standardization and clustering pipeline from the previous exercise to cluster the fish by their measurements, and then create a cross-tabulation to compare the cluster labels with the fish species."
            ],
            "cell_type": "markdown",
            "metadata": {}
        },
        {
            "cell_type": "markdown",
            "source": [
                "From the course _Transition to Data Science_. [Buy the entire course for just $10](https://www.udemy.com/transition-to-data-science-in-python/?couponCode=CLUSTER-NBS) for many more exercises and helpful video lectures."
            ],
            "metadata": {}
        },
        {
            "source": [
                "**Step 1:** Load the dataset, extracting the species of the fish as a list `species` _(done for you)_"
            ],
            "cell_type": "markdown",
            "metadata": {}
        },
        {
            "source": [
                "import pandas as pd\n",
                "\n",
                "df = pd.read_csv('../datasets/fish.csv')\n",
                "\n",
                "# remove the species from the DataFrame so only the measurements are left\n",
                "species = list(df['species'])\n",
                "del df['species']"
            ],
            "cell_type": "code",
            "metadata": {
                "collapsed": true,
                "exercise": false
            },
            "outputs": [],
            "execution_count": 1
        },
        {
            "source": [
                "**Step 2:** Build the pipeline as in the previous exercise _(filled in for you)._"
            ],
            "cell_type": "markdown",
            "metadata": {}
        },
        {
            "source": [
                "from sklearn.pipeline import make_pipeline\n",
                "from sklearn.preprocessing import StandardScaler\n",
                "from sklearn.cluster import KMeans\n",
                "scaler = StandardScaler()\n",
                "kmeans = KMeans(n_clusters=4)\n",
                "pipeline = make_pipeline(scaler,kmeans)"
            ],
            "cell_type": "code",
            "metadata": {
                "collapsed": true
            },
            "outputs": [],
            "execution_count": 2
        },
        {
            "source": [
                "**Step 3:** Fit the pipeline to the fish measurements `samples`."
            ],
            "cell_type": "markdown",
            "metadata": {}
        },
        {
            "source": [
                "samples = df.values\n",
                "pipeline.fit(samples)"
            ],
            "cell_type": "code",
            "metadata": {
                "collapsed": false
            },
            "outputs": [
                {
                    "output_type": "execute_result",
                    "data": {
                        "text/plain": "Pipeline(memory=None,\n         steps=[('standardscaler',\n                 StandardScaler(copy=True, with_mean=True, with_std=True)),\n                ('kmeans',\n                 KMeans(algorithm='auto', copy_x=True, init='k-means++',\n                        max_iter=300, n_clusters=4, n_init=10, n_jobs=None,\n                        precompute_distances='auto', random_state=None,\n                        tol=0.0001, verbose=0))],\n         verbose=False)"
                    },
                    "metadata": {},
                    "execution_count": 3
                }
            ],
            "execution_count": 3
        },
        {
            "source": [
                "**Step 4:** Obtain the cluster labels for `samples` by using the `.predict()` method of `pipeline`, assigning the result to `labels`."
            ],
            "cell_type": "markdown",
            "metadata": {}
        },
        {
            "source": [
                "labels = pipeline.predict(samples)"
            ],
            "cell_type": "code",
            "metadata": {
                "collapsed": true
            },
            "outputs": [],
            "execution_count": 6
        },
        {
            "source": [
                "**Step 5:** Using `pd.DataFrame()`, create a DataFrame `df` with two columns named `'labels'` and `'species'`, using `labels` and `species`, respectively, for the column values."
            ],
            "cell_type": "markdown",
            "metadata": {}
        },
        {
            "source": [
                "d = {'labels':labels,'species':species}\n",
                "df = pd.DataFrame(data=d)"
            ],
            "cell_type": "code",
            "metadata": {
                "collapsed": true
            },
            "outputs": [],
            "execution_count": 10
        },
        {
            "source": [
                "**Step 6:** Using `pd.crosstab()`, create a cross-tabulation `ct` of `df['labels']` and `df['species']`."
            ],
            "cell_type": "markdown",
            "metadata": {}
        },
        {
            "source": [
                "ct = pd.crosstab(df['labels'],df['species'])"
            ],
            "cell_type": "code",
            "metadata": {
                "collapsed": true
            },
            "outputs": [],
            "execution_count": 11
        },
        {
            "source": [
                "**Step 7:** Display your cross-tabulation, and check out how good your clustering is!"
            ],
            "cell_type": "markdown",
            "metadata": {}
        },
        {
            "source": [
                "ct"
            ],
            "cell_type": "code",
            "metadata": {
                "collapsed": false
            },
            "outputs": [
                {
                    "output_type": "execute_result",
                    "data": {
                        "text/plain": "species  Bream  Pike  Roach  Smelt\nlabels                            \n0            0     0      0     13\n1           33     0      1      0\n2            1     0     19      1\n3            0    17      0      0",
                        "text/html": "<div>\n<style scoped>\n    .dataframe tbody tr th:only-of-type {\n        vertical-align: middle;\n    }\n\n    .dataframe tbody tr th {\n        vertical-align: top;\n    }\n\n    .dataframe thead th {\n        text-align: right;\n    }\n</style>\n<table border=\"1\" class=\"dataframe\">\n  <thead>\n    <tr style=\"text-align: right;\">\n      <th>species</th>\n      <th>Bream</th>\n      <th>Pike</th>\n      <th>Roach</th>\n      <th>Smelt</th>\n    </tr>\n    <tr>\n      <th>labels</th>\n      <th></th>\n      <th></th>\n      <th></th>\n      <th></th>\n    </tr>\n  </thead>\n  <tbody>\n    <tr>\n      <th>0</th>\n      <td>0</td>\n      <td>0</td>\n      <td>0</td>\n      <td>13</td>\n    </tr>\n    <tr>\n      <th>1</th>\n      <td>33</td>\n      <td>0</td>\n      <td>1</td>\n      <td>0</td>\n    </tr>\n    <tr>\n      <th>2</th>\n      <td>1</td>\n      <td>0</td>\n      <td>19</td>\n      <td>1</td>\n    </tr>\n    <tr>\n      <th>3</th>\n      <td>0</td>\n      <td>17</td>\n      <td>0</td>\n      <td>0</td>\n    </tr>\n  </tbody>\n</table>\n</div>"
                    },
                    "metadata": {},
                    "execution_count": 12
                }
            ],
            "execution_count": 12
        }
    ],
    "metadata": {
        "language_info": {
            "pygments_lexer": "ipython3",
            "mimetype": "text/x-python",
            "nbconvert_exporter": "python",
            "file_extension": ".py",
            "version": "3.7.6-final",
            "name": "python",
            "codemirror_mode": {
                "version": 3,
                "name": "ipython"
            }
        },
        "kernelspec": {
            "name": "python3",
            "display_name": "Python 3",
            "language": "python"
        }
    },
    "nbformat": 4,
    "nbformat_minor": 2
}