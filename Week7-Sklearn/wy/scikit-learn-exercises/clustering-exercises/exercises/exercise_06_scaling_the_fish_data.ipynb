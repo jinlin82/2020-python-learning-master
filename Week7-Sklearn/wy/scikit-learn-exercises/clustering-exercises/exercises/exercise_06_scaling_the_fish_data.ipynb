{
    "cells": [
        {
            "cell_type": "markdown",
            "metadata": {},
            "source": [
                "# Exercise 6: Scaling fish data for clustering\n",
                "\n",
                "You are given an array `samples` giving measurements of fish.  Each row represents asingle fish.  The measurements, such as weight in grams, length in centimeters, and the percentage ratio of height to length, have very different scales.  In order to cluster this data effectively, you'll need to standardize these features first.  In this exercise, you'll build a pipeline to standardize and cluster the data.\n",
                "\n",
                "This great dataset was derived from the one [here](http://svitsrv25.epfl.ch/R-doc/library/rrcov/html/fish.html), where you can see a description of each measurement."
            ]
        },
        {
            "cell_type": "markdown",
            "metadata": {},
            "source": [
                "From the course _Transition to Data Science_. [Buy the entire course for just $10](https://www.udemy.com/transition-to-data-science-in-python/?couponCode=CLUSTER-NBS) for many more exercises and helpful video lectures."
            ]
        },
        {
            "cell_type": "markdown",
            "metadata": {},
            "source": [
                "**Step 1:** Load the dataset _(this bit is written for you)_."
            ]
        },
        {
            "execution_count": 1,
            "cell_type": "code",
            "metadata": {
                "collapsed": true,
                "exercise": false
            },
            "outputs": [],
            "source": [
                "import pandas as pd\n",
                "\n",
                "df = pd.read_csv('../datasets/fish.csv')\n",
                "\n",
                "# forget the species column for now - we'll use it later!\n",
                "del df['species']"
            ]
        },
        {
            "cell_type": "markdown",
            "metadata": {},
            "source": [
                "**Step 2:** Call `df.head()` to inspect the dataset:"
            ]
        },
        {
            "execution_count": 2,
            "cell_type": "code",
            "metadata": {
                "collapsed": false
            },
            "outputs": [
                {
                    "output_type": "execute_result",
                    "data": {
                        "text/plain": "   weight  length1  length2  length3  height  width\n0   242.0     23.2     25.4     30.0    38.4   13.4\n1   290.0     24.0     26.3     31.2    40.0   13.8\n2   340.0     23.9     26.5     31.1    39.8   15.1\n3   363.0     26.3     29.0     33.5    38.0   13.3\n4   430.0     26.5     29.0     34.0    36.6   15.1",
                        "text/html": "<div>\n<style scoped>\n    .dataframe tbody tr th:only-of-type {\n        vertical-align: middle;\n    }\n\n    .dataframe tbody tr th {\n        vertical-align: top;\n    }\n\n    .dataframe thead th {\n        text-align: right;\n    }\n</style>\n<table border=\"1\" class=\"dataframe\">\n  <thead>\n    <tr style=\"text-align: right;\">\n      <th></th>\n      <th>weight</th>\n      <th>length1</th>\n      <th>length2</th>\n      <th>length3</th>\n      <th>height</th>\n      <th>width</th>\n    </tr>\n  </thead>\n  <tbody>\n    <tr>\n      <th>0</th>\n      <td>242.0</td>\n      <td>23.2</td>\n      <td>25.4</td>\n      <td>30.0</td>\n      <td>38.4</td>\n      <td>13.4</td>\n    </tr>\n    <tr>\n      <th>1</th>\n      <td>290.0</td>\n      <td>24.0</td>\n      <td>26.3</td>\n      <td>31.2</td>\n      <td>40.0</td>\n      <td>13.8</td>\n    </tr>\n    <tr>\n      <th>2</th>\n      <td>340.0</td>\n      <td>23.9</td>\n      <td>26.5</td>\n      <td>31.1</td>\n      <td>39.8</td>\n      <td>15.1</td>\n    </tr>\n    <tr>\n      <th>3</th>\n      <td>363.0</td>\n      <td>26.3</td>\n      <td>29.0</td>\n      <td>33.5</td>\n      <td>38.0</td>\n      <td>13.3</td>\n    </tr>\n    <tr>\n      <th>4</th>\n      <td>430.0</td>\n      <td>26.5</td>\n      <td>29.0</td>\n      <td>34.0</td>\n      <td>36.6</td>\n      <td>15.1</td>\n    </tr>\n  </tbody>\n</table>\n</div>"
                    },
                    "metadata": {},
                    "execution_count": 2
                }
            ],
            "source": [
                "df.head()"
            ]
        },
        {
            "cell_type": "markdown",
            "metadata": {},
            "source": [
                "**Step 3:** Extract all the measurements as a 2D NumPy array, assigning to `samples` (hint: use the `.values` attribute of `df`)"
            ]
        },
        {
            "execution_count": 5,
            "cell_type": "code",
            "metadata": {
                "collapsed": true
            },
            "outputs": [],
            "source": [
                "samples = df.values"
            ]
        },
        {
            "cell_type": "markdown",
            "metadata": {},
            "source": [
                "**Step 4:** Perform the necessary imports:\n",
                "\n",
                "- `make_pipeline` from `sklearn.pipeline`.\n",
                "- `StandardScaler` from `sklearn.preprocessing`.\n",
                "- `KMeans` from `sklearn.cluster`.\n"
            ]
        },
        {
            "execution_count": 9,
            "cell_type": "code",
            "metadata": {
                "collapsed": true
            },
            "outputs": [],
            "source": [
                "from sklearn.pipeline import make_pipeline\n",
                "from sklearn.preprocessing import StandardScaler\n",
                "from sklearn.cluster import KMeans"
            ]
        },
        {
            "cell_type": "markdown",
            "metadata": {},
            "source": [
                "**Step 5:** Create an instance of `StandardScaler` called `scaler`."
            ]
        },
        {
            "cell_type": "code",
            "execution_count": 10,
            "metadata": {},
            "outputs": [],
            "source": [
                "scaler = StandardScaler()"
            ]
        },
        {
            "cell_type": "markdown",
            "metadata": {},
            "source": [
                "**Step 6:** Create an instance of `KMeans` with `4` clusters called `kmeans`."
            ]
        },
        {
            "execution_count": 11,
            "cell_type": "code",
            "metadata": {
                "collapsed": true
            },
            "outputs": [],
            "source": [
                "kmeans = KMeans(n_clusters=4)"
            ]
        },
        {
            "cell_type": "markdown",
            "metadata": {},
            "source": [
                "**Step 7:** Create a pipeline called `pipeline` that chains `scaler` and `kmeans`. To do this, you just need to pass them in as arguments to `make_pipeline()`."
            ]
        },
        {
            "execution_count": 12,
            "cell_type": "code",
            "metadata": {
                "collapsed": true
            },
            "outputs": [],
            "source": [
                "pipeline = make_pipeline(scaler,kmeans)"
            ]
        },
        {
            "cell_type": "markdown",
            "metadata": {},
            "source": [
                "**Great job!** Now you're all set to transform the fish measurements and perform the clustering.  Let's get to it in the next exercise!"
            ]
        },
        {
            "execution_count": null,
            "cell_type": "code",
            "metadata": {
                "collapsed": true
            },
            "outputs": [],
            "source": []
        }
    ],
    "metadata": {
        "kernelspec": {
            "display_name": "Python 3",
            "language": "python",
            "name": "python3"
        },
        "language_info": {
            "pygments_lexer": "ipython3",
            "mimetype": "text/x-python",
            "nbconvert_exporter": "python",
            "file_extension": ".py",
            "version": "3.7.6-final",
            "name": "python",
            "codemirror_mode": {
                "name": "ipython",
                "version": 3
            }
        }
    },
    "nbformat": 4,
    "nbformat_minor": 2
}