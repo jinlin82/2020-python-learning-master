{
    "cells": [
        {
            "cell_type": "markdown",
            "source": [
                "# Exercise 9: Which stocks move together?\n",
                "\n",
                "In the previous exercise, you clustered companies by their daily stock price movements.  So which company have stock prices that tend to change in the same way?  Now inspect the cluster labels from your clustering to find out."
            ],
            "metadata": {}
        },
        {
            "cell_type": "markdown",
            "source": [
                "From the course _Transition to Data Science_. [Buy the entire course for just $10](https://www.udemy.com/transition-to-data-science-in-python/?couponCode=CLUSTER-NBS) for many more exercises and helpful video lectures."
            ],
            "metadata": {}
        },
        {
            "cell_type": "markdown",
            "source": [
                "**Step 1:** Load the data _(written for you)_."
            ],
            "metadata": {}
        },
        {
            "cell_type": "code",
            "source": [
                "import pandas as pd\n",
                "\n",
                "fn = '../datasets/company-stock-movements-2010-2015-incl.csv'\n",
                "stocks_df = pd.read_csv(fn, index_col=0)"
            ],
            "execution_count": 1,
            "metadata": {
                "exercise": false,
                "collapsed": true
            },
            "outputs": []
        },
        {
            "cell_type": "markdown",
            "source": [
                "**Step 2:** Run your code from the previous exercise _(filled in for you)_."
            ],
            "metadata": {}
        },
        {
            "cell_type": "code",
            "source": [
                "companies = list(stocks_df.index)\n",
                "movements = stocks_df.values\n",
                "\n",
                "from sklearn.preprocessing import Normalizer\n",
                "from sklearn.cluster import KMeans\n",
                "from sklearn.pipeline import make_pipeline\n",
                "\n",
                "normalizer = Normalizer()\n",
                "kmeans = KMeans(n_clusters=14)\n",
                "pipeline = make_pipeline(normalizer, kmeans)\n",
                "pipeline.fit(movements)"
            ],
            "execution_count": 2,
            "metadata": {
                "exercise": false,
                "collapsed": false
            },
            "outputs": [
                {
                    "output_type": "execute_result",
                    "data": {
                        "text/plain": "Pipeline(memory=None,\n         steps=[('normalizer', Normalizer(copy=True, norm='l2')),\n                ('kmeans',\n                 KMeans(algorithm='auto', copy_x=True, init='k-means++',\n                        max_iter=300, n_clusters=14, n_init=10, n_jobs=None,\n                        precompute_distances='auto', random_state=None,\n                        tol=0.0001, verbose=0))],\n         verbose=False)"
                    },
                    "metadata": {},
                    "execution_count": 2
                }
            ]
        },
        {
            "cell_type": "markdown",
            "source": [
                "**Step 3:** Use the `.predict()` method of the pipeline to predict the labels for `movements`."
            ],
            "metadata": {}
        },
        {
            "cell_type": "code",
            "source": [
                "labels = pipeline.predict(movements)"
            ],
            "execution_count": 4,
            "metadata": {
                "collapsed": true
            },
            "outputs": []
        },
        {
            "cell_type": "markdown",
            "source": [
                "**Step 4:** Align the cluster labels with the list of company names `companies` by creating a DataFrame `df` with `labels` and `companies` as columns."
            ],
            "metadata": {}
        },
        {
            "cell_type": "code",
            "source": [
                "d = {'labels':labels, 'companies':companies}\n",
                "df = pd.DataFrame(data=d)"
            ],
            "execution_count": 6,
            "metadata": {
                "collapsed": true
            },
            "outputs": []
        },
        {
            "cell_type": "markdown",
            "source": [
                "**Step 5:** Now display the DataFrame, sorted by cluster label.  To do this, use the `.sort_values()` method of `df` to sort the DataFrame by the `'labels'` column."
            ],
            "metadata": {}
        },
        {
            "cell_type": "code",
            "source": [
                "df.sort_values(by='labels')"
            ],
            "execution_count": 7,
            "metadata": {
                "collapsed": false
            },
            "outputs": [
                {
                    "output_type": "execute_result",
                    "data": {
                        "text/plain": "    labels                           companies\n53       0                       Valero Energy\n57       0                               Exxon\n44       0                        Schlumberger\n10       0                      ConocoPhillips\n12       0                             Chevron\n35       1                            Navistar\n8        1                         Caterpillar\n13       1                   DuPont de Nemours\n14       2                                Dell\n33       2                           Microsoft\n22       2                                  HP\n11       2                               Cisco\n52       3                            Unilever\n49       3                               Total\n46       3                      Sanofi-Aventis\n43       3                                 SAP\n39       3                              Pfizer\n37       3                            Novartis\n19       3                     GlaxoSmithKline\n42       3                   Royal Dutch Shell\n6        3            British American Tobacco\n1        4                                 AIG\n26       4                      JPMorgan Chase\n5        4                     Bank of America\n55       4                         Wells Fargo\n18       4                       Goldman Sachs\n29       5                     Lookheed Martin\n54       5                            Walgreen\n4        5                              Boeing\n36       5                    Northrop Grumman\n3        6                    American express\n32       6                                  3M\n20       6                          Home Depot\n47       6                            Symantec\n25       6                   Johnson & Johnson\n16       6                   General Electrics\n23       6                                 IBM\n30       6                          MasterCard\n56       7                            Wal-Mart\n27       7                      Kimberly-Clark\n41       7                       Philip Morris\n40       7                      Procter Gamble\n9        7                   Colgate-Palmolive\n59       8                               Yahoo\n50       9  Taiwan Semiconductor Manufacturing\n51       9                   Texas instruments\n24       9                               Intel\n34      10                          Mitsubishi\n45      10                                Sony\n58      10                               Xerox\n48      10                              Toyota\n21      10                               Honda\n15      10                                Ford\n7       10                               Canon\n28      11                           Coca Cola\n38      11                               Pepsi\n31      12                           McDonalds\n17      13                     Google/Alphabet\n2       13                              Amazon\n0       13                               Apple",
                        "text/html": "<div>\n<style scoped>\n    .dataframe tbody tr th:only-of-type {\n        vertical-align: middle;\n    }\n\n    .dataframe tbody tr th {\n        vertical-align: top;\n    }\n\n    .dataframe thead th {\n        text-align: right;\n    }\n</style>\n<table border=\"1\" class=\"dataframe\">\n  <thead>\n    <tr style=\"text-align: right;\">\n      <th></th>\n      <th>labels</th>\n      <th>companies</th>\n    </tr>\n  </thead>\n  <tbody>\n    <tr>\n      <th>53</th>\n      <td>0</td>\n      <td>Valero Energy</td>\n    </tr>\n    <tr>\n      <th>57</th>\n      <td>0</td>\n      <td>Exxon</td>\n    </tr>\n    <tr>\n      <th>44</th>\n      <td>0</td>\n      <td>Schlumberger</td>\n    </tr>\n    <tr>\n      <th>10</th>\n      <td>0</td>\n      <td>ConocoPhillips</td>\n    </tr>\n    <tr>\n      <th>12</th>\n      <td>0</td>\n      <td>Chevron</td>\n    </tr>\n    <tr>\n      <th>35</th>\n      <td>1</td>\n      <td>Navistar</td>\n    </tr>\n    <tr>\n      <th>8</th>\n      <td>1</td>\n      <td>Caterpillar</td>\n    </tr>\n    <tr>\n      <th>13</th>\n      <td>1</td>\n      <td>DuPont de Nemours</td>\n    </tr>\n    <tr>\n      <th>14</th>\n      <td>2</td>\n      <td>Dell</td>\n    </tr>\n    <tr>\n      <th>33</th>\n      <td>2</td>\n      <td>Microsoft</td>\n    </tr>\n    <tr>\n      <th>22</th>\n      <td>2</td>\n      <td>HP</td>\n    </tr>\n    <tr>\n      <th>11</th>\n      <td>2</td>\n      <td>Cisco</td>\n    </tr>\n    <tr>\n      <th>52</th>\n      <td>3</td>\n      <td>Unilever</td>\n    </tr>\n    <tr>\n      <th>49</th>\n      <td>3</td>\n      <td>Total</td>\n    </tr>\n    <tr>\n      <th>46</th>\n      <td>3</td>\n      <td>Sanofi-Aventis</td>\n    </tr>\n    <tr>\n      <th>43</th>\n      <td>3</td>\n      <td>SAP</td>\n    </tr>\n    <tr>\n      <th>39</th>\n      <td>3</td>\n      <td>Pfizer</td>\n    </tr>\n    <tr>\n      <th>37</th>\n      <td>3</td>\n      <td>Novartis</td>\n    </tr>\n    <tr>\n      <th>19</th>\n      <td>3</td>\n      <td>GlaxoSmithKline</td>\n    </tr>\n    <tr>\n      <th>42</th>\n      <td>3</td>\n      <td>Royal Dutch Shell</td>\n    </tr>\n    <tr>\n      <th>6</th>\n      <td>3</td>\n      <td>British American Tobacco</td>\n    </tr>\n    <tr>\n      <th>1</th>\n      <td>4</td>\n      <td>AIG</td>\n    </tr>\n    <tr>\n      <th>26</th>\n      <td>4</td>\n      <td>JPMorgan Chase</td>\n    </tr>\n    <tr>\n      <th>5</th>\n      <td>4</td>\n      <td>Bank of America</td>\n    </tr>\n    <tr>\n      <th>55</th>\n      <td>4</td>\n      <td>Wells Fargo</td>\n    </tr>\n    <tr>\n      <th>18</th>\n      <td>4</td>\n      <td>Goldman Sachs</td>\n    </tr>\n    <tr>\n      <th>29</th>\n      <td>5</td>\n      <td>Lookheed Martin</td>\n    </tr>\n    <tr>\n      <th>54</th>\n      <td>5</td>\n      <td>Walgreen</td>\n    </tr>\n    <tr>\n      <th>4</th>\n      <td>5</td>\n      <td>Boeing</td>\n    </tr>\n    <tr>\n      <th>36</th>\n      <td>5</td>\n      <td>Northrop Grumman</td>\n    </tr>\n    <tr>\n      <th>3</th>\n      <td>6</td>\n      <td>American express</td>\n    </tr>\n    <tr>\n      <th>32</th>\n      <td>6</td>\n      <td>3M</td>\n    </tr>\n    <tr>\n      <th>20</th>\n      <td>6</td>\n      <td>Home Depot</td>\n    </tr>\n    <tr>\n      <th>47</th>\n      <td>6</td>\n      <td>Symantec</td>\n    </tr>\n    <tr>\n      <th>25</th>\n      <td>6</td>\n      <td>Johnson &amp; Johnson</td>\n    </tr>\n    <tr>\n      <th>16</th>\n      <td>6</td>\n      <td>General Electrics</td>\n    </tr>\n    <tr>\n      <th>23</th>\n      <td>6</td>\n      <td>IBM</td>\n    </tr>\n    <tr>\n      <th>30</th>\n      <td>6</td>\n      <td>MasterCard</td>\n    </tr>\n    <tr>\n      <th>56</th>\n      <td>7</td>\n      <td>Wal-Mart</td>\n    </tr>\n    <tr>\n      <th>27</th>\n      <td>7</td>\n      <td>Kimberly-Clark</td>\n    </tr>\n    <tr>\n      <th>41</th>\n      <td>7</td>\n      <td>Philip Morris</td>\n    </tr>\n    <tr>\n      <th>40</th>\n      <td>7</td>\n      <td>Procter Gamble</td>\n    </tr>\n    <tr>\n      <th>9</th>\n      <td>7</td>\n      <td>Colgate-Palmolive</td>\n    </tr>\n    <tr>\n      <th>59</th>\n      <td>8</td>\n      <td>Yahoo</td>\n    </tr>\n    <tr>\n      <th>50</th>\n      <td>9</td>\n      <td>Taiwan Semiconductor Manufacturing</td>\n    </tr>\n    <tr>\n      <th>51</th>\n      <td>9</td>\n      <td>Texas instruments</td>\n    </tr>\n    <tr>\n      <th>24</th>\n      <td>9</td>\n      <td>Intel</td>\n    </tr>\n    <tr>\n      <th>34</th>\n      <td>10</td>\n      <td>Mitsubishi</td>\n    </tr>\n    <tr>\n      <th>45</th>\n      <td>10</td>\n      <td>Sony</td>\n    </tr>\n    <tr>\n      <th>58</th>\n      <td>10</td>\n      <td>Xerox</td>\n    </tr>\n    <tr>\n      <th>48</th>\n      <td>10</td>\n      <td>Toyota</td>\n    </tr>\n    <tr>\n      <th>21</th>\n      <td>10</td>\n      <td>Honda</td>\n    </tr>\n    <tr>\n      <th>15</th>\n      <td>10</td>\n      <td>Ford</td>\n    </tr>\n    <tr>\n      <th>7</th>\n      <td>10</td>\n      <td>Canon</td>\n    </tr>\n    <tr>\n      <th>28</th>\n      <td>11</td>\n      <td>Coca Cola</td>\n    </tr>\n    <tr>\n      <th>38</th>\n      <td>11</td>\n      <td>Pepsi</td>\n    </tr>\n    <tr>\n      <th>31</th>\n      <td>12</td>\n      <td>McDonalds</td>\n    </tr>\n    <tr>\n      <th>17</th>\n      <td>13</td>\n      <td>Google/Alphabet</td>\n    </tr>\n    <tr>\n      <th>2</th>\n      <td>13</td>\n      <td>Amazon</td>\n    </tr>\n    <tr>\n      <th>0</th>\n      <td>13</td>\n      <td>Apple</td>\n    </tr>\n  </tbody>\n</table>\n</div>"
                    },
                    "metadata": {},
                    "execution_count": 7
                }
            ]
        },
        {
            "cell_type": "markdown",
            "source": [
                "**Great job!** Using k-means, you've discovered which companies stock prices move together on the stock exchange."
            ],
            "metadata": {}
        },
        {
            "cell_type": "code",
            "source": [],
            "execution_count": null,
            "metadata": {
                "collapsed": true
            },
            "outputs": []
        }
    ],
    "metadata": {
        "language_info": {
            "pygments_lexer": "ipython3",
            "codemirror_mode": {
                "name": "ipython",
                "version": 3
            },
            "version": "3.7.6-final",
            "name": "python",
            "mimetype": "text/x-python",
            "nbconvert_exporter": "python",
            "file_extension": ".py"
        },
        "kernelspec": {
            "name": "python3",
            "display_name": "Python 3",
            "language": "python"
        }
    },
    "nbformat": 4,
    "nbformat_minor": 2
}