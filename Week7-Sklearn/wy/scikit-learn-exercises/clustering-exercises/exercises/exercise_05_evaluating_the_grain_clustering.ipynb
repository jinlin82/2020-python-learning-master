{
    "cells": [
        {
            "source": [
                "# Exercise 5: Evaluating the grain clustering\n",
                "\n",
                "In the previous exercise, you observed from the inertia plot that 3 is a good number of clusters for the grain data.  In fact, the grain samples come from a mix of 3 different grain varieties: \"Kama\", \"Rosa\" and \"Canadian\".  In this exercise, cluster the grain samples into three clusters, and compare the clusters to the grain varieties using a cross-tabulation."
            ],
            "cell_type": "markdown",
            "metadata": {}
        },
        {
            "source": [
                "From the course _Transition to Data Science_. [Buy the entire course for just $10](https://www.udemy.com/transition-to-data-science-in-python/?couponCode=CLUSTER-NBS) for many more exercises and helpful video lectures."
            ],
            "cell_type": "markdown",
            "metadata": {}
        },
        {
            "source": [
                "**Step 1:** Load the dataset _(written for you)_.\n",
                "\n",
                "You have the array `samples` of grain samples, and a list `varieties` giving the grain variety for each sample."
            ],
            "cell_type": "markdown",
            "metadata": {}
        },
        {
            "execution_count": 1,
            "source": [
                "import pandas as pd\n",
                "\n",
                "seeds_df = pd.read_csv('../datasets/seeds.csv')\n",
                "\n",
                "# extract the grain varieties from the dataframe\n",
                "varieties = list(seeds_df['grain_variety'])\n",
                "del seeds_df['grain_variety']\n",
                "\n",
                "samples = seeds_df.values"
            ],
            "outputs": [],
            "cell_type": "code",
            "metadata": {
                "exercise": false,
                "collapsed": true
            }
        },
        {
            "source": [
                "**Step 2:** Import KMeans"
            ],
            "cell_type": "markdown",
            "metadata": {}
        },
        {
            "execution_count": 2,
            "source": [
                "from sklearn.cluster import KMeans"
            ],
            "outputs": [],
            "cell_type": "code",
            "metadata": {
                "collapsed": true
            }
        },
        {
            "source": [
                "**Step 3:** Create a `KMeans` model called `model` with `3` clusters.\n"
            ],
            "cell_type": "markdown",
            "metadata": {}
        },
        {
            "execution_count": 3,
            "source": [
                "model = KMeans(n_clusters=3)"
            ],
            "outputs": [],
            "cell_type": "code",
            "metadata": {
                "collapsed": true
            }
        },
        {
            "source": [
                "**Step 4:** Use the `.fit_predict()` method of `model` to fit it to `samples` and derive the cluster labels.\n",
                "\n",
                "Calling `.fit_predict()` is the same as calling `.fit()` and then calling `.predict()`."
            ],
            "cell_type": "markdown",
            "metadata": {}
        },
        {
            "execution_count": 5,
            "source": [
                "labels=model.fit_predict(samples)"
            ],
            "outputs": [],
            "cell_type": "code",
            "metadata": {
                "collapsed": true
            }
        },
        {
            "source": [
                "**Step 5:** Create a DataFrame `df` with two columns named `'labels'` and `'varieties'`, using `labels` and `varieties`, respectively, for the column values. _(This has been done for you.)_\n"
            ],
            "cell_type": "markdown",
            "metadata": {}
        },
        {
            "execution_count": 12,
            "source": [
                "d={'labels':labels,'varieties':varieties}\n",
                "df = pd.DataFrame(data=d)\n",
                "df"
            ],
            "outputs": [
                {
                    "output_type": "execute_result",
                    "data": {
                        "text/plain": "     labels       varieties\n0         0      Kama wheat\n1         0      Kama wheat\n2         0      Kama wheat\n3         0      Kama wheat\n4         0      Kama wheat\n..      ...             ...\n205       2  Canadian wheat\n206       2  Canadian wheat\n207       2  Canadian wheat\n208       2  Canadian wheat\n209       2  Canadian wheat\n\n[210 rows x 2 columns]",
                        "text/html": "<div>\n<style scoped>\n    .dataframe tbody tr th:only-of-type {\n        vertical-align: middle;\n    }\n\n    .dataframe tbody tr th {\n        vertical-align: top;\n    }\n\n    .dataframe thead th {\n        text-align: right;\n    }\n</style>\n<table border=\"1\" class=\"dataframe\">\n  <thead>\n    <tr style=\"text-align: right;\">\n      <th></th>\n      <th>labels</th>\n      <th>varieties</th>\n    </tr>\n  </thead>\n  <tbody>\n    <tr>\n      <th>0</th>\n      <td>0</td>\n      <td>Kama wheat</td>\n    </tr>\n    <tr>\n      <th>1</th>\n      <td>0</td>\n      <td>Kama wheat</td>\n    </tr>\n    <tr>\n      <th>2</th>\n      <td>0</td>\n      <td>Kama wheat</td>\n    </tr>\n    <tr>\n      <th>3</th>\n      <td>0</td>\n      <td>Kama wheat</td>\n    </tr>\n    <tr>\n      <th>4</th>\n      <td>0</td>\n      <td>Kama wheat</td>\n    </tr>\n    <tr>\n      <th>...</th>\n      <td>...</td>\n      <td>...</td>\n    </tr>\n    <tr>\n      <th>205</th>\n      <td>2</td>\n      <td>Canadian wheat</td>\n    </tr>\n    <tr>\n      <th>206</th>\n      <td>2</td>\n      <td>Canadian wheat</td>\n    </tr>\n    <tr>\n      <th>207</th>\n      <td>2</td>\n      <td>Canadian wheat</td>\n    </tr>\n    <tr>\n      <th>208</th>\n      <td>2</td>\n      <td>Canadian wheat</td>\n    </tr>\n    <tr>\n      <th>209</th>\n      <td>2</td>\n      <td>Canadian wheat</td>\n    </tr>\n  </tbody>\n</table>\n<p>210 rows × 2 columns</p>\n</div>"
                    },
                    "metadata": {},
                    "execution_count": 12
                }
            ],
            "cell_type": "code",
            "metadata": {
                "collapsed": true
            }
        },
        {
            "source": [
                "**Step 6:** Use the `pd.crosstab()` function on `df['labels']` and `df['varieties']` to count the number of times each grain variety coincides with each cluster label. Assign the result to `ct`."
            ],
            "cell_type": "markdown",
            "metadata": {}
        },
        {
            "execution_count": 15,
            "source": [
                "ct = pd.crosstab(df['labels'],df['varieties'])"
            ],
            "outputs": [],
            "cell_type": "code",
            "metadata": {
                "collapsed": true
            }
        },
        {
            "source": [
                "**Step 7:** Display `ct` by evaluating it - and inspect your cross-tabulation!  You'll see that your clustering is pretty good."
            ],
            "cell_type": "markdown",
            "metadata": {}
        },
        {
            "execution_count": 16,
            "source": [
                "ct"
            ],
            "outputs": [
                {
                    "output_type": "execute_result",
                    "data": {
                        "text/plain": "varieties  Canadian wheat  Kama wheat  Rosa wheat\nlabels                                           \n0                       2          60          10\n1                       0           1          60\n2                      68           9           0",
                        "text/html": "<div>\n<style scoped>\n    .dataframe tbody tr th:only-of-type {\n        vertical-align: middle;\n    }\n\n    .dataframe tbody tr th {\n        vertical-align: top;\n    }\n\n    .dataframe thead th {\n        text-align: right;\n    }\n</style>\n<table border=\"1\" class=\"dataframe\">\n  <thead>\n    <tr style=\"text-align: right;\">\n      <th>varieties</th>\n      <th>Canadian wheat</th>\n      <th>Kama wheat</th>\n      <th>Rosa wheat</th>\n    </tr>\n    <tr>\n      <th>labels</th>\n      <th></th>\n      <th></th>\n      <th></th>\n    </tr>\n  </thead>\n  <tbody>\n    <tr>\n      <th>0</th>\n      <td>2</td>\n      <td>60</td>\n      <td>10</td>\n    </tr>\n    <tr>\n      <th>1</th>\n      <td>0</td>\n      <td>1</td>\n      <td>60</td>\n    </tr>\n    <tr>\n      <th>2</th>\n      <td>68</td>\n      <td>9</td>\n      <td>0</td>\n    </tr>\n  </tbody>\n</table>\n</div>"
                    },
                    "metadata": {},
                    "execution_count": 16
                }
            ],
            "cell_type": "code",
            "metadata": {
                "collapsed": false
            }
        },
        {
            "cell_type": "code",
            "execution_count": null,
            "metadata": {},
            "outputs": [],
            "source": []
        }
    ],
    "metadata": {
        "language_info": {
            "nbconvert_exporter": "python",
            "name": "python",
            "file_extension": ".py",
            "pygments_lexer": "ipython3",
            "version": "3.7.6-final",
            "mimetype": "text/x-python",
            "codemirror_mode": {
                "name": "ipython",
                "version": 3
            }
        },
        "kernelspec": {
            "name": "python3",
            "display_name": "Python 3",
            "language": "python"
        }
    },
    "nbformat": 4,
    "nbformat_minor": 2
}