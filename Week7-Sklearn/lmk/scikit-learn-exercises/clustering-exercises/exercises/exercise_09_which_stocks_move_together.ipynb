{
    "cells": [
        {
            "cell_type": "markdown",
            "source": [
                "# Exercise 9: Which stocks move together?\n",
                "\n",
                "In the previous exercise, you clustered companies by their daily stock price movements.  So which company have stock prices that tend to change in the same way?  Now inspect the cluster labels from your clustering to find out."
            ],
            "metadata": {}
        },
        {
            "cell_type": "markdown",
            "source": [
                "From the course _Transition to Data Science_. [Buy the entire course for just $10](https://www.udemy.com/transition-to-data-science-in-python/?couponCode=CLUSTER-NBS) for many more exercises and helpful video lectures."
            ],
            "metadata": {}
        },
        {
            "cell_type": "markdown",
            "source": [
                "**Step 1:** Load the data _(written for you)_."
            ],
            "metadata": {}
        },
        {
            "cell_type": "code",
            "source": [
                "import pandas as pd\n",
                "\n",
                "fn = '../datasets/company-stock-movements-2010-2015-incl.csv'\n",
                "stocks_df = pd.read_csv(fn, index_col=0)"
            ],
            "execution_count": 1,
            "metadata": {
                "exercise": false,
                "collapsed": true
            },
            "outputs": []
        },
        {
            "cell_type": "markdown",
            "source": [
                "**Step 2:** Run your code from the previous exercise _(filled in for you)_."
            ],
            "metadata": {}
        },
        {
            "cell_type": "code",
            "source": [
                "companies = list(stocks_df.index)\n",
                "movements = stocks_df.values\n",
                "\n",
                "from sklearn.preprocessing import Normalizer\n",
                "from sklearn.cluster import KMeans\n",
                "from sklearn.pipeline import make_pipeline\n",
                "\n",
                "normalizer = Normalizer()\n",
                "kmeans = KMeans(n_clusters=14)\n",
                "pipeline = make_pipeline(normalizer, kmeans)\n",
                "pipeline.fit(movements)"
            ],
            "execution_count": 2,
            "metadata": {
                "exercise": false,
                "collapsed": false
            },
            "outputs": [
                {
                    "output_type": "execute_result",
                    "data": {
                        "text/plain": "Pipeline(steps=[('normalizer', Normalizer()),\n                ('kmeans', KMeans(n_clusters=14))])"
                    },
                    "metadata": {},
                    "execution_count": 2
                }
            ]
        },
        {
            "cell_type": "markdown",
            "source": [
                "**Step 3:** Use the `.predict()` method of the pipeline to predict the labels for `movements`."
            ],
            "metadata": {}
        },
        {
            "cell_type": "code",
            "source": [
                "labels=pipeline.predict(movements)"
            ],
            "execution_count": 3,
            "metadata": {
                "collapsed": true
            },
            "outputs": []
        },
        {
            "cell_type": "markdown",
            "source": [
                "**Step 4:** Align the cluster labels with the list of company names `companies` by creating a DataFrame `df` with `labels` and `companies` as columns."
            ],
            "metadata": {}
        },
        {
            "cell_type": "code",
            "source": [
                "df=pd.DataFrame({'labels':labels,'companies':companies})"
            ],
            "execution_count": 4,
            "metadata": {
                "collapsed": true
            },
            "outputs": []
        },
        {
            "cell_type": "markdown",
            "source": [
                "**Step 5:** Now display the DataFrame, sorted by cluster label.  To do this, use the `.sort_values()` method of `df` to sort the DataFrame by the `'labels'` column."
            ],
            "metadata": {}
        },
        {
            "cell_type": "code",
            "source": [
                "df.sort_values('labels')"
            ],
            "execution_count": 7,
            "metadata": {
                "collapsed": false
            },
            "outputs": [
                {
                    "output_type": "execute_result",
                    "data": {
                        "text/plain": "    labels                           companies\n45       0                                Sony\n21       0                               Honda\n7        0                               Canon\n34       0                          Mitsubishi\n30       0                          MasterCard\n48       0                              Toyota\n5        1                     Bank of America\n3        1                    American express\n18       1                       Goldman Sachs\n58       1                               Xerox\n26       1                      JPMorgan Chase\n20       1                          Home Depot\n55       1                         Wells Fargo\n16       1                   General Electrics\n54       2                            Walgreen\n25       2                   Johnson & Johnson\n39       2                              Pfizer\n0        3                               Apple\n31       4                           McDonalds\n19       4                     GlaxoSmithKline\n43       4                                 SAP\n42       4                   Royal Dutch Shell\n46       4                      Sanofi-Aventis\n37       4                            Novartis\n49       4                               Total\n52       4                            Unilever\n6        4            British American Tobacco\n47       5                            Symantec\n50       5  Taiwan Semiconductor Manufacturing\n33       5                           Microsoft\n22       5                                  HP\n51       5                   Texas instruments\n11       5                               Cisco\n24       5                               Intel\n14       5                                Dell\n17       6                     Google/Alphabet\n2        6                              Amazon\n32       7                                  3M\n10       7                      ConocoPhillips\n12       7                             Chevron\n57       7                               Exxon\n23       7                                 IBM\n44       7                        Schlumberger\n13       7                   DuPont de Nemours\n8        7                         Caterpillar\n53       7                       Valero Energy\n29       8                     Lookheed Martin\n36       8                    Northrop Grumman\n4        8                              Boeing\n40       9                      Procter Gamble\n38       9                               Pepsi\n28       9                           Coca Cola\n27       9                      Kimberly-Clark\n9        9                   Colgate-Palmolive\n41       9                       Philip Morris\n15      10                                Ford\n1       10                                 AIG\n59      11                               Yahoo\n35      12                            Navistar\n56      13                            Wal-Mart",
                        "text/html": "<div>\n<style scoped>\n    .dataframe tbody tr th:only-of-type {\n        vertical-align: middle;\n    }\n\n    .dataframe tbody tr th {\n        vertical-align: top;\n    }\n\n    .dataframe thead th {\n        text-align: right;\n    }\n</style>\n<table border=\"1\" class=\"dataframe\">\n  <thead>\n    <tr style=\"text-align: right;\">\n      <th></th>\n      <th>labels</th>\n      <th>companies</th>\n    </tr>\n  </thead>\n  <tbody>\n    <tr>\n      <td>45</td>\n      <td>0</td>\n      <td>Sony</td>\n    </tr>\n    <tr>\n      <td>21</td>\n      <td>0</td>\n      <td>Honda</td>\n    </tr>\n    <tr>\n      <td>7</td>\n      <td>0</td>\n      <td>Canon</td>\n    </tr>\n    <tr>\n      <td>34</td>\n      <td>0</td>\n      <td>Mitsubishi</td>\n    </tr>\n    <tr>\n      <td>30</td>\n      <td>0</td>\n      <td>MasterCard</td>\n    </tr>\n    <tr>\n      <td>48</td>\n      <td>0</td>\n      <td>Toyota</td>\n    </tr>\n    <tr>\n      <td>5</td>\n      <td>1</td>\n      <td>Bank of America</td>\n    </tr>\n    <tr>\n      <td>3</td>\n      <td>1</td>\n      <td>American express</td>\n    </tr>\n    <tr>\n      <td>18</td>\n      <td>1</td>\n      <td>Goldman Sachs</td>\n    </tr>\n    <tr>\n      <td>58</td>\n      <td>1</td>\n      <td>Xerox</td>\n    </tr>\n    <tr>\n      <td>26</td>\n      <td>1</td>\n      <td>JPMorgan Chase</td>\n    </tr>\n    <tr>\n      <td>20</td>\n      <td>1</td>\n      <td>Home Depot</td>\n    </tr>\n    <tr>\n      <td>55</td>\n      <td>1</td>\n      <td>Wells Fargo</td>\n    </tr>\n    <tr>\n      <td>16</td>\n      <td>1</td>\n      <td>General Electrics</td>\n    </tr>\n    <tr>\n      <td>54</td>\n      <td>2</td>\n      <td>Walgreen</td>\n    </tr>\n    <tr>\n      <td>25</td>\n      <td>2</td>\n      <td>Johnson &amp; Johnson</td>\n    </tr>\n    <tr>\n      <td>39</td>\n      <td>2</td>\n      <td>Pfizer</td>\n    </tr>\n    <tr>\n      <td>0</td>\n      <td>3</td>\n      <td>Apple</td>\n    </tr>\n    <tr>\n      <td>31</td>\n      <td>4</td>\n      <td>McDonalds</td>\n    </tr>\n    <tr>\n      <td>19</td>\n      <td>4</td>\n      <td>GlaxoSmithKline</td>\n    </tr>\n    <tr>\n      <td>43</td>\n      <td>4</td>\n      <td>SAP</td>\n    </tr>\n    <tr>\n      <td>42</td>\n      <td>4</td>\n      <td>Royal Dutch Shell</td>\n    </tr>\n    <tr>\n      <td>46</td>\n      <td>4</td>\n      <td>Sanofi-Aventis</td>\n    </tr>\n    <tr>\n      <td>37</td>\n      <td>4</td>\n      <td>Novartis</td>\n    </tr>\n    <tr>\n      <td>49</td>\n      <td>4</td>\n      <td>Total</td>\n    </tr>\n    <tr>\n      <td>52</td>\n      <td>4</td>\n      <td>Unilever</td>\n    </tr>\n    <tr>\n      <td>6</td>\n      <td>4</td>\n      <td>British American Tobacco</td>\n    </tr>\n    <tr>\n      <td>47</td>\n      <td>5</td>\n      <td>Symantec</td>\n    </tr>\n    <tr>\n      <td>50</td>\n      <td>5</td>\n      <td>Taiwan Semiconductor Manufacturing</td>\n    </tr>\n    <tr>\n      <td>33</td>\n      <td>5</td>\n      <td>Microsoft</td>\n    </tr>\n    <tr>\n      <td>22</td>\n      <td>5</td>\n      <td>HP</td>\n    </tr>\n    <tr>\n      <td>51</td>\n      <td>5</td>\n      <td>Texas instruments</td>\n    </tr>\n    <tr>\n      <td>11</td>\n      <td>5</td>\n      <td>Cisco</td>\n    </tr>\n    <tr>\n      <td>24</td>\n      <td>5</td>\n      <td>Intel</td>\n    </tr>\n    <tr>\n      <td>14</td>\n      <td>5</td>\n      <td>Dell</td>\n    </tr>\n    <tr>\n      <td>17</td>\n      <td>6</td>\n      <td>Google/Alphabet</td>\n    </tr>\n    <tr>\n      <td>2</td>\n      <td>6</td>\n      <td>Amazon</td>\n    </tr>\n    <tr>\n      <td>32</td>\n      <td>7</td>\n      <td>3M</td>\n    </tr>\n    <tr>\n      <td>10</td>\n      <td>7</td>\n      <td>ConocoPhillips</td>\n    </tr>\n    <tr>\n      <td>12</td>\n      <td>7</td>\n      <td>Chevron</td>\n    </tr>\n    <tr>\n      <td>57</td>\n      <td>7</td>\n      <td>Exxon</td>\n    </tr>\n    <tr>\n      <td>23</td>\n      <td>7</td>\n      <td>IBM</td>\n    </tr>\n    <tr>\n      <td>44</td>\n      <td>7</td>\n      <td>Schlumberger</td>\n    </tr>\n    <tr>\n      <td>13</td>\n      <td>7</td>\n      <td>DuPont de Nemours</td>\n    </tr>\n    <tr>\n      <td>8</td>\n      <td>7</td>\n      <td>Caterpillar</td>\n    </tr>\n    <tr>\n      <td>53</td>\n      <td>7</td>\n      <td>Valero Energy</td>\n    </tr>\n    <tr>\n      <td>29</td>\n      <td>8</td>\n      <td>Lookheed Martin</td>\n    </tr>\n    <tr>\n      <td>36</td>\n      <td>8</td>\n      <td>Northrop Grumman</td>\n    </tr>\n    <tr>\n      <td>4</td>\n      <td>8</td>\n      <td>Boeing</td>\n    </tr>\n    <tr>\n      <td>40</td>\n      <td>9</td>\n      <td>Procter Gamble</td>\n    </tr>\n    <tr>\n      <td>38</td>\n      <td>9</td>\n      <td>Pepsi</td>\n    </tr>\n    <tr>\n      <td>28</td>\n      <td>9</td>\n      <td>Coca Cola</td>\n    </tr>\n    <tr>\n      <td>27</td>\n      <td>9</td>\n      <td>Kimberly-Clark</td>\n    </tr>\n    <tr>\n      <td>9</td>\n      <td>9</td>\n      <td>Colgate-Palmolive</td>\n    </tr>\n    <tr>\n      <td>41</td>\n      <td>9</td>\n      <td>Philip Morris</td>\n    </tr>\n    <tr>\n      <td>15</td>\n      <td>10</td>\n      <td>Ford</td>\n    </tr>\n    <tr>\n      <td>1</td>\n      <td>10</td>\n      <td>AIG</td>\n    </tr>\n    <tr>\n      <td>59</td>\n      <td>11</td>\n      <td>Yahoo</td>\n    </tr>\n    <tr>\n      <td>35</td>\n      <td>12</td>\n      <td>Navistar</td>\n    </tr>\n    <tr>\n      <td>56</td>\n      <td>13</td>\n      <td>Wal-Mart</td>\n    </tr>\n  </tbody>\n</table>\n</div>"
                    },
                    "metadata": {},
                    "execution_count": 7
                }
            ]
        },
        {
            "cell_type": "markdown",
            "source": [
                "**Great job!** Using k-means, you've discovered which companies stock prices move together on the stock exchange."
            ],
            "metadata": {}
        }
    ],
    "metadata": {
        "language_info": {
            "pygments_lexer": "ipython3",
            "codemirror_mode": {
                "name": "ipython",
                "version": 3
            },
            "version": "3.7.4-final",
            "name": "python",
            "mimetype": "text/x-python",
            "nbconvert_exporter": "python",
            "file_extension": ".py"
        },
        "kernelspec": {
            "name": "python3",
            "display_name": "Python 3",
            "language": "python"
        }
    },
    "nbformat": 4,
    "nbformat_minor": 2
}