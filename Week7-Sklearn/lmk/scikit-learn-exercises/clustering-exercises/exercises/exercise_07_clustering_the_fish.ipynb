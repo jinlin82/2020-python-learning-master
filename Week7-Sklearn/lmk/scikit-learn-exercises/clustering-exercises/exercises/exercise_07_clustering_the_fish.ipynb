{
    "cells": [
        {
            "source": [
                "# Exercise 7: Clustering the fish data\n",
                "\n",
                "Now use your standardization and clustering pipeline from the previous exercise to cluster the fish by their measurements, and then create a cross-tabulation to compare the cluster labels with the fish species."
            ],
            "cell_type": "markdown",
            "metadata": {}
        },
        {
            "cell_type": "markdown",
            "source": [
                "From the course _Transition to Data Science_. [Buy the entire course for just $10](https://www.udemy.com/transition-to-data-science-in-python/?couponCode=CLUSTER-NBS) for many more exercises and helpful video lectures."
            ],
            "metadata": {}
        },
        {
            "source": [
                "**Step 1:** Load the dataset, extracting the species of the fish as a list `species` _(done for you)_"
            ],
            "cell_type": "markdown",
            "metadata": {}
        },
        {
            "source": [
                "import pandas as pd\n",
                "\n",
                "df = pd.read_csv('../datasets/fish.csv')\n",
                "\n",
                "# remove the species from the DataFrame so only the measurements are left\n",
                "species = list(df['species'])\n",
                "del df['species']"
            ],
            "cell_type": "code",
            "metadata": {
                "collapsed": true,
                "exercise": false
            },
            "outputs": [],
            "execution_count": 1
        },
        {
            "source": [
                "**Step 2:** Build the pipeline as in the previous exercise _(filled in for you)._"
            ],
            "cell_type": "markdown",
            "metadata": {}
        },
        {
            "source": [
                "samples=df.values\n",
                "\n",
                "from sklearn.pipeline import make_pipeline\n",
                "from sklearn.preprocessing import StandardScaler\n",
                "from sklearn.cluster import KMeans\n",
                "scaler=StandardScaler()\n",
                "kmeans=KMeans(n_clusters=4)\n",
                "pipeline=make_pipeline(scaler,kmeans)"
            ],
            "cell_type": "code",
            "metadata": {
                "collapsed": true
            },
            "outputs": [],
            "execution_count": 2
        },
        {
            "source": [
                "**Step 3:** Fit the pipeline to the fish measurements `samples`."
            ],
            "cell_type": "markdown",
            "metadata": {}
        },
        {
            "source": [
                "pipeline.fit(samples)"
            ],
            "cell_type": "code",
            "metadata": {
                "collapsed": false
            },
            "outputs": [
                {
                    "output_type": "execute_result",
                    "data": {
                        "text/plain": "Pipeline(steps=[('standardscaler', StandardScaler()),\n                ('kmeans', KMeans(n_clusters=4))])"
                    },
                    "metadata": {},
                    "execution_count": 3
                }
            ],
            "execution_count": 3
        },
        {
            "source": [
                "**Step 4:** Obtain the cluster labels for `samples` by using the `.predict()` method of `pipeline`, assigning the result to `labels`."
            ],
            "cell_type": "markdown",
            "metadata": {}
        },
        {
            "source": [
                "labels=pipeline.predict(samples)"
            ],
            "cell_type": "code",
            "metadata": {
                "collapsed": true
            },
            "outputs": [],
            "execution_count": 5
        },
        {
            "source": [
                "**Step 5:** Using `pd.DataFrame()`, create a DataFrame `df` with two columns named `'labels'` and `'species'`, using `labels` and `species`, respectively, for the column values."
            ],
            "cell_type": "markdown",
            "metadata": {}
        },
        {
            "source": [
                "df=pd.DataFrame({'labels':labels,'species':species})"
            ],
            "cell_type": "code",
            "metadata": {
                "collapsed": true
            },
            "outputs": [],
            "execution_count": 6
        },
        {
            "source": [
                "**Step 6:** Using `pd.crosstab()`, create a cross-tabulation `ct` of `df['labels']` and `df['species']`."
            ],
            "cell_type": "markdown",
            "metadata": {}
        },
        {
            "source": [
                "ct=pd.crosstab(df['labels'],df['species'])"
            ],
            "cell_type": "code",
            "metadata": {
                "collapsed": true
            },
            "outputs": [],
            "execution_count": 7
        },
        {
            "source": [
                "**Step 7:** Display your cross-tabulation, and check out how good your clustering is!"
            ],
            "cell_type": "markdown",
            "metadata": {}
        },
        {
            "source": [
                "ct"
            ],
            "cell_type": "code",
            "metadata": {
                "collapsed": false
            },
            "outputs": [
                {
                    "output_type": "execute_result",
                    "data": {
                        "text/plain": "species  Bream  Pike  Roach  Smelt\nlabels                            \n0            0    17      0      0\n1           33     0      1      0\n2            0     0      0     13\n3            1     0     19      1",
                        "text/html": "<div>\n<style scoped>\n    .dataframe tbody tr th:only-of-type {\n        vertical-align: middle;\n    }\n\n    .dataframe tbody tr th {\n        vertical-align: top;\n    }\n\n    .dataframe thead th {\n        text-align: right;\n    }\n</style>\n<table border=\"1\" class=\"dataframe\">\n  <thead>\n    <tr style=\"text-align: right;\">\n      <th>species</th>\n      <th>Bream</th>\n      <th>Pike</th>\n      <th>Roach</th>\n      <th>Smelt</th>\n    </tr>\n    <tr>\n      <th>labels</th>\n      <th></th>\n      <th></th>\n      <th></th>\n      <th></th>\n    </tr>\n  </thead>\n  <tbody>\n    <tr>\n      <td>0</td>\n      <td>0</td>\n      <td>17</td>\n      <td>0</td>\n      <td>0</td>\n    </tr>\n    <tr>\n      <td>1</td>\n      <td>33</td>\n      <td>0</td>\n      <td>1</td>\n      <td>0</td>\n    </tr>\n    <tr>\n      <td>2</td>\n      <td>0</td>\n      <td>0</td>\n      <td>0</td>\n      <td>13</td>\n    </tr>\n    <tr>\n      <td>3</td>\n      <td>1</td>\n      <td>0</td>\n      <td>19</td>\n      <td>1</td>\n    </tr>\n  </tbody>\n</table>\n</div>"
                    },
                    "metadata": {},
                    "execution_count": 8
                }
            ],
            "execution_count": 8
        }
    ],
    "metadata": {
        "language_info": {
            "pygments_lexer": "ipython3",
            "mimetype": "text/x-python",
            "nbconvert_exporter": "python",
            "file_extension": ".py",
            "version": "3.7.4-final",
            "name": "python",
            "codemirror_mode": {
                "version": 3,
                "name": "ipython"
            }
        },
        "kernelspec": {
            "name": "python3",
            "display_name": "Python 3",
            "language": "python"
        }
    },
    "nbformat": 4,
    "nbformat_minor": 2
}