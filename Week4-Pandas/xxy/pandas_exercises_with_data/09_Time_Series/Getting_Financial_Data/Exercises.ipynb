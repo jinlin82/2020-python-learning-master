{
 "cells": [
  {
   "cell_type": "markdown",
   "metadata": {},
   "source": [
    "# Getting Financial Data - Google Finance"
   ]
  },
  {
   "cell_type": "markdown",
   "metadata": {},
   "source": [
    "### Introduction:\n",
    "\n",
    "This time you will get data from a website.\n",
    "\n",
    "\n",
    "### Step 1. Import the necessary libraries"
   ]
  },
  {
   "cell_type": "code",
   "execution_count": 1,
   "metadata": {
    "collapsed": false
   },
   "outputs": [],
   "source": [
    "import pandas as pd\n",
    "import numpy as np\n",
    "import matplotlib.pyplot as plt\n",
    "import seaborn as sns\n",
    "import datetime as dt\n",
    "import pandas_datareader.data as web"
   ]
  },
  {
   "cell_type": "markdown",
   "metadata": {},
   "source": [
    "### Step 2. Create your time range (start and end variables). The start date should be 01/01/2015 and the end should today (whatever your today is)"
   ]
  },
  {
   "cell_type": "code",
   "execution_count": 2,
   "metadata": {
    "collapsed": false
   },
   "outputs": [
    {
     "output_type": "execute_result",
     "data": {
      "text/plain": "datetime.datetime(2015, 1, 1, 0, 0)"
     },
     "metadata": {},
     "execution_count": 2
    }
   ],
   "source": [
    "start=dt.datetime(2015,1,1)\n",
    "end=dt.datetime.today()\n",
    "start\n",
    "end\n"
   ]
  },
  {
   "cell_type": "markdown",
   "metadata": {},
   "source": [
    "### Step 3. Select the Apple, Tesla, Twitter, IBM, LinkedIn stocks symbols and assign them to a variable called stocks"
   ]
  },
  {
   "cell_type": "code",
   "execution_count": 3,
   "metadata": {
    "collapsed": false
   },
   "outputs": [],
   "source": [
    "stocks = ['AAPL','TSLA','TWTR','IBM','LNKD']"
   ]
  },
  {
   "cell_type": "markdown",
   "metadata": {},
   "source": [
    "### Step 4. Read the data from google, assign to df and print it"
   ]
  },
  {
   "cell_type": "code",
   "execution_count": 4,
   "metadata": {
    "collapsed": false
   },
   "outputs": [
    {
     "output_type": "execute_result",
     "data": {
      "text/plain": "Attributes   Adj Close                                               Close  \\\nSymbols           AAPL        TSLA       TWTR         IBM LNKD        AAPL   \nDate                                                                         \n2014-12-31  100.905785  222.410004  35.869999  126.256348  NaN  110.379997   \n2015-01-02   99.945885  219.309998  36.560001  127.531136  NaN  109.330002   \n2015-01-05   97.130241  210.089996  36.380001  125.524490  NaN  106.250000   \n2015-01-06   97.139420  211.279999  38.759998  122.817429  NaN  106.260002   \n2015-01-07   98.501518  210.949997  37.279999  122.014748  NaN  107.750000   \n\nAttributes                                          ...        Open  \\\nSymbols           TSLA       TWTR         IBM LNKD  ...        AAPL   \nDate                                                ...               \n2014-12-31  222.410004  35.869999  160.440002  NaN  ...  112.820000   \n2015-01-02  219.309998  36.560001  162.059998  NaN  ...  111.389999   \n2015-01-05  210.089996  36.380001  159.509995  NaN  ...  108.290001   \n2015-01-06  211.279999  38.759998  156.070007  NaN  ...  106.540001   \n2015-01-07  210.949997  37.279999  155.050003  NaN  ...  107.199997   \n\nAttributes                                              Volume             \\\nSymbols           TSLA       TWTR         IBM LNKD        AAPL       TSLA   \nDate                                                                        \n2014-12-31  223.089996  35.889999  160.410004  NaN  41403400.0  2297500.0   \n2015-01-02  222.869995  36.230000  161.309998  NaN  53204600.0  4764400.0   \n2015-01-05  214.550003  36.259998  161.270004  NaN  64285500.0  5368500.0   \n2015-01-06  210.059998  36.270000  159.669998  NaN  65797100.0  6261900.0   \n2015-01-07  213.350006  39.099998  157.199997  NaN  40105900.0  2968400.0   \n\nAttributes                              \nSymbols           TWTR        IBM LNKD  \nDate                                    \n2014-12-31  17629400.0  4011900.0  NaN  \n2015-01-02  12062500.0  5525500.0  NaN  \n2015-01-05  15062700.0  4880400.0  NaN  \n2015-01-06  33050800.0  6146700.0  NaN  \n2015-01-07  22675700.0  4701800.0  NaN  \n\n[5 rows x 30 columns]",
      "text/html": "<div>\n<style scoped>\n    .dataframe tbody tr th:only-of-type {\n        vertical-align: middle;\n    }\n\n    .dataframe tbody tr th {\n        vertical-align: top;\n    }\n\n    .dataframe thead tr th {\n        text-align: left;\n    }\n\n    .dataframe thead tr:last-of-type th {\n        text-align: right;\n    }\n</style>\n<table border=\"1\" class=\"dataframe\">\n  <thead>\n    <tr>\n      <th>Attributes</th>\n      <th colspan=\"5\" halign=\"left\">Adj Close</th>\n      <th colspan=\"5\" halign=\"left\">Close</th>\n      <th>...</th>\n      <th colspan=\"5\" halign=\"left\">Open</th>\n      <th colspan=\"5\" halign=\"left\">Volume</th>\n    </tr>\n    <tr>\n      <th>Symbols</th>\n      <th>AAPL</th>\n      <th>TSLA</th>\n      <th>TWTR</th>\n      <th>IBM</th>\n      <th>LNKD</th>\n      <th>AAPL</th>\n      <th>TSLA</th>\n      <th>TWTR</th>\n      <th>IBM</th>\n      <th>LNKD</th>\n      <th>...</th>\n      <th>AAPL</th>\n      <th>TSLA</th>\n      <th>TWTR</th>\n      <th>IBM</th>\n      <th>LNKD</th>\n      <th>AAPL</th>\n      <th>TSLA</th>\n      <th>TWTR</th>\n      <th>IBM</th>\n      <th>LNKD</th>\n    </tr>\n    <tr>\n      <th>Date</th>\n      <th></th>\n      <th></th>\n      <th></th>\n      <th></th>\n      <th></th>\n      <th></th>\n      <th></th>\n      <th></th>\n      <th></th>\n      <th></th>\n      <th></th>\n      <th></th>\n      <th></th>\n      <th></th>\n      <th></th>\n      <th></th>\n      <th></th>\n      <th></th>\n      <th></th>\n      <th></th>\n      <th></th>\n    </tr>\n  </thead>\n  <tbody>\n    <tr>\n      <th>2014-12-31</th>\n      <td>100.905785</td>\n      <td>222.410004</td>\n      <td>35.869999</td>\n      <td>126.256348</td>\n      <td>NaN</td>\n      <td>110.379997</td>\n      <td>222.410004</td>\n      <td>35.869999</td>\n      <td>160.440002</td>\n      <td>NaN</td>\n      <td>...</td>\n      <td>112.820000</td>\n      <td>223.089996</td>\n      <td>35.889999</td>\n      <td>160.410004</td>\n      <td>NaN</td>\n      <td>41403400.0</td>\n      <td>2297500.0</td>\n      <td>17629400.0</td>\n      <td>4011900.0</td>\n      <td>NaN</td>\n    </tr>\n    <tr>\n      <th>2015-01-02</th>\n      <td>99.945885</td>\n      <td>219.309998</td>\n      <td>36.560001</td>\n      <td>127.531136</td>\n      <td>NaN</td>\n      <td>109.330002</td>\n      <td>219.309998</td>\n      <td>36.560001</td>\n      <td>162.059998</td>\n      <td>NaN</td>\n      <td>...</td>\n      <td>111.389999</td>\n      <td>222.869995</td>\n      <td>36.230000</td>\n      <td>161.309998</td>\n      <td>NaN</td>\n      <td>53204600.0</td>\n      <td>4764400.0</td>\n      <td>12062500.0</td>\n      <td>5525500.0</td>\n      <td>NaN</td>\n    </tr>\n    <tr>\n      <th>2015-01-05</th>\n      <td>97.130241</td>\n      <td>210.089996</td>\n      <td>36.380001</td>\n      <td>125.524490</td>\n      <td>NaN</td>\n      <td>106.250000</td>\n      <td>210.089996</td>\n      <td>36.380001</td>\n      <td>159.509995</td>\n      <td>NaN</td>\n      <td>...</td>\n      <td>108.290001</td>\n      <td>214.550003</td>\n      <td>36.259998</td>\n      <td>161.270004</td>\n      <td>NaN</td>\n      <td>64285500.0</td>\n      <td>5368500.0</td>\n      <td>15062700.0</td>\n      <td>4880400.0</td>\n      <td>NaN</td>\n    </tr>\n    <tr>\n      <th>2015-01-06</th>\n      <td>97.139420</td>\n      <td>211.279999</td>\n      <td>38.759998</td>\n      <td>122.817429</td>\n      <td>NaN</td>\n      <td>106.260002</td>\n      <td>211.279999</td>\n      <td>38.759998</td>\n      <td>156.070007</td>\n      <td>NaN</td>\n      <td>...</td>\n      <td>106.540001</td>\n      <td>210.059998</td>\n      <td>36.270000</td>\n      <td>159.669998</td>\n      <td>NaN</td>\n      <td>65797100.0</td>\n      <td>6261900.0</td>\n      <td>33050800.0</td>\n      <td>6146700.0</td>\n      <td>NaN</td>\n    </tr>\n    <tr>\n      <th>2015-01-07</th>\n      <td>98.501518</td>\n      <td>210.949997</td>\n      <td>37.279999</td>\n      <td>122.014748</td>\n      <td>NaN</td>\n      <td>107.750000</td>\n      <td>210.949997</td>\n      <td>37.279999</td>\n      <td>155.050003</td>\n      <td>NaN</td>\n      <td>...</td>\n      <td>107.199997</td>\n      <td>213.350006</td>\n      <td>39.099998</td>\n      <td>157.199997</td>\n      <td>NaN</td>\n      <td>40105900.0</td>\n      <td>2968400.0</td>\n      <td>22675700.0</td>\n      <td>4701800.0</td>\n      <td>NaN</td>\n    </tr>\n  </tbody>\n</table>\n<p>5 rows × 30 columns</p>\n</div>"
     },
     "metadata": {},
     "execution_count": 4
    }
   ],
   "source": [
    "##google?\n",
    "df = web.DataReader(stocks, 'yahoo', start, end)\n",
    "df.head()"
   ]
  },
  {
   "cell_type": "markdown",
   "metadata": {},
   "source": [
    "### Step 5.  What is the type of structure of df ?"
   ]
  },
  {
   "cell_type": "code",
   "execution_count": 5,
   "metadata": {
    "collapsed": false
   },
   "outputs": [
    {
     "output_type": "stream",
     "name": "stdout",
     "text": "<class 'pandas.core.frame.DataFrame'>\nDatetimeIndex: 1406 entries, 2014-12-31 to 2020-07-31\nData columns (total 30 columns):\n #   Column             Non-Null Count  Dtype  \n---  ------             --------------  -----  \n 0   (Adj Close, AAPL)  1406 non-null   float64\n 1   (Adj Close, TSLA)  1406 non-null   float64\n 2   (Adj Close, TWTR)  1406 non-null   float64\n 3   (Adj Close, IBM)   1406 non-null   float64\n 4   (Adj Close, LNKD)  0 non-null      float64\n 5   (Close, AAPL)      1406 non-null   float64\n 6   (Close, TSLA)      1406 non-null   float64\n 7   (Close, TWTR)      1406 non-null   float64\n 8   (Close, IBM)       1406 non-null   float64\n 9   (Close, LNKD)      0 non-null      float64\n 10  (High, AAPL)       1406 non-null   float64\n 11  (High, TSLA)       1406 non-null   float64\n 12  (High, TWTR)       1406 non-null   float64\n 13  (High, IBM)        1406 non-null   float64\n 14  (High, LNKD)       0 non-null      float64\n 15  (Low, AAPL)        1406 non-null   float64\n 16  (Low, TSLA)        1406 non-null   float64\n 17  (Low, TWTR)        1406 non-null   float64\n 18  (Low, IBM)         1406 non-null   float64\n 19  (Low, LNKD)        0 non-null      float64\n 20  (Open, AAPL)       1406 non-null   float64\n 21  (Open, TSLA)       1406 non-null   float64\n 22  (Open, TWTR)       1406 non-null   float64\n 23  (Open, IBM)        1406 non-null   float64\n 24  (Open, LNKD)       0 non-null      float64\n 25  (Volume, AAPL)     1406 non-null   float64\n 26  (Volume, TSLA)     1406 non-null   float64\n 27  (Volume, TWTR)     1406 non-null   float64\n 28  (Volume, IBM)      1406 non-null   float64\n 29  (Volume, LNKD)     0 non-null      float64\ndtypes: float64(30)\nmemory usage: 340.5 KB\n"
    }
   ],
   "source": [
    "df.info()"
   ]
  },
  {
   "cell_type": "markdown",
   "metadata": {},
   "source": [
    "### Step 6. Print all the Items axis values\n",
    "#### To learn more about the Panel structure go to [documentation](http://pandas.pydata.org/pandas-docs/stable/dsintro.html#panel) "
   ]
  },
  {
   "cell_type": "code",
   "execution_count": 6,
   "metadata": {
    "collapsed": false
   },
   "outputs": [
    {
     "output_type": "execute_result",
     "data": {
      "text/plain": "<bound method DataFrame.items of Attributes   Adj Close                                                Close  \\\nSymbols           AAPL         TSLA       TWTR         IBM LNKD        AAPL   \nDate                                                                          \n2014-12-31  100.905785   222.410004  35.869999  126.256348  NaN  110.379997   \n2015-01-02   99.945885   219.309998  36.560001  127.531136  NaN  109.330002   \n2015-01-05   97.130241   210.089996  36.380001  125.524490  NaN  106.250000   \n2015-01-06   97.139420   211.279999  38.759998  122.817429  NaN  106.260002   \n2015-01-07   98.501518   210.949997  37.279999  122.014748  NaN  107.750000   \n...                ...          ...        ...         ...  ...         ...   \n2020-07-27  379.239990  1539.599976  36.849998  126.209999  NaN  379.239990   \n2020-07-28  373.010010  1476.489990  36.610001  124.470001  NaN  373.010010   \n2020-07-29  380.160004  1499.109985  37.160000  125.320000  NaN  380.160004   \n2020-07-30  384.760010  1487.489990  36.720001  122.900002  NaN  384.760010   \n2020-07-31  411.045013  1477.449951  36.555000  121.550003  NaN  411.045013   \n\nAttributes                                           ...        Open  \\\nSymbols            TSLA       TWTR         IBM LNKD  ...        AAPL   \nDate                                                 ...               \n2014-12-31   222.410004  35.869999  160.440002  NaN  ...  112.820000   \n2015-01-02   219.309998  36.560001  162.059998  NaN  ...  111.389999   \n2015-01-05   210.089996  36.380001  159.509995  NaN  ...  108.290001   \n2015-01-06   211.279999  38.759998  156.070007  NaN  ...  106.540001   \n2015-01-07   210.949997  37.279999  155.050003  NaN  ...  107.199997   \n...                 ...        ...         ...  ...  ...         ...   \n2020-07-27  1539.599976  36.849998  126.209999  NaN  ...  374.839996   \n2020-07-28  1476.489990  36.610001  124.470001  NaN  ...  377.470001   \n2020-07-29  1499.109985  37.160000  125.320000  NaN  ...  375.000000   \n2020-07-30  1487.489990  36.720001  122.900002  NaN  ...  376.750000   \n2020-07-31  1477.449951  36.555000  121.550003  NaN  ...  411.535004   \n\nAttributes                                               Volume              \\\nSymbols            TSLA       TWTR         IBM LNKD        AAPL        TSLA   \nDate                                                                          \n2014-12-31   223.089996  35.889999  160.410004  NaN  41403400.0   2297500.0   \n2015-01-02   222.869995  36.230000  161.309998  NaN  53204600.0   4764400.0   \n2015-01-05   214.550003  36.259998  161.270004  NaN  64285500.0   5368500.0   \n2015-01-06   210.059998  36.270000  159.669998  NaN  65797100.0   6261900.0   \n2015-01-07   213.350006  39.099998  157.199997  NaN  40105900.0   2968400.0   \n...                 ...        ...         ...  ...         ...         ...   \n2020-07-27  1435.000000  37.580002  124.860001  NaN  30303500.0  16048700.0   \n2020-07-28  1504.000000  36.450001  125.820000  NaN  25906400.0  15808700.0   \n2020-07-29  1501.000000  36.970001  124.559998  NaN  22582300.0   9426900.0   \n2020-07-30  1488.000000  36.730000  123.709999  NaN  38797600.0   7600200.0   \n2020-07-31  1515.000000  37.330002  122.709999  NaN  39176227.0   4916161.0   \n\nAttributes                              \nSymbols           TWTR        IBM LNKD  \nDate                                    \n2014-12-31  17629400.0  4011900.0  NaN  \n2015-01-02  12062500.0  5525500.0  NaN  \n2015-01-05  15062700.0  4880400.0  NaN  \n2015-01-06  33050800.0  6146700.0  NaN  \n2015-01-07  22675700.0  4701800.0  NaN  \n...                ...        ...  ...  \n2020-07-27  22911300.0  3733400.0  NaN  \n2020-07-28  13566800.0  4178200.0  NaN  \n2020-07-29  10675600.0  2832800.0  NaN  \n2020-07-30   9988600.0  3977500.0  NaN  \n2020-07-31   6133154.0  1807242.0  NaN  \n\n[1406 rows x 30 columns]>"
     },
     "metadata": {},
     "execution_count": 6
    }
   ],
   "source": [
    "df.items"
   ]
  },
  {
   "cell_type": "markdown",
   "metadata": {},
   "source": [
    "### Step 7. Good, now we know  the data avaiable. Create a dataFrame called vol, with the Volume values."
   ]
  },
  {
   "cell_type": "code",
   "execution_count": 7,
   "metadata": {
    "collapsed": false
   },
   "outputs": [
    {
     "output_type": "execute_result",
     "data": {
      "text/plain": "Symbols           AAPL        TSLA        TWTR        IBM  LNKD\nDate                                                           \n2014-12-31  41403400.0   2297500.0  17629400.0  4011900.0   NaN\n2015-01-02  53204600.0   4764400.0  12062500.0  5525500.0   NaN\n2015-01-05  64285500.0   5368500.0  15062700.0  4880400.0   NaN\n2015-01-06  65797100.0   6261900.0  33050800.0  6146700.0   NaN\n2015-01-07  40105900.0   2968400.0  22675700.0  4701800.0   NaN\n...                ...         ...         ...        ...   ...\n2020-07-27  30303500.0  16048700.0  22911300.0  3733400.0   NaN\n2020-07-28  25906400.0  15808700.0  13566800.0  4178200.0   NaN\n2020-07-29  22582300.0   9426900.0  10675600.0  2832800.0   NaN\n2020-07-30  38797600.0   7600200.0   9988600.0  3977500.0   NaN\n2020-07-31  39176227.0   4916161.0   6133154.0  1807242.0   NaN\n\n[1406 rows x 5 columns]",
      "text/html": "<div>\n<style scoped>\n    .dataframe tbody tr th:only-of-type {\n        vertical-align: middle;\n    }\n\n    .dataframe tbody tr th {\n        vertical-align: top;\n    }\n\n    .dataframe thead th {\n        text-align: right;\n    }\n</style>\n<table border=\"1\" class=\"dataframe\">\n  <thead>\n    <tr style=\"text-align: right;\">\n      <th>Symbols</th>\n      <th>AAPL</th>\n      <th>TSLA</th>\n      <th>TWTR</th>\n      <th>IBM</th>\n      <th>LNKD</th>\n    </tr>\n    <tr>\n      <th>Date</th>\n      <th></th>\n      <th></th>\n      <th></th>\n      <th></th>\n      <th></th>\n    </tr>\n  </thead>\n  <tbody>\n    <tr>\n      <th>2014-12-31</th>\n      <td>41403400.0</td>\n      <td>2297500.0</td>\n      <td>17629400.0</td>\n      <td>4011900.0</td>\n      <td>NaN</td>\n    </tr>\n    <tr>\n      <th>2015-01-02</th>\n      <td>53204600.0</td>\n      <td>4764400.0</td>\n      <td>12062500.0</td>\n      <td>5525500.0</td>\n      <td>NaN</td>\n    </tr>\n    <tr>\n      <th>2015-01-05</th>\n      <td>64285500.0</td>\n      <td>5368500.0</td>\n      <td>15062700.0</td>\n      <td>4880400.0</td>\n      <td>NaN</td>\n    </tr>\n    <tr>\n      <th>2015-01-06</th>\n      <td>65797100.0</td>\n      <td>6261900.0</td>\n      <td>33050800.0</td>\n      <td>6146700.0</td>\n      <td>NaN</td>\n    </tr>\n    <tr>\n      <th>2015-01-07</th>\n      <td>40105900.0</td>\n      <td>2968400.0</td>\n      <td>22675700.0</td>\n      <td>4701800.0</td>\n      <td>NaN</td>\n    </tr>\n    <tr>\n      <th>...</th>\n      <td>...</td>\n      <td>...</td>\n      <td>...</td>\n      <td>...</td>\n      <td>...</td>\n    </tr>\n    <tr>\n      <th>2020-07-27</th>\n      <td>30303500.0</td>\n      <td>16048700.0</td>\n      <td>22911300.0</td>\n      <td>3733400.0</td>\n      <td>NaN</td>\n    </tr>\n    <tr>\n      <th>2020-07-28</th>\n      <td>25906400.0</td>\n      <td>15808700.0</td>\n      <td>13566800.0</td>\n      <td>4178200.0</td>\n      <td>NaN</td>\n    </tr>\n    <tr>\n      <th>2020-07-29</th>\n      <td>22582300.0</td>\n      <td>9426900.0</td>\n      <td>10675600.0</td>\n      <td>2832800.0</td>\n      <td>NaN</td>\n    </tr>\n    <tr>\n      <th>2020-07-30</th>\n      <td>38797600.0</td>\n      <td>7600200.0</td>\n      <td>9988600.0</td>\n      <td>3977500.0</td>\n      <td>NaN</td>\n    </tr>\n    <tr>\n      <th>2020-07-31</th>\n      <td>39176227.0</td>\n      <td>4916161.0</td>\n      <td>6133154.0</td>\n      <td>1807242.0</td>\n      <td>NaN</td>\n    </tr>\n  </tbody>\n</table>\n<p>1406 rows × 5 columns</p>\n</div>"
     },
     "metadata": {},
     "execution_count": 7
    }
   ],
   "source": [
    "vol=df['Volume']\n",
    "vol"
   ]
  },
  {
   "cell_type": "markdown",
   "metadata": {},
   "source": [
    "### Step 8. Aggregate the data of Volume to weekly\n",
    "#### Hint: Be careful to not sum data from the same week of 2015 and other years."
   ]
  },
  {
   "cell_type": "code",
   "execution_count": 8,
   "metadata": {
    "collapsed": false,
    "scrolled": true
   },
   "outputs": [
    {
     "output_type": "execute_result",
     "data": {
      "text/plain": "Symbols           AAPL        TSLA        TWTR        IBM  LNKD  week  year\nDate                                                                       \n2014-12-31  41403400.0   2297500.0  17629400.0  4011900.0   NaN     1  2014\n2015-01-02  53204600.0   4764400.0  12062500.0  5525500.0   NaN     1  2015\n2015-01-05  64285500.0   5368500.0  15062700.0  4880400.0   NaN     2  2015\n2015-01-06  65797100.0   6261900.0  33050800.0  6146700.0   NaN     2  2015\n2015-01-07  40105900.0   2968400.0  22675700.0  4701800.0   NaN     2  2015\n...                ...         ...         ...        ...   ...   ...   ...\n2020-07-27  30303500.0  16048700.0  22911300.0  3733400.0   NaN    31  2020\n2020-07-28  25906400.0  15808700.0  13566800.0  4178200.0   NaN    31  2020\n2020-07-29  22582300.0   9426900.0  10675600.0  2832800.0   NaN    31  2020\n2020-07-30  38797600.0   7600200.0   9988600.0  3977500.0   NaN    31  2020\n2020-07-31  39176227.0   4916161.0   6133154.0  1807242.0   NaN    31  2020\n\n[1406 rows x 7 columns]",
      "text/html": "<div>\n<style scoped>\n    .dataframe tbody tr th:only-of-type {\n        vertical-align: middle;\n    }\n\n    .dataframe tbody tr th {\n        vertical-align: top;\n    }\n\n    .dataframe thead th {\n        text-align: right;\n    }\n</style>\n<table border=\"1\" class=\"dataframe\">\n  <thead>\n    <tr style=\"text-align: right;\">\n      <th>Symbols</th>\n      <th>AAPL</th>\n      <th>TSLA</th>\n      <th>TWTR</th>\n      <th>IBM</th>\n      <th>LNKD</th>\n      <th>week</th>\n      <th>year</th>\n    </tr>\n    <tr>\n      <th>Date</th>\n      <th></th>\n      <th></th>\n      <th></th>\n      <th></th>\n      <th></th>\n      <th></th>\n      <th></th>\n    </tr>\n  </thead>\n  <tbody>\n    <tr>\n      <th>2014-12-31</th>\n      <td>41403400.0</td>\n      <td>2297500.0</td>\n      <td>17629400.0</td>\n      <td>4011900.0</td>\n      <td>NaN</td>\n      <td>1</td>\n      <td>2014</td>\n    </tr>\n    <tr>\n      <th>2015-01-02</th>\n      <td>53204600.0</td>\n      <td>4764400.0</td>\n      <td>12062500.0</td>\n      <td>5525500.0</td>\n      <td>NaN</td>\n      <td>1</td>\n      <td>2015</td>\n    </tr>\n    <tr>\n      <th>2015-01-05</th>\n      <td>64285500.0</td>\n      <td>5368500.0</td>\n      <td>15062700.0</td>\n      <td>4880400.0</td>\n      <td>NaN</td>\n      <td>2</td>\n      <td>2015</td>\n    </tr>\n    <tr>\n      <th>2015-01-06</th>\n      <td>65797100.0</td>\n      <td>6261900.0</td>\n      <td>33050800.0</td>\n      <td>6146700.0</td>\n      <td>NaN</td>\n      <td>2</td>\n      <td>2015</td>\n    </tr>\n    <tr>\n      <th>2015-01-07</th>\n      <td>40105900.0</td>\n      <td>2968400.0</td>\n      <td>22675700.0</td>\n      <td>4701800.0</td>\n      <td>NaN</td>\n      <td>2</td>\n      <td>2015</td>\n    </tr>\n    <tr>\n      <th>...</th>\n      <td>...</td>\n      <td>...</td>\n      <td>...</td>\n      <td>...</td>\n      <td>...</td>\n      <td>...</td>\n      <td>...</td>\n    </tr>\n    <tr>\n      <th>2020-07-27</th>\n      <td>30303500.0</td>\n      <td>16048700.0</td>\n      <td>22911300.0</td>\n      <td>3733400.0</td>\n      <td>NaN</td>\n      <td>31</td>\n      <td>2020</td>\n    </tr>\n    <tr>\n      <th>2020-07-28</th>\n      <td>25906400.0</td>\n      <td>15808700.0</td>\n      <td>13566800.0</td>\n      <td>4178200.0</td>\n      <td>NaN</td>\n      <td>31</td>\n      <td>2020</td>\n    </tr>\n    <tr>\n      <th>2020-07-29</th>\n      <td>22582300.0</td>\n      <td>9426900.0</td>\n      <td>10675600.0</td>\n      <td>2832800.0</td>\n      <td>NaN</td>\n      <td>31</td>\n      <td>2020</td>\n    </tr>\n    <tr>\n      <th>2020-07-30</th>\n      <td>38797600.0</td>\n      <td>7600200.0</td>\n      <td>9988600.0</td>\n      <td>3977500.0</td>\n      <td>NaN</td>\n      <td>31</td>\n      <td>2020</td>\n    </tr>\n    <tr>\n      <th>2020-07-31</th>\n      <td>39176227.0</td>\n      <td>4916161.0</td>\n      <td>6133154.0</td>\n      <td>1807242.0</td>\n      <td>NaN</td>\n      <td>31</td>\n      <td>2020</td>\n    </tr>\n  </tbody>\n</table>\n<p>1406 rows × 7 columns</p>\n</div>"
     },
     "metadata": {},
     "execution_count": 8
    }
   ],
   "source": [
    "vol['week'] = vol.index.week\n",
    "vol['year'] = vol.index.year\n",
    "vol"
   ]
  },
  {
   "cell_type": "code",
   "execution_count": 9,
   "metadata": {},
   "outputs": [
    {
     "output_type": "execute_result",
     "data": {
      "text/plain": "Symbols           AAPL        TSLA        TWTR         IBM  LNKD\nweek year                                                       \n1    2014   41403400.0   2297500.0  17629400.0   4011900.0   0.0\n     2015   53204600.0   4764400.0  12062500.0   5525500.0   0.0\n     2016  343790200.0  20975400.0  89028400.0  25253600.0   0.0\n     2017  103845500.0  28576400.0  58748700.0  11943500.0   0.0\n     2018  136171900.0  29713500.0  76711500.0  31378900.0   0.0",
      "text/html": "<div>\n<style scoped>\n    .dataframe tbody tr th:only-of-type {\n        vertical-align: middle;\n    }\n\n    .dataframe tbody tr th {\n        vertical-align: top;\n    }\n\n    .dataframe thead th {\n        text-align: right;\n    }\n</style>\n<table border=\"1\" class=\"dataframe\">\n  <thead>\n    <tr style=\"text-align: right;\">\n      <th></th>\n      <th>Symbols</th>\n      <th>AAPL</th>\n      <th>TSLA</th>\n      <th>TWTR</th>\n      <th>IBM</th>\n      <th>LNKD</th>\n    </tr>\n    <tr>\n      <th>week</th>\n      <th>year</th>\n      <th></th>\n      <th></th>\n      <th></th>\n      <th></th>\n      <th></th>\n    </tr>\n  </thead>\n  <tbody>\n    <tr>\n      <th rowspan=\"5\" valign=\"top\">1</th>\n      <th>2014</th>\n      <td>41403400.0</td>\n      <td>2297500.0</td>\n      <td>17629400.0</td>\n      <td>4011900.0</td>\n      <td>0.0</td>\n    </tr>\n    <tr>\n      <th>2015</th>\n      <td>53204600.0</td>\n      <td>4764400.0</td>\n      <td>12062500.0</td>\n      <td>5525500.0</td>\n      <td>0.0</td>\n    </tr>\n    <tr>\n      <th>2016</th>\n      <td>343790200.0</td>\n      <td>20975400.0</td>\n      <td>89028400.0</td>\n      <td>25253600.0</td>\n      <td>0.0</td>\n    </tr>\n    <tr>\n      <th>2017</th>\n      <td>103845500.0</td>\n      <td>28576400.0</td>\n      <td>58748700.0</td>\n      <td>11943500.0</td>\n      <td>0.0</td>\n    </tr>\n    <tr>\n      <th>2018</th>\n      <td>136171900.0</td>\n      <td>29713500.0</td>\n      <td>76711500.0</td>\n      <td>31378900.0</td>\n      <td>0.0</td>\n    </tr>\n  </tbody>\n</table>\n</div>"
     },
     "metadata": {},
     "execution_count": 9
    }
   ],
   "source": [
    "a= vol.groupby(['week','year']).sum()\n",
    "a.head()"
   ]
  },
  {
   "cell_type": "markdown",
   "metadata": {},
   "source": [
    "### Step 9. Find all the volume traded in the year of 2015"
   ]
  },
  {
   "cell_type": "code",
   "execution_count": 10,
   "metadata": {
    "collapsed": false
   },
   "outputs": [
    {
     "output_type": "execute_result",
     "data": {
      "text/plain": "Symbols          AAPL          TSLA          TWTR           IBM  LNKD\nyear                                                                 \n2014     4.140340e+07  2.297500e+06  1.762940e+07  4.011900e+06   0.0\n2015     1.306605e+10  1.088218e+09  5.361489e+09  1.105583e+09   0.0\n2016     9.682478e+09  1.162362e+09  6.479294e+09  1.018606e+09   0.0\n2017     6.810776e+09  1.590031e+09  4.410744e+09  1.071166e+09   0.0\n2018     8.539036e+09  2.161639e+09  7.155865e+09  1.368561e+09   0.0\n2019     7.063803e+09  2.308078e+09  3.880756e+09  9.466952e+08   0.0\n2020     6.086741e+09  2.582495e+09  3.262246e+09  8.767304e+08   0.0",
      "text/html": "<div>\n<style scoped>\n    .dataframe tbody tr th:only-of-type {\n        vertical-align: middle;\n    }\n\n    .dataframe tbody tr th {\n        vertical-align: top;\n    }\n\n    .dataframe thead th {\n        text-align: right;\n    }\n</style>\n<table border=\"1\" class=\"dataframe\">\n  <thead>\n    <tr style=\"text-align: right;\">\n      <th>Symbols</th>\n      <th>AAPL</th>\n      <th>TSLA</th>\n      <th>TWTR</th>\n      <th>IBM</th>\n      <th>LNKD</th>\n    </tr>\n    <tr>\n      <th>year</th>\n      <th></th>\n      <th></th>\n      <th></th>\n      <th></th>\n      <th></th>\n    </tr>\n  </thead>\n  <tbody>\n    <tr>\n      <th>2014</th>\n      <td>4.140340e+07</td>\n      <td>2.297500e+06</td>\n      <td>1.762940e+07</td>\n      <td>4.011900e+06</td>\n      <td>0.0</td>\n    </tr>\n    <tr>\n      <th>2015</th>\n      <td>1.306605e+10</td>\n      <td>1.088218e+09</td>\n      <td>5.361489e+09</td>\n      <td>1.105583e+09</td>\n      <td>0.0</td>\n    </tr>\n    <tr>\n      <th>2016</th>\n      <td>9.682478e+09</td>\n      <td>1.162362e+09</td>\n      <td>6.479294e+09</td>\n      <td>1.018606e+09</td>\n      <td>0.0</td>\n    </tr>\n    <tr>\n      <th>2017</th>\n      <td>6.810776e+09</td>\n      <td>1.590031e+09</td>\n      <td>4.410744e+09</td>\n      <td>1.071166e+09</td>\n      <td>0.0</td>\n    </tr>\n    <tr>\n      <th>2018</th>\n      <td>8.539036e+09</td>\n      <td>2.161639e+09</td>\n      <td>7.155865e+09</td>\n      <td>1.368561e+09</td>\n      <td>0.0</td>\n    </tr>\n    <tr>\n      <th>2019</th>\n      <td>7.063803e+09</td>\n      <td>2.308078e+09</td>\n      <td>3.880756e+09</td>\n      <td>9.466952e+08</td>\n      <td>0.0</td>\n    </tr>\n    <tr>\n      <th>2020</th>\n      <td>6.086741e+09</td>\n      <td>2.582495e+09</td>\n      <td>3.262246e+09</td>\n      <td>8.767304e+08</td>\n      <td>0.0</td>\n    </tr>\n  </tbody>\n</table>\n</div>"
     },
     "metadata": {},
     "execution_count": 10
    }
   ],
   "source": [
    "del vol['week']\n",
    "vol['year'] = vol.index.year\n",
    "year = vol.groupby(['year']).sum()\n",
    "year\n"
   ]
  },
  {
   "cell_type": "markdown",
   "metadata": {},
   "source": [
    "### BONUS: Create your own question and answer it."
   ]
  },
  {
   "cell_type": "code",
   "execution_count": null,
   "metadata": {
    "collapsed": true
   },
   "outputs": [],
   "source": []
  }
 ],
 "metadata": {
  "kernelspec": {
   "display_name": "Python 3",
   "language": "python",
   "name": "python3"
  },
  "language_info": {
   "codemirror_mode": {
    "name": "ipython",
    "version": 2
   },
   "file_extension": ".py",
   "mimetype": "text/x-python",
   "name": "python",
   "nbconvert_exporter": "python",
   "pygments_lexer": "ipython2",
   "version": "3.7.6-final"
  }
 },
 "nbformat": 4,
 "nbformat_minor": 0
}