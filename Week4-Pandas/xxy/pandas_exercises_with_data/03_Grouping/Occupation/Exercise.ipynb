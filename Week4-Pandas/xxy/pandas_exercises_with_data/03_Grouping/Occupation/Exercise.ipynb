{
 "cells": [
  {
   "cell_type": "markdown",
   "metadata": {},
   "source": [
    "# Occupation"
   ]
  },
  {
   "cell_type": "markdown",
   "metadata": {},
   "source": [
    "### Introduction:\n",
    "\n",
    "Special thanks to: https://github.com/justmarkham for sharing the dataset and materials.\n",
    "\n",
    "### Step 1. Import the necessary libraries"
   ]
  },
  {
   "cell_type": "code",
   "execution_count": 2,
   "metadata": {
    "collapsed": false
   },
   "outputs": [],
   "source": [
    "import pandas as pd\n",
    "import numpy as np "
   ]
  },
  {
   "cell_type": "markdown",
   "metadata": {},
   "source": [
    "### Step 2. Import the dataset from this [address](https://raw.githubusercontent.com/justmarkham/DAT8/master/data/u.user). "
   ]
  },
  {
   "cell_type": "markdown",
   "metadata": {},
   "source": [
    "### Step 3. Assign it to a variable called users."
   ]
  },
  {
   "cell_type": "code",
   "execution_count": 31,
   "metadata": {
    "collapsed": false
   },
   "outputs": [
    {
     "output_type": "execute_result",
     "data": {
      "text/plain": "         age gender     occupation zip_code\nuser_id                                    \n1         24      M     technician    85711\n2         53      F          other    94043\n3         23      M         writer    32067\n4         24      M     technician    43537\n5         33      F          other    15213\n...      ...    ...            ...      ...\n939       26      F        student    33319\n940       32      M  administrator    02215\n941       20      M        student    97229\n942       48      F      librarian    78209\n943       22      M        student    77841\n\n[943 rows x 4 columns]",
      "text/html": "<div>\n<style scoped>\n    .dataframe tbody tr th:only-of-type {\n        vertical-align: middle;\n    }\n\n    .dataframe tbody tr th {\n        vertical-align: top;\n    }\n\n    .dataframe thead th {\n        text-align: right;\n    }\n</style>\n<table border=\"1\" class=\"dataframe\">\n  <thead>\n    <tr style=\"text-align: right;\">\n      <th></th>\n      <th>age</th>\n      <th>gender</th>\n      <th>occupation</th>\n      <th>zip_code</th>\n    </tr>\n    <tr>\n      <th>user_id</th>\n      <th></th>\n      <th></th>\n      <th></th>\n      <th></th>\n    </tr>\n  </thead>\n  <tbody>\n    <tr>\n      <th>1</th>\n      <td>24</td>\n      <td>M</td>\n      <td>technician</td>\n      <td>85711</td>\n    </tr>\n    <tr>\n      <th>2</th>\n      <td>53</td>\n      <td>F</td>\n      <td>other</td>\n      <td>94043</td>\n    </tr>\n    <tr>\n      <th>3</th>\n      <td>23</td>\n      <td>M</td>\n      <td>writer</td>\n      <td>32067</td>\n    </tr>\n    <tr>\n      <th>4</th>\n      <td>24</td>\n      <td>M</td>\n      <td>technician</td>\n      <td>43537</td>\n    </tr>\n    <tr>\n      <th>5</th>\n      <td>33</td>\n      <td>F</td>\n      <td>other</td>\n      <td>15213</td>\n    </tr>\n    <tr>\n      <th>...</th>\n      <td>...</td>\n      <td>...</td>\n      <td>...</td>\n      <td>...</td>\n    </tr>\n    <tr>\n      <th>939</th>\n      <td>26</td>\n      <td>F</td>\n      <td>student</td>\n      <td>33319</td>\n    </tr>\n    <tr>\n      <th>940</th>\n      <td>32</td>\n      <td>M</td>\n      <td>administrator</td>\n      <td>02215</td>\n    </tr>\n    <tr>\n      <th>941</th>\n      <td>20</td>\n      <td>M</td>\n      <td>student</td>\n      <td>97229</td>\n    </tr>\n    <tr>\n      <th>942</th>\n      <td>48</td>\n      <td>F</td>\n      <td>librarian</td>\n      <td>78209</td>\n    </tr>\n    <tr>\n      <th>943</th>\n      <td>22</td>\n      <td>M</td>\n      <td>student</td>\n      <td>77841</td>\n    </tr>\n  </tbody>\n</table>\n<p>943 rows × 4 columns</p>\n</div>"
     },
     "metadata": {},
     "execution_count": 31
    }
   ],
   "source": [
    "users=pd.read_table('https://raw.githubusercontent.com/justmarkham/DAT8/master/data/u.user',sep='|', index_col='user_id')\n",
    "users"
   ]
  },
  {
   "cell_type": "markdown",
   "metadata": {},
   "source": [
    "### Step 4. Discover what is the mean age per occupation"
   ]
  },
  {
   "cell_type": "code",
   "execution_count": 3,
   "metadata": {
    "collapsed": false
   },
   "outputs": [
    {
     "output_type": "execute_result",
     "data": {
      "text/plain": "occupation\nadministrator    38.746835\nartist           31.392857\ndoctor           43.571429\neducator         42.010526\nengineer         36.388060\nentertainment    29.222222\nexecutive        38.718750\nhealthcare       41.562500\nhomemaker        32.571429\nlawyer           36.750000\nlibrarian        40.000000\nmarketing        37.615385\nnone             26.555556\nother            34.523810\nprogrammer       33.121212\nretired          63.071429\nsalesman         35.666667\nscientist        35.548387\nstudent          22.081633\ntechnician       33.148148\nwriter           36.311111\nName: age, dtype: float64"
     },
     "metadata": {},
     "execution_count": 3
    }
   ],
   "source": [
    "users.groupby(['occupation'])['age'].mean()"
   ]
  },
  {
   "cell_type": "markdown",
   "metadata": {},
   "source": [
    "### Step 5. Discover the Male ratio per occupation and sort it from the most to the least"
   ]
  },
  {
   "cell_type": "code",
   "execution_count": 43,
   "metadata": {
    "collapsed": false
   },
   "outputs": [
    {
     "output_type": "execute_result",
     "data": {
      "text/plain": "occupation     gender\nadministrator  M         0.544304\n               F         0.455696\nartist         M         0.535714\n               F         0.464286\ndoctor         M         1.000000\neducator       M         0.726316\n               F         0.273684\nengineer       M         0.970149\n               F         0.029851\nentertainment  M         0.888889\n               F         0.111111\nexecutive      M         0.906250\n               F         0.093750\nhealthcare     F         0.687500\n               M         0.312500\nhomemaker      F         0.857143\n               M         0.142857\nlawyer         M         0.833333\n               F         0.166667\nlibrarian      F         0.568627\n               M         0.431373\nmarketing      M         0.615385\n               F         0.384615\nnone           M         0.555556\n               F         0.444444\nother          M         0.657143\n               F         0.342857\nprogrammer     M         0.909091\n               F         0.090909\nretired        M         0.928571\n               F         0.071429\nsalesman       M         0.750000\n               F         0.250000\nscientist      M         0.903226\n               F         0.096774\nstudent        M         0.693878\n               F         0.306122\ntechnician     M         0.962963\n               F         0.037037\nwriter         M         0.577778\n               F         0.422222\nName: gender, dtype: float64"
     },
     "metadata": {},
     "execution_count": 43
    }
   ],
   "source": [
    "\n",
    "a=users.groupby(['occupation'])['gender'].value_counts(normalize=True)\n",
    "\n",
    "a\n",
    "##users['gender']==['M']\n"
   ]
  },
  {
   "cell_type": "markdown",
   "metadata": {},
   "source": [
    "### Step 6. For each occupation, calculate the minimum and maximum ages"
   ]
  },
  {
   "cell_type": "code",
   "execution_count": 40,
   "metadata": {
    "collapsed": false
   },
   "outputs": [
    {
     "output_type": "execute_result",
     "data": {
      "text/plain": "               max  min\noccupation             \nadministrator   70   21\nartist          48   19\ndoctor          64   28\neducator        63   23\nengineer        70   22\nentertainment   50   15\nexecutive       69   22\nhealthcare      62   22\nhomemaker       50   20\nlawyer          53   21\nlibrarian       69   23\nmarketing       55   24\nnone            55   11\nother           64   13\nprogrammer      63   20\nretired         73   51\nsalesman        66   18\nscientist       55   23\nstudent         42    7\ntechnician      55   21\nwriter          60   18",
      "text/html": "<div>\n<style scoped>\n    .dataframe tbody tr th:only-of-type {\n        vertical-align: middle;\n    }\n\n    .dataframe tbody tr th {\n        vertical-align: top;\n    }\n\n    .dataframe thead th {\n        text-align: right;\n    }\n</style>\n<table border=\"1\" class=\"dataframe\">\n  <thead>\n    <tr style=\"text-align: right;\">\n      <th></th>\n      <th>max</th>\n      <th>min</th>\n    </tr>\n    <tr>\n      <th>occupation</th>\n      <th></th>\n      <th></th>\n    </tr>\n  </thead>\n  <tbody>\n    <tr>\n      <th>administrator</th>\n      <td>70</td>\n      <td>21</td>\n    </tr>\n    <tr>\n      <th>artist</th>\n      <td>48</td>\n      <td>19</td>\n    </tr>\n    <tr>\n      <th>doctor</th>\n      <td>64</td>\n      <td>28</td>\n    </tr>\n    <tr>\n      <th>educator</th>\n      <td>63</td>\n      <td>23</td>\n    </tr>\n    <tr>\n      <th>engineer</th>\n      <td>70</td>\n      <td>22</td>\n    </tr>\n    <tr>\n      <th>entertainment</th>\n      <td>50</td>\n      <td>15</td>\n    </tr>\n    <tr>\n      <th>executive</th>\n      <td>69</td>\n      <td>22</td>\n    </tr>\n    <tr>\n      <th>healthcare</th>\n      <td>62</td>\n      <td>22</td>\n    </tr>\n    <tr>\n      <th>homemaker</th>\n      <td>50</td>\n      <td>20</td>\n    </tr>\n    <tr>\n      <th>lawyer</th>\n      <td>53</td>\n      <td>21</td>\n    </tr>\n    <tr>\n      <th>librarian</th>\n      <td>69</td>\n      <td>23</td>\n    </tr>\n    <tr>\n      <th>marketing</th>\n      <td>55</td>\n      <td>24</td>\n    </tr>\n    <tr>\n      <th>none</th>\n      <td>55</td>\n      <td>11</td>\n    </tr>\n    <tr>\n      <th>other</th>\n      <td>64</td>\n      <td>13</td>\n    </tr>\n    <tr>\n      <th>programmer</th>\n      <td>63</td>\n      <td>20</td>\n    </tr>\n    <tr>\n      <th>retired</th>\n      <td>73</td>\n      <td>51</td>\n    </tr>\n    <tr>\n      <th>salesman</th>\n      <td>66</td>\n      <td>18</td>\n    </tr>\n    <tr>\n      <th>scientist</th>\n      <td>55</td>\n      <td>23</td>\n    </tr>\n    <tr>\n      <th>student</th>\n      <td>42</td>\n      <td>7</td>\n    </tr>\n    <tr>\n      <th>technician</th>\n      <td>55</td>\n      <td>21</td>\n    </tr>\n    <tr>\n      <th>writer</th>\n      <td>60</td>\n      <td>18</td>\n    </tr>\n  </tbody>\n</table>\n</div>"
     },
     "metadata": {},
     "execution_count": 40
    }
   ],
   "source": [
    "users.groupby('occupation').age.agg(['max','min'])"
   ]
  },
  {
   "cell_type": "markdown",
   "metadata": {},
   "source": [
    "### Step 7. For each combination of occupation and gender, calculate the mean age"
   ]
  },
  {
   "cell_type": "code",
   "execution_count": 22,
   "metadata": {
    "collapsed": false
   },
   "outputs": [
    {
     "output_type": "execute_result",
     "data": {
      "text/plain": "occupation     gender\nadministrator  F         40.638889\n               M         37.162791\nartist         F         30.307692\n               M         32.333333\ndoctor         M         43.571429\neducator       F         39.115385\n               M         43.101449\nengineer       F         29.500000\n               M         36.600000\nentertainment  F         31.000000\n               M         29.000000\nexecutive      F         44.000000\n               M         38.172414\nhealthcare     F         39.818182\n               M         45.400000\nhomemaker      F         34.166667\n               M         23.000000\nlawyer         F         39.500000\n               M         36.200000\nlibrarian      F         40.000000\n               M         40.000000\nmarketing      F         37.200000\n               M         37.875000\nnone           F         36.500000\n               M         18.600000\nother          F         35.472222\n               M         34.028986\nprogrammer     F         32.166667\n               M         33.216667\nretired        F         70.000000\n               M         62.538462\nsalesman       F         27.000000\n               M         38.555556\nscientist      F         28.333333\n               M         36.321429\nstudent        F         20.750000\n               M         22.669118\ntechnician     F         38.000000\n               M         32.961538\nwriter         F         37.631579\n               M         35.346154\nName: age, dtype: float64"
     },
     "metadata": {},
     "execution_count": 22
    }
   ],
   "source": [
    "users.groupby(['occupation','gender']).age.agg('mean')"
   ]
  },
  {
   "cell_type": "markdown",
   "metadata": {},
   "source": [
    "### Step 8.  For each occupation present the percentage of women and men"
   ]
  },
  {
   "cell_type": "code",
   "execution_count": 16,
   "metadata": {
    "collapsed": false
   },
   "outputs": [
    {
     "output_type": "execute_result",
     "data": {
      "text/plain": "gender                F         M\noccupation                       \nadministrator  0.038176  0.045599\nartist         0.013786  0.015907\ndoctor         0.000000  0.007423\neducator       0.027572  0.073171\nengineer       0.002121  0.068929\nentertainment  0.002121  0.016967\nexecutive      0.003181  0.030753\nhealthcare     0.011665  0.005302\nhomemaker      0.006363  0.001060\nlawyer         0.002121  0.010604\nlibrarian      0.030753  0.023330\nmarketing      0.010604  0.016967\nnone           0.004242  0.005302\nother          0.038176  0.073171\nprogrammer     0.006363  0.063627\nretired        0.001060  0.013786\nsalesman       0.003181  0.009544\nscientist      0.003181  0.029692\nstudent        0.063627  0.144221\ntechnician     0.001060  0.027572\nwriter         0.020148  0.027572",
      "text/html": "<div>\n<style scoped>\n    .dataframe tbody tr th:only-of-type {\n        vertical-align: middle;\n    }\n\n    .dataframe tbody tr th {\n        vertical-align: top;\n    }\n\n    .dataframe thead th {\n        text-align: right;\n    }\n</style>\n<table border=\"1\" class=\"dataframe\">\n  <thead>\n    <tr style=\"text-align: right;\">\n      <th>gender</th>\n      <th>F</th>\n      <th>M</th>\n    </tr>\n    <tr>\n      <th>occupation</th>\n      <th></th>\n      <th></th>\n    </tr>\n  </thead>\n  <tbody>\n    <tr>\n      <th>administrator</th>\n      <td>0.038176</td>\n      <td>0.045599</td>\n    </tr>\n    <tr>\n      <th>artist</th>\n      <td>0.013786</td>\n      <td>0.015907</td>\n    </tr>\n    <tr>\n      <th>doctor</th>\n      <td>0.000000</td>\n      <td>0.007423</td>\n    </tr>\n    <tr>\n      <th>educator</th>\n      <td>0.027572</td>\n      <td>0.073171</td>\n    </tr>\n    <tr>\n      <th>engineer</th>\n      <td>0.002121</td>\n      <td>0.068929</td>\n    </tr>\n    <tr>\n      <th>entertainment</th>\n      <td>0.002121</td>\n      <td>0.016967</td>\n    </tr>\n    <tr>\n      <th>executive</th>\n      <td>0.003181</td>\n      <td>0.030753</td>\n    </tr>\n    <tr>\n      <th>healthcare</th>\n      <td>0.011665</td>\n      <td>0.005302</td>\n    </tr>\n    <tr>\n      <th>homemaker</th>\n      <td>0.006363</td>\n      <td>0.001060</td>\n    </tr>\n    <tr>\n      <th>lawyer</th>\n      <td>0.002121</td>\n      <td>0.010604</td>\n    </tr>\n    <tr>\n      <th>librarian</th>\n      <td>0.030753</td>\n      <td>0.023330</td>\n    </tr>\n    <tr>\n      <th>marketing</th>\n      <td>0.010604</td>\n      <td>0.016967</td>\n    </tr>\n    <tr>\n      <th>none</th>\n      <td>0.004242</td>\n      <td>0.005302</td>\n    </tr>\n    <tr>\n      <th>other</th>\n      <td>0.038176</td>\n      <td>0.073171</td>\n    </tr>\n    <tr>\n      <th>programmer</th>\n      <td>0.006363</td>\n      <td>0.063627</td>\n    </tr>\n    <tr>\n      <th>retired</th>\n      <td>0.001060</td>\n      <td>0.013786</td>\n    </tr>\n    <tr>\n      <th>salesman</th>\n      <td>0.003181</td>\n      <td>0.009544</td>\n    </tr>\n    <tr>\n      <th>scientist</th>\n      <td>0.003181</td>\n      <td>0.029692</td>\n    </tr>\n    <tr>\n      <th>student</th>\n      <td>0.063627</td>\n      <td>0.144221</td>\n    </tr>\n    <tr>\n      <th>technician</th>\n      <td>0.001060</td>\n      <td>0.027572</td>\n    </tr>\n    <tr>\n      <th>writer</th>\n      <td>0.020148</td>\n      <td>0.027572</td>\n    </tr>\n  </tbody>\n</table>\n</div>"
     },
     "metadata": {},
     "execution_count": 16
    }
   ],
   "source": [
    "a=users.groupby(['occupation','gender']).agg({'gender':'count'})\n",
    "pd.crosstab(users['occupation'], users['gender'], normalize=True)\n",
    "###比例？\n"
   ]
  },
  {
   "cell_type": "code",
   "execution_count": null,
   "metadata": {},
   "outputs": [],
   "source": []
  }
 ],
 "metadata": {
  "kernelspec": {
   "display_name": "Python 3",
   "language": "python",
   "name": "python3"
  },
  "language_info": {
   "codemirror_mode": {
    "name": "ipython",
    "version": 2
   },
   "file_extension": ".py",
   "mimetype": "text/x-python",
   "name": "python",
   "nbconvert_exporter": "python",
   "pygments_lexer": "ipython2",
   "version": "3.7.6-final"
  }
 },
 "nbformat": 4,
 "nbformat_minor": 0
}