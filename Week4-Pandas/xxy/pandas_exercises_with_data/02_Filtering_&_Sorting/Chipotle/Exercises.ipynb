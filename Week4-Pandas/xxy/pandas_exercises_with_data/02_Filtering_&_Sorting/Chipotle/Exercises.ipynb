{
 "cells": [
  {
   "cell_type": "markdown",
   "metadata": {},
   "source": [
    "# Ex1 - Filtering and Sorting Data"
   ]
  },
  {
   "cell_type": "markdown",
   "metadata": {},
   "source": [
    "This time we are going to pull data directly from the internet.\n",
    "Special thanks to: https://github.com/justmarkham for sharing the dataset and materials.\n",
    "\n",
    "### Step 1. Import the necessary libraries"
   ]
  },
  {
   "cell_type": "code",
   "execution_count": 2,
   "metadata": {},
   "outputs": [],
   "source": [
    "import numpy as np\n",
    "import pandas as pd "
   ]
  },
  {
   "cell_type": "markdown",
   "metadata": {},
   "source": [
    "### Step 2. Import the dataset from this [address](https://raw.githubusercontent.com/justmarkham/DAT8/master/data/chipotle.tsv). "
   ]
  },
  {
   "cell_type": "markdown",
   "metadata": {},
   "source": [
    "### Step 3. Assign it to a variable called chipo."
   ]
  },
  {
   "cell_type": "code",
   "execution_count": 3,
   "metadata": {
    "collapsed": false
   },
   "outputs": [
    {
     "output_type": "execute_result",
     "data": {
      "text/plain": "   order_id  quantity                              item_name  \\\n0         1         1           Chips and Fresh Tomato Salsa   \n1         1         1                                   Izze   \n2         1         1                       Nantucket Nectar   \n3         1         1  Chips and Tomatillo-Green Chili Salsa   \n4         2         2                           Chicken Bowl   \n\n                                  choice_description item_price  \n0                                                NaN     $2.39   \n1                                       [Clementine]     $3.39   \n2                                            [Apple]     $3.39   \n3                                                NaN     $2.39   \n4  [Tomatillo-Red Chili Salsa (Hot), [Black Beans...    $16.98   ",
      "text/html": "<div>\n<style scoped>\n    .dataframe tbody tr th:only-of-type {\n        vertical-align: middle;\n    }\n\n    .dataframe tbody tr th {\n        vertical-align: top;\n    }\n\n    .dataframe thead th {\n        text-align: right;\n    }\n</style>\n<table border=\"1\" class=\"dataframe\">\n  <thead>\n    <tr style=\"text-align: right;\">\n      <th></th>\n      <th>order_id</th>\n      <th>quantity</th>\n      <th>item_name</th>\n      <th>choice_description</th>\n      <th>item_price</th>\n    </tr>\n  </thead>\n  <tbody>\n    <tr>\n      <th>0</th>\n      <td>1</td>\n      <td>1</td>\n      <td>Chips and Fresh Tomato Salsa</td>\n      <td>NaN</td>\n      <td>$2.39</td>\n    </tr>\n    <tr>\n      <th>1</th>\n      <td>1</td>\n      <td>1</td>\n      <td>Izze</td>\n      <td>[Clementine]</td>\n      <td>$3.39</td>\n    </tr>\n    <tr>\n      <th>2</th>\n      <td>1</td>\n      <td>1</td>\n      <td>Nantucket Nectar</td>\n      <td>[Apple]</td>\n      <td>$3.39</td>\n    </tr>\n    <tr>\n      <th>3</th>\n      <td>1</td>\n      <td>1</td>\n      <td>Chips and Tomatillo-Green Chili Salsa</td>\n      <td>NaN</td>\n      <td>$2.39</td>\n    </tr>\n    <tr>\n      <th>4</th>\n      <td>2</td>\n      <td>2</td>\n      <td>Chicken Bowl</td>\n      <td>[Tomatillo-Red Chili Salsa (Hot), [Black Beans...</td>\n      <td>$16.98</td>\n    </tr>\n  </tbody>\n</table>\n</div>"
     },
     "metadata": {},
     "execution_count": 3
    }
   ],
   "source": [
    "a='https://raw.githubusercontent.com/justmarkham/DAT8/master/data/chipotle.tsv'\n",
    "chipo=pd.read_csv(a,'\\t')\n",
    "chipo.head()"
   ]
  },
  {
   "cell_type": "markdown",
   "metadata": {},
   "source": [
    "### Step 4. How many products cost more than $10.00?"
   ]
  },
  {
   "cell_type": "code",
   "execution_count": 12,
   "metadata": {
    "collapsed": false
   },
   "outputs": [
    {
     "output_type": "stream",
     "name": "stdout",
     "text": "16.98\n10.98\n11.75\n11.25\n10.98\n11.75\n11.25\n11.75\n10.98\n10.98\n11.25\n11.75\n11.25\n10.98\n11.25\n11.75\n11.75\n11.75\n11.75\n11.25\n11.75\n10.98\n22.5\n11.75\n11.25\n11.25\n11.25\n11.25\n11.75\n11.48\n17.98\n17.5\n17.5\n11.25\n11.75\n10.98\n10.98\n11.48\n11.25\n11.75\n10.98\n11.48\n11.25\n11.48\n11.25\n10.98\n11.25\n11.25\n11.25\n11.25\n22.5\n11.75\n17.5\n11.25\n11.75\n11.75\n17.5\n10.98\n10.98\n11.75\n23.78\n17.5\n11.25\n11.25\n11.25\n11.75\n11.75\n11.25\n11.25\n17.5\n11.08\n11.25\n11.75\n11.75\n11.25\n11.25\n22.16\n17.5\n11.25\n11.25\n11.25\n11.75\n11.25\n11.25\n11.75\n11.75\n11.25\n11.25\n11.25\n11.75\n11.75\n11.25\n32.94\n11.25\n11.48\n17.5\n17.5\n10.98\n11.48\n11.48\n10.98\n11.25\n22.2\n11.75\n11.25\n11.25\n11.25\n11.25\n11.75\n11.25\n11.48\n11.25\n10.58\n11.25\n11.25\n11.25\n11.75\n11.25\n11.75\n11.25\n11.25\n11.75\n11.25\n23.5\n11.25\n11.25\n18.5\n11.25\n10.98\n22.16\n11.25\n11.75\n11.75\n11.75\n16.98\n11.75\n11.25\n10.98\n11.25\n22.5\n11.48\n11.75\n11.89\n23.78\n10.98\n11.75\n22.5\n11.25\n18.5\n11.48\n17.5\n11.75\n11.25\n10.98\n11.25\n11.75\n11.25\n11.25\n11.75\n11.25\n11.48\n11.25\n11.25\n11.75\n11.75\n11.25\n11.25\n11.25\n11.75\n11.25\n11.25\n11.89\n11.25\n11.75\n11.25\n11.25\n11.25\n11.25\n10.98\n10.98\n22.5\n10.98\n11.08\n11.08\n11.25\n11.25\n11.25\n16.98\n11.25\n11.48\n22.5\n11.75\n11.25\n11.25\n11.25\n11.25\n11.25\n11.25\n17.5\n11.75\n10.98\n11.75\n11.25\n11.75\n11.75\n17.98\n11.75\n11.25\n11.75\n11.25\n11.75\n11.75\n11.25\n11.25\n11.25\n11.25\n11.25\n17.5\n11.25\n11.25\n11.75\n11.25\n11.75\n11.25\n11.25\n10.98\n11.25\n11.75\n17.5\n11.25\n10.98\n11.75\n11.75\n11.48\n11.25\n11.75\n10.98\n11.48\n10.98\n10.98\n11.75\n11.48\n11.25\n11.75\n11.48\n11.75\n11.75\n10.58\n11.75\n11.25\n11.25\n17.5\n22.5\n11.75\n11.25\n11.25\n11.25\n11.75\n11.75\n11.89\n11.75\n11.25\n11.48\n11.48\n11.89\n10.58\n17.5\n11.48\n11.48\n11.25\n11.25\n11.25\n11.75\n11.25\n11.75\n11.75\n11.25\n11.25\n10.98\n11.25\n10.98\n17.5\n11.25\n11.25\n11.89\n11.75\n11.25\n11.48\n11.48\n11.25\n11.75\n11.25\n11.25\n35.0\n27.75\n11.8\n10.98\n17.98\n10.98\n11.48\n11.48\n11.25\n11.08\n11.08\n10.98\n11.25\n11.25\n11.75\n11.25\n11.89\n10.98\n11.48\n11.75\n11.89\n11.75\n11.75\n11.25\n11.75\n11.75\n11.25\n11.25\n11.75\n11.48\n10.98\n11.25\n11.25\n11.75\n11.25\n11.48\n11.48\n11.75\n11.75\n10.98\n11.25\n11.25\n11.25\n11.25\n11.25\n11.25\n11.25\n11.25\n22.5\n11.48\n17.5\n11.25\n11.75\n11.25\n11.25\n10.98\n11.48\n10.98\n11.75\n10.98\n11.25\n11.25\n10.98\n11.25\n11.89\n26.25\n11.75\n11.75\n11.25\n11.25\n11.25\n11.25\n11.75\n11.25\n11.25\n11.75\n11.75\n23.5\n11.89\n11.75\n17.5\n11.89\n11.25\n11.25\n11.25\n11.25\n10.98\n10.98\n11.25\n11.75\n11.75\n11.25\n11.25\n11.25\n11.75\n11.75\n11.75\n11.75\n11.08\n11.25\n17.5\n10.98\n11.25\n11.75\n11.25\n11.25\n11.75\n11.25\n11.25\n11.25\n11.25\n11.25\n11.25\n11.25\n11.25\n11.75\n11.25\n11.75\n11.25\n11.75\n21.96\n10.98\n11.48\n11.25\n11.25\n11.08\n11.75\n11.75\n11.25\n23.5\n11.75\n11.75\n10.98\n11.75\n10.98\n11.25\n11.25\n11.75\n11.25\n11.25\n11.25\n11.25\n11.89\n11.75\n11.75\n21.96\n17.5\n11.75\n10.98\n11.25\n11.25\n11.25\n11.25\n11.25\n10.98\n11.25\n11.75\n18.5\n11.75\n11.75\n22.5\n10.98\n11.25\n11.75\n11.25\n11.75\n10.98\n11.75\n11.25\n11.25\n11.25\n11.75\n10.98\n17.5\n11.25\n10.98\n11.25\n11.25\n11.25\n11.25\n11.25\n11.48\n11.48\n11.25\n11.75\n11.25\n11.25\n11.25\n11.75\n11.75\n10.98\n10.98\n11.75\n17.5\n11.75\n10.98\n17.5\n11.75\n11.25\n17.5\n11.25\n11.75\n11.75\n21.96\n11.25\n10.98\n11.75\n11.75\n17.5\n11.25\n11.25\n11.25\n11.75\n11.25\n11.25\n11.25\n10.98\n10.98\n11.75\n10.98\n11.25\n11.25\n10.98\n10.98\n10.98\n11.75\n10.98\n11.25\n11.25\n11.25\n11.75\n11.75\n11.75\n11.75\n11.75\n11.25\n11.75\n11.75\n11.25\n11.25\n11.25\n11.75\n11.48\n11.48\n11.48\n11.25\n10.98\n11.75\n11.25\n10.98\n10.98\n11.75\n11.25\n11.25\n16.98\n11.75\n11.25\n10.98\n11.25\n11.75\n17.98\n11.75\n11.25\n11.75\n11.25\n11.75\n11.89\n11.75\n11.25\n11.25\n11.25\n11.25\n11.75\n22.5\n11.25\n11.25\n11.25\n11.75\n11.75\n11.75\n11.89\n11.89\n11.25\n11.75\n11.25\n11.75\n10.98\n11.25\n10.98\n11.75\n10.98\n10.98\n11.75\n11.25\n11.48\n11.25\n11.25\n10.98\n11.25\n11.25\n11.75\n11.25\n22.5\n11.25\n11.75\n21.96\n11.25\n11.25\n11.25\n11.48\n11.25\n11.25\n11.75\n11.25\n11.25\n11.25\n11.75\n11.25\n11.25\n11.25\n11.25\n10.98\n16.98\n18.5\n10.98\n17.5\n17.5\n11.25\n11.25\n11.25\n11.89\n10.98\n11.25\n11.25\n11.25\n10.98\n11.75\n11.25\n11.75\n11.75\n17.5\n11.25\n11.25\n11.75\n13.35\n11.25\n11.75\n11.25\n11.25\n11.25\n11.25\n11.25\n11.25\n10.98\n10.98\n11.75\n11.75\n11.25\n11.25\n11.25\n11.75\n11.25\n11.25\n11.75\n11.75\n11.75\n11.25\n11.75\n11.25\n11.25\n11.25\n11.89\n11.25\n11.25\n11.75\n11.75\n11.25\n10.98\n11.75\n11.48\n16.98\n10.98\n11.25\n11.75\n11.75\n11.25\n11.25\n10.98\n11.25\n11.89\n11.25\n11.75\n10.98\n11.75\n11.25\n11.25\n11.25\n11.25\n17.98\n11.75\n11.08\n10.98\n11.75\n11.75\n11.75\n11.25\n11.75\n11.25\n11.25\n11.25\n11.75\n11.75\n11.25\n10.58\n11.25\n11.75\n11.25\n11.25\n11.25\n11.75\n21.96\n11.25\n17.5\n22.96\n11.25\n11.89\n11.25\n17.5\n11.25\n11.25\n11.75\n11.25\n11.25\n11.75\n11.75\n11.25\n11.25\n11.75\n11.25\n11.25\n11.48\n11.75\n11.75\n11.75\n11.25\n11.25\n11.25\n11.25\n11.25\n11.25\n11.25\n11.25\n11.25\n11.25\n11.25\n16.98\n11.75\n11.25\n11.25\n11.48\n11.25\n11.48\n11.48\n11.25\n11.89\n11.25\n16.98\n18.5\n11.08\n11.75\n11.25\n11.25\n21.96\n17.5\n11.25\n11.25\n11.75\n11.48\n11.75\n11.25\n11.75\n11.75\n11.48\n11.25\n11.89\n11.75\n11.25\n11.25\n11.25\n11.25\n11.25\n11.25\n17.5\n11.75\n11.75\n11.25\n11.25\n11.25\n11.08\n11.25\n11.25\n11.48\n11.48\n11.25\n11.25\n11.25\n11.25\n11.25\n11.75\n11.25\n11.25\n21.96\n26.07\n11.75\n11.48\n11.89\n11.75\n18.5\n11.25\n11.25\n16.98\n11.75\n11.25\n11.25\n12.98\n11.75\n11.75\n11.25\n11.75\n10.98\n11.25\n11.25\n11.25\n11.25\n17.5\n11.25\n11.75\n11.25\n11.25\n11.25\n10.98\n11.75\n11.25\n11.25\n11.25\n11.25\n11.25\n11.25\n35.25\n11.25\n11.89\n10.98\n22.5\n21.96\n10.98\n11.75\n11.25\n10.58\n11.25\n11.25\n11.25\n11.25\n11.89\n11.75\n11.75\n11.75\n10.98\n10.98\n11.25\n10.98\n44.25\n10.5\n33.75\n35.0\n27.75\n11.25\n11.75\n10.98\n16.98\n16.98\n17.98\n16.98\n16.98\n11.48\n11.25\n26.25\n26.25\n11.25\n11.25\n11.75\n11.25\n11.25\n11.25\n11.25\n11.25\n21.96\n16.98\n10.98\n10.98\n17.5\n11.25\n11.75\n11.25\n11.25\n10.98\n11.25\n16.98\n11.25\n11.75\n11.75\n11.75\n11.25\n11.75\n11.75\n11.25\n11.25\n11.75\n10.98\n10.98\n11.25\n11.89\n11.25\n23.5\n11.75\n17.5\n11.25\n11.25\n11.75\n11.25\n11.25\n11.48\n10.98\n11.25\n11.75\n11.25\n11.25\n11.75\n11.75\n11.75\n16.38\n11.75\n11.25\n11.25\n11.75\n21.96\n11.25\n11.25\n11.75\n11.25\n18.5\n11.48\n11.25\n11.75\n11.25\n11.25\n13.52\n16.98\n16.98\n17.98\n16.98\n11.25\n11.25\n10.98\n11.25\n17.5\n11.25\n11.25\n11.25\n11.25\n11.25\n10.98\n18.5\n16.98\n11.25\n11.25\n11.25\n11.25\n11.25\n11.75\n11.25\n11.75\n11.75\n11.25\n11.75\n11.25\n11.25\n10.98\n11.25\n11.25\n18.5\n11.25\n11.75\n17.5\n11.75\n11.25\n11.25\n11.25\n11.25\n11.25\n11.25\n11.25\n11.75\n11.75\n11.75\n11.25\n11.75\n17.5\n11.25\n15.0\n11.25\n11.25\n11.25\n11.25\n11.25\n11.25\n11.25\n11.25\n11.25\n11.25\n11.75\n11.25\n11.75\n11.25\n11.25\n11.75\n18.5\n11.25\n11.89\n11.75\n11.25\n11.25\n11.25\n11.25\n11.75\n11.25\n11.25\n11.25\n11.25\n11.25\n11.75\n11.25\n11.75\n11.75\n11.25\n23.5\n18.5\n11.89\n11.25\n11.25\n11.25\n11.25\n11.75\n11.25\n11.25\n11.25\n11.25\n11.25\n11.25\n11.25\n11.75\n11.25\n11.25\n11.25\n18.5\n11.75\n11.25\n11.75\n11.25\n11.25\n11.25\n11.75\n11.75\n11.75\n11.75\n11.75\n11.25\n11.25\n11.25\n11.25\n22.5\n23.5\n11.75\n11.25\n11.75\n17.5\n11.75\n11.25\n11.75\n11.75\n11.25\n11.75\n11.25\n11.25\n11.25\n11.75\n11.25\n11.75\n11.75\n11.25\n11.25\n11.75\n11.25\n11.75\n17.8\n11.25\n11.25\n11.25\n11.75\n11.25\n11.49\n11.75\n11.25\n11.75\n11.25\n11.25\n11.25\n11.75\n11.25\n11.25\n17.5\n11.25\n11.25\n11.25\n11.25\n11.25\n11.25\n11.25\n11.75\n11.75\n11.75\n11.75\n11.25\n11.75\n11.25\n11.75\n11.75\n11.25\n"
    }
   ],
   "source": [
    "prices=[float(value[1 : -1]) for value in chipo.item_price]##如何分离出数值？？\n",
    "for i in prices:\n",
    "    if i>10:\n",
    "        print(i)\n",
    "    else:\n",
    "        continue"
   ]
  },
  {
   "cell_type": "markdown",
   "metadata": {},
   "source": [
    "### Step 5. What is the price of each item? \n",
    "###### print a data frame with only two columns item_name and item_price"
   ]
  },
  {
   "cell_type": "code",
   "execution_count": 60,
   "metadata": {
    "collapsed": false
   },
   "outputs": [
    {
     "output_type": "execute_result",
     "data": {
      "text/plain": "                                  item_name item_price\n0              Chips and Fresh Tomato Salsa     $2.39 \n1                                      Izze     $3.39 \n2                          Nantucket Nectar     $3.39 \n3     Chips and Tomatillo-Green Chili Salsa     $2.39 \n4                              Chicken Bowl    $16.98 \n...                                     ...        ...\n4617                          Steak Burrito    $11.75 \n4618                          Steak Burrito    $11.75 \n4619                     Chicken Salad Bowl    $11.25 \n4620                     Chicken Salad Bowl     $8.75 \n4621                     Chicken Salad Bowl     $8.75 \n\n[4622 rows x 2 columns]",
      "text/html": "<div>\n<style scoped>\n    .dataframe tbody tr th:only-of-type {\n        vertical-align: middle;\n    }\n\n    .dataframe tbody tr th {\n        vertical-align: top;\n    }\n\n    .dataframe thead th {\n        text-align: right;\n    }\n</style>\n<table border=\"1\" class=\"dataframe\">\n  <thead>\n    <tr style=\"text-align: right;\">\n      <th></th>\n      <th>item_name</th>\n      <th>item_price</th>\n    </tr>\n  </thead>\n  <tbody>\n    <tr>\n      <th>0</th>\n      <td>Chips and Fresh Tomato Salsa</td>\n      <td>$2.39</td>\n    </tr>\n    <tr>\n      <th>1</th>\n      <td>Izze</td>\n      <td>$3.39</td>\n    </tr>\n    <tr>\n      <th>2</th>\n      <td>Nantucket Nectar</td>\n      <td>$3.39</td>\n    </tr>\n    <tr>\n      <th>3</th>\n      <td>Chips and Tomatillo-Green Chili Salsa</td>\n      <td>$2.39</td>\n    </tr>\n    <tr>\n      <th>4</th>\n      <td>Chicken Bowl</td>\n      <td>$16.98</td>\n    </tr>\n    <tr>\n      <th>...</th>\n      <td>...</td>\n      <td>...</td>\n    </tr>\n    <tr>\n      <th>4617</th>\n      <td>Steak Burrito</td>\n      <td>$11.75</td>\n    </tr>\n    <tr>\n      <th>4618</th>\n      <td>Steak Burrito</td>\n      <td>$11.75</td>\n    </tr>\n    <tr>\n      <th>4619</th>\n      <td>Chicken Salad Bowl</td>\n      <td>$11.25</td>\n    </tr>\n    <tr>\n      <th>4620</th>\n      <td>Chicken Salad Bowl</td>\n      <td>$8.75</td>\n    </tr>\n    <tr>\n      <th>4621</th>\n      <td>Chicken Salad Bowl</td>\n      <td>$8.75</td>\n    </tr>\n  </tbody>\n</table>\n<p>4622 rows × 2 columns</p>\n</div>"
     },
     "metadata": {},
     "execution_count": 60
    }
   ],
   "source": [
    "chipo[['item_name','item_price']]"
   ]
  },
  {
   "cell_type": "markdown",
   "metadata": {},
   "source": [
    "### Step 6. Sort by the name of the item"
   ]
  },
  {
   "cell_type": "code",
   "execution_count": 34,
   "metadata": {
    "collapsed": false
   },
   "outputs": [
    {
     "output_type": "execute_result",
     "data": {
      "text/plain": "      order_id  quantity          item_name  \\\n3389      1360         2  6 Pack Soft Drink   \n341        148         1  6 Pack Soft Drink   \n1849       749         1  6 Pack Soft Drink   \n1860       754         1  6 Pack Soft Drink   \n2713      1076         1  6 Pack Soft Drink   \n...        ...       ...                ...   \n2384       948         1  Veggie Soft Tacos   \n781        322         1  Veggie Soft Tacos   \n2851      1132         1  Veggie Soft Tacos   \n1699       688         1  Veggie Soft Tacos   \n1395       567         1  Veggie Soft Tacos   \n\n                                     choice_description item_price  \n3389                                        [Diet Coke]    $12.98   \n341                                         [Diet Coke]     $6.49   \n1849                                             [Coke]     $6.49   \n1860                                        [Diet Coke]     $6.49   \n2713                                             [Coke]     $6.49   \n...                                                 ...        ...  \n2384  [Roasted Chili Corn Salsa, [Fajita Vegetables,...     $8.75   \n781   [Fresh Tomato Salsa, [Black Beans, Cheese, Sou...     $8.75   \n2851  [Roasted Chili Corn Salsa (Medium), [Black Bea...     $8.49   \n1699  [Fresh Tomato Salsa, [Fajita Vegetables, Rice,...    $11.25   \n1395  [Fresh Tomato Salsa (Mild), [Pinto Beans, Rice...     $8.49   \n\n[4622 rows x 5 columns]",
      "text/html": "<div>\n<style scoped>\n    .dataframe tbody tr th:only-of-type {\n        vertical-align: middle;\n    }\n\n    .dataframe tbody tr th {\n        vertical-align: top;\n    }\n\n    .dataframe thead th {\n        text-align: right;\n    }\n</style>\n<table border=\"1\" class=\"dataframe\">\n  <thead>\n    <tr style=\"text-align: right;\">\n      <th></th>\n      <th>order_id</th>\n      <th>quantity</th>\n      <th>item_name</th>\n      <th>choice_description</th>\n      <th>item_price</th>\n    </tr>\n  </thead>\n  <tbody>\n    <tr>\n      <th>3389</th>\n      <td>1360</td>\n      <td>2</td>\n      <td>6 Pack Soft Drink</td>\n      <td>[Diet Coke]</td>\n      <td>$12.98</td>\n    </tr>\n    <tr>\n      <th>341</th>\n      <td>148</td>\n      <td>1</td>\n      <td>6 Pack Soft Drink</td>\n      <td>[Diet Coke]</td>\n      <td>$6.49</td>\n    </tr>\n    <tr>\n      <th>1849</th>\n      <td>749</td>\n      <td>1</td>\n      <td>6 Pack Soft Drink</td>\n      <td>[Coke]</td>\n      <td>$6.49</td>\n    </tr>\n    <tr>\n      <th>1860</th>\n      <td>754</td>\n      <td>1</td>\n      <td>6 Pack Soft Drink</td>\n      <td>[Diet Coke]</td>\n      <td>$6.49</td>\n    </tr>\n    <tr>\n      <th>2713</th>\n      <td>1076</td>\n      <td>1</td>\n      <td>6 Pack Soft Drink</td>\n      <td>[Coke]</td>\n      <td>$6.49</td>\n    </tr>\n    <tr>\n      <th>...</th>\n      <td>...</td>\n      <td>...</td>\n      <td>...</td>\n      <td>...</td>\n      <td>...</td>\n    </tr>\n    <tr>\n      <th>2384</th>\n      <td>948</td>\n      <td>1</td>\n      <td>Veggie Soft Tacos</td>\n      <td>[Roasted Chili Corn Salsa, [Fajita Vegetables,...</td>\n      <td>$8.75</td>\n    </tr>\n    <tr>\n      <th>781</th>\n      <td>322</td>\n      <td>1</td>\n      <td>Veggie Soft Tacos</td>\n      <td>[Fresh Tomato Salsa, [Black Beans, Cheese, Sou...</td>\n      <td>$8.75</td>\n    </tr>\n    <tr>\n      <th>2851</th>\n      <td>1132</td>\n      <td>1</td>\n      <td>Veggie Soft Tacos</td>\n      <td>[Roasted Chili Corn Salsa (Medium), [Black Bea...</td>\n      <td>$8.49</td>\n    </tr>\n    <tr>\n      <th>1699</th>\n      <td>688</td>\n      <td>1</td>\n      <td>Veggie Soft Tacos</td>\n      <td>[Fresh Tomato Salsa, [Fajita Vegetables, Rice,...</td>\n      <td>$11.25</td>\n    </tr>\n    <tr>\n      <th>1395</th>\n      <td>567</td>\n      <td>1</td>\n      <td>Veggie Soft Tacos</td>\n      <td>[Fresh Tomato Salsa (Mild), [Pinto Beans, Rice...</td>\n      <td>$8.49</td>\n    </tr>\n  </tbody>\n</table>\n<p>4622 rows × 5 columns</p>\n</div>"
     },
     "metadata": {},
     "execution_count": 34
    }
   ],
   "source": [
    "chipo.sort_values(by='item_name')"
   ]
  },
  {
   "cell_type": "markdown",
   "metadata": {},
   "source": [
    "### Step 7. What was the quantity of the most expensive item ordered?"
   ]
  },
  {
   "cell_type": "code",
   "execution_count": 37,
   "metadata": {
    "collapsed": false
   },
   "outputs": [
    {
     "output_type": "execute_result",
     "data": {
      "text/plain": "4390    1\nName: quantity, dtype: int64"
     },
     "metadata": {},
     "execution_count": 37
    }
   ],
   "source": [
    "a=chipo.sort_values(by='item_price')\n",
    "a.tail(1).quantity"
   ]
  },
  {
   "cell_type": "markdown",
   "metadata": {},
   "source": [
    "### Step 8. How many times were a Veggie Salad Bowl ordered?"
   ]
  },
  {
   "cell_type": "code",
   "execution_count": 51,
   "metadata": {
    "collapsed": false
   },
   "outputs": [
    {
     "output_type": "execute_result",
     "data": {
      "text/plain": "18"
     },
     "metadata": {},
     "execution_count": 51
    }
   ],
   "source": [
    "len(chipo[chipo['item_name']=='Veggie Salad Bowl'])"
   ]
  },
  {
   "cell_type": "markdown",
   "metadata": {},
   "source": [
    "### Step 9. How many times people orderd more than one Canned Soda?"
   ]
  },
  {
   "cell_type": "code",
   "execution_count": 53,
   "metadata": {
    "collapsed": false
   },
   "outputs": [
    {
     "output_type": "execute_result",
     "data": {
      "text/plain": "20"
     },
     "metadata": {},
     "execution_count": 53
    }
   ],
   "source": [
    "len(chipo[(chipo['item_name']=='Canned Soda')&(chipo['quantity']>1)])"
   ]
  },
  {
   "cell_type": "code",
   "execution_count": null,
   "metadata": {},
   "outputs": [],
   "source": []
  }
 ],
 "metadata": {
  "kernelspec": {
   "display_name": "Python 3",
   "language": "python",
   "name": "python3"
  },
  "language_info": {
   "codemirror_mode": {
    "name": "ipython",
    "version": 2
   },
   "file_extension": ".py",
   "mimetype": "text/x-python",
   "name": "python",
   "nbconvert_exporter": "python",
   "pygments_lexer": "ipython2",
   "version": "3.7.6-final"
  }
 },
 "nbformat": 4,
 "nbformat_minor": 0
}