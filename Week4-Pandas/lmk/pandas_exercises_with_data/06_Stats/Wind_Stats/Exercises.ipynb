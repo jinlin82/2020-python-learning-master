{
 "cells": [
  {
   "cell_type": "markdown",
   "metadata": {},
   "source": [
    "# Wind Statistics"
   ]
  },
  {
   "cell_type": "markdown",
   "metadata": {},
   "source": [
    "### Introduction:\n",
    "\n",
    "The data have been modified to contain some missing values, identified by NaN.  \n",
    "Using pandas should make this exercise\n",
    "easier, in particular for the bonus question.\n",
    "\n",
    "You should be able to perform all of these operations without using\n",
    "a for loop or other looping construct.\n",
    "\n",
    "\n",
    "1. The data in 'wind.data' has the following format:"
   ]
  },
  {
   "cell_type": "code",
   "execution_count": 1,
   "metadata": {
    "collapsed": false
   },
   "outputs": [
    {
     "output_type": "execute_result",
     "data": {
      "text/plain": "'\\nYr Mo Dy   RPT   VAL   ROS   KIL   SHA   BIR   DUB   CLA   MUL   CLO   BEL   MAL\\n61  1  1 15.04 14.96 13.17  9.29   NaN  9.87 13.67 10.25 10.83 12.58 18.50 15.04\\n61  1  2 14.71   NaN 10.83  6.50 12.62  7.67 11.50 10.04  9.79  9.67 17.54 13.83\\n61  1  3 18.50 16.88 12.33 10.13 11.17  6.17 11.25   NaN  8.50  7.67 12.75 12.71\\n'"
     },
     "metadata": {},
     "execution_count": 1
    }
   ],
   "source": [
    "\"\"\"\n",
    "Yr Mo Dy   RPT   VAL   ROS   KIL   SHA   BIR   DUB   CLA   MUL   CLO   BEL   MAL\n",
    "61  1  1 15.04 14.96 13.17  9.29   NaN  9.87 13.67 10.25 10.83 12.58 18.50 15.04\n",
    "61  1  2 14.71   NaN 10.83  6.50 12.62  7.67 11.50 10.04  9.79  9.67 17.54 13.83\n",
    "61  1  3 18.50 16.88 12.33 10.13 11.17  6.17 11.25   NaN  8.50  7.67 12.75 12.71\n",
    "\"\"\""
   ]
  },
  {
   "cell_type": "markdown",
   "metadata": {},
   "source": [
    "   The first three columns are year, month and day.  The\n",
    "   remaining 12 columns are average windspeeds in knots at 12\n",
    "   locations in Ireland on that day.   \n",
    "\n",
    "   More information about the dataset go [here](wind.desc)."
   ]
  },
  {
   "cell_type": "markdown",
   "metadata": {
    "collapsed": false
   },
   "source": [
    "### Step 1. Import the necessary libraries"
   ]
  },
  {
   "cell_type": "code",
   "execution_count": 2,
   "metadata": {
    "collapsed": false
   },
   "outputs": [],
   "source": [
    "import pandas as pd"
   ]
  },
  {
   "cell_type": "markdown",
   "metadata": {},
   "source": [
    "### Step 2. Import the dataset from this [address](https://raw.githubusercontent.com/guipsamora/pandas_exercises/master/06_Stats/Wind_Stats/wind.data)"
   ]
  },
  {
   "cell_type": "markdown",
   "metadata": {},
   "source": [
    "### Step 3. Assign it to a variable called data and replace the first 3 columns by a proper datetime index."
   ]
  },
  {
   "cell_type": "code",
   "execution_count": 6,
   "metadata": {
    "collapsed": false
   },
   "outputs": [
    {
     "output_type": "execute_result",
     "data": {
      "text/plain": "    Yr_Mo_Dy    RPT    VAL    ROS    KIL    SHA   BIR    DUB    CLA    MUL  \\\n0 2061-01-01  15.04  14.96  13.17   9.29    NaN  9.87  13.67  10.25  10.83   \n1 2061-01-02  14.71    NaN  10.83   6.50  12.62  7.67  11.50  10.04   9.79   \n2 2061-01-03  18.50  16.88  12.33  10.13  11.17  6.17  11.25    NaN   8.50   \n3 2061-01-04  10.58   6.63  11.75   4.58   4.54  2.88   8.63   1.79   5.83   \n4 2061-01-05  13.33  13.25  11.42   6.17  10.71  8.21  11.92   6.54  10.92   \n\n     CLO    BEL    MAL  \n0  12.58  18.50  15.04  \n1   9.67  17.54  13.83  \n2   7.67  12.75  12.71  \n3   5.88   5.46  10.88  \n4  10.34  12.92  11.83  ",
      "text/html": "<div>\n<style scoped>\n    .dataframe tbody tr th:only-of-type {\n        vertical-align: middle;\n    }\n\n    .dataframe tbody tr th {\n        vertical-align: top;\n    }\n\n    .dataframe thead th {\n        text-align: right;\n    }\n</style>\n<table border=\"1\" class=\"dataframe\">\n  <thead>\n    <tr style=\"text-align: right;\">\n      <th></th>\n      <th>Yr_Mo_Dy</th>\n      <th>RPT</th>\n      <th>VAL</th>\n      <th>ROS</th>\n      <th>KIL</th>\n      <th>SHA</th>\n      <th>BIR</th>\n      <th>DUB</th>\n      <th>CLA</th>\n      <th>MUL</th>\n      <th>CLO</th>\n      <th>BEL</th>\n      <th>MAL</th>\n    </tr>\n  </thead>\n  <tbody>\n    <tr>\n      <td>0</td>\n      <td>2061-01-01</td>\n      <td>15.04</td>\n      <td>14.96</td>\n      <td>13.17</td>\n      <td>9.29</td>\n      <td>NaN</td>\n      <td>9.87</td>\n      <td>13.67</td>\n      <td>10.25</td>\n      <td>10.83</td>\n      <td>12.58</td>\n      <td>18.50</td>\n      <td>15.04</td>\n    </tr>\n    <tr>\n      <td>1</td>\n      <td>2061-01-02</td>\n      <td>14.71</td>\n      <td>NaN</td>\n      <td>10.83</td>\n      <td>6.50</td>\n      <td>12.62</td>\n      <td>7.67</td>\n      <td>11.50</td>\n      <td>10.04</td>\n      <td>9.79</td>\n      <td>9.67</td>\n      <td>17.54</td>\n      <td>13.83</td>\n    </tr>\n    <tr>\n      <td>2</td>\n      <td>2061-01-03</td>\n      <td>18.50</td>\n      <td>16.88</td>\n      <td>12.33</td>\n      <td>10.13</td>\n      <td>11.17</td>\n      <td>6.17</td>\n      <td>11.25</td>\n      <td>NaN</td>\n      <td>8.50</td>\n      <td>7.67</td>\n      <td>12.75</td>\n      <td>12.71</td>\n    </tr>\n    <tr>\n      <td>3</td>\n      <td>2061-01-04</td>\n      <td>10.58</td>\n      <td>6.63</td>\n      <td>11.75</td>\n      <td>4.58</td>\n      <td>4.54</td>\n      <td>2.88</td>\n      <td>8.63</td>\n      <td>1.79</td>\n      <td>5.83</td>\n      <td>5.88</td>\n      <td>5.46</td>\n      <td>10.88</td>\n    </tr>\n    <tr>\n      <td>4</td>\n      <td>2061-01-05</td>\n      <td>13.33</td>\n      <td>13.25</td>\n      <td>11.42</td>\n      <td>6.17</td>\n      <td>10.71</td>\n      <td>8.21</td>\n      <td>11.92</td>\n      <td>6.54</td>\n      <td>10.92</td>\n      <td>10.34</td>\n      <td>12.92</td>\n      <td>11.83</td>\n    </tr>\n  </tbody>\n</table>\n</div>"
     },
     "metadata": {},
     "execution_count": 6
    }
   ],
   "source": [
    "data=pd.read_csv('C:/github_repository/2020-python-learning-master/Week4-Pandas/lmk/pandas_exercises_with_data/06_Stats/Wind_Stats/wind.data',sep='\\s+',parse_dates=[[0,1,2]])\n",
    "data.head()"
   ]
  },
  {
   "cell_type": "markdown",
   "metadata": {},
   "source": [
    "### Step 4. Year 2061? Do we really have data from this year? Create a function to fix it and apply it."
   ]
  },
  {
   "cell_type": "code",
   "execution_count": null,
   "metadata": {
    "collapsed": false
   },
   "outputs": [],
   "source": [
    "###"
   ]
  },
  {
   "cell_type": "markdown",
   "metadata": {},
   "source": [
    "### Step 5. Set the right dates as the index. Pay attention at the data type, it should be datetime64[ns]."
   ]
  },
  {
   "cell_type": "code",
   "execution_count": 7,
   "metadata": {
    "collapsed": false
   },
   "outputs": [
    {
     "output_type": "execute_result",
     "data": {
      "text/plain": "              RPT    VAL    ROS    KIL    SHA   BIR    DUB    CLA    MUL  \\\nYr_Mo_Dy                                                                   \n2061-01-01  15.04  14.96  13.17   9.29    NaN  9.87  13.67  10.25  10.83   \n2061-01-02  14.71    NaN  10.83   6.50  12.62  7.67  11.50  10.04   9.79   \n2061-01-03  18.50  16.88  12.33  10.13  11.17  6.17  11.25    NaN   8.50   \n2061-01-04  10.58   6.63  11.75   4.58   4.54  2.88   8.63   1.79   5.83   \n2061-01-05  13.33  13.25  11.42   6.17  10.71  8.21  11.92   6.54  10.92   \n\n              CLO    BEL    MAL  \nYr_Mo_Dy                         \n2061-01-01  12.58  18.50  15.04  \n2061-01-02   9.67  17.54  13.83  \n2061-01-03   7.67  12.75  12.71  \n2061-01-04   5.88   5.46  10.88  \n2061-01-05  10.34  12.92  11.83  ",
      "text/html": "<div>\n<style scoped>\n    .dataframe tbody tr th:only-of-type {\n        vertical-align: middle;\n    }\n\n    .dataframe tbody tr th {\n        vertical-align: top;\n    }\n\n    .dataframe thead th {\n        text-align: right;\n    }\n</style>\n<table border=\"1\" class=\"dataframe\">\n  <thead>\n    <tr style=\"text-align: right;\">\n      <th></th>\n      <th>RPT</th>\n      <th>VAL</th>\n      <th>ROS</th>\n      <th>KIL</th>\n      <th>SHA</th>\n      <th>BIR</th>\n      <th>DUB</th>\n      <th>CLA</th>\n      <th>MUL</th>\n      <th>CLO</th>\n      <th>BEL</th>\n      <th>MAL</th>\n    </tr>\n    <tr>\n      <th>Yr_Mo_Dy</th>\n      <th></th>\n      <th></th>\n      <th></th>\n      <th></th>\n      <th></th>\n      <th></th>\n      <th></th>\n      <th></th>\n      <th></th>\n      <th></th>\n      <th></th>\n      <th></th>\n    </tr>\n  </thead>\n  <tbody>\n    <tr>\n      <td>2061-01-01</td>\n      <td>15.04</td>\n      <td>14.96</td>\n      <td>13.17</td>\n      <td>9.29</td>\n      <td>NaN</td>\n      <td>9.87</td>\n      <td>13.67</td>\n      <td>10.25</td>\n      <td>10.83</td>\n      <td>12.58</td>\n      <td>18.50</td>\n      <td>15.04</td>\n    </tr>\n    <tr>\n      <td>2061-01-02</td>\n      <td>14.71</td>\n      <td>NaN</td>\n      <td>10.83</td>\n      <td>6.50</td>\n      <td>12.62</td>\n      <td>7.67</td>\n      <td>11.50</td>\n      <td>10.04</td>\n      <td>9.79</td>\n      <td>9.67</td>\n      <td>17.54</td>\n      <td>13.83</td>\n    </tr>\n    <tr>\n      <td>2061-01-03</td>\n      <td>18.50</td>\n      <td>16.88</td>\n      <td>12.33</td>\n      <td>10.13</td>\n      <td>11.17</td>\n      <td>6.17</td>\n      <td>11.25</td>\n      <td>NaN</td>\n      <td>8.50</td>\n      <td>7.67</td>\n      <td>12.75</td>\n      <td>12.71</td>\n    </tr>\n    <tr>\n      <td>2061-01-04</td>\n      <td>10.58</td>\n      <td>6.63</td>\n      <td>11.75</td>\n      <td>4.58</td>\n      <td>4.54</td>\n      <td>2.88</td>\n      <td>8.63</td>\n      <td>1.79</td>\n      <td>5.83</td>\n      <td>5.88</td>\n      <td>5.46</td>\n      <td>10.88</td>\n    </tr>\n    <tr>\n      <td>2061-01-05</td>\n      <td>13.33</td>\n      <td>13.25</td>\n      <td>11.42</td>\n      <td>6.17</td>\n      <td>10.71</td>\n      <td>8.21</td>\n      <td>11.92</td>\n      <td>6.54</td>\n      <td>10.92</td>\n      <td>10.34</td>\n      <td>12.92</td>\n      <td>11.83</td>\n    </tr>\n  </tbody>\n</table>\n</div>"
     },
     "metadata": {},
     "execution_count": 7
    }
   ],
   "source": [
    "data['Yr_Mo_Dy']=pd.to_datetime(data['Yr_Mo_Dy'])\n",
    "data=data.set_index('Yr_Mo_Dy')\n",
    "data.head()"
   ]
  },
  {
   "cell_type": "markdown",
   "metadata": {},
   "source": [
    "### Step 6. Compute how many values are missing for each location over the entire record.  \n",
    "#### They should be ignored in all calculations below. "
   ]
  },
  {
   "cell_type": "code",
   "execution_count": 8,
   "metadata": {
    "collapsed": false
   },
   "outputs": [
    {
     "output_type": "execute_result",
     "data": {
      "text/plain": "RPT    6\nVAL    3\nROS    2\nKIL    5\nSHA    2\nBIR    0\nDUB    3\nCLA    2\nMUL    3\nCLO    1\nBEL    0\nMAL    4\ndtype: int64"
     },
     "metadata": {},
     "execution_count": 8
    }
   ],
   "source": [
    "data.isnull().sum()"
   ]
  },
  {
   "cell_type": "markdown",
   "metadata": {},
   "source": [
    "### Step 7. Compute how many non-missing values there are in total."
   ]
  },
  {
   "cell_type": "code",
   "execution_count": 9,
   "metadata": {
    "collapsed": false,
    "scrolled": true
   },
   "outputs": [
    {
     "output_type": "execute_result",
     "data": {
      "text/plain": "RPT    6568\nVAL    6571\nROS    6572\nKIL    6569\nSHA    6572\nBIR    6574\nDUB    6571\nCLA    6572\nMUL    6571\nCLO    6573\nBEL    6574\nMAL    6570\ndtype: int64"
     },
     "metadata": {},
     "execution_count": 9
    }
   ],
   "source": [
    "data.notnull().sum()"
   ]
  },
  {
   "cell_type": "markdown",
   "metadata": {},
   "source": [
    "### Step 8. Calculate the mean windspeeds of the windspeeds over all the locations and all the times.\n",
    "#### A single number for the entire dataset."
   ]
  },
  {
   "cell_type": "code",
   "execution_count": 10,
   "metadata": {
    "collapsed": false
   },
   "outputs": [
    {
     "output_type": "execute_result",
     "data": {
      "text/plain": "10.227883764282167"
     },
     "metadata": {},
     "execution_count": 10
    }
   ],
   "source": [
    "data.sum().sum()/data.notna().sum().sum()"
   ]
  },
  {
   "cell_type": "markdown",
   "metadata": {},
   "source": [
    "### Step 9. Create a DataFrame called loc_stats and calculate the min, max and mean windspeeds and standard deviations of the windspeeds at each location over all the days \n",
    "\n",
    "#### A different set of numbers for each location."
   ]
  },
  {
   "cell_type": "code",
   "execution_count": 18,
   "metadata": {
    "collapsed": false
   },
   "outputs": [
    {
     "output_type": "execute_result",
     "data": {
      "text/plain": "            RPT        VAL        ROS        KIL        SHA        BIR  \\\nmin    0.670000   0.210000   1.500000   0.000000   0.130000   0.000000   \nmax   35.800000  33.370000  33.840000  28.460000  37.540000  26.160000   \nmean  12.362987  10.644314  11.660526   6.306468  10.455834   7.092254   \nstd    5.618413   5.267356   5.008450   3.605811   4.936125   3.968683   \n\n            DUB        CLA        MUL        CLO        BEL        MAL  \nmin    0.000000   0.000000   0.000000   0.040000   0.130000   0.670000  \nmax   30.370000  31.080000  25.880000  28.210000  42.380000  42.540000  \nmean   9.797343   8.495053   8.493590   8.707332  13.121007  15.599079  \nstd    4.977555   4.499449   4.166872   4.503954   5.835037   6.699794  ",
      "text/html": "<div>\n<style scoped>\n    .dataframe tbody tr th:only-of-type {\n        vertical-align: middle;\n    }\n\n    .dataframe tbody tr th {\n        vertical-align: top;\n    }\n\n    .dataframe thead th {\n        text-align: right;\n    }\n</style>\n<table border=\"1\" class=\"dataframe\">\n  <thead>\n    <tr style=\"text-align: right;\">\n      <th></th>\n      <th>RPT</th>\n      <th>VAL</th>\n      <th>ROS</th>\n      <th>KIL</th>\n      <th>SHA</th>\n      <th>BIR</th>\n      <th>DUB</th>\n      <th>CLA</th>\n      <th>MUL</th>\n      <th>CLO</th>\n      <th>BEL</th>\n      <th>MAL</th>\n    </tr>\n  </thead>\n  <tbody>\n    <tr>\n      <td>min</td>\n      <td>0.670000</td>\n      <td>0.210000</td>\n      <td>1.500000</td>\n      <td>0.000000</td>\n      <td>0.130000</td>\n      <td>0.000000</td>\n      <td>0.000000</td>\n      <td>0.000000</td>\n      <td>0.000000</td>\n      <td>0.040000</td>\n      <td>0.130000</td>\n      <td>0.670000</td>\n    </tr>\n    <tr>\n      <td>max</td>\n      <td>35.800000</td>\n      <td>33.370000</td>\n      <td>33.840000</td>\n      <td>28.460000</td>\n      <td>37.540000</td>\n      <td>26.160000</td>\n      <td>30.370000</td>\n      <td>31.080000</td>\n      <td>25.880000</td>\n      <td>28.210000</td>\n      <td>42.380000</td>\n      <td>42.540000</td>\n    </tr>\n    <tr>\n      <td>mean</td>\n      <td>12.362987</td>\n      <td>10.644314</td>\n      <td>11.660526</td>\n      <td>6.306468</td>\n      <td>10.455834</td>\n      <td>7.092254</td>\n      <td>9.797343</td>\n      <td>8.495053</td>\n      <td>8.493590</td>\n      <td>8.707332</td>\n      <td>13.121007</td>\n      <td>15.599079</td>\n    </tr>\n    <tr>\n      <td>std</td>\n      <td>5.618413</td>\n      <td>5.267356</td>\n      <td>5.008450</td>\n      <td>3.605811</td>\n      <td>4.936125</td>\n      <td>3.968683</td>\n      <td>4.977555</td>\n      <td>4.499449</td>\n      <td>4.166872</td>\n      <td>4.503954</td>\n      <td>5.835037</td>\n      <td>6.699794</td>\n    </tr>\n  </tbody>\n</table>\n</div>"
     },
     "metadata": {},
     "execution_count": 18
    }
   ],
   "source": [
    "loc_stats=data.agg(['min','max','mean','std'])\n",
    "loc_stats"
   ]
  },
  {
   "cell_type": "markdown",
   "metadata": {},
   "source": [
    "### Step 10. Create a DataFrame called day_stats and calculate the min, max and mean windspeed and standard deviations of the windspeeds across all the locations at each day.\n",
    "\n",
    "#### A different set of numbers for each day."
   ]
  },
  {
   "cell_type": "code",
   "execution_count": 12,
   "metadata": {
    "collapsed": false
   },
   "outputs": [
    {
     "output_type": "execute_result",
     "data": {
      "text/plain": "             min    max       mean       std\nYr_Mo_Dy                                    \n2061-01-01  9.29  18.50  13.018182  2.808875\n2061-01-02  6.50  17.54  11.336364  3.188994\n2061-01-03  6.17  18.50  11.641818  3.681912\n2061-01-04  1.79  11.75   6.619167  3.198126\n2061-01-05  6.17  13.33  10.630000  2.445356\n...          ...    ...        ...       ...\n1978-12-27  8.08  40.08  16.708333  7.868076\n1978-12-28  5.00  41.46  15.150000  9.687857\n1978-12-29  8.71  29.58  14.890000  5.756836\n1978-12-30  9.13  28.79  15.367500  5.540437\n1978-12-31  9.59  27.29  15.402500  5.702483\n\n[6574 rows x 4 columns]",
      "text/html": "<div>\n<style scoped>\n    .dataframe tbody tr th:only-of-type {\n        vertical-align: middle;\n    }\n\n    .dataframe tbody tr th {\n        vertical-align: top;\n    }\n\n    .dataframe thead th {\n        text-align: right;\n    }\n</style>\n<table border=\"1\" class=\"dataframe\">\n  <thead>\n    <tr style=\"text-align: right;\">\n      <th></th>\n      <th>min</th>\n      <th>max</th>\n      <th>mean</th>\n      <th>std</th>\n    </tr>\n    <tr>\n      <th>Yr_Mo_Dy</th>\n      <th></th>\n      <th></th>\n      <th></th>\n      <th></th>\n    </tr>\n  </thead>\n  <tbody>\n    <tr>\n      <td>2061-01-01</td>\n      <td>9.29</td>\n      <td>18.50</td>\n      <td>13.018182</td>\n      <td>2.808875</td>\n    </tr>\n    <tr>\n      <td>2061-01-02</td>\n      <td>6.50</td>\n      <td>17.54</td>\n      <td>11.336364</td>\n      <td>3.188994</td>\n    </tr>\n    <tr>\n      <td>2061-01-03</td>\n      <td>6.17</td>\n      <td>18.50</td>\n      <td>11.641818</td>\n      <td>3.681912</td>\n    </tr>\n    <tr>\n      <td>2061-01-04</td>\n      <td>1.79</td>\n      <td>11.75</td>\n      <td>6.619167</td>\n      <td>3.198126</td>\n    </tr>\n    <tr>\n      <td>2061-01-05</td>\n      <td>6.17</td>\n      <td>13.33</td>\n      <td>10.630000</td>\n      <td>2.445356</td>\n    </tr>\n    <tr>\n      <td>...</td>\n      <td>...</td>\n      <td>...</td>\n      <td>...</td>\n      <td>...</td>\n    </tr>\n    <tr>\n      <td>1978-12-27</td>\n      <td>8.08</td>\n      <td>40.08</td>\n      <td>16.708333</td>\n      <td>7.868076</td>\n    </tr>\n    <tr>\n      <td>1978-12-28</td>\n      <td>5.00</td>\n      <td>41.46</td>\n      <td>15.150000</td>\n      <td>9.687857</td>\n    </tr>\n    <tr>\n      <td>1978-12-29</td>\n      <td>8.71</td>\n      <td>29.58</td>\n      <td>14.890000</td>\n      <td>5.756836</td>\n    </tr>\n    <tr>\n      <td>1978-12-30</td>\n      <td>9.13</td>\n      <td>28.79</td>\n      <td>15.367500</td>\n      <td>5.540437</td>\n    </tr>\n    <tr>\n      <td>1978-12-31</td>\n      <td>9.59</td>\n      <td>27.29</td>\n      <td>15.402500</td>\n      <td>5.702483</td>\n    </tr>\n  </tbody>\n</table>\n<p>6574 rows × 4 columns</p>\n</div>"
     },
     "metadata": {},
     "execution_count": 12
    }
   ],
   "source": [
    "day_stats=pd.DataFrame()\n",
    "day_stats['min']=data.min(axis=1)\n",
    "day_stats['max']=data.max(axis=1)\n",
    "day_stats['mean']=data.mean(axis=1)\n",
    "day_stats['std']=data.std(axis=1)\n",
    "day_stats"
   ]
  },
  {
   "cell_type": "markdown",
   "metadata": {},
   "source": [
    "### Step 11. Find the average windspeed in January for each location.  \n",
    "#### Treat January 1961 and January 1962 both as January."
   ]
  },
  {
   "cell_type": "code",
   "execution_count": 13,
   "metadata": {
    "collapsed": false
   },
   "outputs": [
    {
     "output_type": "execute_result",
     "data": {
      "text/plain": "RPT    14.847325\nVAL    12.914560\nROS    13.299624\nKIL     7.199498\nSHA    11.667734\nBIR     8.054839\nDUB    11.819355\nCLA     9.512047\nMUL     9.543208\nCLO    10.053566\nBEL    14.550520\nMAL    18.028763\ndtype: float64"
     },
     "metadata": {},
     "execution_count": 13
    }
   ],
   "source": [
    "data.loc[data.index.month==1].mean()"
   ]
  },
  {
   "cell_type": "markdown",
   "metadata": {},
   "source": [
    "### Step 12. Downsample the record to a yearly frequency for each location."
   ]
  },
  {
   "cell_type": "code",
   "execution_count": 14,
   "metadata": {
    "collapsed": false
   },
   "outputs": [
    {
     "output_type": "execute_result",
     "data": {
      "text/plain": "                RPT        VAL        ROS       KIL        SHA       BIR  \\\nYr_Mo_Dy                                                                   \n1970      12.600329  10.726932  11.730247  6.217178  10.567370  7.609452   \n1971      11.273123   9.095178  11.088329  5.241507   9.440329  6.097151   \n1972      12.463962  10.561311  12.058333  5.929699   9.430410  6.358825   \n1973      11.828466  10.680493  10.680493  5.547863   9.640877  6.548740   \n1974      13.643096  11.811781  12.336356  6.427041  11.110986  6.809781   \n1975      12.008575  10.293836  11.564712  5.269096   9.190082  5.668521   \n1976      11.737842  10.203115  10.761230  5.109426   8.846339  6.311038   \n1977      13.099616  11.144493  12.627836  6.073945  10.003836  8.586438   \n1978      12.504356  11.044274  11.380000  6.082356  10.167233  7.650658   \n2061      12.299583  10.351796  11.362369  6.958227  10.881763  7.729726   \n2062      12.246923  10.110438  11.732712  6.960440  10.657918  7.393068   \n2063      12.813452  10.836986  12.541151  7.330055  11.724110  8.434712   \n2064      12.363661  10.920164  12.104372  6.787787  11.454481  7.570874   \n2065      12.451370  11.075534  11.848767  6.858466  11.024795  7.478110   \n2066      13.461973  11.557205  12.020630  7.345726  11.805041  7.793671   \n2067      12.737151  10.990986  11.739397  7.143425  11.630740  7.368164   \n2068      11.835628  10.468197  11.409754  6.477678  10.760765  6.067322   \n2069      11.166356   9.723699  10.902000  5.767973   9.873918  6.189973   \n\n                DUB        CLA       MUL        CLO        BEL        MAL  \nYr_Mo_Dy                                                                   \n1970       9.609890   8.334630  9.297616   8.289808  13.183644  16.456027  \n1971       8.385890   6.757315  7.915370   7.229753  12.208932  15.025233  \n1972       9.704508   7.680792  8.357295   7.515273  12.727377  15.028716  \n1973       8.482110   7.614274  8.245534   7.812411  12.169699  15.441096  \n1974      10.084603   9.896986  9.331753   8.736356  13.252959  16.947671  \n1975       8.562603   7.843836  8.797945   7.382822  12.631671  15.307863  \n1976       9.149126   7.146202  8.883716   7.883087  12.332377  15.471448  \n1977      11.523205   8.378384  9.098192   8.821616  13.459068  16.590849  \n1978       9.489342   8.800466  9.089753   8.301699  12.967397  16.771370  \n2061       9.733923   8.858788  8.647652   9.835577  13.502795  13.680773  \n2062      11.020712   8.793753  8.316822   9.676247  12.930685  14.323956  \n2063      11.075699  10.336548  8.903589  10.224438  13.638877  14.999014  \n2064      10.259153   9.467350  7.789016  10.207951  13.740546  14.910301  \n2065      10.618712   8.879918  7.907425   9.918082  12.964247  15.591644  \n2066      10.579808   8.835096  8.514438   9.768959  14.265836  16.307260  \n2067      10.652027   9.325616  8.645014   9.547425  14.774548  17.135945  \n2068       8.859180   8.255519  7.224945   7.832978  12.808634  15.017486  \n2069       8.564493   7.711397  7.924521   7.754384  12.621233  15.762904  ",
      "text/html": "<div>\n<style scoped>\n    .dataframe tbody tr th:only-of-type {\n        vertical-align: middle;\n    }\n\n    .dataframe tbody tr th {\n        vertical-align: top;\n    }\n\n    .dataframe thead th {\n        text-align: right;\n    }\n</style>\n<table border=\"1\" class=\"dataframe\">\n  <thead>\n    <tr style=\"text-align: right;\">\n      <th></th>\n      <th>RPT</th>\n      <th>VAL</th>\n      <th>ROS</th>\n      <th>KIL</th>\n      <th>SHA</th>\n      <th>BIR</th>\n      <th>DUB</th>\n      <th>CLA</th>\n      <th>MUL</th>\n      <th>CLO</th>\n      <th>BEL</th>\n      <th>MAL</th>\n    </tr>\n    <tr>\n      <th>Yr_Mo_Dy</th>\n      <th></th>\n      <th></th>\n      <th></th>\n      <th></th>\n      <th></th>\n      <th></th>\n      <th></th>\n      <th></th>\n      <th></th>\n      <th></th>\n      <th></th>\n      <th></th>\n    </tr>\n  </thead>\n  <tbody>\n    <tr>\n      <td>1970</td>\n      <td>12.600329</td>\n      <td>10.726932</td>\n      <td>11.730247</td>\n      <td>6.217178</td>\n      <td>10.567370</td>\n      <td>7.609452</td>\n      <td>9.609890</td>\n      <td>8.334630</td>\n      <td>9.297616</td>\n      <td>8.289808</td>\n      <td>13.183644</td>\n      <td>16.456027</td>\n    </tr>\n    <tr>\n      <td>1971</td>\n      <td>11.273123</td>\n      <td>9.095178</td>\n      <td>11.088329</td>\n      <td>5.241507</td>\n      <td>9.440329</td>\n      <td>6.097151</td>\n      <td>8.385890</td>\n      <td>6.757315</td>\n      <td>7.915370</td>\n      <td>7.229753</td>\n      <td>12.208932</td>\n      <td>15.025233</td>\n    </tr>\n    <tr>\n      <td>1972</td>\n      <td>12.463962</td>\n      <td>10.561311</td>\n      <td>12.058333</td>\n      <td>5.929699</td>\n      <td>9.430410</td>\n      <td>6.358825</td>\n      <td>9.704508</td>\n      <td>7.680792</td>\n      <td>8.357295</td>\n      <td>7.515273</td>\n      <td>12.727377</td>\n      <td>15.028716</td>\n    </tr>\n    <tr>\n      <td>1973</td>\n      <td>11.828466</td>\n      <td>10.680493</td>\n      <td>10.680493</td>\n      <td>5.547863</td>\n      <td>9.640877</td>\n      <td>6.548740</td>\n      <td>8.482110</td>\n      <td>7.614274</td>\n      <td>8.245534</td>\n      <td>7.812411</td>\n      <td>12.169699</td>\n      <td>15.441096</td>\n    </tr>\n    <tr>\n      <td>1974</td>\n      <td>13.643096</td>\n      <td>11.811781</td>\n      <td>12.336356</td>\n      <td>6.427041</td>\n      <td>11.110986</td>\n      <td>6.809781</td>\n      <td>10.084603</td>\n      <td>9.896986</td>\n      <td>9.331753</td>\n      <td>8.736356</td>\n      <td>13.252959</td>\n      <td>16.947671</td>\n    </tr>\n    <tr>\n      <td>1975</td>\n      <td>12.008575</td>\n      <td>10.293836</td>\n      <td>11.564712</td>\n      <td>5.269096</td>\n      <td>9.190082</td>\n      <td>5.668521</td>\n      <td>8.562603</td>\n      <td>7.843836</td>\n      <td>8.797945</td>\n      <td>7.382822</td>\n      <td>12.631671</td>\n      <td>15.307863</td>\n    </tr>\n    <tr>\n      <td>1976</td>\n      <td>11.737842</td>\n      <td>10.203115</td>\n      <td>10.761230</td>\n      <td>5.109426</td>\n      <td>8.846339</td>\n      <td>6.311038</td>\n      <td>9.149126</td>\n      <td>7.146202</td>\n      <td>8.883716</td>\n      <td>7.883087</td>\n      <td>12.332377</td>\n      <td>15.471448</td>\n    </tr>\n    <tr>\n      <td>1977</td>\n      <td>13.099616</td>\n      <td>11.144493</td>\n      <td>12.627836</td>\n      <td>6.073945</td>\n      <td>10.003836</td>\n      <td>8.586438</td>\n      <td>11.523205</td>\n      <td>8.378384</td>\n      <td>9.098192</td>\n      <td>8.821616</td>\n      <td>13.459068</td>\n      <td>16.590849</td>\n    </tr>\n    <tr>\n      <td>1978</td>\n      <td>12.504356</td>\n      <td>11.044274</td>\n      <td>11.380000</td>\n      <td>6.082356</td>\n      <td>10.167233</td>\n      <td>7.650658</td>\n      <td>9.489342</td>\n      <td>8.800466</td>\n      <td>9.089753</td>\n      <td>8.301699</td>\n      <td>12.967397</td>\n      <td>16.771370</td>\n    </tr>\n    <tr>\n      <td>2061</td>\n      <td>12.299583</td>\n      <td>10.351796</td>\n      <td>11.362369</td>\n      <td>6.958227</td>\n      <td>10.881763</td>\n      <td>7.729726</td>\n      <td>9.733923</td>\n      <td>8.858788</td>\n      <td>8.647652</td>\n      <td>9.835577</td>\n      <td>13.502795</td>\n      <td>13.680773</td>\n    </tr>\n    <tr>\n      <td>2062</td>\n      <td>12.246923</td>\n      <td>10.110438</td>\n      <td>11.732712</td>\n      <td>6.960440</td>\n      <td>10.657918</td>\n      <td>7.393068</td>\n      <td>11.020712</td>\n      <td>8.793753</td>\n      <td>8.316822</td>\n      <td>9.676247</td>\n      <td>12.930685</td>\n      <td>14.323956</td>\n    </tr>\n    <tr>\n      <td>2063</td>\n      <td>12.813452</td>\n      <td>10.836986</td>\n      <td>12.541151</td>\n      <td>7.330055</td>\n      <td>11.724110</td>\n      <td>8.434712</td>\n      <td>11.075699</td>\n      <td>10.336548</td>\n      <td>8.903589</td>\n      <td>10.224438</td>\n      <td>13.638877</td>\n      <td>14.999014</td>\n    </tr>\n    <tr>\n      <td>2064</td>\n      <td>12.363661</td>\n      <td>10.920164</td>\n      <td>12.104372</td>\n      <td>6.787787</td>\n      <td>11.454481</td>\n      <td>7.570874</td>\n      <td>10.259153</td>\n      <td>9.467350</td>\n      <td>7.789016</td>\n      <td>10.207951</td>\n      <td>13.740546</td>\n      <td>14.910301</td>\n    </tr>\n    <tr>\n      <td>2065</td>\n      <td>12.451370</td>\n      <td>11.075534</td>\n      <td>11.848767</td>\n      <td>6.858466</td>\n      <td>11.024795</td>\n      <td>7.478110</td>\n      <td>10.618712</td>\n      <td>8.879918</td>\n      <td>7.907425</td>\n      <td>9.918082</td>\n      <td>12.964247</td>\n      <td>15.591644</td>\n    </tr>\n    <tr>\n      <td>2066</td>\n      <td>13.461973</td>\n      <td>11.557205</td>\n      <td>12.020630</td>\n      <td>7.345726</td>\n      <td>11.805041</td>\n      <td>7.793671</td>\n      <td>10.579808</td>\n      <td>8.835096</td>\n      <td>8.514438</td>\n      <td>9.768959</td>\n      <td>14.265836</td>\n      <td>16.307260</td>\n    </tr>\n    <tr>\n      <td>2067</td>\n      <td>12.737151</td>\n      <td>10.990986</td>\n      <td>11.739397</td>\n      <td>7.143425</td>\n      <td>11.630740</td>\n      <td>7.368164</td>\n      <td>10.652027</td>\n      <td>9.325616</td>\n      <td>8.645014</td>\n      <td>9.547425</td>\n      <td>14.774548</td>\n      <td>17.135945</td>\n    </tr>\n    <tr>\n      <td>2068</td>\n      <td>11.835628</td>\n      <td>10.468197</td>\n      <td>11.409754</td>\n      <td>6.477678</td>\n      <td>10.760765</td>\n      <td>6.067322</td>\n      <td>8.859180</td>\n      <td>8.255519</td>\n      <td>7.224945</td>\n      <td>7.832978</td>\n      <td>12.808634</td>\n      <td>15.017486</td>\n    </tr>\n    <tr>\n      <td>2069</td>\n      <td>11.166356</td>\n      <td>9.723699</td>\n      <td>10.902000</td>\n      <td>5.767973</td>\n      <td>9.873918</td>\n      <td>6.189973</td>\n      <td>8.564493</td>\n      <td>7.711397</td>\n      <td>7.924521</td>\n      <td>7.754384</td>\n      <td>12.621233</td>\n      <td>15.762904</td>\n    </tr>\n  </tbody>\n</table>\n</div>"
     },
     "metadata": {},
     "execution_count": 14
    }
   ],
   "source": [
    "data.groupby(data.index.to_period('Y')).mean()"
   ]
  },
  {
   "cell_type": "markdown",
   "metadata": {},
   "source": [
    "### Step 13. Downsample the record to a monthly frequency for each location."
   ]
  },
  {
   "cell_type": "code",
   "execution_count": 15,
   "metadata": {
    "collapsed": false
   },
   "outputs": [
    {
     "output_type": "execute_result",
     "data": {
      "text/plain": "                RPT        VAL        ROS       KIL        SHA       BIR  \\\nYr_Mo_Dy                                                                   \n1970-01   13.152581  11.731935  13.083871  5.810968   9.507742  8.040323   \n1970-02   14.820714  13.776071  12.643929  6.894643  11.923929  7.954643   \n1970-03   14.941613  11.496129  13.180968  7.494194  11.484194  8.242581   \n1970-04   14.733333  11.843667  12.711333  7.316667  10.938333  8.707333   \n1970-05   10.185161   9.154194   9.720323  5.639677  10.465484  7.879355   \n...             ...        ...        ...       ...        ...       ...   \n2069-08   11.567419   9.656774   9.192581  5.661935   9.667097  6.407097   \n2069-09    8.544333   7.146000  10.698000  4.161667   8.561333  4.934000   \n2069-10   10.640968  10.424194  10.522581  5.803548  11.545161  7.075484   \n2069-11   12.462000  11.430667  12.141333  5.499667   9.828667  6.710000   \n2069-12   13.335806  11.969032  12.433226  5.446129   9.766129  7.532581   \n\n                DUB        CLA        MUL        CLO        BEL        MAL  \nYr_Mo_Dy                                                                    \n1970-01    9.843226   8.834194   8.407097   7.626452  12.403871  17.192903  \n1970-02   11.837857   9.223214  10.339643   8.415357  14.899643  18.016786  \n1970-03   12.160968  10.082581  10.936774   9.710645  15.041290  19.093226  \n1970-04   11.171667   9.249667  10.004333  10.178333  13.237000  16.899667  \n1970-05    8.982258   8.938387   9.251935   8.784516  13.989355  15.335161  \n...             ...        ...        ...        ...        ...        ...  \n2069-08    7.070323   6.366452   7.568065   7.800323  11.952258  13.715161  \n2069-09    7.120333   6.839000   6.089333   6.203333  11.665000  14.972333  \n2069-10    8.483871   9.713226   8.495806   8.717419  15.348387  17.298710  \n2069-11   10.166333   8.304667   8.458000   7.864667  14.758667  20.094667  \n2069-12   10.076774   8.656774   8.801935   7.603226  13.511613  17.707097  \n\n[216 rows x 12 columns]",
      "text/html": "<div>\n<style scoped>\n    .dataframe tbody tr th:only-of-type {\n        vertical-align: middle;\n    }\n\n    .dataframe tbody tr th {\n        vertical-align: top;\n    }\n\n    .dataframe thead th {\n        text-align: right;\n    }\n</style>\n<table border=\"1\" class=\"dataframe\">\n  <thead>\n    <tr style=\"text-align: right;\">\n      <th></th>\n      <th>RPT</th>\n      <th>VAL</th>\n      <th>ROS</th>\n      <th>KIL</th>\n      <th>SHA</th>\n      <th>BIR</th>\n      <th>DUB</th>\n      <th>CLA</th>\n      <th>MUL</th>\n      <th>CLO</th>\n      <th>BEL</th>\n      <th>MAL</th>\n    </tr>\n    <tr>\n      <th>Yr_Mo_Dy</th>\n      <th></th>\n      <th></th>\n      <th></th>\n      <th></th>\n      <th></th>\n      <th></th>\n      <th></th>\n      <th></th>\n      <th></th>\n      <th></th>\n      <th></th>\n      <th></th>\n    </tr>\n  </thead>\n  <tbody>\n    <tr>\n      <td>1970-01</td>\n      <td>13.152581</td>\n      <td>11.731935</td>\n      <td>13.083871</td>\n      <td>5.810968</td>\n      <td>9.507742</td>\n      <td>8.040323</td>\n      <td>9.843226</td>\n      <td>8.834194</td>\n      <td>8.407097</td>\n      <td>7.626452</td>\n      <td>12.403871</td>\n      <td>17.192903</td>\n    </tr>\n    <tr>\n      <td>1970-02</td>\n      <td>14.820714</td>\n      <td>13.776071</td>\n      <td>12.643929</td>\n      <td>6.894643</td>\n      <td>11.923929</td>\n      <td>7.954643</td>\n      <td>11.837857</td>\n      <td>9.223214</td>\n      <td>10.339643</td>\n      <td>8.415357</td>\n      <td>14.899643</td>\n      <td>18.016786</td>\n    </tr>\n    <tr>\n      <td>1970-03</td>\n      <td>14.941613</td>\n      <td>11.496129</td>\n      <td>13.180968</td>\n      <td>7.494194</td>\n      <td>11.484194</td>\n      <td>8.242581</td>\n      <td>12.160968</td>\n      <td>10.082581</td>\n      <td>10.936774</td>\n      <td>9.710645</td>\n      <td>15.041290</td>\n      <td>19.093226</td>\n    </tr>\n    <tr>\n      <td>1970-04</td>\n      <td>14.733333</td>\n      <td>11.843667</td>\n      <td>12.711333</td>\n      <td>7.316667</td>\n      <td>10.938333</td>\n      <td>8.707333</td>\n      <td>11.171667</td>\n      <td>9.249667</td>\n      <td>10.004333</td>\n      <td>10.178333</td>\n      <td>13.237000</td>\n      <td>16.899667</td>\n    </tr>\n    <tr>\n      <td>1970-05</td>\n      <td>10.185161</td>\n      <td>9.154194</td>\n      <td>9.720323</td>\n      <td>5.639677</td>\n      <td>10.465484</td>\n      <td>7.879355</td>\n      <td>8.982258</td>\n      <td>8.938387</td>\n      <td>9.251935</td>\n      <td>8.784516</td>\n      <td>13.989355</td>\n      <td>15.335161</td>\n    </tr>\n    <tr>\n      <td>...</td>\n      <td>...</td>\n      <td>...</td>\n      <td>...</td>\n      <td>...</td>\n      <td>...</td>\n      <td>...</td>\n      <td>...</td>\n      <td>...</td>\n      <td>...</td>\n      <td>...</td>\n      <td>...</td>\n      <td>...</td>\n    </tr>\n    <tr>\n      <td>2069-08</td>\n      <td>11.567419</td>\n      <td>9.656774</td>\n      <td>9.192581</td>\n      <td>5.661935</td>\n      <td>9.667097</td>\n      <td>6.407097</td>\n      <td>7.070323</td>\n      <td>6.366452</td>\n      <td>7.568065</td>\n      <td>7.800323</td>\n      <td>11.952258</td>\n      <td>13.715161</td>\n    </tr>\n    <tr>\n      <td>2069-09</td>\n      <td>8.544333</td>\n      <td>7.146000</td>\n      <td>10.698000</td>\n      <td>4.161667</td>\n      <td>8.561333</td>\n      <td>4.934000</td>\n      <td>7.120333</td>\n      <td>6.839000</td>\n      <td>6.089333</td>\n      <td>6.203333</td>\n      <td>11.665000</td>\n      <td>14.972333</td>\n    </tr>\n    <tr>\n      <td>2069-10</td>\n      <td>10.640968</td>\n      <td>10.424194</td>\n      <td>10.522581</td>\n      <td>5.803548</td>\n      <td>11.545161</td>\n      <td>7.075484</td>\n      <td>8.483871</td>\n      <td>9.713226</td>\n      <td>8.495806</td>\n      <td>8.717419</td>\n      <td>15.348387</td>\n      <td>17.298710</td>\n    </tr>\n    <tr>\n      <td>2069-11</td>\n      <td>12.462000</td>\n      <td>11.430667</td>\n      <td>12.141333</td>\n      <td>5.499667</td>\n      <td>9.828667</td>\n      <td>6.710000</td>\n      <td>10.166333</td>\n      <td>8.304667</td>\n      <td>8.458000</td>\n      <td>7.864667</td>\n      <td>14.758667</td>\n      <td>20.094667</td>\n    </tr>\n    <tr>\n      <td>2069-12</td>\n      <td>13.335806</td>\n      <td>11.969032</td>\n      <td>12.433226</td>\n      <td>5.446129</td>\n      <td>9.766129</td>\n      <td>7.532581</td>\n      <td>10.076774</td>\n      <td>8.656774</td>\n      <td>8.801935</td>\n      <td>7.603226</td>\n      <td>13.511613</td>\n      <td>17.707097</td>\n    </tr>\n  </tbody>\n</table>\n<p>216 rows × 12 columns</p>\n</div>"
     },
     "metadata": {},
     "execution_count": 15
    }
   ],
   "source": [
    "data.groupby(data.index.to_period('M')).mean()"
   ]
  },
  {
   "cell_type": "markdown",
   "metadata": {},
   "source": [
    "### Step 14. Downsample the record to a weekly frequency for each location."
   ]
  },
  {
   "cell_type": "code",
   "execution_count": 17,
   "metadata": {
    "collapsed": false
   },
   "outputs": [
    {
     "output_type": "execute_result",
     "data": {
      "text/plain": "                             RPT        VAL        ROS       KIL        SHA  \\\nYr_Mo_Dy                                                                      \n1969-12-29/1970-01-04   9.470000   5.522500  10.457500  3.427500   4.927500   \n1970-01-05/1970-01-11  12.762857   9.290000  12.945714  4.941429   7.840000   \n1970-01-12/1970-01-18  12.484286  12.530000  11.857143  5.470000  10.005714   \n1970-01-19/1970-01-25  16.440000  15.818571  15.154286  8.298571  12.118571   \n1970-01-26/1970-02-01  14.302857  14.274286  14.557143  6.988571  12.147143   \n...                          ...        ...        ...       ...        ...   \n2069-12-02/2069-12-08  15.214286  13.148571  11.685714  7.081429  10.982857   \n2069-12-09/2069-12-15  12.440000  12.065714  10.120000  4.037143   9.827143   \n2069-12-16/2069-12-22  12.827143  11.578571  14.242857  6.250000   9.952857   \n2069-12-23/2069-12-29  12.821429  11.220000  10.702857  3.958571   8.088571   \n2069-12-30/2070-01-05  15.335000  13.540000  25.565000  7.560000  11.060000   \n\n                             BIR        DUB        CLA        MUL        CLO  \\\nYr_Mo_Dy                                                                       \n1969-12-29/1970-01-04   3.855000   7.907500   5.085000   6.387500   4.437500   \n1970-01-05/1970-01-11   7.380000  10.571429   7.515714   8.192857   6.315714   \n1970-01-12/1970-01-18   8.081429   9.468571   8.950000   8.120000   7.671429   \n1970-01-19/1970-01-25  10.454286  10.462857  11.958571  10.462857  11.071429   \n1970-01-26/1970-02-01   9.690000  11.177143  10.280000   9.251429   8.727143   \n...                          ...        ...        ...        ...        ...   \n2069-12-02/2069-12-08   7.387143  10.588571   9.768571  10.441429   8.128571   \n2069-12-09/2069-12-15   7.028571   8.674286   7.338571   7.328571   6.977143   \n2069-12-16/2069-12-22   9.084286  11.892857   9.522857  10.065714   9.082857   \n2069-12-23/2069-12-29   6.430000   7.708571   7.564286   6.375714   5.875714   \n2069-12-30/2070-01-05   9.085000  15.685000  11.210000  12.230000   9.270000   \n\n                             BEL        MAL  \nYr_Mo_Dy                                     \n1969-12-29/1970-01-04   9.405000  15.937500  \n1970-01-05/1970-01-11   9.547143  15.998571  \n1970-01-12/1970-01-18  11.612857  17.060000  \n1970-01-19/1970-01-25  17.802857  20.201429  \n1970-01-26/1970-02-01  14.034286  17.355714  \n...                          ...        ...  \n2069-12-02/2069-12-08  13.918571  18.571429  \n2069-12-09/2069-12-15  14.597143  15.522857  \n2069-12-16/2069-12-22  14.094286  20.238571  \n2069-12-23/2069-12-29  12.071429  14.738571  \n2069-12-30/2070-01-05  11.335000  22.625000  \n\n[941 rows x 12 columns]",
      "text/html": "<div>\n<style scoped>\n    .dataframe tbody tr th:only-of-type {\n        vertical-align: middle;\n    }\n\n    .dataframe tbody tr th {\n        vertical-align: top;\n    }\n\n    .dataframe thead th {\n        text-align: right;\n    }\n</style>\n<table border=\"1\" class=\"dataframe\">\n  <thead>\n    <tr style=\"text-align: right;\">\n      <th></th>\n      <th>RPT</th>\n      <th>VAL</th>\n      <th>ROS</th>\n      <th>KIL</th>\n      <th>SHA</th>\n      <th>BIR</th>\n      <th>DUB</th>\n      <th>CLA</th>\n      <th>MUL</th>\n      <th>CLO</th>\n      <th>BEL</th>\n      <th>MAL</th>\n    </tr>\n    <tr>\n      <th>Yr_Mo_Dy</th>\n      <th></th>\n      <th></th>\n      <th></th>\n      <th></th>\n      <th></th>\n      <th></th>\n      <th></th>\n      <th></th>\n      <th></th>\n      <th></th>\n      <th></th>\n      <th></th>\n    </tr>\n  </thead>\n  <tbody>\n    <tr>\n      <td>1969-12-29/1970-01-04</td>\n      <td>9.470000</td>\n      <td>5.522500</td>\n      <td>10.457500</td>\n      <td>3.427500</td>\n      <td>4.927500</td>\n      <td>3.855000</td>\n      <td>7.907500</td>\n      <td>5.085000</td>\n      <td>6.387500</td>\n      <td>4.437500</td>\n      <td>9.405000</td>\n      <td>15.937500</td>\n    </tr>\n    <tr>\n      <td>1970-01-05/1970-01-11</td>\n      <td>12.762857</td>\n      <td>9.290000</td>\n      <td>12.945714</td>\n      <td>4.941429</td>\n      <td>7.840000</td>\n      <td>7.380000</td>\n      <td>10.571429</td>\n      <td>7.515714</td>\n      <td>8.192857</td>\n      <td>6.315714</td>\n      <td>9.547143</td>\n      <td>15.998571</td>\n    </tr>\n    <tr>\n      <td>1970-01-12/1970-01-18</td>\n      <td>12.484286</td>\n      <td>12.530000</td>\n      <td>11.857143</td>\n      <td>5.470000</td>\n      <td>10.005714</td>\n      <td>8.081429</td>\n      <td>9.468571</td>\n      <td>8.950000</td>\n      <td>8.120000</td>\n      <td>7.671429</td>\n      <td>11.612857</td>\n      <td>17.060000</td>\n    </tr>\n    <tr>\n      <td>1970-01-19/1970-01-25</td>\n      <td>16.440000</td>\n      <td>15.818571</td>\n      <td>15.154286</td>\n      <td>8.298571</td>\n      <td>12.118571</td>\n      <td>10.454286</td>\n      <td>10.462857</td>\n      <td>11.958571</td>\n      <td>10.462857</td>\n      <td>11.071429</td>\n      <td>17.802857</td>\n      <td>20.201429</td>\n    </tr>\n    <tr>\n      <td>1970-01-26/1970-02-01</td>\n      <td>14.302857</td>\n      <td>14.274286</td>\n      <td>14.557143</td>\n      <td>6.988571</td>\n      <td>12.147143</td>\n      <td>9.690000</td>\n      <td>11.177143</td>\n      <td>10.280000</td>\n      <td>9.251429</td>\n      <td>8.727143</td>\n      <td>14.034286</td>\n      <td>17.355714</td>\n    </tr>\n    <tr>\n      <td>...</td>\n      <td>...</td>\n      <td>...</td>\n      <td>...</td>\n      <td>...</td>\n      <td>...</td>\n      <td>...</td>\n      <td>...</td>\n      <td>...</td>\n      <td>...</td>\n      <td>...</td>\n      <td>...</td>\n      <td>...</td>\n    </tr>\n    <tr>\n      <td>2069-12-02/2069-12-08</td>\n      <td>15.214286</td>\n      <td>13.148571</td>\n      <td>11.685714</td>\n      <td>7.081429</td>\n      <td>10.982857</td>\n      <td>7.387143</td>\n      <td>10.588571</td>\n      <td>9.768571</td>\n      <td>10.441429</td>\n      <td>8.128571</td>\n      <td>13.918571</td>\n      <td>18.571429</td>\n    </tr>\n    <tr>\n      <td>2069-12-09/2069-12-15</td>\n      <td>12.440000</td>\n      <td>12.065714</td>\n      <td>10.120000</td>\n      <td>4.037143</td>\n      <td>9.827143</td>\n      <td>7.028571</td>\n      <td>8.674286</td>\n      <td>7.338571</td>\n      <td>7.328571</td>\n      <td>6.977143</td>\n      <td>14.597143</td>\n      <td>15.522857</td>\n    </tr>\n    <tr>\n      <td>2069-12-16/2069-12-22</td>\n      <td>12.827143</td>\n      <td>11.578571</td>\n      <td>14.242857</td>\n      <td>6.250000</td>\n      <td>9.952857</td>\n      <td>9.084286</td>\n      <td>11.892857</td>\n      <td>9.522857</td>\n      <td>10.065714</td>\n      <td>9.082857</td>\n      <td>14.094286</td>\n      <td>20.238571</td>\n    </tr>\n    <tr>\n      <td>2069-12-23/2069-12-29</td>\n      <td>12.821429</td>\n      <td>11.220000</td>\n      <td>10.702857</td>\n      <td>3.958571</td>\n      <td>8.088571</td>\n      <td>6.430000</td>\n      <td>7.708571</td>\n      <td>7.564286</td>\n      <td>6.375714</td>\n      <td>5.875714</td>\n      <td>12.071429</td>\n      <td>14.738571</td>\n    </tr>\n    <tr>\n      <td>2069-12-30/2070-01-05</td>\n      <td>15.335000</td>\n      <td>13.540000</td>\n      <td>25.565000</td>\n      <td>7.560000</td>\n      <td>11.060000</td>\n      <td>9.085000</td>\n      <td>15.685000</td>\n      <td>11.210000</td>\n      <td>12.230000</td>\n      <td>9.270000</td>\n      <td>11.335000</td>\n      <td>22.625000</td>\n    </tr>\n  </tbody>\n</table>\n<p>941 rows × 12 columns</p>\n</div>"
     },
     "metadata": {},
     "execution_count": 17
    }
   ],
   "source": [
    "data.groupby(data.index.to_period('W')).mean()"
   ]
  },
  {
   "cell_type": "markdown",
   "metadata": {},
   "source": [
    "### Step 15. Calculate the min, max and mean windspeeds and standard deviations of the windspeeds across all locations for each week (assume that the first week starts on January 2 1961) for the first 52 weeks."
   ]
  },
  {
   "cell_type": "code",
   "execution_count": null,
   "metadata": {
    "collapsed": false
   },
   "outputs": [],
   "source": [
    "###"
   ]
  }
 ],
 "metadata": {
  "anaconda-cloud": {},
  "kernelspec": {
   "display_name": "Python 3",
   "language": "python",
   "name": "python3"
  },
  "language_info": {
   "codemirror_mode": {
    "name": "ipython",
    "version": 2
   },
   "file_extension": ".py",
   "mimetype": "text/x-python",
   "name": "python",
   "nbconvert_exporter": "python",
   "pygments_lexer": "ipython2",
   "version": "3.7.4-final"
  }
 },
 "nbformat": 4,
 "nbformat_minor": 0
}