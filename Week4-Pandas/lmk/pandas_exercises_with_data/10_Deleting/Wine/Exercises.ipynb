{
 "cells": [
  {
   "cell_type": "markdown",
   "metadata": {},
   "source": [
    "# Wine"
   ]
  },
  {
   "cell_type": "markdown",
   "metadata": {},
   "source": [
    "### Introduction:\n",
    "\n",
    "This exercise is a adaptation from the UCI Wine dataset.\n",
    "The only pupose is to practice deleting data with pandas.\n",
    "\n",
    "### Step 1. Import the necessary libraries"
   ]
  },
  {
   "cell_type": "code",
   "execution_count": 1,
   "metadata": {
    "collapsed": false
   },
   "outputs": [],
   "source": [
    "import pandas as pd\n",
    "import numpy as np"
   ]
  },
  {
   "cell_type": "markdown",
   "metadata": {},
   "source": [
    "### Step 2. Import the dataset from this [address](https://archive.ics.uci.edu/ml/machine-learning-databases/wine/wine.data). "
   ]
  },
  {
   "cell_type": "markdown",
   "metadata": {},
   "source": [
    "### Step 3. Assign it to a variable called wine"
   ]
  },
  {
   "cell_type": "code",
   "execution_count": 2,
   "metadata": {
    "collapsed": false
   },
   "outputs": [
    {
     "output_type": "execute_result",
     "data": {
      "text/plain": "   1  14.23  1.71  2.43  15.6  127   2.8  3.06   .28  2.29  5.64  1.04  3.92  \\\n0  1  13.20  1.78  2.14  11.2  100  2.65  2.76  0.26  1.28  4.38  1.05  3.40   \n1  1  13.16  2.36  2.67  18.6  101  2.80  3.24  0.30  2.81  5.68  1.03  3.17   \n2  1  14.37  1.95  2.50  16.8  113  3.85  3.49  0.24  2.18  7.80  0.86  3.45   \n3  1  13.24  2.59  2.87  21.0  118  2.80  2.69  0.39  1.82  4.32  1.04  2.93   \n4  1  14.20  1.76  2.45  15.2  112  3.27  3.39  0.34  1.97  6.75  1.05  2.85   \n\n   1065  \n0  1050  \n1  1185  \n2  1480  \n3   735  \n4  1450  ",
      "text/html": "<div>\n<style scoped>\n    .dataframe tbody tr th:only-of-type {\n        vertical-align: middle;\n    }\n\n    .dataframe tbody tr th {\n        vertical-align: top;\n    }\n\n    .dataframe thead th {\n        text-align: right;\n    }\n</style>\n<table border=\"1\" class=\"dataframe\">\n  <thead>\n    <tr style=\"text-align: right;\">\n      <th></th>\n      <th>1</th>\n      <th>14.23</th>\n      <th>1.71</th>\n      <th>2.43</th>\n      <th>15.6</th>\n      <th>127</th>\n      <th>2.8</th>\n      <th>3.06</th>\n      <th>.28</th>\n      <th>2.29</th>\n      <th>5.64</th>\n      <th>1.04</th>\n      <th>3.92</th>\n      <th>1065</th>\n    </tr>\n  </thead>\n  <tbody>\n    <tr>\n      <td>0</td>\n      <td>1</td>\n      <td>13.20</td>\n      <td>1.78</td>\n      <td>2.14</td>\n      <td>11.2</td>\n      <td>100</td>\n      <td>2.65</td>\n      <td>2.76</td>\n      <td>0.26</td>\n      <td>1.28</td>\n      <td>4.38</td>\n      <td>1.05</td>\n      <td>3.40</td>\n      <td>1050</td>\n    </tr>\n    <tr>\n      <td>1</td>\n      <td>1</td>\n      <td>13.16</td>\n      <td>2.36</td>\n      <td>2.67</td>\n      <td>18.6</td>\n      <td>101</td>\n      <td>2.80</td>\n      <td>3.24</td>\n      <td>0.30</td>\n      <td>2.81</td>\n      <td>5.68</td>\n      <td>1.03</td>\n      <td>3.17</td>\n      <td>1185</td>\n    </tr>\n    <tr>\n      <td>2</td>\n      <td>1</td>\n      <td>14.37</td>\n      <td>1.95</td>\n      <td>2.50</td>\n      <td>16.8</td>\n      <td>113</td>\n      <td>3.85</td>\n      <td>3.49</td>\n      <td>0.24</td>\n      <td>2.18</td>\n      <td>7.80</td>\n      <td>0.86</td>\n      <td>3.45</td>\n      <td>1480</td>\n    </tr>\n    <tr>\n      <td>3</td>\n      <td>1</td>\n      <td>13.24</td>\n      <td>2.59</td>\n      <td>2.87</td>\n      <td>21.0</td>\n      <td>118</td>\n      <td>2.80</td>\n      <td>2.69</td>\n      <td>0.39</td>\n      <td>1.82</td>\n      <td>4.32</td>\n      <td>1.04</td>\n      <td>2.93</td>\n      <td>735</td>\n    </tr>\n    <tr>\n      <td>4</td>\n      <td>1</td>\n      <td>14.20</td>\n      <td>1.76</td>\n      <td>2.45</td>\n      <td>15.2</td>\n      <td>112</td>\n      <td>3.27</td>\n      <td>3.39</td>\n      <td>0.34</td>\n      <td>1.97</td>\n      <td>6.75</td>\n      <td>1.05</td>\n      <td>2.85</td>\n      <td>1450</td>\n    </tr>\n  </tbody>\n</table>\n</div>"
     },
     "metadata": {},
     "execution_count": 2
    }
   ],
   "source": [
    "wine=pd.read_csv('C:/github_repository/2020-python-learning-master/Week4-Pandas/lmk/pandas_exercises_with_data/data/wine.data')\n",
    "wine.head()"
   ]
  },
  {
   "cell_type": "markdown",
   "metadata": {},
   "source": [
    "### Step 4. Delete the first, fourth, seventh, nineth, eleventh, thirteenth and fourteenth columns"
   ]
  },
  {
   "cell_type": "code",
   "execution_count": 3,
   "metadata": {
    "collapsed": false
   },
   "outputs": [
    {
     "output_type": "execute_result",
     "data": {
      "text/plain": "   14.23  1.71  15.6  127  3.06  2.29  1.04\n0  13.20  1.78  11.2  100  2.76  1.28  1.05\n1  13.16  2.36  18.6  101  3.24  2.81  1.03\n2  14.37  1.95  16.8  113  3.49  2.18  0.86\n3  13.24  2.59  21.0  118  2.69  1.82  1.04\n4  14.20  1.76  15.2  112  3.39  1.97  1.05",
      "text/html": "<div>\n<style scoped>\n    .dataframe tbody tr th:only-of-type {\n        vertical-align: middle;\n    }\n\n    .dataframe tbody tr th {\n        vertical-align: top;\n    }\n\n    .dataframe thead th {\n        text-align: right;\n    }\n</style>\n<table border=\"1\" class=\"dataframe\">\n  <thead>\n    <tr style=\"text-align: right;\">\n      <th></th>\n      <th>14.23</th>\n      <th>1.71</th>\n      <th>15.6</th>\n      <th>127</th>\n      <th>3.06</th>\n      <th>2.29</th>\n      <th>1.04</th>\n    </tr>\n  </thead>\n  <tbody>\n    <tr>\n      <td>0</td>\n      <td>13.20</td>\n      <td>1.78</td>\n      <td>11.2</td>\n      <td>100</td>\n      <td>2.76</td>\n      <td>1.28</td>\n      <td>1.05</td>\n    </tr>\n    <tr>\n      <td>1</td>\n      <td>13.16</td>\n      <td>2.36</td>\n      <td>18.6</td>\n      <td>101</td>\n      <td>3.24</td>\n      <td>2.81</td>\n      <td>1.03</td>\n    </tr>\n    <tr>\n      <td>2</td>\n      <td>14.37</td>\n      <td>1.95</td>\n      <td>16.8</td>\n      <td>113</td>\n      <td>3.49</td>\n      <td>2.18</td>\n      <td>0.86</td>\n    </tr>\n    <tr>\n      <td>3</td>\n      <td>13.24</td>\n      <td>2.59</td>\n      <td>21.0</td>\n      <td>118</td>\n      <td>2.69</td>\n      <td>1.82</td>\n      <td>1.04</td>\n    </tr>\n    <tr>\n      <td>4</td>\n      <td>14.20</td>\n      <td>1.76</td>\n      <td>15.2</td>\n      <td>112</td>\n      <td>3.39</td>\n      <td>1.97</td>\n      <td>1.05</td>\n    </tr>\n  </tbody>\n</table>\n</div>"
     },
     "metadata": {},
     "execution_count": 3
    }
   ],
   "source": [
    "wine=wine.drop(wine.columns[[0,3,6,8,10,12,13]],axis=1)\n",
    "wine.head()"
   ]
  },
  {
   "cell_type": "markdown",
   "metadata": {},
   "source": [
    "### Step 5. Assign the columns as below:\n",
    "\n",
    "The attributes are (donated by Riccardo Leardi, riclea '@' anchem.unige.it):  \n",
    "1) alcohol  \n",
    "2) malic_acid  \n",
    "3) alcalinity_of_ash  \n",
    "4) magnesium  \n",
    "5) flavanoids  \n",
    "6) proanthocyanins  \n",
    "7) hue "
   ]
  },
  {
   "cell_type": "code",
   "execution_count": 4,
   "metadata": {
    "collapsed": false
   },
   "outputs": [
    {
     "output_type": "execute_result",
     "data": {
      "text/plain": "   alcohol  malic_acid  alcalinity_of_ash  magnesium  flavanoids  \\\n0    13.20        1.78               11.2        100        2.76   \n1    13.16        2.36               18.6        101        3.24   \n2    14.37        1.95               16.8        113        3.49   \n3    13.24        2.59               21.0        118        2.69   \n4    14.20        1.76               15.2        112        3.39   \n\n   proanthocyanins   hue  \n0             1.28  1.05  \n1             2.81  1.03  \n2             2.18  0.86  \n3             1.82  1.04  \n4             1.97  1.05  ",
      "text/html": "<div>\n<style scoped>\n    .dataframe tbody tr th:only-of-type {\n        vertical-align: middle;\n    }\n\n    .dataframe tbody tr th {\n        vertical-align: top;\n    }\n\n    .dataframe thead th {\n        text-align: right;\n    }\n</style>\n<table border=\"1\" class=\"dataframe\">\n  <thead>\n    <tr style=\"text-align: right;\">\n      <th></th>\n      <th>alcohol</th>\n      <th>malic_acid</th>\n      <th>alcalinity_of_ash</th>\n      <th>magnesium</th>\n      <th>flavanoids</th>\n      <th>proanthocyanins</th>\n      <th>hue</th>\n    </tr>\n  </thead>\n  <tbody>\n    <tr>\n      <td>0</td>\n      <td>13.20</td>\n      <td>1.78</td>\n      <td>11.2</td>\n      <td>100</td>\n      <td>2.76</td>\n      <td>1.28</td>\n      <td>1.05</td>\n    </tr>\n    <tr>\n      <td>1</td>\n      <td>13.16</td>\n      <td>2.36</td>\n      <td>18.6</td>\n      <td>101</td>\n      <td>3.24</td>\n      <td>2.81</td>\n      <td>1.03</td>\n    </tr>\n    <tr>\n      <td>2</td>\n      <td>14.37</td>\n      <td>1.95</td>\n      <td>16.8</td>\n      <td>113</td>\n      <td>3.49</td>\n      <td>2.18</td>\n      <td>0.86</td>\n    </tr>\n    <tr>\n      <td>3</td>\n      <td>13.24</td>\n      <td>2.59</td>\n      <td>21.0</td>\n      <td>118</td>\n      <td>2.69</td>\n      <td>1.82</td>\n      <td>1.04</td>\n    </tr>\n    <tr>\n      <td>4</td>\n      <td>14.20</td>\n      <td>1.76</td>\n      <td>15.2</td>\n      <td>112</td>\n      <td>3.39</td>\n      <td>1.97</td>\n      <td>1.05</td>\n    </tr>\n  </tbody>\n</table>\n</div>"
     },
     "metadata": {},
     "execution_count": 4
    }
   ],
   "source": [
    "wine.columns=['alcohol','malic_acid','alcalinity_of_ash','magnesium','flavanoids','proanthocyanins','hue']\n",
    "wine.head()"
   ]
  },
  {
   "cell_type": "markdown",
   "metadata": {},
   "source": [
    "### Step 6. Set the values of the first 3 rows from alcohol as NaN"
   ]
  },
  {
   "cell_type": "code",
   "execution_count": 5,
   "metadata": {
    "collapsed": false
   },
   "outputs": [
    {
     "output_type": "execute_result",
     "data": {
      "text/plain": "   alcohol  malic_acid  alcalinity_of_ash  magnesium  flavanoids  \\\n0      NaN        1.78               11.2        100        2.76   \n1      NaN        2.36               18.6        101        3.24   \n2      NaN        1.95               16.8        113        3.49   \n3    13.24        2.59               21.0        118        2.69   \n4    14.20        1.76               15.2        112        3.39   \n\n   proanthocyanins   hue  \n0             1.28  1.05  \n1             2.81  1.03  \n2             2.18  0.86  \n3             1.82  1.04  \n4             1.97  1.05  ",
      "text/html": "<div>\n<style scoped>\n    .dataframe tbody tr th:only-of-type {\n        vertical-align: middle;\n    }\n\n    .dataframe tbody tr th {\n        vertical-align: top;\n    }\n\n    .dataframe thead th {\n        text-align: right;\n    }\n</style>\n<table border=\"1\" class=\"dataframe\">\n  <thead>\n    <tr style=\"text-align: right;\">\n      <th></th>\n      <th>alcohol</th>\n      <th>malic_acid</th>\n      <th>alcalinity_of_ash</th>\n      <th>magnesium</th>\n      <th>flavanoids</th>\n      <th>proanthocyanins</th>\n      <th>hue</th>\n    </tr>\n  </thead>\n  <tbody>\n    <tr>\n      <td>0</td>\n      <td>NaN</td>\n      <td>1.78</td>\n      <td>11.2</td>\n      <td>100</td>\n      <td>2.76</td>\n      <td>1.28</td>\n      <td>1.05</td>\n    </tr>\n    <tr>\n      <td>1</td>\n      <td>NaN</td>\n      <td>2.36</td>\n      <td>18.6</td>\n      <td>101</td>\n      <td>3.24</td>\n      <td>2.81</td>\n      <td>1.03</td>\n    </tr>\n    <tr>\n      <td>2</td>\n      <td>NaN</td>\n      <td>1.95</td>\n      <td>16.8</td>\n      <td>113</td>\n      <td>3.49</td>\n      <td>2.18</td>\n      <td>0.86</td>\n    </tr>\n    <tr>\n      <td>3</td>\n      <td>13.24</td>\n      <td>2.59</td>\n      <td>21.0</td>\n      <td>118</td>\n      <td>2.69</td>\n      <td>1.82</td>\n      <td>1.04</td>\n    </tr>\n    <tr>\n      <td>4</td>\n      <td>14.20</td>\n      <td>1.76</td>\n      <td>15.2</td>\n      <td>112</td>\n      <td>3.39</td>\n      <td>1.97</td>\n      <td>1.05</td>\n    </tr>\n  </tbody>\n</table>\n</div>"
     },
     "metadata": {},
     "execution_count": 5
    }
   ],
   "source": [
    "wine.iloc[0:3,0]=np.nan\n",
    "wine.head()"
   ]
  },
  {
   "cell_type": "markdown",
   "metadata": {},
   "source": [
    "### Step 7. Now set the value of the rows 3 and 4 of magnesium as NaN"
   ]
  },
  {
   "cell_type": "code",
   "execution_count": 6,
   "metadata": {
    "collapsed": false
   },
   "outputs": [
    {
     "output_type": "execute_result",
     "data": {
      "text/plain": "   alcohol  malic_acid  alcalinity_of_ash  magnesium  flavanoids  \\\n0      NaN        1.78               11.2      100.0        2.76   \n1      NaN        2.36               18.6      101.0        3.24   \n2      NaN        1.95               16.8        NaN        3.49   \n3    13.24        2.59               21.0        NaN        2.69   \n4    14.20        1.76               15.2      112.0        3.39   \n\n   proanthocyanins   hue  \n0             1.28  1.05  \n1             2.81  1.03  \n2             2.18  0.86  \n3             1.82  1.04  \n4             1.97  1.05  ",
      "text/html": "<div>\n<style scoped>\n    .dataframe tbody tr th:only-of-type {\n        vertical-align: middle;\n    }\n\n    .dataframe tbody tr th {\n        vertical-align: top;\n    }\n\n    .dataframe thead th {\n        text-align: right;\n    }\n</style>\n<table border=\"1\" class=\"dataframe\">\n  <thead>\n    <tr style=\"text-align: right;\">\n      <th></th>\n      <th>alcohol</th>\n      <th>malic_acid</th>\n      <th>alcalinity_of_ash</th>\n      <th>magnesium</th>\n      <th>flavanoids</th>\n      <th>proanthocyanins</th>\n      <th>hue</th>\n    </tr>\n  </thead>\n  <tbody>\n    <tr>\n      <td>0</td>\n      <td>NaN</td>\n      <td>1.78</td>\n      <td>11.2</td>\n      <td>100.0</td>\n      <td>2.76</td>\n      <td>1.28</td>\n      <td>1.05</td>\n    </tr>\n    <tr>\n      <td>1</td>\n      <td>NaN</td>\n      <td>2.36</td>\n      <td>18.6</td>\n      <td>101.0</td>\n      <td>3.24</td>\n      <td>2.81</td>\n      <td>1.03</td>\n    </tr>\n    <tr>\n      <td>2</td>\n      <td>NaN</td>\n      <td>1.95</td>\n      <td>16.8</td>\n      <td>NaN</td>\n      <td>3.49</td>\n      <td>2.18</td>\n      <td>0.86</td>\n    </tr>\n    <tr>\n      <td>3</td>\n      <td>13.24</td>\n      <td>2.59</td>\n      <td>21.0</td>\n      <td>NaN</td>\n      <td>2.69</td>\n      <td>1.82</td>\n      <td>1.04</td>\n    </tr>\n    <tr>\n      <td>4</td>\n      <td>14.20</td>\n      <td>1.76</td>\n      <td>15.2</td>\n      <td>112.0</td>\n      <td>3.39</td>\n      <td>1.97</td>\n      <td>1.05</td>\n    </tr>\n  </tbody>\n</table>\n</div>"
     },
     "metadata": {},
     "execution_count": 6
    }
   ],
   "source": [
    "wine.iloc[2:4,3]=np.nan\n",
    "wine.head()"
   ]
  },
  {
   "cell_type": "markdown",
   "metadata": {},
   "source": [
    "### Step 8. Fill the value of NaN with the number 10 in alcohol and 100 in magnesium"
   ]
  },
  {
   "cell_type": "code",
   "execution_count": 7,
   "metadata": {
    "collapsed": false
   },
   "outputs": [
    {
     "output_type": "execute_result",
     "data": {
      "text/plain": "   alcohol  malic_acid  alcalinity_of_ash  magnesium  flavanoids  \\\n0    10.00        1.78               11.2      100.0        2.76   \n1    10.00        2.36               18.6      101.0        3.24   \n2    10.00        1.95               16.8      100.0        3.49   \n3    13.24        2.59               21.0      100.0        2.69   \n4    14.20        1.76               15.2      112.0        3.39   \n\n   proanthocyanins   hue  \n0             1.28  1.05  \n1             2.81  1.03  \n2             2.18  0.86  \n3             1.82  1.04  \n4             1.97  1.05  ",
      "text/html": "<div>\n<style scoped>\n    .dataframe tbody tr th:only-of-type {\n        vertical-align: middle;\n    }\n\n    .dataframe tbody tr th {\n        vertical-align: top;\n    }\n\n    .dataframe thead th {\n        text-align: right;\n    }\n</style>\n<table border=\"1\" class=\"dataframe\">\n  <thead>\n    <tr style=\"text-align: right;\">\n      <th></th>\n      <th>alcohol</th>\n      <th>malic_acid</th>\n      <th>alcalinity_of_ash</th>\n      <th>magnesium</th>\n      <th>flavanoids</th>\n      <th>proanthocyanins</th>\n      <th>hue</th>\n    </tr>\n  </thead>\n  <tbody>\n    <tr>\n      <td>0</td>\n      <td>10.00</td>\n      <td>1.78</td>\n      <td>11.2</td>\n      <td>100.0</td>\n      <td>2.76</td>\n      <td>1.28</td>\n      <td>1.05</td>\n    </tr>\n    <tr>\n      <td>1</td>\n      <td>10.00</td>\n      <td>2.36</td>\n      <td>18.6</td>\n      <td>101.0</td>\n      <td>3.24</td>\n      <td>2.81</td>\n      <td>1.03</td>\n    </tr>\n    <tr>\n      <td>2</td>\n      <td>10.00</td>\n      <td>1.95</td>\n      <td>16.8</td>\n      <td>100.0</td>\n      <td>3.49</td>\n      <td>2.18</td>\n      <td>0.86</td>\n    </tr>\n    <tr>\n      <td>3</td>\n      <td>13.24</td>\n      <td>2.59</td>\n      <td>21.0</td>\n      <td>100.0</td>\n      <td>2.69</td>\n      <td>1.82</td>\n      <td>1.04</td>\n    </tr>\n    <tr>\n      <td>4</td>\n      <td>14.20</td>\n      <td>1.76</td>\n      <td>15.2</td>\n      <td>112.0</td>\n      <td>3.39</td>\n      <td>1.97</td>\n      <td>1.05</td>\n    </tr>\n  </tbody>\n</table>\n</div>"
     },
     "metadata": {},
     "execution_count": 7
    }
   ],
   "source": [
    "wine.alcohol.fillna(10,inplace=True)\n",
    "wine.magnesium.fillna(100,inplace=True)\n",
    "wine.head()"
   ]
  },
  {
   "cell_type": "markdown",
   "metadata": {},
   "source": [
    "### Step 9. Count the number of missing values"
   ]
  },
  {
   "cell_type": "code",
   "execution_count": 8,
   "metadata": {
    "collapsed": false
   },
   "outputs": [
    {
     "output_type": "execute_result",
     "data": {
      "text/plain": "alcohol              0\nmalic_acid           0\nalcalinity_of_ash    0\nmagnesium            0\nflavanoids           0\nproanthocyanins      0\nhue                  0\ndtype: int64"
     },
     "metadata": {},
     "execution_count": 8
    }
   ],
   "source": [
    "wine.isnull().sum()"
   ]
  },
  {
   "cell_type": "markdown",
   "metadata": {},
   "source": [
    "### Step 10.  Create an array of 10 random numbers up until 10"
   ]
  },
  {
   "cell_type": "code",
   "execution_count": 9,
   "metadata": {
    "collapsed": false
   },
   "outputs": [
    {
     "output_type": "execute_result",
     "data": {
      "text/plain": "array([3, 4, 0, 9, 1, 9, 4, 4, 8, 5])"
     },
     "metadata": {},
     "execution_count": 9
    }
   ],
   "source": [
    "a=np.random.randint(10,size=10);a"
   ]
  },
  {
   "cell_type": "markdown",
   "metadata": {},
   "source": [
    "### Step 11.  Use random numbers you generated as an index and assign NaN value to each of cell."
   ]
  },
  {
   "cell_type": "code",
   "execution_count": 11,
   "metadata": {
    "collapsed": false
   },
   "outputs": [
    {
     "output_type": "execute_result",
     "data": {
      "text/plain": "   alcohol  malic_acid  alcalinity_of_ash  magnesium  flavanoids  \\\n0      NaN        1.78               11.2      100.0        2.76   \n1      NaN        2.36               18.6      101.0        3.24   \n2    10.00        1.95               16.8      100.0        3.49   \n3      NaN        2.59               21.0      100.0        2.69   \n4      NaN        1.76               15.2      112.0        3.39   \n5      NaN        1.87               14.6       96.0        2.52   \n6    14.06        2.15               17.6      121.0        2.51   \n7    14.83        1.64               14.0       97.0        2.98   \n8      NaN        1.35               16.0       98.0        3.15   \n9      NaN        2.16               18.0      105.0        3.32   \n\n   proanthocyanins   hue  \n0             1.28  1.05  \n1             2.81  1.03  \n2             2.18  0.86  \n3             1.82  1.04  \n4             1.97  1.05  \n5             1.98  1.02  \n6             1.25  1.06  \n7             1.98  1.08  \n8             1.85  1.01  \n9             2.38  1.25  ",
      "text/html": "<div>\n<style scoped>\n    .dataframe tbody tr th:only-of-type {\n        vertical-align: middle;\n    }\n\n    .dataframe tbody tr th {\n        vertical-align: top;\n    }\n\n    .dataframe thead th {\n        text-align: right;\n    }\n</style>\n<table border=\"1\" class=\"dataframe\">\n  <thead>\n    <tr style=\"text-align: right;\">\n      <th></th>\n      <th>alcohol</th>\n      <th>malic_acid</th>\n      <th>alcalinity_of_ash</th>\n      <th>magnesium</th>\n      <th>flavanoids</th>\n      <th>proanthocyanins</th>\n      <th>hue</th>\n    </tr>\n  </thead>\n  <tbody>\n    <tr>\n      <td>0</td>\n      <td>NaN</td>\n      <td>1.78</td>\n      <td>11.2</td>\n      <td>100.0</td>\n      <td>2.76</td>\n      <td>1.28</td>\n      <td>1.05</td>\n    </tr>\n    <tr>\n      <td>1</td>\n      <td>NaN</td>\n      <td>2.36</td>\n      <td>18.6</td>\n      <td>101.0</td>\n      <td>3.24</td>\n      <td>2.81</td>\n      <td>1.03</td>\n    </tr>\n    <tr>\n      <td>2</td>\n      <td>10.00</td>\n      <td>1.95</td>\n      <td>16.8</td>\n      <td>100.0</td>\n      <td>3.49</td>\n      <td>2.18</td>\n      <td>0.86</td>\n    </tr>\n    <tr>\n      <td>3</td>\n      <td>NaN</td>\n      <td>2.59</td>\n      <td>21.0</td>\n      <td>100.0</td>\n      <td>2.69</td>\n      <td>1.82</td>\n      <td>1.04</td>\n    </tr>\n    <tr>\n      <td>4</td>\n      <td>NaN</td>\n      <td>1.76</td>\n      <td>15.2</td>\n      <td>112.0</td>\n      <td>3.39</td>\n      <td>1.97</td>\n      <td>1.05</td>\n    </tr>\n    <tr>\n      <td>5</td>\n      <td>NaN</td>\n      <td>1.87</td>\n      <td>14.6</td>\n      <td>96.0</td>\n      <td>2.52</td>\n      <td>1.98</td>\n      <td>1.02</td>\n    </tr>\n    <tr>\n      <td>6</td>\n      <td>14.06</td>\n      <td>2.15</td>\n      <td>17.6</td>\n      <td>121.0</td>\n      <td>2.51</td>\n      <td>1.25</td>\n      <td>1.06</td>\n    </tr>\n    <tr>\n      <td>7</td>\n      <td>14.83</td>\n      <td>1.64</td>\n      <td>14.0</td>\n      <td>97.0</td>\n      <td>2.98</td>\n      <td>1.98</td>\n      <td>1.08</td>\n    </tr>\n    <tr>\n      <td>8</td>\n      <td>NaN</td>\n      <td>1.35</td>\n      <td>16.0</td>\n      <td>98.0</td>\n      <td>3.15</td>\n      <td>1.85</td>\n      <td>1.01</td>\n    </tr>\n    <tr>\n      <td>9</td>\n      <td>NaN</td>\n      <td>2.16</td>\n      <td>18.0</td>\n      <td>105.0</td>\n      <td>3.32</td>\n      <td>2.38</td>\n      <td>1.25</td>\n    </tr>\n  </tbody>\n</table>\n</div>"
     },
     "metadata": {},
     "execution_count": 11
    }
   ],
   "source": [
    "wine.alcohol[a]=np.nan\n",
    "wine.head(10)"
   ]
  },
  {
   "cell_type": "markdown",
   "metadata": {},
   "source": [
    "### Step 12.  How many missing values do we have?"
   ]
  },
  {
   "cell_type": "code",
   "execution_count": 12,
   "metadata": {
    "collapsed": false
   },
   "outputs": [
    {
     "output_type": "execute_result",
     "data": {
      "text/plain": "alcohol              7\nmalic_acid           0\nalcalinity_of_ash    0\nmagnesium            0\nflavanoids           0\nproanthocyanins      0\nhue                  0\ndtype: int64"
     },
     "metadata": {},
     "execution_count": 12
    }
   ],
   "source": [
    "wine.isnull().sum()"
   ]
  },
  {
   "cell_type": "markdown",
   "metadata": {},
   "source": [
    "### Step 13. Delete the rows that contain missing values"
   ]
  },
  {
   "cell_type": "code",
   "execution_count": 13,
   "metadata": {
    "collapsed": false
   },
   "outputs": [
    {
     "output_type": "execute_result",
     "data": {
      "text/plain": "    alcohol  malic_acid  alcalinity_of_ash  magnesium  flavanoids  \\\n2     10.00        1.95               16.8      100.0        3.49   \n6     14.06        2.15               17.6      121.0        2.51   \n7     14.83        1.64               14.0       97.0        2.98   \n10    14.12        1.48               16.8       95.0        2.43   \n11    13.75        1.73               16.0       89.0        2.76   \n12    14.75        1.73               11.4       91.0        3.69   \n13    14.38        1.87               12.0      102.0        3.64   \n14    13.63        1.81               17.2      112.0        2.91   \n15    14.30        1.92               20.0      120.0        3.14   \n16    13.83        1.57               20.0      115.0        3.40   \n\n    proanthocyanins   hue  \n2              2.18  0.86  \n6              1.25  1.06  \n7              1.98  1.08  \n10             1.57  1.17  \n11             1.81  1.15  \n12             2.81  1.25  \n13             2.96  1.20  \n14             1.46  1.28  \n15             1.97  1.07  \n16             1.72  1.13  ",
      "text/html": "<div>\n<style scoped>\n    .dataframe tbody tr th:only-of-type {\n        vertical-align: middle;\n    }\n\n    .dataframe tbody tr th {\n        vertical-align: top;\n    }\n\n    .dataframe thead th {\n        text-align: right;\n    }\n</style>\n<table border=\"1\" class=\"dataframe\">\n  <thead>\n    <tr style=\"text-align: right;\">\n      <th></th>\n      <th>alcohol</th>\n      <th>malic_acid</th>\n      <th>alcalinity_of_ash</th>\n      <th>magnesium</th>\n      <th>flavanoids</th>\n      <th>proanthocyanins</th>\n      <th>hue</th>\n    </tr>\n  </thead>\n  <tbody>\n    <tr>\n      <td>2</td>\n      <td>10.00</td>\n      <td>1.95</td>\n      <td>16.8</td>\n      <td>100.0</td>\n      <td>3.49</td>\n      <td>2.18</td>\n      <td>0.86</td>\n    </tr>\n    <tr>\n      <td>6</td>\n      <td>14.06</td>\n      <td>2.15</td>\n      <td>17.6</td>\n      <td>121.0</td>\n      <td>2.51</td>\n      <td>1.25</td>\n      <td>1.06</td>\n    </tr>\n    <tr>\n      <td>7</td>\n      <td>14.83</td>\n      <td>1.64</td>\n      <td>14.0</td>\n      <td>97.0</td>\n      <td>2.98</td>\n      <td>1.98</td>\n      <td>1.08</td>\n    </tr>\n    <tr>\n      <td>10</td>\n      <td>14.12</td>\n      <td>1.48</td>\n      <td>16.8</td>\n      <td>95.0</td>\n      <td>2.43</td>\n      <td>1.57</td>\n      <td>1.17</td>\n    </tr>\n    <tr>\n      <td>11</td>\n      <td>13.75</td>\n      <td>1.73</td>\n      <td>16.0</td>\n      <td>89.0</td>\n      <td>2.76</td>\n      <td>1.81</td>\n      <td>1.15</td>\n    </tr>\n    <tr>\n      <td>12</td>\n      <td>14.75</td>\n      <td>1.73</td>\n      <td>11.4</td>\n      <td>91.0</td>\n      <td>3.69</td>\n      <td>2.81</td>\n      <td>1.25</td>\n    </tr>\n    <tr>\n      <td>13</td>\n      <td>14.38</td>\n      <td>1.87</td>\n      <td>12.0</td>\n      <td>102.0</td>\n      <td>3.64</td>\n      <td>2.96</td>\n      <td>1.20</td>\n    </tr>\n    <tr>\n      <td>14</td>\n      <td>13.63</td>\n      <td>1.81</td>\n      <td>17.2</td>\n      <td>112.0</td>\n      <td>2.91</td>\n      <td>1.46</td>\n      <td>1.28</td>\n    </tr>\n    <tr>\n      <td>15</td>\n      <td>14.30</td>\n      <td>1.92</td>\n      <td>20.0</td>\n      <td>120.0</td>\n      <td>3.14</td>\n      <td>1.97</td>\n      <td>1.07</td>\n    </tr>\n    <tr>\n      <td>16</td>\n      <td>13.83</td>\n      <td>1.57</td>\n      <td>20.0</td>\n      <td>115.0</td>\n      <td>3.40</td>\n      <td>1.72</td>\n      <td>1.13</td>\n    </tr>\n  </tbody>\n</table>\n</div>"
     },
     "metadata": {},
     "execution_count": 13
    }
   ],
   "source": [
    "wine=wine.dropna(how='any',axis=0)\n",
    "wine.head(10)"
   ]
  },
  {
   "cell_type": "markdown",
   "metadata": {},
   "source": [
    "### Step 14. Print only the non-null values in alcohol"
   ]
  },
  {
   "cell_type": "code",
   "execution_count": 15,
   "metadata": {
    "collapsed": false
   },
   "outputs": [
    {
     "output_type": "execute_result",
     "data": {
      "text/plain": "2      True\n6      True\n7      True\n10     True\n11     True\n       ... \n172    True\n173    True\n174    True\n175    True\n176    True\nName: alcohol, Length: 170, dtype: bool"
     },
     "metadata": {},
     "execution_count": 15
    }
   ],
   "source": [
    "non_null=wine.alcohol.notnull()\n",
    "non_null"
   ]
  },
  {
   "cell_type": "code",
   "execution_count": 16,
   "metadata": {},
   "outputs": [
    {
     "output_type": "execute_result",
     "data": {
      "text/plain": "2      10.00\n6      14.06\n7      14.83\n10     14.12\n11     13.75\n       ...  \n172    13.71\n173    13.40\n174    13.27\n175    13.17\n176    14.13\nName: alcohol, Length: 170, dtype: float64"
     },
     "metadata": {},
     "execution_count": 16
    }
   ],
   "source": [
    "wine.alcohol[non_null]"
   ]
  },
  {
   "cell_type": "markdown",
   "metadata": {},
   "source": [
    "### Step 15.  Reset the index, so it starts with 0 again"
   ]
  },
  {
   "cell_type": "code",
   "execution_count": 17,
   "metadata": {
    "collapsed": false
   },
   "outputs": [
    {
     "output_type": "execute_result",
     "data": {
      "text/plain": "   alcohol  malic_acid  alcalinity_of_ash  magnesium  flavanoids  \\\n0    10.00        1.95               16.8      100.0        3.49   \n1    14.06        2.15               17.6      121.0        2.51   \n2    14.83        1.64               14.0       97.0        2.98   \n3    14.12        1.48               16.8       95.0        2.43   \n4    13.75        1.73               16.0       89.0        2.76   \n\n   proanthocyanins   hue  \n0             2.18  0.86  \n1             1.25  1.06  \n2             1.98  1.08  \n3             1.57  1.17  \n4             1.81  1.15  ",
      "text/html": "<div>\n<style scoped>\n    .dataframe tbody tr th:only-of-type {\n        vertical-align: middle;\n    }\n\n    .dataframe tbody tr th {\n        vertical-align: top;\n    }\n\n    .dataframe thead th {\n        text-align: right;\n    }\n</style>\n<table border=\"1\" class=\"dataframe\">\n  <thead>\n    <tr style=\"text-align: right;\">\n      <th></th>\n      <th>alcohol</th>\n      <th>malic_acid</th>\n      <th>alcalinity_of_ash</th>\n      <th>magnesium</th>\n      <th>flavanoids</th>\n      <th>proanthocyanins</th>\n      <th>hue</th>\n    </tr>\n  </thead>\n  <tbody>\n    <tr>\n      <td>0</td>\n      <td>10.00</td>\n      <td>1.95</td>\n      <td>16.8</td>\n      <td>100.0</td>\n      <td>3.49</td>\n      <td>2.18</td>\n      <td>0.86</td>\n    </tr>\n    <tr>\n      <td>1</td>\n      <td>14.06</td>\n      <td>2.15</td>\n      <td>17.6</td>\n      <td>121.0</td>\n      <td>2.51</td>\n      <td>1.25</td>\n      <td>1.06</td>\n    </tr>\n    <tr>\n      <td>2</td>\n      <td>14.83</td>\n      <td>1.64</td>\n      <td>14.0</td>\n      <td>97.0</td>\n      <td>2.98</td>\n      <td>1.98</td>\n      <td>1.08</td>\n    </tr>\n    <tr>\n      <td>3</td>\n      <td>14.12</td>\n      <td>1.48</td>\n      <td>16.8</td>\n      <td>95.0</td>\n      <td>2.43</td>\n      <td>1.57</td>\n      <td>1.17</td>\n    </tr>\n    <tr>\n      <td>4</td>\n      <td>13.75</td>\n      <td>1.73</td>\n      <td>16.0</td>\n      <td>89.0</td>\n      <td>2.76</td>\n      <td>1.81</td>\n      <td>1.15</td>\n    </tr>\n  </tbody>\n</table>\n</div>"
     },
     "metadata": {},
     "execution_count": 17
    }
   ],
   "source": [
    "wine=wine.reset_index(drop=True)\n",
    "wine.head()"
   ]
  },
  {
   "cell_type": "markdown",
   "metadata": {},
   "source": [
    "### BONUS: Create your own question and answer it."
   ]
  },
  {
   "cell_type": "code",
   "execution_count": null,
   "metadata": {
    "collapsed": true
   },
   "outputs": [],
   "source": []
  }
 ],
 "metadata": {
  "kernelspec": {
   "display_name": "Python 3",
   "language": "python",
   "name": "python3"
  },
  "language_info": {
   "codemirror_mode": {
    "name": "ipython",
    "version": 2
   },
   "file_extension": ".py",
   "mimetype": "text/x-python",
   "name": "python",
   "nbconvert_exporter": "python",
   "pygments_lexer": "ipython2",
   "version": "3.7.4-final"
  }
 },
 "nbformat": 4,
 "nbformat_minor": 0
}