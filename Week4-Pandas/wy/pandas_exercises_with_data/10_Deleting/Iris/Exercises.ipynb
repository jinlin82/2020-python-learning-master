{
 "cells": [
  {
   "cell_type": "markdown",
   "metadata": {},
   "source": [
    "# Iris"
   ]
  },
  {
   "cell_type": "markdown",
   "metadata": {},
   "source": [
    "### Introduction:\n",
    "\n",
    "This exercise may seem a little bit strange, but keep doing it.\n",
    "\n",
    "### Step 1. Import the necessary libraries"
   ]
  },
  {
   "cell_type": "code",
   "execution_count": 14,
   "metadata": {
    "collapsed": false
   },
   "outputs": [],
   "source": [
    "import pandas as pd\n",
    "import numpy as np"
   ]
  },
  {
   "cell_type": "markdown",
   "metadata": {},
   "source": [
    "### Step 2. Import the dataset from this [address](https://archive.ics.uci.edu/ml/machine-learning-databases/iris/iris.data). "
   ]
  },
  {
   "cell_type": "markdown",
   "metadata": {},
   "source": [
    "### Step 3. Assign it to a variable called iris"
   ]
  },
  {
   "cell_type": "code",
   "execution_count": 5,
   "metadata": {
    "collapsed": false
   },
   "outputs": [
    {
     "output_type": "execute_result",
     "data": {
      "text/plain": "     5.1  3.5  1.4  0.2     Iris-setosa\n0    4.9  3.0  1.4  0.2     Iris-setosa\n1    4.7  3.2  1.3  0.2     Iris-setosa\n2    4.6  3.1  1.5  0.2     Iris-setosa\n3    5.0  3.6  1.4  0.2     Iris-setosa\n4    5.4  3.9  1.7  0.4     Iris-setosa\n..   ...  ...  ...  ...             ...\n144  6.7  3.0  5.2  2.3  Iris-virginica\n145  6.3  2.5  5.0  1.9  Iris-virginica\n146  6.5  3.0  5.2  2.0  Iris-virginica\n147  6.2  3.4  5.4  2.3  Iris-virginica\n148  5.9  3.0  5.1  1.8  Iris-virginica\n\n[149 rows x 5 columns]",
      "text/html": "<div>\n<style scoped>\n    .dataframe tbody tr th:only-of-type {\n        vertical-align: middle;\n    }\n\n    .dataframe tbody tr th {\n        vertical-align: top;\n    }\n\n    .dataframe thead th {\n        text-align: right;\n    }\n</style>\n<table border=\"1\" class=\"dataframe\">\n  <thead>\n    <tr style=\"text-align: right;\">\n      <th></th>\n      <th>5.1</th>\n      <th>3.5</th>\n      <th>1.4</th>\n      <th>0.2</th>\n      <th>Iris-setosa</th>\n    </tr>\n  </thead>\n  <tbody>\n    <tr>\n      <th>0</th>\n      <td>4.9</td>\n      <td>3.0</td>\n      <td>1.4</td>\n      <td>0.2</td>\n      <td>Iris-setosa</td>\n    </tr>\n    <tr>\n      <th>1</th>\n      <td>4.7</td>\n      <td>3.2</td>\n      <td>1.3</td>\n      <td>0.2</td>\n      <td>Iris-setosa</td>\n    </tr>\n    <tr>\n      <th>2</th>\n      <td>4.6</td>\n      <td>3.1</td>\n      <td>1.5</td>\n      <td>0.2</td>\n      <td>Iris-setosa</td>\n    </tr>\n    <tr>\n      <th>3</th>\n      <td>5.0</td>\n      <td>3.6</td>\n      <td>1.4</td>\n      <td>0.2</td>\n      <td>Iris-setosa</td>\n    </tr>\n    <tr>\n      <th>4</th>\n      <td>5.4</td>\n      <td>3.9</td>\n      <td>1.7</td>\n      <td>0.4</td>\n      <td>Iris-setosa</td>\n    </tr>\n    <tr>\n      <th>...</th>\n      <td>...</td>\n      <td>...</td>\n      <td>...</td>\n      <td>...</td>\n      <td>...</td>\n    </tr>\n    <tr>\n      <th>144</th>\n      <td>6.7</td>\n      <td>3.0</td>\n      <td>5.2</td>\n      <td>2.3</td>\n      <td>Iris-virginica</td>\n    </tr>\n    <tr>\n      <th>145</th>\n      <td>6.3</td>\n      <td>2.5</td>\n      <td>5.0</td>\n      <td>1.9</td>\n      <td>Iris-virginica</td>\n    </tr>\n    <tr>\n      <th>146</th>\n      <td>6.5</td>\n      <td>3.0</td>\n      <td>5.2</td>\n      <td>2.0</td>\n      <td>Iris-virginica</td>\n    </tr>\n    <tr>\n      <th>147</th>\n      <td>6.2</td>\n      <td>3.4</td>\n      <td>5.4</td>\n      <td>2.3</td>\n      <td>Iris-virginica</td>\n    </tr>\n    <tr>\n      <th>148</th>\n      <td>5.9</td>\n      <td>3.0</td>\n      <td>5.1</td>\n      <td>1.8</td>\n      <td>Iris-virginica</td>\n    </tr>\n  </tbody>\n</table>\n<p>149 rows × 5 columns</p>\n</div>"
     },
     "metadata": {},
     "execution_count": 5
    }
   ],
   "source": [
    "iris=pd.read_csv('../../data/iris.data');iris"
   ]
  },
  {
   "cell_type": "markdown",
   "metadata": {},
   "source": [
    "### Step 4. Create columns for the dataset"
   ]
  },
  {
   "cell_type": "code",
   "execution_count": 21,
   "metadata": {
    "collapsed": false
   },
   "outputs": [],
   "source": [
    "# 1. sepal_length (in cm)\n",
    "# 2. sepal_width (in cm)\n",
    "# 3. petal_length (in cm)\n",
    "# 4. petal_width (in cm)\n",
    "# 5. class\n",
    "iris=iris.rename(columns={'5.1':'sepal_length (in cm)','3.5':'sepal_width (in cm)','1.4':'petal_length (in cm)','0.2':'petal_width (in cm)','Iris-setosa':'class'})\n",
    "#iris.columns = ['sepal_length','sepal_width', 'petal_length', 'petal_width', 'class']"
   ]
  },
  {
   "cell_type": "markdown",
   "metadata": {},
   "source": [
    "### Step 5.  Is there any missing value in the dataframe?"
   ]
  },
  {
   "cell_type": "code",
   "execution_count": 22,
   "metadata": {
    "collapsed": false
   },
   "outputs": [
    {
     "output_type": "execute_result",
     "data": {
      "text/plain": "sepal_length (in cm)     0\nsepal_width (in cm)      0\npetal_length (in cm)    20\npetal_width (in cm)      0\nclass                    0\ndtype: int64"
     },
     "metadata": {},
     "execution_count": 22
    }
   ],
   "source": [
    "pd.isnull(iris).sum()"
   ]
  },
  {
   "cell_type": "markdown",
   "metadata": {},
   "source": [
    "### Step 6.  Lets set the values of the rows 10 to 29 of the column 'petal_length' to NaN"
   ]
  },
  {
   "cell_type": "code",
   "execution_count": 23,
   "metadata": {
    "collapsed": false
   },
   "outputs": [
    {
     "output_type": "execute_result",
     "data": {
      "text/plain": "    sepal_length (in cm)  sepal_width (in cm)  petal_length (in cm)  \\\n0                    4.9                  3.0                   1.4   \n1                    4.7                  3.2                   1.3   \n2                    4.6                  3.1                   1.5   \n3                    5.0                  3.6                   1.4   \n4                    5.4                  3.9                   1.7   \n5                    4.6                  3.4                   1.4   \n6                    5.0                  3.4                   1.5   \n7                    4.4                  2.9                   1.4   \n8                    4.9                  3.1                   1.5   \n9                    5.4                  3.7                   1.5   \n10                   4.8                  3.4                   NaN   \n11                   4.8                  3.0                   NaN   \n12                   4.3                  3.0                   NaN   \n13                   5.8                  4.0                   NaN   \n14                   5.7                  4.4                   NaN   \n15                   5.4                  3.9                   NaN   \n16                   5.1                  3.5                   NaN   \n17                   5.7                  3.8                   NaN   \n18                   5.1                  3.8                   NaN   \n19                   5.4                  3.4                   NaN   \n20                   5.1                  3.7                   NaN   \n21                   4.6                  3.6                   NaN   \n22                   5.1                  3.3                   NaN   \n23                   4.8                  3.4                   NaN   \n24                   5.0                  3.0                   NaN   \n25                   5.0                  3.4                   NaN   \n26                   5.2                  3.5                   NaN   \n27                   5.2                  3.4                   NaN   \n28                   4.7                  3.2                   NaN   \n29                   4.8                  3.1                   NaN   \n\n    petal_width (in cm)        class  \n0                   0.2  Iris-setosa  \n1                   0.2  Iris-setosa  \n2                   0.2  Iris-setosa  \n3                   0.2  Iris-setosa  \n4                   0.4  Iris-setosa  \n5                   0.3  Iris-setosa  \n6                   0.2  Iris-setosa  \n7                   0.2  Iris-setosa  \n8                   0.1  Iris-setosa  \n9                   0.2  Iris-setosa  \n10                  0.2  Iris-setosa  \n11                  0.1  Iris-setosa  \n12                  0.1  Iris-setosa  \n13                  0.2  Iris-setosa  \n14                  0.4  Iris-setosa  \n15                  0.4  Iris-setosa  \n16                  0.3  Iris-setosa  \n17                  0.3  Iris-setosa  \n18                  0.3  Iris-setosa  \n19                  0.2  Iris-setosa  \n20                  0.4  Iris-setosa  \n21                  0.2  Iris-setosa  \n22                  0.5  Iris-setosa  \n23                  0.2  Iris-setosa  \n24                  0.2  Iris-setosa  \n25                  0.4  Iris-setosa  \n26                  0.2  Iris-setosa  \n27                  0.2  Iris-setosa  \n28                  0.2  Iris-setosa  \n29                  0.2  Iris-setosa  ",
      "text/html": "<div>\n<style scoped>\n    .dataframe tbody tr th:only-of-type {\n        vertical-align: middle;\n    }\n\n    .dataframe tbody tr th {\n        vertical-align: top;\n    }\n\n    .dataframe thead th {\n        text-align: right;\n    }\n</style>\n<table border=\"1\" class=\"dataframe\">\n  <thead>\n    <tr style=\"text-align: right;\">\n      <th></th>\n      <th>sepal_length (in cm)</th>\n      <th>sepal_width (in cm)</th>\n      <th>petal_length (in cm)</th>\n      <th>petal_width (in cm)</th>\n      <th>class</th>\n    </tr>\n  </thead>\n  <tbody>\n    <tr>\n      <th>0</th>\n      <td>4.9</td>\n      <td>3.0</td>\n      <td>1.4</td>\n      <td>0.2</td>\n      <td>Iris-setosa</td>\n    </tr>\n    <tr>\n      <th>1</th>\n      <td>4.7</td>\n      <td>3.2</td>\n      <td>1.3</td>\n      <td>0.2</td>\n      <td>Iris-setosa</td>\n    </tr>\n    <tr>\n      <th>2</th>\n      <td>4.6</td>\n      <td>3.1</td>\n      <td>1.5</td>\n      <td>0.2</td>\n      <td>Iris-setosa</td>\n    </tr>\n    <tr>\n      <th>3</th>\n      <td>5.0</td>\n      <td>3.6</td>\n      <td>1.4</td>\n      <td>0.2</td>\n      <td>Iris-setosa</td>\n    </tr>\n    <tr>\n      <th>4</th>\n      <td>5.4</td>\n      <td>3.9</td>\n      <td>1.7</td>\n      <td>0.4</td>\n      <td>Iris-setosa</td>\n    </tr>\n    <tr>\n      <th>5</th>\n      <td>4.6</td>\n      <td>3.4</td>\n      <td>1.4</td>\n      <td>0.3</td>\n      <td>Iris-setosa</td>\n    </tr>\n    <tr>\n      <th>6</th>\n      <td>5.0</td>\n      <td>3.4</td>\n      <td>1.5</td>\n      <td>0.2</td>\n      <td>Iris-setosa</td>\n    </tr>\n    <tr>\n      <th>7</th>\n      <td>4.4</td>\n      <td>2.9</td>\n      <td>1.4</td>\n      <td>0.2</td>\n      <td>Iris-setosa</td>\n    </tr>\n    <tr>\n      <th>8</th>\n      <td>4.9</td>\n      <td>3.1</td>\n      <td>1.5</td>\n      <td>0.1</td>\n      <td>Iris-setosa</td>\n    </tr>\n    <tr>\n      <th>9</th>\n      <td>5.4</td>\n      <td>3.7</td>\n      <td>1.5</td>\n      <td>0.2</td>\n      <td>Iris-setosa</td>\n    </tr>\n    <tr>\n      <th>10</th>\n      <td>4.8</td>\n      <td>3.4</td>\n      <td>NaN</td>\n      <td>0.2</td>\n      <td>Iris-setosa</td>\n    </tr>\n    <tr>\n      <th>11</th>\n      <td>4.8</td>\n      <td>3.0</td>\n      <td>NaN</td>\n      <td>0.1</td>\n      <td>Iris-setosa</td>\n    </tr>\n    <tr>\n      <th>12</th>\n      <td>4.3</td>\n      <td>3.0</td>\n      <td>NaN</td>\n      <td>0.1</td>\n      <td>Iris-setosa</td>\n    </tr>\n    <tr>\n      <th>13</th>\n      <td>5.8</td>\n      <td>4.0</td>\n      <td>NaN</td>\n      <td>0.2</td>\n      <td>Iris-setosa</td>\n    </tr>\n    <tr>\n      <th>14</th>\n      <td>5.7</td>\n      <td>4.4</td>\n      <td>NaN</td>\n      <td>0.4</td>\n      <td>Iris-setosa</td>\n    </tr>\n    <tr>\n      <th>15</th>\n      <td>5.4</td>\n      <td>3.9</td>\n      <td>NaN</td>\n      <td>0.4</td>\n      <td>Iris-setosa</td>\n    </tr>\n    <tr>\n      <th>16</th>\n      <td>5.1</td>\n      <td>3.5</td>\n      <td>NaN</td>\n      <td>0.3</td>\n      <td>Iris-setosa</td>\n    </tr>\n    <tr>\n      <th>17</th>\n      <td>5.7</td>\n      <td>3.8</td>\n      <td>NaN</td>\n      <td>0.3</td>\n      <td>Iris-setosa</td>\n    </tr>\n    <tr>\n      <th>18</th>\n      <td>5.1</td>\n      <td>3.8</td>\n      <td>NaN</td>\n      <td>0.3</td>\n      <td>Iris-setosa</td>\n    </tr>\n    <tr>\n      <th>19</th>\n      <td>5.4</td>\n      <td>3.4</td>\n      <td>NaN</td>\n      <td>0.2</td>\n      <td>Iris-setosa</td>\n    </tr>\n    <tr>\n      <th>20</th>\n      <td>5.1</td>\n      <td>3.7</td>\n      <td>NaN</td>\n      <td>0.4</td>\n      <td>Iris-setosa</td>\n    </tr>\n    <tr>\n      <th>21</th>\n      <td>4.6</td>\n      <td>3.6</td>\n      <td>NaN</td>\n      <td>0.2</td>\n      <td>Iris-setosa</td>\n    </tr>\n    <tr>\n      <th>22</th>\n      <td>5.1</td>\n      <td>3.3</td>\n      <td>NaN</td>\n      <td>0.5</td>\n      <td>Iris-setosa</td>\n    </tr>\n    <tr>\n      <th>23</th>\n      <td>4.8</td>\n      <td>3.4</td>\n      <td>NaN</td>\n      <td>0.2</td>\n      <td>Iris-setosa</td>\n    </tr>\n    <tr>\n      <th>24</th>\n      <td>5.0</td>\n      <td>3.0</td>\n      <td>NaN</td>\n      <td>0.2</td>\n      <td>Iris-setosa</td>\n    </tr>\n    <tr>\n      <th>25</th>\n      <td>5.0</td>\n      <td>3.4</td>\n      <td>NaN</td>\n      <td>0.4</td>\n      <td>Iris-setosa</td>\n    </tr>\n    <tr>\n      <th>26</th>\n      <td>5.2</td>\n      <td>3.5</td>\n      <td>NaN</td>\n      <td>0.2</td>\n      <td>Iris-setosa</td>\n    </tr>\n    <tr>\n      <th>27</th>\n      <td>5.2</td>\n      <td>3.4</td>\n      <td>NaN</td>\n      <td>0.2</td>\n      <td>Iris-setosa</td>\n    </tr>\n    <tr>\n      <th>28</th>\n      <td>4.7</td>\n      <td>3.2</td>\n      <td>NaN</td>\n      <td>0.2</td>\n      <td>Iris-setosa</td>\n    </tr>\n    <tr>\n      <th>29</th>\n      <td>4.8</td>\n      <td>3.1</td>\n      <td>NaN</td>\n      <td>0.2</td>\n      <td>Iris-setosa</td>\n    </tr>\n  </tbody>\n</table>\n</div>"
     },
     "metadata": {},
     "execution_count": 23
    }
   ],
   "source": [
    "iris.iloc[10:30,2:3]=np.nan\n",
    "iris.head(30)"
   ]
  },
  {
   "cell_type": "markdown",
   "metadata": {},
   "source": [
    "### Step 7. Good, now lets substitute the NaN values to 1.0"
   ]
  },
  {
   "cell_type": "code",
   "execution_count": 26,
   "metadata": {
    "collapsed": false
   },
   "outputs": [
    {
     "output_type": "execute_result",
     "data": {
      "text/plain": "    sepal_length (in cm)  sepal_width (in cm)  petal_length (in cm)  \\\n0                    4.9                  3.0                   1.4   \n1                    4.7                  3.2                   1.3   \n2                    4.6                  3.1                   1.5   \n3                    5.0                  3.6                   1.4   \n4                    5.4                  3.9                   1.7   \n5                    4.6                  3.4                   1.4   \n6                    5.0                  3.4                   1.5   \n7                    4.4                  2.9                   1.4   \n8                    4.9                  3.1                   1.5   \n9                    5.4                  3.7                   1.5   \n10                   4.8                  3.4                   1.0   \n11                   4.8                  3.0                   1.0   \n12                   4.3                  3.0                   1.0   \n13                   5.8                  4.0                   1.0   \n14                   5.7                  4.4                   1.0   \n15                   5.4                  3.9                   1.0   \n16                   5.1                  3.5                   1.0   \n17                   5.7                  3.8                   1.0   \n18                   5.1                  3.8                   1.0   \n19                   5.4                  3.4                   1.0   \n20                   5.1                  3.7                   1.0   \n21                   4.6                  3.6                   1.0   \n22                   5.1                  3.3                   1.0   \n23                   4.8                  3.4                   1.0   \n24                   5.0                  3.0                   1.0   \n25                   5.0                  3.4                   1.0   \n26                   5.2                  3.5                   1.0   \n27                   5.2                  3.4                   1.0   \n28                   4.7                  3.2                   1.0   \n29                   4.8                  3.1                   1.0   \n\n    petal_width (in cm)        class  \n0                   0.2  Iris-setosa  \n1                   0.2  Iris-setosa  \n2                   0.2  Iris-setosa  \n3                   0.2  Iris-setosa  \n4                   0.4  Iris-setosa  \n5                   0.3  Iris-setosa  \n6                   0.2  Iris-setosa  \n7                   0.2  Iris-setosa  \n8                   0.1  Iris-setosa  \n9                   0.2  Iris-setosa  \n10                  0.2  Iris-setosa  \n11                  0.1  Iris-setosa  \n12                  0.1  Iris-setosa  \n13                  0.2  Iris-setosa  \n14                  0.4  Iris-setosa  \n15                  0.4  Iris-setosa  \n16                  0.3  Iris-setosa  \n17                  0.3  Iris-setosa  \n18                  0.3  Iris-setosa  \n19                  0.2  Iris-setosa  \n20                  0.4  Iris-setosa  \n21                  0.2  Iris-setosa  \n22                  0.5  Iris-setosa  \n23                  0.2  Iris-setosa  \n24                  0.2  Iris-setosa  \n25                  0.4  Iris-setosa  \n26                  0.2  Iris-setosa  \n27                  0.2  Iris-setosa  \n28                  0.2  Iris-setosa  \n29                  0.2  Iris-setosa  ",
      "text/html": "<div>\n<style scoped>\n    .dataframe tbody tr th:only-of-type {\n        vertical-align: middle;\n    }\n\n    .dataframe tbody tr th {\n        vertical-align: top;\n    }\n\n    .dataframe thead th {\n        text-align: right;\n    }\n</style>\n<table border=\"1\" class=\"dataframe\">\n  <thead>\n    <tr style=\"text-align: right;\">\n      <th></th>\n      <th>sepal_length (in cm)</th>\n      <th>sepal_width (in cm)</th>\n      <th>petal_length (in cm)</th>\n      <th>petal_width (in cm)</th>\n      <th>class</th>\n    </tr>\n  </thead>\n  <tbody>\n    <tr>\n      <th>0</th>\n      <td>4.9</td>\n      <td>3.0</td>\n      <td>1.4</td>\n      <td>0.2</td>\n      <td>Iris-setosa</td>\n    </tr>\n    <tr>\n      <th>1</th>\n      <td>4.7</td>\n      <td>3.2</td>\n      <td>1.3</td>\n      <td>0.2</td>\n      <td>Iris-setosa</td>\n    </tr>\n    <tr>\n      <th>2</th>\n      <td>4.6</td>\n      <td>3.1</td>\n      <td>1.5</td>\n      <td>0.2</td>\n      <td>Iris-setosa</td>\n    </tr>\n    <tr>\n      <th>3</th>\n      <td>5.0</td>\n      <td>3.6</td>\n      <td>1.4</td>\n      <td>0.2</td>\n      <td>Iris-setosa</td>\n    </tr>\n    <tr>\n      <th>4</th>\n      <td>5.4</td>\n      <td>3.9</td>\n      <td>1.7</td>\n      <td>0.4</td>\n      <td>Iris-setosa</td>\n    </tr>\n    <tr>\n      <th>5</th>\n      <td>4.6</td>\n      <td>3.4</td>\n      <td>1.4</td>\n      <td>0.3</td>\n      <td>Iris-setosa</td>\n    </tr>\n    <tr>\n      <th>6</th>\n      <td>5.0</td>\n      <td>3.4</td>\n      <td>1.5</td>\n      <td>0.2</td>\n      <td>Iris-setosa</td>\n    </tr>\n    <tr>\n      <th>7</th>\n      <td>4.4</td>\n      <td>2.9</td>\n      <td>1.4</td>\n      <td>0.2</td>\n      <td>Iris-setosa</td>\n    </tr>\n    <tr>\n      <th>8</th>\n      <td>4.9</td>\n      <td>3.1</td>\n      <td>1.5</td>\n      <td>0.1</td>\n      <td>Iris-setosa</td>\n    </tr>\n    <tr>\n      <th>9</th>\n      <td>5.4</td>\n      <td>3.7</td>\n      <td>1.5</td>\n      <td>0.2</td>\n      <td>Iris-setosa</td>\n    </tr>\n    <tr>\n      <th>10</th>\n      <td>4.8</td>\n      <td>3.4</td>\n      <td>1.0</td>\n      <td>0.2</td>\n      <td>Iris-setosa</td>\n    </tr>\n    <tr>\n      <th>11</th>\n      <td>4.8</td>\n      <td>3.0</td>\n      <td>1.0</td>\n      <td>0.1</td>\n      <td>Iris-setosa</td>\n    </tr>\n    <tr>\n      <th>12</th>\n      <td>4.3</td>\n      <td>3.0</td>\n      <td>1.0</td>\n      <td>0.1</td>\n      <td>Iris-setosa</td>\n    </tr>\n    <tr>\n      <th>13</th>\n      <td>5.8</td>\n      <td>4.0</td>\n      <td>1.0</td>\n      <td>0.2</td>\n      <td>Iris-setosa</td>\n    </tr>\n    <tr>\n      <th>14</th>\n      <td>5.7</td>\n      <td>4.4</td>\n      <td>1.0</td>\n      <td>0.4</td>\n      <td>Iris-setosa</td>\n    </tr>\n    <tr>\n      <th>15</th>\n      <td>5.4</td>\n      <td>3.9</td>\n      <td>1.0</td>\n      <td>0.4</td>\n      <td>Iris-setosa</td>\n    </tr>\n    <tr>\n      <th>16</th>\n      <td>5.1</td>\n      <td>3.5</td>\n      <td>1.0</td>\n      <td>0.3</td>\n      <td>Iris-setosa</td>\n    </tr>\n    <tr>\n      <th>17</th>\n      <td>5.7</td>\n      <td>3.8</td>\n      <td>1.0</td>\n      <td>0.3</td>\n      <td>Iris-setosa</td>\n    </tr>\n    <tr>\n      <th>18</th>\n      <td>5.1</td>\n      <td>3.8</td>\n      <td>1.0</td>\n      <td>0.3</td>\n      <td>Iris-setosa</td>\n    </tr>\n    <tr>\n      <th>19</th>\n      <td>5.4</td>\n      <td>3.4</td>\n      <td>1.0</td>\n      <td>0.2</td>\n      <td>Iris-setosa</td>\n    </tr>\n    <tr>\n      <th>20</th>\n      <td>5.1</td>\n      <td>3.7</td>\n      <td>1.0</td>\n      <td>0.4</td>\n      <td>Iris-setosa</td>\n    </tr>\n    <tr>\n      <th>21</th>\n      <td>4.6</td>\n      <td>3.6</td>\n      <td>1.0</td>\n      <td>0.2</td>\n      <td>Iris-setosa</td>\n    </tr>\n    <tr>\n      <th>22</th>\n      <td>5.1</td>\n      <td>3.3</td>\n      <td>1.0</td>\n      <td>0.5</td>\n      <td>Iris-setosa</td>\n    </tr>\n    <tr>\n      <th>23</th>\n      <td>4.8</td>\n      <td>3.4</td>\n      <td>1.0</td>\n      <td>0.2</td>\n      <td>Iris-setosa</td>\n    </tr>\n    <tr>\n      <th>24</th>\n      <td>5.0</td>\n      <td>3.0</td>\n      <td>1.0</td>\n      <td>0.2</td>\n      <td>Iris-setosa</td>\n    </tr>\n    <tr>\n      <th>25</th>\n      <td>5.0</td>\n      <td>3.4</td>\n      <td>1.0</td>\n      <td>0.4</td>\n      <td>Iris-setosa</td>\n    </tr>\n    <tr>\n      <th>26</th>\n      <td>5.2</td>\n      <td>3.5</td>\n      <td>1.0</td>\n      <td>0.2</td>\n      <td>Iris-setosa</td>\n    </tr>\n    <tr>\n      <th>27</th>\n      <td>5.2</td>\n      <td>3.4</td>\n      <td>1.0</td>\n      <td>0.2</td>\n      <td>Iris-setosa</td>\n    </tr>\n    <tr>\n      <th>28</th>\n      <td>4.7</td>\n      <td>3.2</td>\n      <td>1.0</td>\n      <td>0.2</td>\n      <td>Iris-setosa</td>\n    </tr>\n    <tr>\n      <th>29</th>\n      <td>4.8</td>\n      <td>3.1</td>\n      <td>1.0</td>\n      <td>0.2</td>\n      <td>Iris-setosa</td>\n    </tr>\n  </tbody>\n</table>\n</div>"
     },
     "metadata": {},
     "execution_count": 26
    }
   ],
   "source": [
    "iris['petal_length (in cm)'].fillna(1,inplace = True)\n",
    "iris.head(30)"
   ]
  },
  {
   "cell_type": "markdown",
   "metadata": {},
   "source": [
    "### Step 8. Now let's delete the column class"
   ]
  },
  {
   "cell_type": "code",
   "execution_count": 27,
   "metadata": {
    "collapsed": false
   },
   "outputs": [],
   "source": [
    "del iris['class']"
   ]
  },
  {
   "cell_type": "markdown",
   "metadata": {},
   "source": [
    "### Step 9.  Set the first 3 rows as NaN"
   ]
  },
  {
   "cell_type": "code",
   "execution_count": 30,
   "metadata": {
    "collapsed": false
   },
   "outputs": [
    {
     "output_type": "execute_result",
     "data": {
      "text/plain": "   sepal_length (in cm)  sepal_width (in cm)  petal_length (in cm)  \\\n0                   NaN                  NaN                   NaN   \n1                   NaN                  NaN                   NaN   \n2                   NaN                  NaN                   NaN   \n3                   5.0                  3.6                   1.4   \n4                   5.4                  3.9                   1.7   \n\n   petal_width (in cm)  \n0                  NaN  \n1                  NaN  \n2                  NaN  \n3                  0.2  \n4                  0.4  ",
      "text/html": "<div>\n<style scoped>\n    .dataframe tbody tr th:only-of-type {\n        vertical-align: middle;\n    }\n\n    .dataframe tbody tr th {\n        vertical-align: top;\n    }\n\n    .dataframe thead th {\n        text-align: right;\n    }\n</style>\n<table border=\"1\" class=\"dataframe\">\n  <thead>\n    <tr style=\"text-align: right;\">\n      <th></th>\n      <th>sepal_length (in cm)</th>\n      <th>sepal_width (in cm)</th>\n      <th>petal_length (in cm)</th>\n      <th>petal_width (in cm)</th>\n    </tr>\n  </thead>\n  <tbody>\n    <tr>\n      <th>0</th>\n      <td>NaN</td>\n      <td>NaN</td>\n      <td>NaN</td>\n      <td>NaN</td>\n    </tr>\n    <tr>\n      <th>1</th>\n      <td>NaN</td>\n      <td>NaN</td>\n      <td>NaN</td>\n      <td>NaN</td>\n    </tr>\n    <tr>\n      <th>2</th>\n      <td>NaN</td>\n      <td>NaN</td>\n      <td>NaN</td>\n      <td>NaN</td>\n    </tr>\n    <tr>\n      <th>3</th>\n      <td>5.0</td>\n      <td>3.6</td>\n      <td>1.4</td>\n      <td>0.2</td>\n    </tr>\n    <tr>\n      <th>4</th>\n      <td>5.4</td>\n      <td>3.9</td>\n      <td>1.7</td>\n      <td>0.4</td>\n    </tr>\n  </tbody>\n</table>\n</div>"
     },
     "metadata": {},
     "execution_count": 30
    }
   ],
   "source": [
    "iris.iloc[:3,:]=np.nan\n",
    "iris.head()"
   ]
  },
  {
   "cell_type": "markdown",
   "metadata": {},
   "source": [
    "### Step 10.  Delete the rows that have NaN"
   ]
  },
  {
   "cell_type": "code",
   "execution_count": 35,
   "metadata": {
    "collapsed": false
   },
   "outputs": [],
   "source": [
    "iris=iris.dropna()"
   ]
  },
  {
   "cell_type": "markdown",
   "metadata": {},
   "source": [
    "### Step 11. Reset the index so it begins with 0 again"
   ]
  },
  {
   "cell_type": "code",
   "execution_count": 36,
   "metadata": {
    "collapsed": false
   },
   "outputs": [
    {
     "output_type": "execute_result",
     "data": {
      "text/plain": "     sepal_length (in cm)  sepal_width (in cm)  petal_length (in cm)  \\\n0                     5.0                  3.6                   1.4   \n1                     5.4                  3.9                   1.7   \n2                     4.6                  3.4                   1.4   \n3                     5.0                  3.4                   1.5   \n4                     4.4                  2.9                   1.4   \n..                    ...                  ...                   ...   \n141                   6.7                  3.0                   5.2   \n142                   6.3                  2.5                   5.0   \n143                   6.5                  3.0                   5.2   \n144                   6.2                  3.4                   5.4   \n145                   5.9                  3.0                   5.1   \n\n     petal_width (in cm)  \n0                    0.2  \n1                    0.4  \n2                    0.3  \n3                    0.2  \n4                    0.2  \n..                   ...  \n141                  2.3  \n142                  1.9  \n143                  2.0  \n144                  2.3  \n145                  1.8  \n\n[146 rows x 4 columns]",
      "text/html": "<div>\n<style scoped>\n    .dataframe tbody tr th:only-of-type {\n        vertical-align: middle;\n    }\n\n    .dataframe tbody tr th {\n        vertical-align: top;\n    }\n\n    .dataframe thead th {\n        text-align: right;\n    }\n</style>\n<table border=\"1\" class=\"dataframe\">\n  <thead>\n    <tr style=\"text-align: right;\">\n      <th></th>\n      <th>sepal_length (in cm)</th>\n      <th>sepal_width (in cm)</th>\n      <th>petal_length (in cm)</th>\n      <th>petal_width (in cm)</th>\n    </tr>\n  </thead>\n  <tbody>\n    <tr>\n      <th>0</th>\n      <td>5.0</td>\n      <td>3.6</td>\n      <td>1.4</td>\n      <td>0.2</td>\n    </tr>\n    <tr>\n      <th>1</th>\n      <td>5.4</td>\n      <td>3.9</td>\n      <td>1.7</td>\n      <td>0.4</td>\n    </tr>\n    <tr>\n      <th>2</th>\n      <td>4.6</td>\n      <td>3.4</td>\n      <td>1.4</td>\n      <td>0.3</td>\n    </tr>\n    <tr>\n      <th>3</th>\n      <td>5.0</td>\n      <td>3.4</td>\n      <td>1.5</td>\n      <td>0.2</td>\n    </tr>\n    <tr>\n      <th>4</th>\n      <td>4.4</td>\n      <td>2.9</td>\n      <td>1.4</td>\n      <td>0.2</td>\n    </tr>\n    <tr>\n      <th>...</th>\n      <td>...</td>\n      <td>...</td>\n      <td>...</td>\n      <td>...</td>\n    </tr>\n    <tr>\n      <th>141</th>\n      <td>6.7</td>\n      <td>3.0</td>\n      <td>5.2</td>\n      <td>2.3</td>\n    </tr>\n    <tr>\n      <th>142</th>\n      <td>6.3</td>\n      <td>2.5</td>\n      <td>5.0</td>\n      <td>1.9</td>\n    </tr>\n    <tr>\n      <th>143</th>\n      <td>6.5</td>\n      <td>3.0</td>\n      <td>5.2</td>\n      <td>2.0</td>\n    </tr>\n    <tr>\n      <th>144</th>\n      <td>6.2</td>\n      <td>3.4</td>\n      <td>5.4</td>\n      <td>2.3</td>\n    </tr>\n    <tr>\n      <th>145</th>\n      <td>5.9</td>\n      <td>3.0</td>\n      <td>5.1</td>\n      <td>1.8</td>\n    </tr>\n  </tbody>\n</table>\n<p>146 rows × 4 columns</p>\n</div>"
     },
     "metadata": {},
     "execution_count": 36
    }
   ],
   "source": [
    "iris=iris.reset_index(drop=True)\n",
    "iris"
   ]
  },
  {
   "cell_type": "markdown",
   "metadata": {},
   "source": [
    "### BONUS: Create your own question and answer it."
   ]
  },
  {
   "cell_type": "code",
   "execution_count": null,
   "metadata": {
    "collapsed": true
   },
   "outputs": [],
   "source": []
  }
 ],
 "metadata": {
  "kernelspec": {
   "display_name": "Python 3",
   "language": "python",
   "name": "python3"
  },
  "language_info": {
   "codemirror_mode": {
    "name": "ipython",
    "version": 2
   },
   "file_extension": ".py",
   "mimetype": "text/x-python",
   "name": "python",
   "nbconvert_exporter": "python",
   "pygments_lexer": "ipython2",
   "version": "3.7.6-final"
  }
 },
 "nbformat": 4,
 "nbformat_minor": 0
}