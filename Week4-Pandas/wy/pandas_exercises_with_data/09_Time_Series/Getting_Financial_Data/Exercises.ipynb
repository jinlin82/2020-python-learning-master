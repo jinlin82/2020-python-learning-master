{
 "cells": [
  {
   "cell_type": "markdown",
   "metadata": {},
   "source": [
    "# Getting Financial Data - Google Finance"
   ]
  },
  {
   "cell_type": "markdown",
   "metadata": {},
   "source": [
    "### Introduction:\n",
    "\n",
    "This time you will get data from a website.\n",
    "\n",
    "\n",
    "### Step 1. Import the necessary libraries"
   ]
  },
  {
   "cell_type": "code",
   "execution_count": 7,
   "metadata": {
    "collapsed": false
   },
   "outputs": [],
   "source": [
    "import pandas as pd\n",
    "import datetime as dt\n",
    "import pandas_datareader.data as web"
   ]
  },
  {
   "cell_type": "markdown",
   "metadata": {},
   "source": [
    "### Step 2. Create your time range (start and end variables). The start date should be 01/01/2015 and the end should today (whatever your today is)"
   ]
  },
  {
   "cell_type": "code",
   "execution_count": 4,
   "metadata": {
    "collapsed": false
   },
   "outputs": [],
   "source": [
    "start=dt.datetime(2015,1,1)\n",
    "end=dt.datetime.today()"
   ]
  },
  {
   "cell_type": "markdown",
   "metadata": {},
   "source": [
    "### Step 3. Select the Apple, Tesla, Twitter, IBM, LinkedIn stocks symbols and assign them to a variable called stocks"
   ]
  },
  {
   "cell_type": "code",
   "execution_count": 6,
   "metadata": {
    "collapsed": false
   },
   "outputs": [],
   "source": [
    "stocks=['AAPL', 'TSLA','TWTR', 'IBM', 'LNKD']"
   ]
  },
  {
   "cell_type": "markdown",
   "metadata": {},
   "source": [
    "### Step 4. Read the data from google, assign to df and print it"
   ]
  },
  {
   "cell_type": "code",
   "execution_count": 11,
   "metadata": {
    "collapsed": false
   },
   "outputs": [
    {
     "output_type": "execute_result",
     "data": {
      "text/plain": "Attributes   Adj Close                                                Close  \\\nSymbols           AAPL         TSLA       TWTR         IBM LNKD        AAPL   \nDate                                                                          \n2014-12-31  100.905785   222.410004  35.869999  126.256348  NaN  110.379997   \n2015-01-02   99.945885   219.309998  36.560001  127.531136  NaN  109.330002   \n2015-01-05   97.130241   210.089996  36.380001  125.524490  NaN  106.250000   \n2015-01-06   97.139420   211.279999  38.759998  122.817429  NaN  106.260002   \n2015-01-07   98.501518   210.949997  37.279999  122.014748  NaN  107.750000   \n...                ...          ...        ...         ...  ...         ...   \n2020-07-24  370.459991  1417.000000  37.540001  125.790001  NaN  370.459991   \n2020-07-27  379.239990  1539.599976  36.849998  126.209999  NaN  379.239990   \n2020-07-28  373.010010  1476.489990  36.610001  124.470001  NaN  373.010010   \n2020-07-29  380.160004  1499.109985  37.160000  125.320000  NaN  380.160004   \n2020-07-30  384.760010  1487.489990  36.720001  122.900002  NaN  384.760010   \n\nAttributes                                           ...        Open  \\\nSymbols            TSLA       TWTR         IBM LNKD  ...        AAPL   \nDate                                                 ...               \n2014-12-31   222.410004  35.869999  160.440002  NaN  ...  112.820000   \n2015-01-02   219.309998  36.560001  162.059998  NaN  ...  111.389999   \n2015-01-05   210.089996  36.380001  159.509995  NaN  ...  108.290001   \n2015-01-06   211.279999  38.759998  156.070007  NaN  ...  106.540001   \n2015-01-07   210.949997  37.279999  155.050003  NaN  ...  107.199997   \n...                 ...        ...         ...  ...  ...         ...   \n2020-07-24  1417.000000  37.540001  125.790001  NaN  ...  363.950012   \n2020-07-27  1539.599976  36.849998  126.209999  NaN  ...  374.839996   \n2020-07-28  1476.489990  36.610001  124.470001  NaN  ...  377.470001   \n2020-07-29  1499.109985  37.160000  125.320000  NaN  ...  375.000000   \n2020-07-30  1487.489990  36.720001  122.900002  NaN  ...  376.750000   \n\nAttributes                                               Volume              \\\nSymbols            TSLA       TWTR         IBM LNKD        AAPL        TSLA   \nDate                                                                          \n2014-12-31   223.089996  35.889999  160.410004  NaN  41403400.0   2297500.0   \n2015-01-02   222.869995  36.230000  161.309998  NaN  53204600.0   4764400.0   \n2015-01-05   214.550003  36.259998  161.270004  NaN  64285500.0   5368500.0   \n2015-01-06   210.059998  36.270000  159.669998  NaN  65797100.0   6261900.0   \n2015-01-07   213.350006  39.099998  157.199997  NaN  40105900.0   2968400.0   \n...                 ...        ...         ...  ...         ...         ...   \n2020-07-24  1416.010010  38.279999  126.480003  NaN  46359700.0  19396600.0   \n2020-07-27  1435.000000  37.580002  124.860001  NaN  30303500.0  16048700.0   \n2020-07-28  1504.000000  36.450001  125.820000  NaN  25906400.0  15808700.0   \n2020-07-29  1501.000000  36.970001  124.559998  NaN  22582300.0   9426900.0   \n2020-07-30  1488.000000  36.730000  123.709999  NaN  38797600.0   7600200.0   \n\nAttributes                              \nSymbols           TWTR        IBM LNKD  \nDate                                    \n2014-12-31  17629400.0  4011900.0  NaN  \n2015-01-02  12062500.0  5525500.0  NaN  \n2015-01-05  15062700.0  4880400.0  NaN  \n2015-01-06  33050800.0  6146700.0  NaN  \n2015-01-07  22675700.0  4701800.0  NaN  \n...                ...        ...  ...  \n2020-07-24  23068300.0  3531100.0  NaN  \n2020-07-27  22911300.0  3733400.0  NaN  \n2020-07-28  13566800.0  4178200.0  NaN  \n2020-07-29  10675600.0  2832800.0  NaN  \n2020-07-30   9988600.0  3977500.0  NaN  \n\n[1405 rows x 30 columns]",
      "text/html": "<div>\n<style scoped>\n    .dataframe tbody tr th:only-of-type {\n        vertical-align: middle;\n    }\n\n    .dataframe tbody tr th {\n        vertical-align: top;\n    }\n\n    .dataframe thead tr th {\n        text-align: left;\n    }\n\n    .dataframe thead tr:last-of-type th {\n        text-align: right;\n    }\n</style>\n<table border=\"1\" class=\"dataframe\">\n  <thead>\n    <tr>\n      <th>Attributes</th>\n      <th colspan=\"5\" halign=\"left\">Adj Close</th>\n      <th colspan=\"5\" halign=\"left\">Close</th>\n      <th>...</th>\n      <th colspan=\"5\" halign=\"left\">Open</th>\n      <th colspan=\"5\" halign=\"left\">Volume</th>\n    </tr>\n    <tr>\n      <th>Symbols</th>\n      <th>AAPL</th>\n      <th>TSLA</th>\n      <th>TWTR</th>\n      <th>IBM</th>\n      <th>LNKD</th>\n      <th>AAPL</th>\n      <th>TSLA</th>\n      <th>TWTR</th>\n      <th>IBM</th>\n      <th>LNKD</th>\n      <th>...</th>\n      <th>AAPL</th>\n      <th>TSLA</th>\n      <th>TWTR</th>\n      <th>IBM</th>\n      <th>LNKD</th>\n      <th>AAPL</th>\n      <th>TSLA</th>\n      <th>TWTR</th>\n      <th>IBM</th>\n      <th>LNKD</th>\n    </tr>\n    <tr>\n      <th>Date</th>\n      <th></th>\n      <th></th>\n      <th></th>\n      <th></th>\n      <th></th>\n      <th></th>\n      <th></th>\n      <th></th>\n      <th></th>\n      <th></th>\n      <th></th>\n      <th></th>\n      <th></th>\n      <th></th>\n      <th></th>\n      <th></th>\n      <th></th>\n      <th></th>\n      <th></th>\n      <th></th>\n      <th></th>\n    </tr>\n  </thead>\n  <tbody>\n    <tr>\n      <th>2014-12-31</th>\n      <td>100.905785</td>\n      <td>222.410004</td>\n      <td>35.869999</td>\n      <td>126.256348</td>\n      <td>NaN</td>\n      <td>110.379997</td>\n      <td>222.410004</td>\n      <td>35.869999</td>\n      <td>160.440002</td>\n      <td>NaN</td>\n      <td>...</td>\n      <td>112.820000</td>\n      <td>223.089996</td>\n      <td>35.889999</td>\n      <td>160.410004</td>\n      <td>NaN</td>\n      <td>41403400.0</td>\n      <td>2297500.0</td>\n      <td>17629400.0</td>\n      <td>4011900.0</td>\n      <td>NaN</td>\n    </tr>\n    <tr>\n      <th>2015-01-02</th>\n      <td>99.945885</td>\n      <td>219.309998</td>\n      <td>36.560001</td>\n      <td>127.531136</td>\n      <td>NaN</td>\n      <td>109.330002</td>\n      <td>219.309998</td>\n      <td>36.560001</td>\n      <td>162.059998</td>\n      <td>NaN</td>\n      <td>...</td>\n      <td>111.389999</td>\n      <td>222.869995</td>\n      <td>36.230000</td>\n      <td>161.309998</td>\n      <td>NaN</td>\n      <td>53204600.0</td>\n      <td>4764400.0</td>\n      <td>12062500.0</td>\n      <td>5525500.0</td>\n      <td>NaN</td>\n    </tr>\n    <tr>\n      <th>2015-01-05</th>\n      <td>97.130241</td>\n      <td>210.089996</td>\n      <td>36.380001</td>\n      <td>125.524490</td>\n      <td>NaN</td>\n      <td>106.250000</td>\n      <td>210.089996</td>\n      <td>36.380001</td>\n      <td>159.509995</td>\n      <td>NaN</td>\n      <td>...</td>\n      <td>108.290001</td>\n      <td>214.550003</td>\n      <td>36.259998</td>\n      <td>161.270004</td>\n      <td>NaN</td>\n      <td>64285500.0</td>\n      <td>5368500.0</td>\n      <td>15062700.0</td>\n      <td>4880400.0</td>\n      <td>NaN</td>\n    </tr>\n    <tr>\n      <th>2015-01-06</th>\n      <td>97.139420</td>\n      <td>211.279999</td>\n      <td>38.759998</td>\n      <td>122.817429</td>\n      <td>NaN</td>\n      <td>106.260002</td>\n      <td>211.279999</td>\n      <td>38.759998</td>\n      <td>156.070007</td>\n      <td>NaN</td>\n      <td>...</td>\n      <td>106.540001</td>\n      <td>210.059998</td>\n      <td>36.270000</td>\n      <td>159.669998</td>\n      <td>NaN</td>\n      <td>65797100.0</td>\n      <td>6261900.0</td>\n      <td>33050800.0</td>\n      <td>6146700.0</td>\n      <td>NaN</td>\n    </tr>\n    <tr>\n      <th>2015-01-07</th>\n      <td>98.501518</td>\n      <td>210.949997</td>\n      <td>37.279999</td>\n      <td>122.014748</td>\n      <td>NaN</td>\n      <td>107.750000</td>\n      <td>210.949997</td>\n      <td>37.279999</td>\n      <td>155.050003</td>\n      <td>NaN</td>\n      <td>...</td>\n      <td>107.199997</td>\n      <td>213.350006</td>\n      <td>39.099998</td>\n      <td>157.199997</td>\n      <td>NaN</td>\n      <td>40105900.0</td>\n      <td>2968400.0</td>\n      <td>22675700.0</td>\n      <td>4701800.0</td>\n      <td>NaN</td>\n    </tr>\n    <tr>\n      <th>...</th>\n      <td>...</td>\n      <td>...</td>\n      <td>...</td>\n      <td>...</td>\n      <td>...</td>\n      <td>...</td>\n      <td>...</td>\n      <td>...</td>\n      <td>...</td>\n      <td>...</td>\n      <td>...</td>\n      <td>...</td>\n      <td>...</td>\n      <td>...</td>\n      <td>...</td>\n      <td>...</td>\n      <td>...</td>\n      <td>...</td>\n      <td>...</td>\n      <td>...</td>\n      <td>...</td>\n    </tr>\n    <tr>\n      <th>2020-07-24</th>\n      <td>370.459991</td>\n      <td>1417.000000</td>\n      <td>37.540001</td>\n      <td>125.790001</td>\n      <td>NaN</td>\n      <td>370.459991</td>\n      <td>1417.000000</td>\n      <td>37.540001</td>\n      <td>125.790001</td>\n      <td>NaN</td>\n      <td>...</td>\n      <td>363.950012</td>\n      <td>1416.010010</td>\n      <td>38.279999</td>\n      <td>126.480003</td>\n      <td>NaN</td>\n      <td>46359700.0</td>\n      <td>19396600.0</td>\n      <td>23068300.0</td>\n      <td>3531100.0</td>\n      <td>NaN</td>\n    </tr>\n    <tr>\n      <th>2020-07-27</th>\n      <td>379.239990</td>\n      <td>1539.599976</td>\n      <td>36.849998</td>\n      <td>126.209999</td>\n      <td>NaN</td>\n      <td>379.239990</td>\n      <td>1539.599976</td>\n      <td>36.849998</td>\n      <td>126.209999</td>\n      <td>NaN</td>\n      <td>...</td>\n      <td>374.839996</td>\n      <td>1435.000000</td>\n      <td>37.580002</td>\n      <td>124.860001</td>\n      <td>NaN</td>\n      <td>30303500.0</td>\n      <td>16048700.0</td>\n      <td>22911300.0</td>\n      <td>3733400.0</td>\n      <td>NaN</td>\n    </tr>\n    <tr>\n      <th>2020-07-28</th>\n      <td>373.010010</td>\n      <td>1476.489990</td>\n      <td>36.610001</td>\n      <td>124.470001</td>\n      <td>NaN</td>\n      <td>373.010010</td>\n      <td>1476.489990</td>\n      <td>36.610001</td>\n      <td>124.470001</td>\n      <td>NaN</td>\n      <td>...</td>\n      <td>377.470001</td>\n      <td>1504.000000</td>\n      <td>36.450001</td>\n      <td>125.820000</td>\n      <td>NaN</td>\n      <td>25906400.0</td>\n      <td>15808700.0</td>\n      <td>13566800.0</td>\n      <td>4178200.0</td>\n      <td>NaN</td>\n    </tr>\n    <tr>\n      <th>2020-07-29</th>\n      <td>380.160004</td>\n      <td>1499.109985</td>\n      <td>37.160000</td>\n      <td>125.320000</td>\n      <td>NaN</td>\n      <td>380.160004</td>\n      <td>1499.109985</td>\n      <td>37.160000</td>\n      <td>125.320000</td>\n      <td>NaN</td>\n      <td>...</td>\n      <td>375.000000</td>\n      <td>1501.000000</td>\n      <td>36.970001</td>\n      <td>124.559998</td>\n      <td>NaN</td>\n      <td>22582300.0</td>\n      <td>9426900.0</td>\n      <td>10675600.0</td>\n      <td>2832800.0</td>\n      <td>NaN</td>\n    </tr>\n    <tr>\n      <th>2020-07-30</th>\n      <td>384.760010</td>\n      <td>1487.489990</td>\n      <td>36.720001</td>\n      <td>122.900002</td>\n      <td>NaN</td>\n      <td>384.760010</td>\n      <td>1487.489990</td>\n      <td>36.720001</td>\n      <td>122.900002</td>\n      <td>NaN</td>\n      <td>...</td>\n      <td>376.750000</td>\n      <td>1488.000000</td>\n      <td>36.730000</td>\n      <td>123.709999</td>\n      <td>NaN</td>\n      <td>38797600.0</td>\n      <td>7600200.0</td>\n      <td>9988600.0</td>\n      <td>3977500.0</td>\n      <td>NaN</td>\n    </tr>\n  </tbody>\n</table>\n<p>1405 rows × 30 columns</p>\n</div>"
     },
     "metadata": {},
     "execution_count": 11
    }
   ],
   "source": [
    "df=web.DataReader(stocks, 'yahoo', start, end);df"
   ]
  },
  {
   "cell_type": "markdown",
   "metadata": {},
   "source": [
    "### Step 5.  What is the type of structure of df ?"
   ]
  },
  {
   "cell_type": "code",
   "execution_count": 13,
   "metadata": {
    "collapsed": false
   },
   "outputs": [
    {
     "output_type": "execute_result",
     "data": {
      "text/plain": "pandas.core.frame.DataFrame"
     },
     "metadata": {},
     "execution_count": 13
    }
   ],
   "source": [
    "type(df)"
   ]
  },
  {
   "cell_type": "markdown",
   "metadata": {},
   "source": [
    "### Step 6. Print all the Items axis values\n",
    "#### To learn more about the Panel structure go to [documentation](http://pandas.pydata.org/pandas-docs/stable/dsintro.html#panel) "
   ]
  },
  {
   "cell_type": "code",
   "execution_count": 16,
   "metadata": {
    "collapsed": false
   },
   "outputs": [
    {
     "output_type": "execute_result",
     "data": {
      "text/plain": "<bound method DataFrame.items of Attributes   Adj Close                                                Close  \\\nSymbols           AAPL         TSLA       TWTR         IBM LNKD        AAPL   \nDate                                                                          \n2014-12-31  100.905785   222.410004  35.869999  126.256348  NaN  110.379997   \n2015-01-02   99.945885   219.309998  36.560001  127.531136  NaN  109.330002   \n2015-01-05   97.130241   210.089996  36.380001  125.524490  NaN  106.250000   \n2015-01-06   97.139420   211.279999  38.759998  122.817429  NaN  106.260002   \n2015-01-07   98.501518   210.949997  37.279999  122.014748  NaN  107.750000   \n...                ...          ...        ...         ...  ...         ...   \n2020-07-24  370.459991  1417.000000  37.540001  125.790001  NaN  370.459991   \n2020-07-27  379.239990  1539.599976  36.849998  126.209999  NaN  379.239990   \n2020-07-28  373.010010  1476.489990  36.610001  124.470001  NaN  373.010010   \n2020-07-29  380.160004  1499.109985  37.160000  125.320000  NaN  380.160004   \n2020-07-30  384.760010  1487.489990  36.720001  122.900002  NaN  384.760010   \n\nAttributes                                           ...        Open  \\\nSymbols            TSLA       TWTR         IBM LNKD  ...        AAPL   \nDate                                                 ...               \n2014-12-31   222.410004  35.869999  160.440002  NaN  ...  112.820000   \n2015-01-02   219.309998  36.560001  162.059998  NaN  ...  111.389999   \n2015-01-05   210.089996  36.380001  159.509995  NaN  ...  108.290001   \n2015-01-06   211.279999  38.759998  156.070007  NaN  ...  106.540001   \n2015-01-07   210.949997  37.279999  155.050003  NaN  ...  107.199997   \n...                 ...        ...         ...  ...  ...         ...   \n2020-07-24  1417.000000  37.540001  125.790001  NaN  ...  363.950012   \n2020-07-27  1539.599976  36.849998  126.209999  NaN  ...  374.839996   \n2020-07-28  1476.489990  36.610001  124.470001  NaN  ...  377.470001   \n2020-07-29  1499.109985  37.160000  125.320000  NaN  ...  375.000000   \n2020-07-30  1487.489990  36.720001  122.900002  NaN  ...  376.750000   \n\nAttributes                                               Volume              \\\nSymbols            TSLA       TWTR         IBM LNKD        AAPL        TSLA   \nDate                                                                          \n2014-12-31   223.089996  35.889999  160.410004  NaN  41403400.0   2297500.0   \n2015-01-02   222.869995  36.230000  161.309998  NaN  53204600.0   4764400.0   \n2015-01-05   214.550003  36.259998  161.270004  NaN  64285500.0   5368500.0   \n2015-01-06   210.059998  36.270000  159.669998  NaN  65797100.0   6261900.0   \n2015-01-07   213.350006  39.099998  157.199997  NaN  40105900.0   2968400.0   \n...                 ...        ...         ...  ...         ...         ...   \n2020-07-24  1416.010010  38.279999  126.480003  NaN  46359700.0  19396600.0   \n2020-07-27  1435.000000  37.580002  124.860001  NaN  30303500.0  16048700.0   \n2020-07-28  1504.000000  36.450001  125.820000  NaN  25906400.0  15808700.0   \n2020-07-29  1501.000000  36.970001  124.559998  NaN  22582300.0   9426900.0   \n2020-07-30  1488.000000  36.730000  123.709999  NaN  38797600.0   7600200.0   \n\nAttributes                              \nSymbols           TWTR        IBM LNKD  \nDate                                    \n2014-12-31  17629400.0  4011900.0  NaN  \n2015-01-02  12062500.0  5525500.0  NaN  \n2015-01-05  15062700.0  4880400.0  NaN  \n2015-01-06  33050800.0  6146700.0  NaN  \n2015-01-07  22675700.0  4701800.0  NaN  \n...                ...        ...  ...  \n2020-07-24  23068300.0  3531100.0  NaN  \n2020-07-27  22911300.0  3733400.0  NaN  \n2020-07-28  13566800.0  4178200.0  NaN  \n2020-07-29  10675600.0  2832800.0  NaN  \n2020-07-30   9988600.0  3977500.0  NaN  \n\n[1405 rows x 30 columns]>"
     },
     "metadata": {},
     "execution_count": 16
    }
   ],
   "source": [
    "df.items"
   ]
  },
  {
   "cell_type": "markdown",
   "metadata": {},
   "source": [
    "### Step 7. Good, now we know  the data avaiable. Create a dataFrame called vol, with the Volume values."
   ]
  },
  {
   "cell_type": "code",
   "execution_count": 18,
   "metadata": {
    "collapsed": false
   },
   "outputs": [
    {
     "output_type": "execute_result",
     "data": {
      "text/plain": "Symbols           AAPL       TSLA        TWTR        IBM  LNKD\nDate                                                          \n2014-12-31  41403400.0  2297500.0  17629400.0  4011900.0   NaN\n2015-01-02  53204600.0  4764400.0  12062500.0  5525500.0   NaN\n2015-01-05  64285500.0  5368500.0  15062700.0  4880400.0   NaN\n2015-01-06  65797100.0  6261900.0  33050800.0  6146700.0   NaN\n2015-01-07  40105900.0  2968400.0  22675700.0  4701800.0   NaN",
      "text/html": "<div>\n<style scoped>\n    .dataframe tbody tr th:only-of-type {\n        vertical-align: middle;\n    }\n\n    .dataframe tbody tr th {\n        vertical-align: top;\n    }\n\n    .dataframe thead th {\n        text-align: right;\n    }\n</style>\n<table border=\"1\" class=\"dataframe\">\n  <thead>\n    <tr style=\"text-align: right;\">\n      <th>Symbols</th>\n      <th>AAPL</th>\n      <th>TSLA</th>\n      <th>TWTR</th>\n      <th>IBM</th>\n      <th>LNKD</th>\n    </tr>\n    <tr>\n      <th>Date</th>\n      <th></th>\n      <th></th>\n      <th></th>\n      <th></th>\n      <th></th>\n    </tr>\n  </thead>\n  <tbody>\n    <tr>\n      <th>2014-12-31</th>\n      <td>41403400.0</td>\n      <td>2297500.0</td>\n      <td>17629400.0</td>\n      <td>4011900.0</td>\n      <td>NaN</td>\n    </tr>\n    <tr>\n      <th>2015-01-02</th>\n      <td>53204600.0</td>\n      <td>4764400.0</td>\n      <td>12062500.0</td>\n      <td>5525500.0</td>\n      <td>NaN</td>\n    </tr>\n    <tr>\n      <th>2015-01-05</th>\n      <td>64285500.0</td>\n      <td>5368500.0</td>\n      <td>15062700.0</td>\n      <td>4880400.0</td>\n      <td>NaN</td>\n    </tr>\n    <tr>\n      <th>2015-01-06</th>\n      <td>65797100.0</td>\n      <td>6261900.0</td>\n      <td>33050800.0</td>\n      <td>6146700.0</td>\n      <td>NaN</td>\n    </tr>\n    <tr>\n      <th>2015-01-07</th>\n      <td>40105900.0</td>\n      <td>2968400.0</td>\n      <td>22675700.0</td>\n      <td>4701800.0</td>\n      <td>NaN</td>\n    </tr>\n  </tbody>\n</table>\n</div>"
     },
     "metadata": {},
     "execution_count": 18
    }
   ],
   "source": [
    "vol=df['Volume']\n",
    "vol.head()"
   ]
  },
  {
   "cell_type": "markdown",
   "metadata": {},
   "source": [
    "### Step 8. Aggregate the data of Volume to weekly\n",
    "#### Hint: Be careful to not sum data from the same week of 2015 and other years."
   ]
  },
  {
   "cell_type": "code",
   "execution_count": 24,
   "metadata": {
    "collapsed": false,
    "scrolled": true
   },
   "outputs": [],
   "source": [
    "vol['week'] = vol.index.week\n",
    "vol['year'] = vol.index.year\n",
    "week=vol.groupby(['week','year']).sum()"
   ]
  },
  {
   "cell_type": "markdown",
   "metadata": {},
   "source": [
    "### Step 9. Find all the volume traded in the year of 2015"
   ]
  },
  {
   "cell_type": "code",
   "execution_count": 25,
   "metadata": {
    "collapsed": false
   },
   "outputs": [],
   "source": [
    "del vol['week']"
   ]
  },
  {
   "cell_type": "code",
   "execution_count": 33,
   "metadata": {},
   "outputs": [],
   "source": [
    "vol['year'] = vol.index.year"
   ]
  },
  {
   "cell_type": "code",
   "execution_count": 39,
   "metadata": {},
   "outputs": [
    {
     "output_type": "execute_result",
     "data": {
      "text/plain": "Symbols          AAPL          TSLA          TWTR           IBM  LNKD\nyear                                                                 \n2014     4.140340e+07  2.297500e+06  1.762940e+07  4.011900e+06   0.0\n2015     1.306605e+10  1.088218e+09  5.361489e+09  1.105583e+09   0.0\n2016     9.682478e+09  1.162362e+09  6.479294e+09  1.018606e+09   0.0\n2017     6.810776e+09  1.590031e+09  4.410744e+09  1.071166e+09   0.0\n2018     8.539036e+09  2.161639e+09  7.155865e+09  1.368561e+09   0.0\n2019     7.063803e+09  2.308078e+09  3.880756e+09  9.466952e+08   0.0\n2020     6.047565e+09  2.577579e+09  3.256113e+09  8.749232e+08   0.0",
      "text/html": "<div>\n<style scoped>\n    .dataframe tbody tr th:only-of-type {\n        vertical-align: middle;\n    }\n\n    .dataframe tbody tr th {\n        vertical-align: top;\n    }\n\n    .dataframe thead th {\n        text-align: right;\n    }\n</style>\n<table border=\"1\" class=\"dataframe\">\n  <thead>\n    <tr style=\"text-align: right;\">\n      <th>Symbols</th>\n      <th>AAPL</th>\n      <th>TSLA</th>\n      <th>TWTR</th>\n      <th>IBM</th>\n      <th>LNKD</th>\n    </tr>\n    <tr>\n      <th>year</th>\n      <th></th>\n      <th></th>\n      <th></th>\n      <th></th>\n      <th></th>\n    </tr>\n  </thead>\n  <tbody>\n    <tr>\n      <th>2014</th>\n      <td>4.140340e+07</td>\n      <td>2.297500e+06</td>\n      <td>1.762940e+07</td>\n      <td>4.011900e+06</td>\n      <td>0.0</td>\n    </tr>\n    <tr>\n      <th>2015</th>\n      <td>1.306605e+10</td>\n      <td>1.088218e+09</td>\n      <td>5.361489e+09</td>\n      <td>1.105583e+09</td>\n      <td>0.0</td>\n    </tr>\n    <tr>\n      <th>2016</th>\n      <td>9.682478e+09</td>\n      <td>1.162362e+09</td>\n      <td>6.479294e+09</td>\n      <td>1.018606e+09</td>\n      <td>0.0</td>\n    </tr>\n    <tr>\n      <th>2017</th>\n      <td>6.810776e+09</td>\n      <td>1.590031e+09</td>\n      <td>4.410744e+09</td>\n      <td>1.071166e+09</td>\n      <td>0.0</td>\n    </tr>\n    <tr>\n      <th>2018</th>\n      <td>8.539036e+09</td>\n      <td>2.161639e+09</td>\n      <td>7.155865e+09</td>\n      <td>1.368561e+09</td>\n      <td>0.0</td>\n    </tr>\n    <tr>\n      <th>2019</th>\n      <td>7.063803e+09</td>\n      <td>2.308078e+09</td>\n      <td>3.880756e+09</td>\n      <td>9.466952e+08</td>\n      <td>0.0</td>\n    </tr>\n    <tr>\n      <th>2020</th>\n      <td>6.047565e+09</td>\n      <td>2.577579e+09</td>\n      <td>3.256113e+09</td>\n      <td>8.749232e+08</td>\n      <td>0.0</td>\n    </tr>\n  </tbody>\n</table>\n</div>"
     },
     "metadata": {},
     "execution_count": 39
    }
   ],
   "source": [
    "vol.groupby('year').sum()"
   ]
  },
  {
   "cell_type": "markdown",
   "metadata": {},
   "source": [
    "### BONUS: Create your own question and answer it."
   ]
  },
  {
   "cell_type": "code",
   "execution_count": null,
   "metadata": {
    "collapsed": true
   },
   "outputs": [],
   "source": []
  }
 ],
 "metadata": {
  "kernelspec": {
   "display_name": "Python 3",
   "language": "python",
   "name": "python3"
  },
  "language_info": {
   "codemirror_mode": {
    "name": "ipython",
    "version": 2
   },
   "file_extension": ".py",
   "mimetype": "text/x-python",
   "name": "python",
   "nbconvert_exporter": "python",
   "pygments_lexer": "ipython2",
   "version": "3.7.6-final"
  }
 },
 "nbformat": 4,
 "nbformat_minor": 0
}