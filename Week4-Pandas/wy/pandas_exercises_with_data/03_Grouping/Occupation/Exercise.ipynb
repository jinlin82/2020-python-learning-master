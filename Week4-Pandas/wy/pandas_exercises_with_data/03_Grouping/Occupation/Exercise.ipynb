{
 "cells": [
  {
   "cell_type": "markdown",
   "metadata": {},
   "source": [
    "# Occupation"
   ]
  },
  {
   "cell_type": "markdown",
   "metadata": {},
   "source": [
    "### Introduction:\n",
    "\n",
    "Special thanks to: https://github.com/justmarkham for sharing the dataset and materials.\n",
    "\n",
    "### Step 1. Import the necessary libraries"
   ]
  },
  {
   "cell_type": "code",
   "execution_count": 1,
   "metadata": {
    "collapsed": false
   },
   "outputs": [],
   "source": [
    "import pandas as pd"
   ]
  },
  {
   "cell_type": "code",
   "execution_count": 2,
   "metadata": {},
   "outputs": [],
   "source": [
    "import numpy as np"
   ]
  },
  {
   "cell_type": "markdown",
   "metadata": {},
   "source": [
    "### Step 2. Import the dataset from this [address](https://raw.githubusercontent.com/justmarkham/DAT8/master/data/u.user). "
   ]
  },
  {
   "cell_type": "markdown",
   "metadata": {},
   "source": [
    "### Step 3. Assign it to a variable called users."
   ]
  },
  {
   "cell_type": "code",
   "execution_count": 2,
   "metadata": {
    "collapsed": false
   },
   "outputs": [
    {
     "output_type": "execute_result",
     "data": {
      "text/plain": "     user_id  age gender     occupation zip_code\n0          1   24      M     technician    85711\n1          2   53      F          other    94043\n2          3   23      M         writer    32067\n3          4   24      M     technician    43537\n4          5   33      F          other    15213\n..       ...  ...    ...            ...      ...\n938      939   26      F        student    33319\n939      940   32      M  administrator    02215\n940      941   20      M        student    97229\n941      942   48      F      librarian    78209\n942      943   22      M        student    77841\n\n[943 rows x 5 columns]",
      "text/html": "<div>\n<style scoped>\n    .dataframe tbody tr th:only-of-type {\n        vertical-align: middle;\n    }\n\n    .dataframe tbody tr th {\n        vertical-align: top;\n    }\n\n    .dataframe thead th {\n        text-align: right;\n    }\n</style>\n<table border=\"1\" class=\"dataframe\">\n  <thead>\n    <tr style=\"text-align: right;\">\n      <th></th>\n      <th>user_id</th>\n      <th>age</th>\n      <th>gender</th>\n      <th>occupation</th>\n      <th>zip_code</th>\n    </tr>\n  </thead>\n  <tbody>\n    <tr>\n      <th>0</th>\n      <td>1</td>\n      <td>24</td>\n      <td>M</td>\n      <td>technician</td>\n      <td>85711</td>\n    </tr>\n    <tr>\n      <th>1</th>\n      <td>2</td>\n      <td>53</td>\n      <td>F</td>\n      <td>other</td>\n      <td>94043</td>\n    </tr>\n    <tr>\n      <th>2</th>\n      <td>3</td>\n      <td>23</td>\n      <td>M</td>\n      <td>writer</td>\n      <td>32067</td>\n    </tr>\n    <tr>\n      <th>3</th>\n      <td>4</td>\n      <td>24</td>\n      <td>M</td>\n      <td>technician</td>\n      <td>43537</td>\n    </tr>\n    <tr>\n      <th>4</th>\n      <td>5</td>\n      <td>33</td>\n      <td>F</td>\n      <td>other</td>\n      <td>15213</td>\n    </tr>\n    <tr>\n      <th>...</th>\n      <td>...</td>\n      <td>...</td>\n      <td>...</td>\n      <td>...</td>\n      <td>...</td>\n    </tr>\n    <tr>\n      <th>938</th>\n      <td>939</td>\n      <td>26</td>\n      <td>F</td>\n      <td>student</td>\n      <td>33319</td>\n    </tr>\n    <tr>\n      <th>939</th>\n      <td>940</td>\n      <td>32</td>\n      <td>M</td>\n      <td>administrator</td>\n      <td>02215</td>\n    </tr>\n    <tr>\n      <th>940</th>\n      <td>941</td>\n      <td>20</td>\n      <td>M</td>\n      <td>student</td>\n      <td>97229</td>\n    </tr>\n    <tr>\n      <th>941</th>\n      <td>942</td>\n      <td>48</td>\n      <td>F</td>\n      <td>librarian</td>\n      <td>78209</td>\n    </tr>\n    <tr>\n      <th>942</th>\n      <td>943</td>\n      <td>22</td>\n      <td>M</td>\n      <td>student</td>\n      <td>77841</td>\n    </tr>\n  </tbody>\n</table>\n<p>943 rows × 5 columns</p>\n</div>"
     },
     "metadata": {},
     "execution_count": 2
    }
   ],
   "source": [
    "users=pd.read_csv('../../data/u.user',sep='|');users"
   ]
  },
  {
   "cell_type": "markdown",
   "metadata": {},
   "source": [
    "### Step 4. Discover what is the mean age per occupation"
   ]
  },
  {
   "cell_type": "code",
   "execution_count": 4,
   "metadata": {
    "collapsed": false
   },
   "outputs": [
    {
     "output_type": "execute_result",
     "data": {
      "text/plain": "occupation\nadministrator    38.746835\nartist           31.392857\ndoctor           43.571429\neducator         42.010526\nengineer         36.388060\nentertainment    29.222222\nexecutive        38.718750\nhealthcare       41.562500\nhomemaker        32.571429\nlawyer           36.750000\nlibrarian        40.000000\nmarketing        37.615385\nnone             26.555556\nother            34.523810\nprogrammer       33.121212\nretired          63.071429\nsalesman         35.666667\nscientist        35.548387\nstudent          22.081633\ntechnician       33.148148\nwriter           36.311111\nName: age, dtype: float64"
     },
     "metadata": {},
     "execution_count": 4
    }
   ],
   "source": [
    "users.groupby('occupation').age.mean()"
   ]
  },
  {
   "cell_type": "markdown",
   "metadata": {},
   "source": [
    "### Step 5. Discover the Male ratio per occupation and sort it from the most to the least"
   ]
  },
  {
   "cell_type": "code",
   "execution_count": 13,
   "metadata": {
    "collapsed": false
   },
   "outputs": [
    {
     "output_type": "execute_result",
     "data": {
      "text/plain": "occupation     gender\nadministrator  M          43\n               F          36\nartist         M          15\n               F          13\ndoctor         M           7\neducator       M          69\n               F          26\nengineer       M          65\n               F           2\nentertainment  M          16\n               F           2\nexecutive      M          29\n               F           3\nhealthcare     F          11\n               M           5\nhomemaker      F           6\n               M           1\nlawyer         M          10\n               F           2\nlibrarian      F          29\n               M          22\nmarketing      M          16\n               F          10\nnone           M           5\n               F           4\nother          M          69\n               F          36\nprogrammer     M          60\n               F           6\nretired        M          13\n               F           1\nsalesman       M           9\n               F           3\nscientist      M          28\n               F           3\nstudent        M         136\n               F          60\ntechnician     M          26\n               F           1\nwriter         M          26\n               F          19\nName: gender, dtype: int64"
     },
     "metadata": {},
     "execution_count": 13
    }
   ],
   "source": [
    "users.groupby('occupation').gender.value_counts()"
   ]
  },
  {
   "cell_type": "markdown",
   "metadata": {},
   "source": [
    "### Step 6. For each occupation, calculate the minimum and maximum ages"
   ]
  },
  {
   "cell_type": "code",
   "execution_count": 5,
   "metadata": {
    "collapsed": false
   },
   "outputs": [
    {
     "output_type": "execute_result",
     "data": {
      "text/plain": "               max  min\noccupation             \nadministrator   70   21\nartist          48   19\ndoctor          64   28\neducator        63   23\nengineer        70   22\nentertainment   50   15\nexecutive       69   22\nhealthcare      62   22\nhomemaker       50   20\nlawyer          53   21\nlibrarian       69   23\nmarketing       55   24\nnone            55   11\nother           64   13\nprogrammer      63   20\nretired         73   51\nsalesman        66   18\nscientist       55   23\nstudent         42    7\ntechnician      55   21\nwriter          60   18",
      "text/html": "<div>\n<style scoped>\n    .dataframe tbody tr th:only-of-type {\n        vertical-align: middle;\n    }\n\n    .dataframe tbody tr th {\n        vertical-align: top;\n    }\n\n    .dataframe thead th {\n        text-align: right;\n    }\n</style>\n<table border=\"1\" class=\"dataframe\">\n  <thead>\n    <tr style=\"text-align: right;\">\n      <th></th>\n      <th>max</th>\n      <th>min</th>\n    </tr>\n    <tr>\n      <th>occupation</th>\n      <th></th>\n      <th></th>\n    </tr>\n  </thead>\n  <tbody>\n    <tr>\n      <th>administrator</th>\n      <td>70</td>\n      <td>21</td>\n    </tr>\n    <tr>\n      <th>artist</th>\n      <td>48</td>\n      <td>19</td>\n    </tr>\n    <tr>\n      <th>doctor</th>\n      <td>64</td>\n      <td>28</td>\n    </tr>\n    <tr>\n      <th>educator</th>\n      <td>63</td>\n      <td>23</td>\n    </tr>\n    <tr>\n      <th>engineer</th>\n      <td>70</td>\n      <td>22</td>\n    </tr>\n    <tr>\n      <th>entertainment</th>\n      <td>50</td>\n      <td>15</td>\n    </tr>\n    <tr>\n      <th>executive</th>\n      <td>69</td>\n      <td>22</td>\n    </tr>\n    <tr>\n      <th>healthcare</th>\n      <td>62</td>\n      <td>22</td>\n    </tr>\n    <tr>\n      <th>homemaker</th>\n      <td>50</td>\n      <td>20</td>\n    </tr>\n    <tr>\n      <th>lawyer</th>\n      <td>53</td>\n      <td>21</td>\n    </tr>\n    <tr>\n      <th>librarian</th>\n      <td>69</td>\n      <td>23</td>\n    </tr>\n    <tr>\n      <th>marketing</th>\n      <td>55</td>\n      <td>24</td>\n    </tr>\n    <tr>\n      <th>none</th>\n      <td>55</td>\n      <td>11</td>\n    </tr>\n    <tr>\n      <th>other</th>\n      <td>64</td>\n      <td>13</td>\n    </tr>\n    <tr>\n      <th>programmer</th>\n      <td>63</td>\n      <td>20</td>\n    </tr>\n    <tr>\n      <th>retired</th>\n      <td>73</td>\n      <td>51</td>\n    </tr>\n    <tr>\n      <th>salesman</th>\n      <td>66</td>\n      <td>18</td>\n    </tr>\n    <tr>\n      <th>scientist</th>\n      <td>55</td>\n      <td>23</td>\n    </tr>\n    <tr>\n      <th>student</th>\n      <td>42</td>\n      <td>7</td>\n    </tr>\n    <tr>\n      <th>technician</th>\n      <td>55</td>\n      <td>21</td>\n    </tr>\n    <tr>\n      <th>writer</th>\n      <td>60</td>\n      <td>18</td>\n    </tr>\n  </tbody>\n</table>\n</div>"
     },
     "metadata": {},
     "execution_count": 5
    }
   ],
   "source": [
    "users.groupby('occupation').age.agg([max,min])"
   ]
  },
  {
   "cell_type": "markdown",
   "metadata": {},
   "source": [
    "### Step 7. For each combination of occupation and gender, calculate the mean age"
   ]
  },
  {
   "cell_type": "code",
   "execution_count": 8,
   "metadata": {
    "collapsed": false
   },
   "outputs": [
    {
     "output_type": "execute_result",
     "data": {
      "text/plain": "occupation     gender\nadministrator  F         40.638889\n               M         37.162791\nartist         F         30.307692\n               M         32.333333\ndoctor         M         43.571429\neducator       F         39.115385\n               M         43.101449\nengineer       F         29.500000\n               M         36.600000\nentertainment  F         31.000000\n               M         29.000000\nexecutive      F         44.000000\n               M         38.172414\nhealthcare     F         39.818182\n               M         45.400000\nhomemaker      F         34.166667\n               M         23.000000\nlawyer         F         39.500000\n               M         36.200000\nlibrarian      F         40.000000\n               M         40.000000\nmarketing      F         37.200000\n               M         37.875000\nnone           F         36.500000\n               M         18.600000\nother          F         35.472222\n               M         34.028986\nprogrammer     F         32.166667\n               M         33.216667\nretired        F         70.000000\n               M         62.538462\nsalesman       F         27.000000\n               M         38.555556\nscientist      F         28.333333\n               M         36.321429\nstudent        F         20.750000\n               M         22.669118\ntechnician     F         38.000000\n               M         32.961538\nwriter         F         37.631579\n               M         35.346154\nName: age, dtype: float64"
     },
     "metadata": {},
     "execution_count": 8
    }
   ],
   "source": [
    "users.groupby(['occupation','gender']).age.mean()"
   ]
  },
  {
   "cell_type": "markdown",
   "metadata": {},
   "source": [
    "### Step 8.  For each occupation present the percentage of women and men"
   ]
  },
  {
   "cell_type": "code",
   "execution_count": 15,
   "metadata": {
    "collapsed": false
   },
   "outputs": [
    {
     "output_type": "execute_result",
     "data": {
      "text/plain": "occupation     gender\nadministrator  M          43\n               F          36\nartist         M          15\n               F          13\ndoctor         M           7\neducator       M          69\n               F          26\nengineer       M          65\n               F           2\nentertainment  M          16\n               F           2\nexecutive      M          29\n               F           3\nhealthcare     F          11\n               M           5\nhomemaker      F           6\n               M           1\nlawyer         M          10\n               F           2\nlibrarian      F          29\n               M          22\nmarketing      M          16\n               F          10\nnone           M           5\n               F           4\nother          M          69\n               F          36\nprogrammer     M          60\n               F           6\nretired        M          13\n               F           1\nsalesman       M           9\n               F           3\nscientist      M          28\n               F           3\nstudent        M         136\n               F          60\ntechnician     M          26\n               F           1\nwriter         M          26\n               F          19\nName: gender, dtype: int64"
     },
     "metadata": {},
     "execution_count": 15
    }
   ],
   "source": []
  },
  {
   "cell_type": "code",
   "execution_count": null,
   "metadata": {},
   "outputs": [],
   "source": []
  }
 ],
 "metadata": {
  "kernelspec": {
   "display_name": "Python 3",
   "language": "python",
   "name": "python3"
  },
  "language_info": {
   "codemirror_mode": {
    "name": "ipython",
    "version": 2
   },
   "file_extension": ".py",
   "mimetype": "text/x-python",
   "name": "python",
   "nbconvert_exporter": "python",
   "pygments_lexer": "ipython2",
   "version": "3.7.6-final"
  }
 },
 "nbformat": 4,
 "nbformat_minor": 0
}