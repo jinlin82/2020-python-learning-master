{
 "cells": [
  {
   "cell_type": "markdown",
   "metadata": {},
   "source": [
    "# Investor - Flow of Funds - US"
   ]
  },
  {
   "cell_type": "markdown",
   "metadata": {},
   "source": [
    "### Introduction:\n",
    "\n",
    "Special thanks to: https://github.com/rgrp for sharing the dataset.\n",
    "\n",
    "### Step 1. Import the necessary libraries"
   ]
  },
  {
   "cell_type": "code",
   "execution_count": 56,
   "metadata": {
    "collapsed": false
   },
   "outputs": [],
   "source": [
    "import pandas as pd \n",
    "import numpy as np \n"
   ]
  },
  {
   "cell_type": "markdown",
   "metadata": {},
   "source": [
    "### Step 2. Import the dataset from this [address](https://raw.githubusercontent.com/datasets/investor-flow-of-funds-us/master/data/weekly.csv). "
   ]
  },
  {
   "cell_type": "markdown",
   "metadata": {},
   "source": [
    "### Step 3. Assign it to a variable called "
   ]
  },
  {
   "cell_type": "code",
   "execution_count": 57,
   "metadata": {
    "collapsed": false
   },
   "outputs": [
    {
     "output_type": "execute_result",
     "data": {
      "text/plain": "         Date  Total Equity  Domestic Equity  World Equity  Hybrid  \\\n0  2012-12-05         -7426            -6060         -1367     -74   \n1  2012-12-12         -8783            -7520         -1263     123   \n2  2012-12-19         -5496            -5470           -26     -73   \n3  2012-12-26         -4451            -4076          -375     550   \n4  2013-01-02        -11156            -9622         -1533    -158   \n\n   Total Bond  Taxable Bond  Municipal Bond  Total  \n0        5317          4210            1107  -2183  \n1        1818          1598             219  -6842  \n2         103          3472           -3369  -5466  \n3        2610          3333            -722  -1291  \n4        2383          2103             280  -8931  ",
      "text/html": "<div>\n<style scoped>\n    .dataframe tbody tr th:only-of-type {\n        vertical-align: middle;\n    }\n\n    .dataframe tbody tr th {\n        vertical-align: top;\n    }\n\n    .dataframe thead th {\n        text-align: right;\n    }\n</style>\n<table border=\"1\" class=\"dataframe\">\n  <thead>\n    <tr style=\"text-align: right;\">\n      <th></th>\n      <th>Date</th>\n      <th>Total Equity</th>\n      <th>Domestic Equity</th>\n      <th>World Equity</th>\n      <th>Hybrid</th>\n      <th>Total Bond</th>\n      <th>Taxable Bond</th>\n      <th>Municipal Bond</th>\n      <th>Total</th>\n    </tr>\n  </thead>\n  <tbody>\n    <tr>\n      <th>0</th>\n      <td>2012-12-05</td>\n      <td>-7426</td>\n      <td>-6060</td>\n      <td>-1367</td>\n      <td>-74</td>\n      <td>5317</td>\n      <td>4210</td>\n      <td>1107</td>\n      <td>-2183</td>\n    </tr>\n    <tr>\n      <th>1</th>\n      <td>2012-12-12</td>\n      <td>-8783</td>\n      <td>-7520</td>\n      <td>-1263</td>\n      <td>123</td>\n      <td>1818</td>\n      <td>1598</td>\n      <td>219</td>\n      <td>-6842</td>\n    </tr>\n    <tr>\n      <th>2</th>\n      <td>2012-12-19</td>\n      <td>-5496</td>\n      <td>-5470</td>\n      <td>-26</td>\n      <td>-73</td>\n      <td>103</td>\n      <td>3472</td>\n      <td>-3369</td>\n      <td>-5466</td>\n    </tr>\n    <tr>\n      <th>3</th>\n      <td>2012-12-26</td>\n      <td>-4451</td>\n      <td>-4076</td>\n      <td>-375</td>\n      <td>550</td>\n      <td>2610</td>\n      <td>3333</td>\n      <td>-722</td>\n      <td>-1291</td>\n    </tr>\n    <tr>\n      <th>4</th>\n      <td>2013-01-02</td>\n      <td>-11156</td>\n      <td>-9622</td>\n      <td>-1533</td>\n      <td>-158</td>\n      <td>2383</td>\n      <td>2103</td>\n      <td>280</td>\n      <td>-8931</td>\n    </tr>\n  </tbody>\n</table>\n</div>"
     },
     "metadata": {},
     "execution_count": 57
    }
   ],
   "source": [
    "df=pd.read_csv('weekly.csv')      \n",
    "df.head()"
   ]
  },
  {
   "cell_type": "markdown",
   "metadata": {},
   "source": [
    "### Step 4.  What is the frequency of the dataset?"
   ]
  },
  {
   "cell_type": "code",
   "execution_count": 58,
   "metadata": {
    "collapsed": false
   },
   "outputs": [],
   "source": [
    "#weekly data"
   ]
  },
  {
   "cell_type": "markdown",
   "metadata": {},
   "source": [
    "### Step 5. Set the column Date as the index."
   ]
  },
  {
   "cell_type": "code",
   "execution_count": 59,
   "metadata": {
    "collapsed": false
   },
   "outputs": [
    {
     "output_type": "execute_result",
     "data": {
      "text/plain": "            Total Equity  Domestic Equity  World Equity  Hybrid  Total Bond  \\\nDate                                                                          \n2012-12-05         -7426            -6060         -1367     -74        5317   \n2012-12-12         -8783            -7520         -1263     123        1818   \n2012-12-19         -5496            -5470           -26     -73         103   \n2012-12-26         -4451            -4076          -375     550        2610   \n2013-01-02        -11156            -9622         -1533    -158        2383   \n\n            Taxable Bond  Municipal Bond  Total  \nDate                                             \n2012-12-05          4210            1107  -2183  \n2012-12-12          1598             219  -6842  \n2012-12-19          3472           -3369  -5466  \n2012-12-26          3333            -722  -1291  \n2013-01-02          2103             280  -8931  ",
      "text/html": "<div>\n<style scoped>\n    .dataframe tbody tr th:only-of-type {\n        vertical-align: middle;\n    }\n\n    .dataframe tbody tr th {\n        vertical-align: top;\n    }\n\n    .dataframe thead th {\n        text-align: right;\n    }\n</style>\n<table border=\"1\" class=\"dataframe\">\n  <thead>\n    <tr style=\"text-align: right;\">\n      <th></th>\n      <th>Total Equity</th>\n      <th>Domestic Equity</th>\n      <th>World Equity</th>\n      <th>Hybrid</th>\n      <th>Total Bond</th>\n      <th>Taxable Bond</th>\n      <th>Municipal Bond</th>\n      <th>Total</th>\n    </tr>\n    <tr>\n      <th>Date</th>\n      <th></th>\n      <th></th>\n      <th></th>\n      <th></th>\n      <th></th>\n      <th></th>\n      <th></th>\n      <th></th>\n    </tr>\n  </thead>\n  <tbody>\n    <tr>\n      <th>2012-12-05</th>\n      <td>-7426</td>\n      <td>-6060</td>\n      <td>-1367</td>\n      <td>-74</td>\n      <td>5317</td>\n      <td>4210</td>\n      <td>1107</td>\n      <td>-2183</td>\n    </tr>\n    <tr>\n      <th>2012-12-12</th>\n      <td>-8783</td>\n      <td>-7520</td>\n      <td>-1263</td>\n      <td>123</td>\n      <td>1818</td>\n      <td>1598</td>\n      <td>219</td>\n      <td>-6842</td>\n    </tr>\n    <tr>\n      <th>2012-12-19</th>\n      <td>-5496</td>\n      <td>-5470</td>\n      <td>-26</td>\n      <td>-73</td>\n      <td>103</td>\n      <td>3472</td>\n      <td>-3369</td>\n      <td>-5466</td>\n    </tr>\n    <tr>\n      <th>2012-12-26</th>\n      <td>-4451</td>\n      <td>-4076</td>\n      <td>-375</td>\n      <td>550</td>\n      <td>2610</td>\n      <td>3333</td>\n      <td>-722</td>\n      <td>-1291</td>\n    </tr>\n    <tr>\n      <th>2013-01-02</th>\n      <td>-11156</td>\n      <td>-9622</td>\n      <td>-1533</td>\n      <td>-158</td>\n      <td>2383</td>\n      <td>2103</td>\n      <td>280</td>\n      <td>-8931</td>\n    </tr>\n  </tbody>\n</table>\n</div>"
     },
     "metadata": {},
     "execution_count": 59
    }
   ],
   "source": [
    "df=df.set_index('Date')\n",
    "df.head()"
   ]
  },
  {
   "cell_type": "markdown",
   "metadata": {},
   "source": [
    "### Step 6. What is the type of the index?"
   ]
  },
  {
   "cell_type": "code",
   "execution_count": 60,
   "metadata": {
    "collapsed": false
   },
   "outputs": [
    {
     "output_type": "execute_result",
     "data": {
      "text/plain": "pandas.core.indexes.base.Index"
     },
     "metadata": {},
     "execution_count": 60
    }
   ],
   "source": [
    "type(df.index)"
   ]
  },
  {
   "cell_type": "markdown",
   "metadata": {},
   "source": [
    "### Step 7. Set the index to a DatetimeIndex type"
   ]
  },
  {
   "cell_type": "code",
   "execution_count": 61,
   "metadata": {
    "collapsed": false
   },
   "outputs": [
    {
     "output_type": "execute_result",
     "data": {
      "text/plain": "pandas.core.indexes.datetimes.DatetimeIndex"
     },
     "metadata": {},
     "execution_count": 61
    }
   ],
   "source": [
    "df.index=pd.to_datetime(df.index)  #pd.to_datetime()\n",
    "type(df.index)"
   ]
  },
  {
   "cell_type": "markdown",
   "metadata": {},
   "source": [
    "### Step 8.  Change the frequency to monthly, sum the values and assign it to monthly."
   ]
  },
  {
   "cell_type": "code",
   "execution_count": 62,
   "metadata": {
    "collapsed": false
   },
   "outputs": [
    {
     "output_type": "execute_result",
     "data": {
      "text/plain": "            Total Equity  Domestic Equity  World Equity  Hybrid  Total Bond  \\\nDate                                                                          \n2012-12-31        -26156           -23126         -3031     526        9848   \n2013-01-31          3661            -1627          5288    2730       12149   \n2013-02-28             0                0             0       0           0   \n2013-03-31             0                0             0       0           0   \n2013-04-30             0                0             0       0           0   \n2013-05-31             0                0             0       0           0   \n2013-06-30             0                0             0       0           0   \n2013-07-31             0                0             0       0           0   \n2013-08-31             0                0             0       0           0   \n2013-09-30             0                0             0       0           0   \n2013-10-31             0                0             0       0           0   \n2013-11-30             0                0             0       0           0   \n2013-12-31             0                0             0       0           0   \n2014-01-31             0                0             0       0           0   \n2014-02-28             0                0             0       0           0   \n2014-03-31             0                0             0       0           0   \n2014-04-30         10842             1048          9794    4931        8493   \n2014-05-31         -2203            -8720          6518    3172       13767   \n2014-06-30          2319            -6546          8865    4588        9715   \n2014-07-31         -7051           -11128          4078    2666        7506   \n2014-08-31          1943            -5508          7452    1885        1897   \n2014-09-30         -2767            -6596          3829    1599        3984   \n2014-10-31             0                0             0       0           0   \n2014-11-30         -2753            -7239          4485     729       14528   \n2014-12-31             0                0             0       0           0   \n2015-01-31          3471            -1164          4635    1729        7368   \n2015-02-28          5508             3509          1999    1752        9099   \n2015-03-31          5691            -8176         13867    2829        9138   \n2015-04-30           379            -4628          5007     970         423   \n\n            Taxable Bond  Municipal Bond  Total  \nDate                                             \n2012-12-31         12613           -2765 -15782  \n2013-01-31          9414            2735  18540  \n2013-02-28             0               0      0  \n2013-03-31             0               0      0  \n2013-04-30             0               0      0  \n2013-05-31             0               0      0  \n2013-06-30             0               0      0  \n2013-07-31             0               0      0  \n2013-08-31             0               0      0  \n2013-09-30             0               0      0  \n2013-10-31             0               0      0  \n2013-11-30             0               0      0  \n2013-12-31             0               0      0  \n2014-01-31             0               0      0  \n2014-02-28             0               0      0  \n2014-03-31             0               0      0  \n2014-04-30          7193            1300  24267  \n2014-05-31         10192            3576  14736  \n2014-06-30          7551            2163  16621  \n2014-07-31          7026             481   3122  \n2014-08-31         -1013            2910   5723  \n2014-09-30          2479            1504   2816  \n2014-10-31             0               0      0  \n2014-11-30         11566            2962  12502  \n2014-12-31             0               0      0  \n2015-01-31          2762            4606  12569  \n2015-02-28          7443            1656  16359  \n2015-03-31          7267            1870  17657  \n2015-04-30           514             -91   1772  ",
      "text/html": "<div>\n<style scoped>\n    .dataframe tbody tr th:only-of-type {\n        vertical-align: middle;\n    }\n\n    .dataframe tbody tr th {\n        vertical-align: top;\n    }\n\n    .dataframe thead th {\n        text-align: right;\n    }\n</style>\n<table border=\"1\" class=\"dataframe\">\n  <thead>\n    <tr style=\"text-align: right;\">\n      <th></th>\n      <th>Total Equity</th>\n      <th>Domestic Equity</th>\n      <th>World Equity</th>\n      <th>Hybrid</th>\n      <th>Total Bond</th>\n      <th>Taxable Bond</th>\n      <th>Municipal Bond</th>\n      <th>Total</th>\n    </tr>\n    <tr>\n      <th>Date</th>\n      <th></th>\n      <th></th>\n      <th></th>\n      <th></th>\n      <th></th>\n      <th></th>\n      <th></th>\n      <th></th>\n    </tr>\n  </thead>\n  <tbody>\n    <tr>\n      <th>2012-12-31</th>\n      <td>-26156</td>\n      <td>-23126</td>\n      <td>-3031</td>\n      <td>526</td>\n      <td>9848</td>\n      <td>12613</td>\n      <td>-2765</td>\n      <td>-15782</td>\n    </tr>\n    <tr>\n      <th>2013-01-31</th>\n      <td>3661</td>\n      <td>-1627</td>\n      <td>5288</td>\n      <td>2730</td>\n      <td>12149</td>\n      <td>9414</td>\n      <td>2735</td>\n      <td>18540</td>\n    </tr>\n    <tr>\n      <th>2013-02-28</th>\n      <td>0</td>\n      <td>0</td>\n      <td>0</td>\n      <td>0</td>\n      <td>0</td>\n      <td>0</td>\n      <td>0</td>\n      <td>0</td>\n    </tr>\n    <tr>\n      <th>2013-03-31</th>\n      <td>0</td>\n      <td>0</td>\n      <td>0</td>\n      <td>0</td>\n      <td>0</td>\n      <td>0</td>\n      <td>0</td>\n      <td>0</td>\n    </tr>\n    <tr>\n      <th>2013-04-30</th>\n      <td>0</td>\n      <td>0</td>\n      <td>0</td>\n      <td>0</td>\n      <td>0</td>\n      <td>0</td>\n      <td>0</td>\n      <td>0</td>\n    </tr>\n    <tr>\n      <th>2013-05-31</th>\n      <td>0</td>\n      <td>0</td>\n      <td>0</td>\n      <td>0</td>\n      <td>0</td>\n      <td>0</td>\n      <td>0</td>\n      <td>0</td>\n    </tr>\n    <tr>\n      <th>2013-06-30</th>\n      <td>0</td>\n      <td>0</td>\n      <td>0</td>\n      <td>0</td>\n      <td>0</td>\n      <td>0</td>\n      <td>0</td>\n      <td>0</td>\n    </tr>\n    <tr>\n      <th>2013-07-31</th>\n      <td>0</td>\n      <td>0</td>\n      <td>0</td>\n      <td>0</td>\n      <td>0</td>\n      <td>0</td>\n      <td>0</td>\n      <td>0</td>\n    </tr>\n    <tr>\n      <th>2013-08-31</th>\n      <td>0</td>\n      <td>0</td>\n      <td>0</td>\n      <td>0</td>\n      <td>0</td>\n      <td>0</td>\n      <td>0</td>\n      <td>0</td>\n    </tr>\n    <tr>\n      <th>2013-09-30</th>\n      <td>0</td>\n      <td>0</td>\n      <td>0</td>\n      <td>0</td>\n      <td>0</td>\n      <td>0</td>\n      <td>0</td>\n      <td>0</td>\n    </tr>\n    <tr>\n      <th>2013-10-31</th>\n      <td>0</td>\n      <td>0</td>\n      <td>0</td>\n      <td>0</td>\n      <td>0</td>\n      <td>0</td>\n      <td>0</td>\n      <td>0</td>\n    </tr>\n    <tr>\n      <th>2013-11-30</th>\n      <td>0</td>\n      <td>0</td>\n      <td>0</td>\n      <td>0</td>\n      <td>0</td>\n      <td>0</td>\n      <td>0</td>\n      <td>0</td>\n    </tr>\n    <tr>\n      <th>2013-12-31</th>\n      <td>0</td>\n      <td>0</td>\n      <td>0</td>\n      <td>0</td>\n      <td>0</td>\n      <td>0</td>\n      <td>0</td>\n      <td>0</td>\n    </tr>\n    <tr>\n      <th>2014-01-31</th>\n      <td>0</td>\n      <td>0</td>\n      <td>0</td>\n      <td>0</td>\n      <td>0</td>\n      <td>0</td>\n      <td>0</td>\n      <td>0</td>\n    </tr>\n    <tr>\n      <th>2014-02-28</th>\n      <td>0</td>\n      <td>0</td>\n      <td>0</td>\n      <td>0</td>\n      <td>0</td>\n      <td>0</td>\n      <td>0</td>\n      <td>0</td>\n    </tr>\n    <tr>\n      <th>2014-03-31</th>\n      <td>0</td>\n      <td>0</td>\n      <td>0</td>\n      <td>0</td>\n      <td>0</td>\n      <td>0</td>\n      <td>0</td>\n      <td>0</td>\n    </tr>\n    <tr>\n      <th>2014-04-30</th>\n      <td>10842</td>\n      <td>1048</td>\n      <td>9794</td>\n      <td>4931</td>\n      <td>8493</td>\n      <td>7193</td>\n      <td>1300</td>\n      <td>24267</td>\n    </tr>\n    <tr>\n      <th>2014-05-31</th>\n      <td>-2203</td>\n      <td>-8720</td>\n      <td>6518</td>\n      <td>3172</td>\n      <td>13767</td>\n      <td>10192</td>\n      <td>3576</td>\n      <td>14736</td>\n    </tr>\n    <tr>\n      <th>2014-06-30</th>\n      <td>2319</td>\n      <td>-6546</td>\n      <td>8865</td>\n      <td>4588</td>\n      <td>9715</td>\n      <td>7551</td>\n      <td>2163</td>\n      <td>16621</td>\n    </tr>\n    <tr>\n      <th>2014-07-31</th>\n      <td>-7051</td>\n      <td>-11128</td>\n      <td>4078</td>\n      <td>2666</td>\n      <td>7506</td>\n      <td>7026</td>\n      <td>481</td>\n      <td>3122</td>\n    </tr>\n    <tr>\n      <th>2014-08-31</th>\n      <td>1943</td>\n      <td>-5508</td>\n      <td>7452</td>\n      <td>1885</td>\n      <td>1897</td>\n      <td>-1013</td>\n      <td>2910</td>\n      <td>5723</td>\n    </tr>\n    <tr>\n      <th>2014-09-30</th>\n      <td>-2767</td>\n      <td>-6596</td>\n      <td>3829</td>\n      <td>1599</td>\n      <td>3984</td>\n      <td>2479</td>\n      <td>1504</td>\n      <td>2816</td>\n    </tr>\n    <tr>\n      <th>2014-10-31</th>\n      <td>0</td>\n      <td>0</td>\n      <td>0</td>\n      <td>0</td>\n      <td>0</td>\n      <td>0</td>\n      <td>0</td>\n      <td>0</td>\n    </tr>\n    <tr>\n      <th>2014-11-30</th>\n      <td>-2753</td>\n      <td>-7239</td>\n      <td>4485</td>\n      <td>729</td>\n      <td>14528</td>\n      <td>11566</td>\n      <td>2962</td>\n      <td>12502</td>\n    </tr>\n    <tr>\n      <th>2014-12-31</th>\n      <td>0</td>\n      <td>0</td>\n      <td>0</td>\n      <td>0</td>\n      <td>0</td>\n      <td>0</td>\n      <td>0</td>\n      <td>0</td>\n    </tr>\n    <tr>\n      <th>2015-01-31</th>\n      <td>3471</td>\n      <td>-1164</td>\n      <td>4635</td>\n      <td>1729</td>\n      <td>7368</td>\n      <td>2762</td>\n      <td>4606</td>\n      <td>12569</td>\n    </tr>\n    <tr>\n      <th>2015-02-28</th>\n      <td>5508</td>\n      <td>3509</td>\n      <td>1999</td>\n      <td>1752</td>\n      <td>9099</td>\n      <td>7443</td>\n      <td>1656</td>\n      <td>16359</td>\n    </tr>\n    <tr>\n      <th>2015-03-31</th>\n      <td>5691</td>\n      <td>-8176</td>\n      <td>13867</td>\n      <td>2829</td>\n      <td>9138</td>\n      <td>7267</td>\n      <td>1870</td>\n      <td>17657</td>\n    </tr>\n    <tr>\n      <th>2015-04-30</th>\n      <td>379</td>\n      <td>-4628</td>\n      <td>5007</td>\n      <td>970</td>\n      <td>423</td>\n      <td>514</td>\n      <td>-91</td>\n      <td>1772</td>\n    </tr>\n  </tbody>\n</table>\n</div>"
     },
     "metadata": {},
     "execution_count": 62
    }
   ],
   "source": [
    "monthly=df.resample('M').sum()  #resample()\n",
    "#'M':月末频率\n",
    "monthly"
   ]
  },
  {
   "cell_type": "markdown",
   "metadata": {},
   "source": [
    "### Step 9. You will notice that it filled the dataFrame with months that don't have any data with NaN. Let's drop these rows."
   ]
  },
  {
   "cell_type": "code",
   "execution_count": 65,
   "metadata": {
    "collapsed": false
   },
   "outputs": [
    {
     "output_type": "execute_result",
     "data": {
      "text/plain": "            Total Equity  Domestic Equity  World Equity  Hybrid  Total Bond  \\\nDate                                                                          \n2012-12-31        -26156           -23126         -3031     526        9848   \n2013-01-31          3661            -1627          5288    2730       12149   \n2014-04-30         10842             1048          9794    4931        8493   \n2014-05-31         -2203            -8720          6518    3172       13767   \n2014-06-30          2319            -6546          8865    4588        9715   \n2014-07-31         -7051           -11128          4078    2666        7506   \n2014-08-31          1943            -5508          7452    1885        1897   \n2014-09-30         -2767            -6596          3829    1599        3984   \n2014-11-30         -2753            -7239          4485     729       14528   \n2015-01-31          3471            -1164          4635    1729        7368   \n2015-02-28          5508             3509          1999    1752        9099   \n2015-03-31          5691            -8176         13867    2829        9138   \n2015-04-30           379            -4628          5007     970         423   \n\n            Taxable Bond  Municipal Bond  Total  \nDate                                             \n2012-12-31         12613           -2765 -15782  \n2013-01-31          9414            2735  18540  \n2014-04-30          7193            1300  24267  \n2014-05-31         10192            3576  14736  \n2014-06-30          7551            2163  16621  \n2014-07-31          7026             481   3122  \n2014-08-31         -1013            2910   5723  \n2014-09-30          2479            1504   2816  \n2014-11-30         11566            2962  12502  \n2015-01-31          2762            4606  12569  \n2015-02-28          7443            1656  16359  \n2015-03-31          7267            1870  17657  \n2015-04-30           514             -91   1772  ",
      "text/html": "<div>\n<style scoped>\n    .dataframe tbody tr th:only-of-type {\n        vertical-align: middle;\n    }\n\n    .dataframe tbody tr th {\n        vertical-align: top;\n    }\n\n    .dataframe thead th {\n        text-align: right;\n    }\n</style>\n<table border=\"1\" class=\"dataframe\">\n  <thead>\n    <tr style=\"text-align: right;\">\n      <th></th>\n      <th>Total Equity</th>\n      <th>Domestic Equity</th>\n      <th>World Equity</th>\n      <th>Hybrid</th>\n      <th>Total Bond</th>\n      <th>Taxable Bond</th>\n      <th>Municipal Bond</th>\n      <th>Total</th>\n    </tr>\n    <tr>\n      <th>Date</th>\n      <th></th>\n      <th></th>\n      <th></th>\n      <th></th>\n      <th></th>\n      <th></th>\n      <th></th>\n      <th></th>\n    </tr>\n  </thead>\n  <tbody>\n    <tr>\n      <th>2012-12-31</th>\n      <td>-26156</td>\n      <td>-23126</td>\n      <td>-3031</td>\n      <td>526</td>\n      <td>9848</td>\n      <td>12613</td>\n      <td>-2765</td>\n      <td>-15782</td>\n    </tr>\n    <tr>\n      <th>2013-01-31</th>\n      <td>3661</td>\n      <td>-1627</td>\n      <td>5288</td>\n      <td>2730</td>\n      <td>12149</td>\n      <td>9414</td>\n      <td>2735</td>\n      <td>18540</td>\n    </tr>\n    <tr>\n      <th>2014-04-30</th>\n      <td>10842</td>\n      <td>1048</td>\n      <td>9794</td>\n      <td>4931</td>\n      <td>8493</td>\n      <td>7193</td>\n      <td>1300</td>\n      <td>24267</td>\n    </tr>\n    <tr>\n      <th>2014-05-31</th>\n      <td>-2203</td>\n      <td>-8720</td>\n      <td>6518</td>\n      <td>3172</td>\n      <td>13767</td>\n      <td>10192</td>\n      <td>3576</td>\n      <td>14736</td>\n    </tr>\n    <tr>\n      <th>2014-06-30</th>\n      <td>2319</td>\n      <td>-6546</td>\n      <td>8865</td>\n      <td>4588</td>\n      <td>9715</td>\n      <td>7551</td>\n      <td>2163</td>\n      <td>16621</td>\n    </tr>\n    <tr>\n      <th>2014-07-31</th>\n      <td>-7051</td>\n      <td>-11128</td>\n      <td>4078</td>\n      <td>2666</td>\n      <td>7506</td>\n      <td>7026</td>\n      <td>481</td>\n      <td>3122</td>\n    </tr>\n    <tr>\n      <th>2014-08-31</th>\n      <td>1943</td>\n      <td>-5508</td>\n      <td>7452</td>\n      <td>1885</td>\n      <td>1897</td>\n      <td>-1013</td>\n      <td>2910</td>\n      <td>5723</td>\n    </tr>\n    <tr>\n      <th>2014-09-30</th>\n      <td>-2767</td>\n      <td>-6596</td>\n      <td>3829</td>\n      <td>1599</td>\n      <td>3984</td>\n      <td>2479</td>\n      <td>1504</td>\n      <td>2816</td>\n    </tr>\n    <tr>\n      <th>2014-11-30</th>\n      <td>-2753</td>\n      <td>-7239</td>\n      <td>4485</td>\n      <td>729</td>\n      <td>14528</td>\n      <td>11566</td>\n      <td>2962</td>\n      <td>12502</td>\n    </tr>\n    <tr>\n      <th>2015-01-31</th>\n      <td>3471</td>\n      <td>-1164</td>\n      <td>4635</td>\n      <td>1729</td>\n      <td>7368</td>\n      <td>2762</td>\n      <td>4606</td>\n      <td>12569</td>\n    </tr>\n    <tr>\n      <th>2015-02-28</th>\n      <td>5508</td>\n      <td>3509</td>\n      <td>1999</td>\n      <td>1752</td>\n      <td>9099</td>\n      <td>7443</td>\n      <td>1656</td>\n      <td>16359</td>\n    </tr>\n    <tr>\n      <th>2015-03-31</th>\n      <td>5691</td>\n      <td>-8176</td>\n      <td>13867</td>\n      <td>2829</td>\n      <td>9138</td>\n      <td>7267</td>\n      <td>1870</td>\n      <td>17657</td>\n    </tr>\n    <tr>\n      <th>2015-04-30</th>\n      <td>379</td>\n      <td>-4628</td>\n      <td>5007</td>\n      <td>970</td>\n      <td>423</td>\n      <td>514</td>\n      <td>-91</td>\n      <td>1772</td>\n    </tr>\n  </tbody>\n</table>\n</div>"
     },
     "metadata": {},
     "execution_count": 65
    }
   ],
   "source": [
    "monthly=monthly[monthly.Total!=0]\n",
    "monthly"
   ]
  },
  {
   "cell_type": "markdown",
   "metadata": {},
   "source": [
    "### Step 10. Good, now we have the monthly data. Now change the frequency to year."
   ]
  },
  {
   "cell_type": "code",
   "execution_count": 66,
   "metadata": {
    "collapsed": false
   },
   "outputs": [
    {
     "output_type": "execute_result",
     "data": {
      "text/plain": "            Total Equity  Domestic Equity  World Equity  Hybrid  Total Bond  \\\nDate                                                                          \n2012-01-01        -26156           -23126         -3031     526        9848   \n2013-01-01          3661            -1627          5288    2730       12149   \n2014-01-01           330           -44689         45021   19570       59890   \n2015-01-01         15049           -10459         25508    7280       26028   \n\n            Taxable Bond  Municipal Bond  Total  \nDate                                             \n2012-01-01         12613           -2765 -15782  \n2013-01-01          9414            2735  18540  \n2014-01-01         44994           14896  79787  \n2015-01-01         17986            8041  48357  ",
      "text/html": "<div>\n<style scoped>\n    .dataframe tbody tr th:only-of-type {\n        vertical-align: middle;\n    }\n\n    .dataframe tbody tr th {\n        vertical-align: top;\n    }\n\n    .dataframe thead th {\n        text-align: right;\n    }\n</style>\n<table border=\"1\" class=\"dataframe\">\n  <thead>\n    <tr style=\"text-align: right;\">\n      <th></th>\n      <th>Total Equity</th>\n      <th>Domestic Equity</th>\n      <th>World Equity</th>\n      <th>Hybrid</th>\n      <th>Total Bond</th>\n      <th>Taxable Bond</th>\n      <th>Municipal Bond</th>\n      <th>Total</th>\n    </tr>\n    <tr>\n      <th>Date</th>\n      <th></th>\n      <th></th>\n      <th></th>\n      <th></th>\n      <th></th>\n      <th></th>\n      <th></th>\n      <th></th>\n    </tr>\n  </thead>\n  <tbody>\n    <tr>\n      <th>2012-01-01</th>\n      <td>-26156</td>\n      <td>-23126</td>\n      <td>-3031</td>\n      <td>526</td>\n      <td>9848</td>\n      <td>12613</td>\n      <td>-2765</td>\n      <td>-15782</td>\n    </tr>\n    <tr>\n      <th>2013-01-01</th>\n      <td>3661</td>\n      <td>-1627</td>\n      <td>5288</td>\n      <td>2730</td>\n      <td>12149</td>\n      <td>9414</td>\n      <td>2735</td>\n      <td>18540</td>\n    </tr>\n    <tr>\n      <th>2014-01-01</th>\n      <td>330</td>\n      <td>-44689</td>\n      <td>45021</td>\n      <td>19570</td>\n      <td>59890</td>\n      <td>44994</td>\n      <td>14896</td>\n      <td>79787</td>\n    </tr>\n    <tr>\n      <th>2015-01-01</th>\n      <td>15049</td>\n      <td>-10459</td>\n      <td>25508</td>\n      <td>7280</td>\n      <td>26028</td>\n      <td>17986</td>\n      <td>8041</td>\n      <td>48357</td>\n    </tr>\n  </tbody>\n</table>\n</div>"
     },
     "metadata": {},
     "execution_count": 66
    }
   ],
   "source": [
    "year=monthly.resample('AS-JAN').sum()  \n",
    "#'AS-JAN':年初频率\n",
    "year"
   ]
  },
  {
   "cell_type": "markdown",
   "metadata": {},
   "source": [
    "### BONUS: Create your own question and answer it."
   ]
  },
  {
   "cell_type": "code",
   "execution_count": null,
   "metadata": {
    "collapsed": true
   },
   "outputs": [],
   "source": []
  }
 ],
 "metadata": {
  "kernelspec": {
   "display_name": "Python 3",
   "language": "python",
   "name": "python3"
  },
  "language_info": {
   "codemirror_mode": {
    "name": "ipython",
    "version": 2
   },
   "file_extension": ".py",
   "mimetype": "text/x-python",
   "name": "python",
   "nbconvert_exporter": "python",
   "pygments_lexer": "ipython2",
   "version": "3.7.6-final"
  }
 },
 "nbformat": 4,
 "nbformat_minor": 0
}