{
 "cells": [
  {
   "cell_type": "code",
   "execution_count": 1,
   "metadata": {
    "collapsed": true
   },
   "outputs": [],
   "source": [
    "import numpy as np"
   ]
  },
  {
   "cell_type": "code",
   "execution_count": 2,
   "metadata": {
    "collapsed": false
   },
   "outputs": [
    {
     "output_type": "execute_result",
     "data": {
      "text/plain": "'1.18.1'"
     },
     "metadata": {},
     "execution_count": 2
    }
   ],
   "source": [
    "np.__version__"
   ]
  },
  {
   "cell_type": "markdown",
   "metadata": {},
   "source": [
    "Q1. Search for docstrings of the numpy functions on linear algebra."
   ]
  },
  {
   "cell_type": "code",
   "execution_count": 4,
   "metadata": {
    "collapsed": false
   },
   "outputs": [
    {
     "output_type": "stream",
     "name": "stdout",
     "text": "Search results for 'linear algebra'\n-----------------------------------\nnumpy.matrix\n    .. note:: It is no longer recommended to use this class, even for linear\nnumpy.linalg.solve\n    Solve a linear matrix equation, or system of linear scalar equations.\nnumpy.poly\n    Find the coefficients of a polynomial with the given sequence of roots.\nnumpy.einsum\n    einsum(subscripts, *operands, out=None, dtype=None, order='K',\nnumpy.linalg.eig\n    Compute the eigenvalues and right eigenvectors of a square array.\nnumpy.linalg.cond\n    Compute the condition number of a matrix.\nnumpy.linalg.eigh\n    Return the eigenvalues and eigenvectors of a complex Hermitian\nnumpy.linalg.pinv\n    Compute the (Moore-Penrose) pseudo-inverse of a matrix.\nnumpy.linalg.LinAlgError\n    Generic Python-exception-derived object raised by linalg functions.\nnumpy.core._multiarray_umath.c_einsum\n    c_einsum(subscripts, *operands, out=None, dtype=None, order='K',"
    }
   ],
   "source": [
    "np.lookfor('linear algebra')"
   ]
  },
  {
   "cell_type": "markdown",
   "metadata": {},
   "source": [
    "Q2. Get help information for numpy dot function."
   ]
  },
  {
   "cell_type": "code",
   "execution_count": 8,
   "metadata": {
    "collapsed": false
   },
   "outputs": [
    {
     "output_type": "stream",
     "name": "stdout",
     "text": "Topical documentation\n=====================\n\nThe following topics are available:\n\n- basics\n- broadcasting\n- byteswapping\n- constants\n- creation\n- dispatch\n- glossary\n- indexing\n- internals\n- misc\n- structured_arrays\n- subclassing\n- ufuncs\n\nYou can view them by\n\n>>> help(np.doc.TOPIC)                                      #doctest: +SKIP\n"
    }
   ],
   "source": [
    "np.info(np.doc)"
   ]
  },
  {
   "cell_type": "code",
   "execution_count": null,
   "metadata": {
    "collapsed": true
   },
   "outputs": [],
   "source": []
  }
 ],
 "metadata": {
  "kernelspec": {
   "display_name": "Python 3",
   "language": "python",
   "name": "python3"
  },
  "language_info": {
   "codemirror_mode": {
    "name": "ipython",
    "version": 2
   },
   "file_extension": ".py",
   "mimetype": "text/x-python",
   "name": "python",
   "nbconvert_exporter": "python",
   "pygments_lexer": "ipython2",
   "version": "3.7.6-final"
  }
 },
 "nbformat": 4,
 "nbformat_minor": 0
}