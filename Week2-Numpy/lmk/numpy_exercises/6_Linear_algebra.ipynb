{
 "cells": [
  {
   "cell_type": "markdown",
   "metadata": {},
   "source": [
    "# Linear algebra"
   ]
  },
  {
   "cell_type": "code",
   "execution_count": 1,
   "metadata": {
    "collapsed": true
   },
   "outputs": [],
   "source": [
    "import numpy as np"
   ]
  },
  {
   "cell_type": "code",
   "execution_count": 2,
   "metadata": {
    "collapsed": false
   },
   "outputs": [
    {
     "output_type": "execute_result",
     "data": {
      "text/plain": "'1.16.5'"
     },
     "metadata": {},
     "execution_count": 2
    }
   ],
   "source": [
    "np.__version__"
   ]
  },
  {
   "cell_type": "markdown",
   "metadata": {},
   "source": [
    "## Matrix and vector products"
   ]
  },
  {
   "cell_type": "markdown",
   "metadata": {},
   "source": [
    "Q1. Predict the results of the following code."
   ]
  },
  {
   "cell_type": "code",
   "execution_count": 5,
   "metadata": {
    "collapsed": false
   },
   "outputs": [
    {
     "output_type": "execute_result",
     "data": {
      "text/plain": "array([8, 5])"
     },
     "metadata": {},
     "execution_count": 5
    }
   ],
   "source": [
    "x = [1,2]\n",
    "y = [[4, 1], [2, 2]]\n",
    "#print np.dot(x, y)\n",
    "np.dot(x,y)"
   ]
  },
  {
   "cell_type": "code",
   "execution_count": 6,
   "metadata": {},
   "outputs": [
    {
     "output_type": "execute_result",
     "data": {
      "text/plain": "array([6, 6])"
     },
     "metadata": {},
     "execution_count": 6
    }
   ],
   "source": [
    "#print np.dot(y, x)\n",
    "np.dot(y,x)"
   ]
  },
  {
   "cell_type": "code",
   "execution_count": 7,
   "metadata": {},
   "outputs": [
    {
     "output_type": "execute_result",
     "data": {
      "text/plain": "array([8, 5])"
     },
     "metadata": {},
     "execution_count": 7
    }
   ],
   "source": [
    "#print np.matmul(x, y)\n",
    "np.matmul(x,y)"
   ]
  },
  {
   "cell_type": "code",
   "execution_count": 8,
   "metadata": {},
   "outputs": [
    {
     "output_type": "execute_result",
     "data": {
      "text/plain": "array([6, 6])"
     },
     "metadata": {},
     "execution_count": 8
    }
   ],
   "source": [
    "#print np.inner(x, y)\n",
    "np.inner(x,y)"
   ]
  },
  {
   "cell_type": "code",
   "execution_count": 9,
   "metadata": {},
   "outputs": [
    {
     "output_type": "execute_result",
     "data": {
      "text/plain": "array([6, 6])"
     },
     "metadata": {},
     "execution_count": 9
    }
   ],
   "source": [
    "#print np.inner(y, x)\n",
    "np.inner(y,x)"
   ]
  },
  {
   "cell_type": "markdown",
   "metadata": {},
   "source": [
    "Q2. Predict the results of the following code."
   ]
  },
  {
   "cell_type": "code",
   "execution_count": 10,
   "metadata": {
    "collapsed": false
   },
   "outputs": [
    {
     "output_type": "execute_result",
     "data": {
      "text/plain": "array([[4, 1],\n       [2, 2],\n       [1, 1]])"
     },
     "metadata": {},
     "execution_count": 10
    }
   ],
   "source": [
    "x = [[1, 0], [0, 1]]\n",
    "y = [[4, 1], [2, 2], [1, 1]]\n",
    "#print np.dot(y, x)\n",
    "np.dot(y,x)"
   ]
  },
  {
   "cell_type": "code",
   "execution_count": 11,
   "metadata": {},
   "outputs": [
    {
     "output_type": "execute_result",
     "data": {
      "text/plain": "array([[4, 1],\n       [2, 2],\n       [1, 1]])"
     },
     "metadata": {},
     "execution_count": 11
    }
   ],
   "source": [
    "#print np.matmul(y, x)\n",
    "np.matmul(y,x)"
   ]
  },
  {
   "cell_type": "markdown",
   "metadata": {},
   "source": [
    "Q3. Predict the results of the following code."
   ]
  },
  {
   "cell_type": "code",
   "execution_count": 12,
   "metadata": {
    "collapsed": false
   },
   "outputs": [
    {
     "output_type": "execute_result",
     "data": {
      "text/plain": "30"
     },
     "metadata": {},
     "execution_count": 12
    }
   ],
   "source": [
    "x = np.array([[1, 4], [5, 6]])\n",
    "y = np.array([[4, 1], [2, 2]])\n",
    "#print np.vdot(x, y)\n",
    "np.vdot(x,y)"
   ]
  },
  {
   "cell_type": "code",
   "execution_count": 13,
   "metadata": {},
   "outputs": [
    {
     "output_type": "execute_result",
     "data": {
      "text/plain": "30"
     },
     "metadata": {},
     "execution_count": 13
    }
   ],
   "source": [
    "#print np.vdot(y, x)\n",
    "np.vdot(y,x)"
   ]
  },
  {
   "cell_type": "code",
   "execution_count": 14,
   "metadata": {},
   "outputs": [
    {
     "output_type": "execute_result",
     "data": {
      "text/plain": "30"
     },
     "metadata": {},
     "execution_count": 14
    }
   ],
   "source": [
    "#print np.dot(x.flatten(), y.flatten())\n",
    "np.dot(x.flatten(),y.flatten())"
   ]
  },
  {
   "cell_type": "code",
   "execution_count": 15,
   "metadata": {},
   "outputs": [
    {
     "output_type": "execute_result",
     "data": {
      "text/plain": "30"
     },
     "metadata": {},
     "execution_count": 15
    }
   ],
   "source": [
    "#print np.inner(x.flatten(), y.flatten())\n",
    "np.inner(x.flatten(),y.flatten())"
   ]
  },
  {
   "cell_type": "code",
   "execution_count": 16,
   "metadata": {},
   "outputs": [
    {
     "output_type": "execute_result",
     "data": {
      "text/plain": "30"
     },
     "metadata": {},
     "execution_count": 16
    }
   ],
   "source": [
    "#print (x*y).sum()\n",
    "(x*y).sum()"
   ]
  },
  {
   "cell_type": "markdown",
   "metadata": {},
   "source": [
    "Q4. Predict the results of the following code."
   ]
  },
  {
   "cell_type": "code",
   "execution_count": 17,
   "metadata": {
    "collapsed": false
   },
   "outputs": [
    {
     "output_type": "execute_result",
     "data": {
      "text/plain": "'abb'"
     },
     "metadata": {},
     "execution_count": 17
    }
   ],
   "source": [
    "x = np.array(['a', 'b'], dtype=object)\n",
    "y = np.array([1, 2])\n",
    "#print np.inner(x, y)\n",
    "np.inner(x,y)"
   ]
  },
  {
   "cell_type": "code",
   "execution_count": 18,
   "metadata": {},
   "outputs": [
    {
     "output_type": "execute_result",
     "data": {
      "text/plain": "'abb'"
     },
     "metadata": {},
     "execution_count": 18
    }
   ],
   "source": [
    "#print np.inner(y, x)\n",
    "np.inner(y,x)"
   ]
  },
  {
   "cell_type": "code",
   "execution_count": 19,
   "metadata": {},
   "outputs": [
    {
     "output_type": "execute_result",
     "data": {
      "text/plain": "array([['a', 'aa'],\n       ['b', 'bb']], dtype=object)"
     },
     "metadata": {},
     "execution_count": 19
    }
   ],
   "source": [
    "#print np.outer(x, y)\n",
    "np.outer(x,y)"
   ]
  },
  {
   "cell_type": "code",
   "execution_count": 20,
   "metadata": {},
   "outputs": [
    {
     "output_type": "execute_result",
     "data": {
      "text/plain": "array([['a', 'b'],\n       ['aa', 'bb']], dtype=object)"
     },
     "metadata": {},
     "execution_count": 20
    }
   ],
   "source": [
    "#print np.outer(y, x)\n",
    "np.outer(y,x)"
   ]
  },
  {
   "cell_type": "markdown",
   "metadata": {},
   "source": [
    "## Decompositions"
   ]
  },
  {
   "cell_type": "markdown",
   "metadata": {},
   "source": [
    "Q5. Get the lower-trianglular `L` in the Cholesky decomposition of x and verify it."
   ]
  },
  {
   "cell_type": "code",
   "execution_count": 21,
   "metadata": {
    "collapsed": false
   },
   "outputs": [
    {
     "output_type": "execute_result",
     "data": {
      "text/plain": "array([[ 2.,  0.,  0.],\n       [ 6.,  1.,  0.],\n       [-8.,  5.,  3.]])"
     },
     "metadata": {},
     "execution_count": 21
    }
   ],
   "source": [
    "x = np.array([[4, 12, -16], [12, 37, -43], [-16, -43, 98]], dtype=np.int32)\n",
    "np.linalg.cholesky(x)"
   ]
  },
  {
   "cell_type": "markdown",
   "metadata": {},
   "source": [
    "Q6. Compute the qr factorization of x and verify it."
   ]
  },
  {
   "cell_type": "code",
   "execution_count": 22,
   "metadata": {
    "collapsed": false,
    "tags": []
   },
   "outputs": [
    {
     "output_type": "stream",
     "name": "stdout",
     "text": "q= [[-0.85714287  0.3942857   0.33142856]\n [-0.42857143 -0.9028571  -0.03428571]\n [ 0.2857143  -0.17142858  0.94285715]]\nr= [[ -14.  -21.   14.]\n [   0. -175.   70.]\n [   0.    0.  -35.]]\n"
    }
   ],
   "source": [
    "x = np.array([[12, -51, 4], [6, 167, -68], [-4, 24, -41]], dtype=np.float32)\n",
    "q,r=np.linalg.qr(x)\n",
    "print(\"q=\",q)\n",
    "print(\"r=\",r)"
   ]
  },
  {
   "cell_type": "markdown",
   "metadata": {},
   "source": [
    "Q7. Factor x by Singular Value Decomposition and verify it."
   ]
  },
  {
   "cell_type": "code",
   "execution_count": 23,
   "metadata": {
    "collapsed": false,
    "tags": []
   },
   "outputs": [
    {
     "output_type": "stream",
     "name": "stdout",
     "text": "U= [[ 0.  1.  0.  0.]\n [ 1.  0.  0.  0.]\n [ 0.  0.  0. -1.]\n [ 0.  0.  1.  0.]]\ns= [3.       2.236068 2.       0.      ]\nV= [[-0.         0.         1.         0.         0.       ]\n [ 0.4472136  0.         0.         0.         0.8944272]\n [-0.         1.         0.         0.         0.       ]\n [ 0.         0.         0.         1.         0.       ]\n [-0.8944272  0.         0.         0.         0.4472136]]\n"
    }
   ],
   "source": [
    "x = np.array([[1, 0, 0, 0, 2], [0, 0, 3, 0, 0], [0, 0, 0, 0, 0], [0, 2, 0, 0, 0]], dtype=np.float32)\n",
    "U,s,V=np.linalg.svd(x)\n",
    "print(\"U=\",U)\n",
    "print(\"s=\",s)\n",
    "print(\"V=\",V)"
   ]
  },
  {
   "cell_type": "markdown",
   "metadata": {},
   "source": [
    "## Matrix eigenvalues"
   ]
  },
  {
   "cell_type": "markdown",
   "metadata": {},
   "source": [
    "Q8. Compute the eigenvalues and right eigenvectors of x. (Name them eigenvals and eigenvecs, respectively)"
   ]
  },
  {
   "cell_type": "code",
   "execution_count": 26,
   "metadata": {
    "collapsed": false,
    "tags": []
   },
   "outputs": [
    {
     "output_type": "stream",
     "name": "stdout",
     "text": "eigenvalues are [1. 2. 3.]\neigenvectors are [[1. 0. 0.]\n [0. 1. 0.]\n [0. 0. 1.]]\n"
    }
   ],
   "source": [
    "x = np.diag((1, 2, 3))\n",
    "eigenvals,eigenvecs=np.linalg.eig(x)\n",
    "print(\"eigenvalues are\",eigenvals)\n",
    "print(\"eigenvectors are\",eigenvecs)"
   ]
  },
  {
   "cell_type": "markdown",
   "metadata": {},
   "source": [
    "Q9. Predict the results of the following code."
   ]
  },
  {
   "cell_type": "code",
   "execution_count": 27,
   "metadata": {
    "collapsed": false
   },
   "outputs": [
    {
     "output_type": "execute_result",
     "data": {
      "text/plain": "True"
     },
     "metadata": {},
     "execution_count": 27
    }
   ],
   "source": [
    "#print np.array_equal(np.dot(x, eigenvecs), eigenvals * eigenvecs)\n",
    "np.array_equal(np.dot(x,eigenvecs),eigenvals*eigenvecs)"
   ]
  },
  {
   "cell_type": "markdown",
   "metadata": {},
   "source": [
    "## Norms and other numbers"
   ]
  },
  {
   "cell_type": "markdown",
   "metadata": {},
   "source": [
    "Q10. Calculate the Frobenius norm and the condition number of x."
   ]
  },
  {
   "cell_type": "code",
   "execution_count": 30,
   "metadata": {
    "collapsed": false
   },
   "outputs": [
    {
     "output_type": "execute_result",
     "data": {
      "text/plain": "16.881943016134134"
     },
     "metadata": {},
     "execution_count": 30
    }
   ],
   "source": [
    "x = np.arange(1, 10).reshape((3, 3))\n",
    "np.linalg.norm(x,'fro')"
   ]
  },
  {
   "cell_type": "code",
   "execution_count": 31,
   "metadata": {},
   "outputs": [
    {
     "output_type": "execute_result",
     "data": {
      "text/plain": "5.0522794445385096e+16"
     },
     "metadata": {},
     "execution_count": 31
    }
   ],
   "source": [
    "np.linalg.cond(x)"
   ]
  },
  {
   "cell_type": "markdown",
   "metadata": {},
   "source": [
    "Q11. Calculate the determinant of x."
   ]
  },
  {
   "cell_type": "code",
   "execution_count": 32,
   "metadata": {
    "collapsed": false
   },
   "outputs": [
    {
     "output_type": "execute_result",
     "data": {
      "text/plain": "-2.0000000000000004"
     },
     "metadata": {},
     "execution_count": 32
    }
   ],
   "source": [
    "x = np.arange(1, 5).reshape((2, 2))\n",
    "np.linalg.det(x)"
   ]
  },
  {
   "cell_type": "markdown",
   "metadata": {},
   "source": [
    "Q12. Calculate the rank of x."
   ]
  },
  {
   "cell_type": "code",
   "execution_count": 33,
   "metadata": {
    "collapsed": false
   },
   "outputs": [
    {
     "output_type": "execute_result",
     "data": {
      "text/plain": "4"
     },
     "metadata": {},
     "execution_count": 33
    }
   ],
   "source": [
    "x = np.eye(4)\n",
    "np.linalg.matrix_rank(x)"
   ]
  },
  {
   "cell_type": "markdown",
   "metadata": {},
   "source": [
    "Q13. Compute the sign and natural logarithm of the determinant of x."
   ]
  },
  {
   "cell_type": "code",
   "execution_count": 34,
   "metadata": {
    "collapsed": false
   },
   "outputs": [
    {
     "output_type": "execute_result",
     "data": {
      "text/plain": "(-1.0, 0.6931471805599455)"
     },
     "metadata": {},
     "execution_count": 34
    }
   ],
   "source": [
    "x = np.arange(1, 5).reshape((2, 2))\n",
    "np.linalg.slogdet(x)"
   ]
  },
  {
   "cell_type": "markdown",
   "metadata": {},
   "source": [
    "Q14. Return the sum along the diagonal of x."
   ]
  },
  {
   "cell_type": "code",
   "execution_count": 35,
   "metadata": {
    "collapsed": false
   },
   "outputs": [
    {
     "output_type": "execute_result",
     "data": {
      "text/plain": "4.0"
     },
     "metadata": {},
     "execution_count": 35
    }
   ],
   "source": [
    "x = np.eye(4)\n",
    "np.trace(x)"
   ]
  },
  {
   "cell_type": "markdown",
   "metadata": {},
   "source": [
    "## Solving equations and inverting matrices"
   ]
  },
  {
   "cell_type": "markdown",
   "metadata": {
    "collapsed": false
   },
   "source": [
    "Q15. Compute the inverse of x."
   ]
  },
  {
   "cell_type": "code",
   "execution_count": 37,
   "metadata": {
    "collapsed": false
   },
   "outputs": [
    {
     "output_type": "execute_result",
     "data": {
      "text/plain": "array([[-2. ,  1. ],\n       [ 1.5, -0.5]])"
     },
     "metadata": {},
     "execution_count": 37
    }
   ],
   "source": [
    "x = np.array([[1., 2.], [3., 4.]])\n",
    "np.linalg.tensorinv(x,ind=1)"
   ]
  }
 ],
 "metadata": {
  "kernelspec": {
   "display_name": "Python 3",
   "language": "python",
   "name": "python3"
  },
  "language_info": {
   "codemirror_mode": {
    "name": "ipython",
    "version": 2
   },
   "file_extension": ".py",
   "mimetype": "text/x-python",
   "name": "python",
   "nbconvert_exporter": "python",
   "pygments_lexer": "ipython2",
   "version": "3.7.4-final"
  }
 },
 "nbformat": 4,
 "nbformat_minor": 0
}